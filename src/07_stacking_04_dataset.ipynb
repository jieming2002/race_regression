{
 "cells": [
  {
   "cell_type": "markdown",
   "metadata": {},
   "source": [
    "## stacking 集成算法：生成次级学习器数据集\n",
    "基础学习器抽取特征，次级学习器融合。5折。"
   ]
  },
  {
   "cell_type": "code",
   "execution_count": 5,
   "metadata": {
    "collapsed": true
   },
   "outputs": [],
   "source": [
    "# 导入必要的工具包\n",
    "import numpy as np #用于数值计算\n",
    "import pandas as pd #用于数据表处理，数据文件读写"
   ]
  },
  {
   "cell_type": "code",
   "execution_count": 4,
   "metadata": {
    "collapsed": true
   },
   "outputs": [],
   "source": [
    "path_train_all = '../data/new/train=all/'\n",
    "path_train = '../data/new/train=predict/'\n",
    "train_name = '%strain=pred-%s-%s.csv'\n",
    "path_test = '../data/new/test=predict/'\n",
    "test_name = '%stest=pred-%s-%s.csv'\n",
    "\n",
    "val_path = '../data/val/' #保存校验集测试结果\n",
    "val_name = '%sval=stacking-base-%s-%s.csv'\n",
    "summit_path = '../data/summit/' #保存提交文件，测试集测试结果 \n",
    "out_name = '%ssummit=stacking-base-%s-%s.csv' # 生成的结果文件名称\n",
    "\n",
    "train_part_num = 5 #训练集拆分个数\n",
    "target = 'prediction_pay_price'\n",
    "user_id = 'user_id'"
   ]
  },
  {
   "cell_type": "markdown",
   "metadata": {},
   "source": [
    "## 1.读取校验集预测结果，0,1,2,3,4合并。"
   ]
  },
  {
   "cell_type": "code",
   "execution_count": 18,
   "metadata": {
    "collapsed": true
   },
   "outputs": [],
   "source": [
    "# # model_name = 'RidgeCV'\n",
    "# model_name = 'RandomForestRegressor'\n",
    "# for i in range(train_part_num):\n",
    "#     if i == 0:\n",
    "#         col_df = pd.read_csv(val_name % (val_path, model_name, i))\n",
    "#     else:\n",
    "#         col_df = pd.concat([col_df, pd.read_csv(val_name % (val_path, model_name, i))])\n",
    "#     print('col_df.shape=', col_df.shape)\n",
    "# col_df.sort_values(user_id, inplace=True)\n",
    "# col_df.head()"
   ]
  },
  {
   "cell_type": "code",
   "execution_count": 23,
   "metadata": {
    "scrolled": true
   },
   "outputs": [
    {
     "name": "stdout",
     "output_type": "stream",
     "text": [
      "train_df.shape= (2288006, 2)\n",
      "train_df.shape= (2288006, 3)\n",
      "train_df.shape= (2288006, 4)\n",
      "train_df.shape= (2288006, 5)\n",
      "train_df.shape= (2288006, 6)\n",
      "train_df.shape= (2288006, 7)\n",
      "train_df.shape= (2288006, 8)\n",
      "train_df.shape= (2288006, 9)\n"
     ]
    }
   ],
   "source": [
    "# val=stacking-base-RidgeCV-0\n",
    "model_list = ['RidgeCV', 'RandomForestRegressor','lasso','GradientBoostingRegressor','ExtraTreesRegressor',\n",
    "              'ElasticNetCV','DNN_V2', 'BaggingRegressor']\n",
    "for j, model_name in enumerate(model_list): #每个模型预测一个特征 \n",
    "#     print('j=%s model_name=%s' % (j, model_name))\n",
    "    for i in range(train_part_num): # 读取校验集预测结果，0,1,2,3,4合并。\n",
    "        if i == 0:\n",
    "            col_df = pd.read_csv(val_name % (val_path, model_name, i))\n",
    "        else:\n",
    "            col_df = pd.concat([col_df, pd.read_csv(val_name % (val_path, model_name, i))])\n",
    "#         print('col_df.shape=', col_df.shape)\n",
    "    col_df.sort_values(user_id, inplace=True) #必须排序保持一致 \n",
    "    if j == 0:\n",
    "        train_df = pd.DataFrame(col_df[user_id], columns=[user_id], dtype=np.int32)\n",
    "    train_df['pred_%s'%j] = col_df[target].astype(np.float32) #多个特征合并，得到整个数据集。\n",
    "    print('train_df.shape=', train_df.shape)"
   ]
  },
  {
   "cell_type": "code",
   "execution_count": 24,
   "metadata": {},
   "outputs": [
    {
     "name": "stdout",
     "output_type": "stream",
     "text": [
      "<class 'pandas.core.frame.DataFrame'>\n",
      "Int64Index: 2288006 entries, 218050 to 86498\n",
      "Data columns (total 9 columns):\n",
      "user_id    int32\n",
      "pred_0     float32\n",
      "pred_1     float32\n",
      "pred_2     float32\n",
      "pred_3     float32\n",
      "pred_4     float32\n",
      "pred_5     float32\n",
      "pred_6     float32\n",
      "pred_7     float32\n",
      "dtypes: float32(8), int32(1)\n",
      "memory usage: 96.0 MB\n"
     ]
    }
   ],
   "source": [
    "train_df.info()"
   ]
  },
  {
   "cell_type": "code",
   "execution_count": 25,
   "metadata": {
    "scrolled": false
   },
   "outputs": [
    {
     "data": {
      "text/html": [
       "<div>\n",
       "<style>\n",
       "    .dataframe thead tr:only-child th {\n",
       "        text-align: right;\n",
       "    }\n",
       "\n",
       "    .dataframe thead th {\n",
       "        text-align: left;\n",
       "    }\n",
       "\n",
       "    .dataframe tbody tr th {\n",
       "        vertical-align: top;\n",
       "    }\n",
       "</style>\n",
       "<table border=\"1\" class=\"dataframe\">\n",
       "  <thead>\n",
       "    <tr style=\"text-align: right;\">\n",
       "      <th></th>\n",
       "      <th>user_id</th>\n",
       "      <th>pred_0</th>\n",
       "      <th>pred_1</th>\n",
       "      <th>pred_2</th>\n",
       "      <th>pred_3</th>\n",
       "      <th>pred_4</th>\n",
       "      <th>pred_5</th>\n",
       "      <th>pred_6</th>\n",
       "      <th>pred_7</th>\n",
       "    </tr>\n",
       "  </thead>\n",
       "  <tbody>\n",
       "    <tr>\n",
       "      <th>218050</th>\n",
       "      <td>1</td>\n",
       "      <td>0.535776</td>\n",
       "      <td>0.000076</td>\n",
       "      <td>0.784902</td>\n",
       "      <td>0.509253</td>\n",
       "      <td>0.000087</td>\n",
       "      <td>0.714253</td>\n",
       "      <td>0.000000</td>\n",
       "      <td>0.000044</td>\n",
       "    </tr>\n",
       "    <tr>\n",
       "      <th>99015</th>\n",
       "      <td>1593</td>\n",
       "      <td>0.000000</td>\n",
       "      <td>0.027313</td>\n",
       "      <td>0.076759</td>\n",
       "      <td>0.509253</td>\n",
       "      <td>0.043894</td>\n",
       "      <td>0.015648</td>\n",
       "      <td>0.000000</td>\n",
       "      <td>0.066684</td>\n",
       "    </tr>\n",
       "    <tr>\n",
       "      <th>282730</th>\n",
       "      <td>1594</td>\n",
       "      <td>0.000000</td>\n",
       "      <td>0.000310</td>\n",
       "      <td>0.000000</td>\n",
       "      <td>0.459161</td>\n",
       "      <td>0.023473</td>\n",
       "      <td>0.000000</td>\n",
       "      <td>0.045323</td>\n",
       "      <td>0.000217</td>\n",
       "    </tr>\n",
       "    <tr>\n",
       "      <th>298802</th>\n",
       "      <td>1596</td>\n",
       "      <td>0.173117</td>\n",
       "      <td>0.000138</td>\n",
       "      <td>0.000000</td>\n",
       "      <td>0.548669</td>\n",
       "      <td>0.000069</td>\n",
       "      <td>0.000000</td>\n",
       "      <td>0.719231</td>\n",
       "      <td>0.000227</td>\n",
       "    </tr>\n",
       "    <tr>\n",
       "      <th>197794</th>\n",
       "      <td>1598</td>\n",
       "      <td>0.000000</td>\n",
       "      <td>0.001624</td>\n",
       "      <td>0.000000</td>\n",
       "      <td>0.459161</td>\n",
       "      <td>0.025087</td>\n",
       "      <td>0.000000</td>\n",
       "      <td>0.124845</td>\n",
       "      <td>0.001590</td>\n",
       "    </tr>\n",
       "  </tbody>\n",
       "</table>\n",
       "</div>"
      ],
      "text/plain": [
       "        user_id    pred_0    pred_1    pred_2    pred_3    pred_4    pred_5  \\\n",
       "218050        1  0.535776  0.000076  0.784902  0.509253  0.000087  0.714253   \n",
       "99015      1593  0.000000  0.027313  0.076759  0.509253  0.043894  0.015648   \n",
       "282730     1594  0.000000  0.000310  0.000000  0.459161  0.023473  0.000000   \n",
       "298802     1596  0.173117  0.000138  0.000000  0.548669  0.000069  0.000000   \n",
       "197794     1598  0.000000  0.001624  0.000000  0.459161  0.025087  0.000000   \n",
       "\n",
       "          pred_6    pred_7  \n",
       "218050  0.000000  0.000044  \n",
       "99015   0.000000  0.066684  \n",
       "282730  0.045323  0.000217  \n",
       "298802  0.719231  0.000227  \n",
       "197794  0.124845  0.001590  "
      ]
     },
     "execution_count": 25,
     "metadata": {},
     "output_type": "execute_result"
    }
   ],
   "source": [
    "# 预测特征 v1 特征个数 =9\n",
    "train_df.to_csv(train_name %(path_train, '1', 'col=9'), index=False)\n",
    "train_df.head()"
   ]
  },
  {
   "cell_type": "markdown",
   "metadata": {},
   "source": [
    "## 2.读取测试集预测结果，0,1,2,3,4平均。"
   ]
  },
  {
   "cell_type": "code",
   "execution_count": 46,
   "metadata": {
    "collapsed": true
   },
   "outputs": [],
   "source": [
    "# model_name = 'RandomForestRegressor'\n",
    "# for i in range(train_part_num):\n",
    "#     if i == 0:\n",
    "#         col_df1 = pd.read_csv(out_name % (summit_path, model_name, i))\n",
    "#         col_df1.sort_values(user_id, inplace=True) #必须排序保持一致 \n",
    "#     else:\n",
    "#         col_df2 = pd.read_csv(out_name % (summit_path, model_name, i))\n",
    "#         col_df2.sort_values(user_id, inplace=True) #必须排序保持一致 \n",
    "# #         print('i=', i)\n",
    "# #         print(col_df1.head())\n",
    "# #         print(col_df2.head())\n",
    "#         col_df1[target] = (col_df1[target] + col_df2[target]) / 2\n",
    "# #         print(col_df1.head())\n",
    "# col_df1.head() #两种方式结果不同 "
   ]
  },
  {
   "cell_type": "code",
   "execution_count": 48,
   "metadata": {
    "collapsed": true
   },
   "outputs": [],
   "source": [
    "# model_name = 'RandomForestRegressor'\n",
    "# for i in range(train_part_num):\n",
    "#     if i == 0:\n",
    "#         col_df1 = pd.read_csv(out_name % (summit_path, model_name, i))\n",
    "#     else:\n",
    "#         col_df2 = pd.read_csv(out_name % (summit_path, model_name, i))\n",
    "# #         print('i=', i)\n",
    "# #         print(col_df1.head())\n",
    "# #         print(col_df2.head())\n",
    "#         col_df1[target] = (col_df1[target] + col_df2[target])\n",
    "# #         print(col_df1.head())\n",
    "# col_df1[target] = (col_df1[target] / train_part_num)\n",
    "# col_df1.head() #这种方式更好 "
   ]
  },
  {
   "cell_type": "code",
   "execution_count": 49,
   "metadata": {
    "scrolled": true
   },
   "outputs": [
    {
     "name": "stdout",
     "output_type": "stream",
     "text": [
      "test_df.shape= (828934, 2)\n",
      "test_df.shape= (828934, 3)\n",
      "test_df.shape= (828934, 4)\n",
      "test_df.shape= (828934, 5)\n",
      "test_df.shape= (828934, 6)\n",
      "test_df.shape= (828934, 7)\n",
      "test_df.shape= (828934, 8)\n",
      "test_df.shape= (828934, 9)\n"
     ]
    }
   ],
   "source": [
    "model_list = ['RidgeCV', 'RandomForestRegressor','lasso','GradientBoostingRegressor','ExtraTreesRegressor',\n",
    "              'ElasticNetCV','DNN_V2', 'BaggingRegressor']\n",
    "for j, model_name in enumerate(model_list): #每个模型预测一个特征 \n",
    "#     print('j=%s model_name=%s' % (j, model_name))\n",
    "    for i in range(train_part_num):\n",
    "        if i == 0:\n",
    "            col_df1 = pd.read_csv(out_name % (summit_path, model_name, i))\n",
    "        else:\n",
    "            col_df2 = pd.read_csv(out_name % (summit_path, model_name, i))\n",
    "#             print('i=', i)\n",
    "#             print(col_df1.head())\n",
    "#             print(col_df2.head())\n",
    "            col_df1[target] = (col_df1[target] + col_df2[target])\n",
    "#             print(col_df1.head())\n",
    "    col_df1[target] = (col_df1[target] / train_part_num) #求平均\n",
    "    if j == 0:\n",
    "        test_df = pd.DataFrame(col_df1[user_id], columns=[user_id], dtype=np.int32)\n",
    "    test_df['pred_%s'%j] = col_df1[target].astype(np.float32) #多个特征合并，得到整个数据集。\n",
    "    print('test_df.shape=', test_df.shape)"
   ]
  },
  {
   "cell_type": "code",
   "execution_count": 50,
   "metadata": {},
   "outputs": [
    {
     "name": "stdout",
     "output_type": "stream",
     "text": [
      "<class 'pandas.core.frame.DataFrame'>\n",
      "RangeIndex: 828934 entries, 0 to 828933\n",
      "Data columns (total 9 columns):\n",
      "user_id    828934 non-null int32\n",
      "pred_0     828934 non-null float32\n",
      "pred_1     828934 non-null float32\n",
      "pred_2     828934 non-null float32\n",
      "pred_3     828934 non-null float32\n",
      "pred_4     828934 non-null float32\n",
      "pred_5     828934 non-null float32\n",
      "pred_6     828934 non-null float32\n",
      "pred_7     828934 non-null float32\n",
      "dtypes: float32(8), int32(1)\n",
      "memory usage: 28.5 MB\n"
     ]
    }
   ],
   "source": [
    "test_df.info()"
   ]
  },
  {
   "cell_type": "code",
   "execution_count": 51,
   "metadata": {
    "scrolled": false
   },
   "outputs": [
    {
     "data": {
      "text/html": [
       "<div>\n",
       "<style>\n",
       "    .dataframe thead tr:only-child th {\n",
       "        text-align: right;\n",
       "    }\n",
       "\n",
       "    .dataframe thead th {\n",
       "        text-align: left;\n",
       "    }\n",
       "\n",
       "    .dataframe tbody tr th {\n",
       "        vertical-align: top;\n",
       "    }\n",
       "</style>\n",
       "<table border=\"1\" class=\"dataframe\">\n",
       "  <thead>\n",
       "    <tr style=\"text-align: right;\">\n",
       "      <th></th>\n",
       "      <th>user_id</th>\n",
       "      <th>pred_0</th>\n",
       "      <th>pred_1</th>\n",
       "      <th>pred_2</th>\n",
       "      <th>pred_3</th>\n",
       "      <th>pred_4</th>\n",
       "      <th>pred_5</th>\n",
       "      <th>pred_6</th>\n",
       "      <th>pred_7</th>\n",
       "    </tr>\n",
       "  </thead>\n",
       "  <tbody>\n",
       "    <tr>\n",
       "      <th>0</th>\n",
       "      <td>14933</td>\n",
       "      <td>0.071611</td>\n",
       "      <td>0.000618</td>\n",
       "      <td>0.013686</td>\n",
       "      <td>0.468971</td>\n",
       "      <td>0.167516</td>\n",
       "      <td>0.000000</td>\n",
       "      <td>0.701374</td>\n",
       "      <td>0.000203</td>\n",
       "    </tr>\n",
       "    <tr>\n",
       "      <th>1</th>\n",
       "      <td>14934</td>\n",
       "      <td>0.247105</td>\n",
       "      <td>0.000097</td>\n",
       "      <td>0.021984</td>\n",
       "      <td>0.468971</td>\n",
       "      <td>0.000023</td>\n",
       "      <td>0.009713</td>\n",
       "      <td>1.939122</td>\n",
       "      <td>0.000105</td>\n",
       "    </tr>\n",
       "    <tr>\n",
       "      <th>2</th>\n",
       "      <td>14935</td>\n",
       "      <td>0.545124</td>\n",
       "      <td>0.000098</td>\n",
       "      <td>0.000000</td>\n",
       "      <td>0.468971</td>\n",
       "      <td>0.006006</td>\n",
       "      <td>0.000000</td>\n",
       "      <td>1.332410</td>\n",
       "      <td>0.000098</td>\n",
       "    </tr>\n",
       "    <tr>\n",
       "      <th>3</th>\n",
       "      <td>14936</td>\n",
       "      <td>0.965462</td>\n",
       "      <td>0.016567</td>\n",
       "      <td>0.000000</td>\n",
       "      <td>0.468971</td>\n",
       "      <td>0.003039</td>\n",
       "      <td>0.000000</td>\n",
       "      <td>3.096730</td>\n",
       "      <td>0.000076</td>\n",
       "    </tr>\n",
       "    <tr>\n",
       "      <th>4</th>\n",
       "      <td>14937</td>\n",
       "      <td>0.035901</td>\n",
       "      <td>0.000117</td>\n",
       "      <td>0.000000</td>\n",
       "      <td>0.468971</td>\n",
       "      <td>0.006005</td>\n",
       "      <td>0.000000</td>\n",
       "      <td>1.349272</td>\n",
       "      <td>0.000101</td>\n",
       "    </tr>\n",
       "  </tbody>\n",
       "</table>\n",
       "</div>"
      ],
      "text/plain": [
       "   user_id    pred_0    pred_1    pred_2    pred_3    pred_4    pred_5  \\\n",
       "0    14933  0.071611  0.000618  0.013686  0.468971  0.167516  0.000000   \n",
       "1    14934  0.247105  0.000097  0.021984  0.468971  0.000023  0.009713   \n",
       "2    14935  0.545124  0.000098  0.000000  0.468971  0.006006  0.000000   \n",
       "3    14936  0.965462  0.016567  0.000000  0.468971  0.003039  0.000000   \n",
       "4    14937  0.035901  0.000117  0.000000  0.468971  0.006005  0.000000   \n",
       "\n",
       "     pred_6    pred_7  \n",
       "0  0.701374  0.000203  \n",
       "1  1.939122  0.000105  \n",
       "2  1.332410  0.000098  \n",
       "3  3.096730  0.000076  \n",
       "4  1.349272  0.000101  "
      ]
     },
     "execution_count": 51,
     "metadata": {},
     "output_type": "execute_result"
    }
   ],
   "source": [
    "# 预测特征 v1 特征个数 =9\n",
    "test_df.to_csv(test_name %(path_test, '1', 'col=9'), index=False)\n",
    "test_df.head()"
   ]
  },
  {
   "cell_type": "markdown",
   "metadata": {
    "collapsed": true
   },
   "source": [
    "## 3.给训练集添加 target "
   ]
  },
  {
   "cell_type": "code",
   "execution_count": 8,
   "metadata": {},
   "outputs": [
    {
     "data": {
      "text/plain": [
       "(2288006, 9)"
      ]
     },
     "execution_count": 8,
     "metadata": {},
     "output_type": "execute_result"
    }
   ],
   "source": [
    "train_pred = pd.read_csv(train_name %(path_train, '1', 'col=9'))\n",
    "train_pred.shape"
   ]
  },
  {
   "cell_type": "code",
   "execution_count": 12,
   "metadata": {},
   "outputs": [
    {
     "data": {
      "text/html": [
       "<div>\n",
       "<style>\n",
       "    .dataframe thead tr:only-child th {\n",
       "        text-align: right;\n",
       "    }\n",
       "\n",
       "    .dataframe thead th {\n",
       "        text-align: left;\n",
       "    }\n",
       "\n",
       "    .dataframe tbody tr th {\n",
       "        vertical-align: top;\n",
       "    }\n",
       "</style>\n",
       "<table border=\"1\" class=\"dataframe\">\n",
       "  <thead>\n",
       "    <tr style=\"text-align: right;\">\n",
       "      <th></th>\n",
       "      <th>user_id</th>\n",
       "      <th>pred_0</th>\n",
       "      <th>pred_1</th>\n",
       "      <th>pred_2</th>\n",
       "      <th>pred_3</th>\n",
       "      <th>pred_4</th>\n",
       "      <th>pred_5</th>\n",
       "      <th>pred_6</th>\n",
       "      <th>pred_7</th>\n",
       "    </tr>\n",
       "  </thead>\n",
       "  <tbody>\n",
       "    <tr>\n",
       "      <th>0</th>\n",
       "      <td>1</td>\n",
       "      <td>0.535776</td>\n",
       "      <td>0.000076</td>\n",
       "      <td>0.784902</td>\n",
       "      <td>0.509253</td>\n",
       "      <td>0.000087</td>\n",
       "      <td>0.714253</td>\n",
       "      <td>0.000000</td>\n",
       "      <td>0.000044</td>\n",
       "    </tr>\n",
       "    <tr>\n",
       "      <th>1</th>\n",
       "      <td>1593</td>\n",
       "      <td>0.000000</td>\n",
       "      <td>0.027313</td>\n",
       "      <td>0.076759</td>\n",
       "      <td>0.509253</td>\n",
       "      <td>0.043894</td>\n",
       "      <td>0.015648</td>\n",
       "      <td>0.000000</td>\n",
       "      <td>0.066684</td>\n",
       "    </tr>\n",
       "    <tr>\n",
       "      <th>2</th>\n",
       "      <td>1594</td>\n",
       "      <td>0.000000</td>\n",
       "      <td>0.000310</td>\n",
       "      <td>0.000000</td>\n",
       "      <td>0.459161</td>\n",
       "      <td>0.023473</td>\n",
       "      <td>0.000000</td>\n",
       "      <td>0.045323</td>\n",
       "      <td>0.000217</td>\n",
       "    </tr>\n",
       "    <tr>\n",
       "      <th>3</th>\n",
       "      <td>1596</td>\n",
       "      <td>0.173117</td>\n",
       "      <td>0.000138</td>\n",
       "      <td>0.000000</td>\n",
       "      <td>0.548669</td>\n",
       "      <td>0.000069</td>\n",
       "      <td>0.000000</td>\n",
       "      <td>0.719231</td>\n",
       "      <td>0.000227</td>\n",
       "    </tr>\n",
       "    <tr>\n",
       "      <th>4</th>\n",
       "      <td>1598</td>\n",
       "      <td>0.000000</td>\n",
       "      <td>0.001624</td>\n",
       "      <td>0.000000</td>\n",
       "      <td>0.459161</td>\n",
       "      <td>0.025087</td>\n",
       "      <td>0.000000</td>\n",
       "      <td>0.124845</td>\n",
       "      <td>0.001590</td>\n",
       "    </tr>\n",
       "  </tbody>\n",
       "</table>\n",
       "</div>"
      ],
      "text/plain": [
       "   user_id    pred_0    pred_1    pred_2    pred_3    pred_4    pred_5  \\\n",
       "0        1  0.535776  0.000076  0.784902  0.509253  0.000087  0.714253   \n",
       "1     1593  0.000000  0.027313  0.076759  0.509253  0.043894  0.015648   \n",
       "2     1594  0.000000  0.000310  0.000000  0.459161  0.023473  0.000000   \n",
       "3     1596  0.173117  0.000138  0.000000  0.548669  0.000069  0.000000   \n",
       "4     1598  0.000000  0.001624  0.000000  0.459161  0.025087  0.000000   \n",
       "\n",
       "     pred_6    pred_7  \n",
       "0  0.000000  0.000044  \n",
       "1  0.000000  0.066684  \n",
       "2  0.045323  0.000217  \n",
       "3  0.719231  0.000227  \n",
       "4  0.124845  0.001590  "
      ]
     },
     "execution_count": 12,
     "metadata": {},
     "output_type": "execute_result"
    }
   ],
   "source": [
    "train_pred.sort_values(user_id, inplace=True) #必须排序保持一致 \n",
    "train_pred.head()"
   ]
  },
  {
   "cell_type": "code",
   "execution_count": 6,
   "metadata": {},
   "outputs": [
    {
     "data": {
      "text/plain": [
       "(2288006, 109)"
      ]
     },
     "execution_count": 6,
     "metadata": {},
     "output_type": "execute_result"
    }
   ],
   "source": [
    "train_list = []\n",
    "for i in range(train_part_num):\n",
    "    cur_id = i + 1\n",
    "    train_list.append(pd.read_csv('%strain=fe-%s.csv' % (path_train_all, cur_id)))\n",
    "train_fe = pd.concat(train_list)\n",
    "train_fe.shape"
   ]
  },
  {
   "cell_type": "code",
   "execution_count": 15,
   "metadata": {},
   "outputs": [
    {
     "data": {
      "text/html": [
       "<div>\n",
       "<style>\n",
       "    .dataframe thead tr:only-child th {\n",
       "        text-align: right;\n",
       "    }\n",
       "\n",
       "    .dataframe thead th {\n",
       "        text-align: left;\n",
       "    }\n",
       "\n",
       "    .dataframe tbody tr th {\n",
       "        vertical-align: top;\n",
       "    }\n",
       "</style>\n",
       "<table border=\"1\" class=\"dataframe\">\n",
       "  <thead>\n",
       "    <tr style=\"text-align: right;\">\n",
       "      <th></th>\n",
       "      <th>user_id</th>\n",
       "      <th>prediction_pay_price</th>\n",
       "    </tr>\n",
       "  </thead>\n",
       "  <tbody>\n",
       "    <tr>\n",
       "      <th>218050</th>\n",
       "      <td>1</td>\n",
       "      <td>0.0</td>\n",
       "    </tr>\n",
       "    <tr>\n",
       "      <th>99015</th>\n",
       "      <td>1593</td>\n",
       "      <td>0.0</td>\n",
       "    </tr>\n",
       "    <tr>\n",
       "      <th>282730</th>\n",
       "      <td>1594</td>\n",
       "      <td>0.0</td>\n",
       "    </tr>\n",
       "    <tr>\n",
       "      <th>298802</th>\n",
       "      <td>1596</td>\n",
       "      <td>0.0</td>\n",
       "    </tr>\n",
       "    <tr>\n",
       "      <th>197794</th>\n",
       "      <td>1598</td>\n",
       "      <td>0.0</td>\n",
       "    </tr>\n",
       "  </tbody>\n",
       "</table>\n",
       "</div>"
      ],
      "text/plain": [
       "        user_id  prediction_pay_price\n",
       "218050        1                   0.0\n",
       "99015      1593                   0.0\n",
       "282730     1594                   0.0\n",
       "298802     1596                   0.0\n",
       "197794     1598                   0.0"
      ]
     },
     "execution_count": 15,
     "metadata": {},
     "output_type": "execute_result"
    }
   ],
   "source": [
    "train_fe2 = train_fe[[user_id, 'prediction_pay_price']]\n",
    "train_fe2.sort_values(user_id, inplace=True) #必须排序保持一致 \n",
    "train_fe2.head()"
   ]
  },
  {
   "cell_type": "code",
   "execution_count": 16,
   "metadata": {},
   "outputs": [
    {
     "name": "stdout",
     "output_type": "stream",
     "text": [
      "2047       2\n",
      "1509025    2\n",
      "1834814    2\n",
      "1830716    2\n",
      "1810226    2\n",
      "1781540    2\n",
      "1771297    2\n",
      "1722121    2\n",
      "1724168    2\n",
      "1400554    2\n",
      "1392358    2\n",
      "1386213    2\n",
      "1382115    2\n",
      "1380064    2\n",
      "1371868    2\n",
      "1349331    2\n",
      "1337037    2\n",
      "1314496    2\n",
      "1556150    2\n",
      "1547954    2\n",
      "1521319    2\n",
      "1576768    2\n",
      "1591113    2\n",
      "1595211    2\n",
      "1904608    2\n",
      "2232320    2\n",
      "1964031    2\n",
      "1959933    2\n",
      "1949686    2\n",
      "1933294    2\n",
      "          ..\n",
      "3078638    1\n",
      "3076591    1\n",
      "3017200    1\n",
      "3015153    1\n",
      "757635     1\n",
      "3023349    1\n",
      "3029494    1\n",
      "3027447    1\n",
      "778121     1\n",
      "3097049    1\n",
      "3099096    1\n",
      "3092951    1\n",
      "786317     1\n",
      "2892213    1\n",
      "2898358    1\n",
      "2896311    1\n",
      "784268     1\n",
      "2900409    1\n",
      "2906554    1\n",
      "2904507    1\n",
      "2908605    1\n",
      "3144142    1\n",
      "3142095    1\n",
      "3082704    1\n",
      "3086802    1\n",
      "3084755    1\n",
      "3090900    1\n",
      "774027     1\n",
      "771978     1\n",
      "6147       1\n",
      "Name: user_id, Length: 1830405, dtype: int64\n"
     ]
    }
   ],
   "source": [
    "# 看看有没有不同 id \n",
    "print(train_fe2[user_id].value_counts())"
   ]
  },
  {
   "cell_type": "code",
   "execution_count": null,
   "metadata": {
    "collapsed": true
   },
   "outputs": [],
   "source": []
  },
  {
   "cell_type": "code",
   "execution_count": null,
   "metadata": {
    "collapsed": true
   },
   "outputs": [],
   "source": []
  }
 ],
 "metadata": {
  "kernelspec": {
   "display_name": "Python 3",
   "language": "python",
   "name": "python3"
  },
  "language_info": {
   "codemirror_mode": {
    "name": "ipython",
    "version": 3
   },
   "file_extension": ".py",
   "mimetype": "text/x-python",
   "name": "python",
   "nbconvert_exporter": "python",
   "pygments_lexer": "ipython3",
   "version": "3.6.3"
  }
 },
 "nbformat": 4,
 "nbformat_minor": 2
}
