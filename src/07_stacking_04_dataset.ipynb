{
 "cells": [
  {
   "cell_type": "markdown",
   "metadata": {},
   "source": [
    "## stacking 集成算法：生成次级学习器数据集\n",
    "基础学习器抽取特征，次级学习器融合。5折。"
   ]
  },
  {
   "cell_type": "code",
   "execution_count": 1,
   "metadata": {
    "collapsed": true
   },
   "outputs": [],
   "source": [
    "# 导入必要的工具包\n",
    "from sklearn.model_selection import train_test_split\n",
    "import numpy as np #用于数值计算\n",
    "import pandas as pd #用于数据表处理，数据文件读写"
   ]
  },
  {
   "cell_type": "code",
   "execution_count": 2,
   "metadata": {
    "collapsed": true
   },
   "outputs": [],
   "source": [
    "path_train_all = '../data/new/train=all/' #训练集，特征工程后的文件 \n",
    "path_train = '../data/new/train=predict/' #训练集，预测，得到的特征\n",
    "train_name = '%strain=pred-%s-%s.csv' #训练集，预测特征，文件名\n",
    "path_test = '../data/new/test=predict/' #测试集，预测，得到的特征\n",
    "test_name = '%stest=pred-%s-%s.csv' #测试集，预测特征，文件名 \n",
    "\n",
    "val_path = '../data/val/' #保存校验集测试结果\n",
    "val_name = '%sval=stacking-base2-%s-%s.csv' #校验集预测结果文件名\n",
    "summit_path = '../data/summit/stacking2/' #保存提交文件，测试集测试结果 \n",
    "out_name = '%ssummit=stacking-base2-%s-%s.csv' # 生成的结果文件名称\n",
    "\n",
    "train_part_num = 5 #训练集拆分个数\n",
    "target = 'prediction_pay_price'\n",
    "user_id = 'user_id'"
   ]
  },
  {
   "cell_type": "markdown",
   "metadata": {},
   "source": [
    "## 1.读取校验集预测结果，0,1,2,3,4合并。"
   ]
  },
  {
   "cell_type": "code",
   "execution_count": 3,
   "metadata": {
    "collapsed": true
   },
   "outputs": [],
   "source": [
    "# # model_name = 'RidgeCV'\n",
    "# model_name = 'RandomForestRegressor'\n",
    "# for i in range(train_part_num):\n",
    "#     if i == 0:\n",
    "#         col_df = pd.read_csv(val_name % (val_path, model_name, i))\n",
    "#     else:\n",
    "#         col_df = pd.concat([col_df, pd.read_csv(val_name % (val_path, model_name, i))])\n",
    "#     print('col_df.shape=', col_df.shape)\n",
    "# col_df.sort_values(user_id, inplace=True)\n",
    "# col_df.head()"
   ]
  },
  {
   "cell_type": "code",
   "execution_count": 4,
   "metadata": {
    "scrolled": true
   },
   "outputs": [
    {
     "name": "stdout",
     "output_type": "stream",
     "text": [
      "train_df.shape= (2288007, 2)\n",
      "train_df.shape= (2288007, 3)\n",
      "train_df.shape= (2288007, 4)\n",
      "train_df.shape= (2288007, 5)\n",
      "train_df.shape= (2288007, 6)\n",
      "train_df.shape= (2288007, 7)\n",
      "train_df.shape= (2288007, 8)\n",
      "train_df.shape= (2288007, 9)\n"
     ]
    }
   ],
   "source": [
    "# val=stacking-base-RidgeCV-0\n",
    "model_list = ['RidgeCV', 'RandomForestRegressor','lasso','GradientBoostingRegressor','ExtraTreesRegressor',\n",
    "              'ElasticNetCV','DNN_V2', 'BaggingRegressor']\n",
    "for j, model_name in enumerate(model_list): #每个模型预测一个特征 \n",
    "#     print('j=%s model_name=%s' % (j, model_name))\n",
    "    for i in range(train_part_num): # 读取校验集预测结果，0,1,2,3,4合并。\n",
    "        if i == 0:\n",
    "            col_df = pd.read_csv(val_name % (val_path, model_name, i))\n",
    "        else:\n",
    "            col_df = pd.concat([col_df, pd.read_csv(val_name % (val_path, model_name, i))])\n",
    "#         print('col_df.shape=', col_df.shape)\n",
    "    col_df.sort_values(user_id, inplace=True) #必须排序保持一致 \n",
    "    if j == 0:\n",
    "        train_df = pd.DataFrame(col_df[user_id], columns=[user_id], dtype=np.int32)\n",
    "    train_df['pred_%s'%j] = col_df[target].astype(np.float32) #多个特征合并，得到整个数据集。\n",
    "    print('train_df.shape=', train_df.shape)"
   ]
  },
  {
   "cell_type": "code",
   "execution_count": 5,
   "metadata": {},
   "outputs": [
    {
     "name": "stdout",
     "output_type": "stream",
     "text": [
      "<class 'pandas.core.frame.DataFrame'>\n",
      "Int64Index: 2288007 entries, 218050 to 86498\n",
      "Data columns (total 9 columns):\n",
      "user_id    int32\n",
      "pred_0     float32\n",
      "pred_1     float32\n",
      "pred_2     float32\n",
      "pred_3     float32\n",
      "pred_4     float32\n",
      "pred_5     float32\n",
      "pred_6     float32\n",
      "pred_7     float32\n",
      "dtypes: float32(8), int32(1)\n",
      "memory usage: 96.0 MB\n"
     ]
    }
   ],
   "source": [
    "train_df.info()"
   ]
  },
  {
   "cell_type": "code",
   "execution_count": 6,
   "metadata": {
    "scrolled": false
   },
   "outputs": [
    {
     "data": {
      "text/html": [
       "<div>\n",
       "<style>\n",
       "    .dataframe thead tr:only-child th {\n",
       "        text-align: right;\n",
       "    }\n",
       "\n",
       "    .dataframe thead th {\n",
       "        text-align: left;\n",
       "    }\n",
       "\n",
       "    .dataframe tbody tr th {\n",
       "        vertical-align: top;\n",
       "    }\n",
       "</style>\n",
       "<table border=\"1\" class=\"dataframe\">\n",
       "  <thead>\n",
       "    <tr style=\"text-align: right;\">\n",
       "      <th></th>\n",
       "      <th>user_id</th>\n",
       "      <th>pred_0</th>\n",
       "      <th>pred_1</th>\n",
       "      <th>pred_2</th>\n",
       "      <th>pred_3</th>\n",
       "      <th>pred_4</th>\n",
       "      <th>pred_5</th>\n",
       "      <th>pred_6</th>\n",
       "      <th>pred_7</th>\n",
       "    </tr>\n",
       "  </thead>\n",
       "  <tbody>\n",
       "    <tr>\n",
       "      <th>218050</th>\n",
       "      <td>1</td>\n",
       "      <td>0.000000</td>\n",
       "      <td>0.000056</td>\n",
       "      <td>0.0</td>\n",
       "      <td>0.484938</td>\n",
       "      <td>0.004374</td>\n",
       "      <td>0.0</td>\n",
       "      <td>0.622804</td>\n",
       "      <td>0.000059</td>\n",
       "    </tr>\n",
       "    <tr>\n",
       "      <th>99015</th>\n",
       "      <td>1593</td>\n",
       "      <td>0.000000</td>\n",
       "      <td>0.052974</td>\n",
       "      <td>0.0</td>\n",
       "      <td>0.484938</td>\n",
       "      <td>0.042844</td>\n",
       "      <td>0.0</td>\n",
       "      <td>0.452778</td>\n",
       "      <td>0.036465</td>\n",
       "    </tr>\n",
       "    <tr>\n",
       "      <th>282730</th>\n",
       "      <td>1594</td>\n",
       "      <td>0.194275</td>\n",
       "      <td>0.000119</td>\n",
       "      <td>0.0</td>\n",
       "      <td>0.349532</td>\n",
       "      <td>0.004415</td>\n",
       "      <td>0.0</td>\n",
       "      <td>0.083804</td>\n",
       "      <td>0.000068</td>\n",
       "    </tr>\n",
       "    <tr>\n",
       "      <th>112115</th>\n",
       "      <td>1595</td>\n",
       "      <td>0.045743</td>\n",
       "      <td>0.000311</td>\n",
       "      <td>0.0</td>\n",
       "      <td>0.413887</td>\n",
       "      <td>0.000075</td>\n",
       "      <td>0.0</td>\n",
       "      <td>0.277812</td>\n",
       "      <td>0.000298</td>\n",
       "    </tr>\n",
       "    <tr>\n",
       "      <th>298802</th>\n",
       "      <td>1596</td>\n",
       "      <td>0.045501</td>\n",
       "      <td>0.000064</td>\n",
       "      <td>0.0</td>\n",
       "      <td>0.442441</td>\n",
       "      <td>0.001589</td>\n",
       "      <td>0.0</td>\n",
       "      <td>0.276851</td>\n",
       "      <td>0.000137</td>\n",
       "    </tr>\n",
       "  </tbody>\n",
       "</table>\n",
       "</div>"
      ],
      "text/plain": [
       "        user_id    pred_0    pred_1  pred_2    pred_3    pred_4  pred_5  \\\n",
       "218050        1  0.000000  0.000056     0.0  0.484938  0.004374     0.0   \n",
       "99015      1593  0.000000  0.052974     0.0  0.484938  0.042844     0.0   \n",
       "282730     1594  0.194275  0.000119     0.0  0.349532  0.004415     0.0   \n",
       "112115     1595  0.045743  0.000311     0.0  0.413887  0.000075     0.0   \n",
       "298802     1596  0.045501  0.000064     0.0  0.442441  0.001589     0.0   \n",
       "\n",
       "          pred_6    pred_7  \n",
       "218050  0.622804  0.000059  \n",
       "99015   0.452778  0.036465  \n",
       "282730  0.083804  0.000068  \n",
       "112115  0.277812  0.000298  \n",
       "298802  0.276851  0.000137  "
      ]
     },
     "execution_count": 6,
     "metadata": {},
     "output_type": "execute_result"
    }
   ],
   "source": [
    "# 预测特征 v1 特征个数 =9\n",
    "train_df.to_csv(train_name %(path_train, '1', 'col=9'), index=False)\n",
    "train_df.head()"
   ]
  },
  {
   "cell_type": "markdown",
   "metadata": {},
   "source": [
    "## 2.读取测试集预测结果，0,1,2,3,4平均。"
   ]
  },
  {
   "cell_type": "code",
   "execution_count": 7,
   "metadata": {
    "collapsed": true
   },
   "outputs": [],
   "source": [
    "# model_name = 'RandomForestRegressor'\n",
    "# for i in range(train_part_num):\n",
    "#     if i == 0:\n",
    "#         col_df1 = pd.read_csv(out_name % (summit_path, model_name, i))\n",
    "#         col_df1.sort_values(user_id, inplace=True) #必须排序保持一致 \n",
    "#     else:\n",
    "#         col_df2 = pd.read_csv(out_name % (summit_path, model_name, i))\n",
    "#         col_df2.sort_values(user_id, inplace=True) #必须排序保持一致 \n",
    "# #         print('i=', i)\n",
    "# #         print(col_df1.head())\n",
    "# #         print(col_df2.head())\n",
    "#         col_df1[target] = (col_df1[target] + col_df2[target]) / 2\n",
    "# #         print(col_df1.head())\n",
    "# col_df1.head() #两种方式结果不同 "
   ]
  },
  {
   "cell_type": "code",
   "execution_count": 8,
   "metadata": {
    "collapsed": true
   },
   "outputs": [],
   "source": [
    "# model_name = 'RandomForestRegressor'\n",
    "# for i in range(train_part_num):\n",
    "#     if i == 0:\n",
    "#         col_df1 = pd.read_csv(out_name % (summit_path, model_name, i))\n",
    "#     else:\n",
    "#         col_df2 = pd.read_csv(out_name % (summit_path, model_name, i))\n",
    "# #         print('i=', i)\n",
    "# #         print(col_df1.head())\n",
    "# #         print(col_df2.head())\n",
    "#         col_df1[target] = (col_df1[target] + col_df2[target])\n",
    "# #         print(col_df1.head())\n",
    "# col_df1[target] = (col_df1[target] / train_part_num)\n",
    "# col_df1.head() #这种方式更好 "
   ]
  },
  {
   "cell_type": "code",
   "execution_count": 9,
   "metadata": {
    "scrolled": true
   },
   "outputs": [
    {
     "name": "stdout",
     "output_type": "stream",
     "text": [
      "test_df.shape= (828934, 2)\n",
      "test_df.shape= (828934, 3)\n",
      "test_df.shape= (828934, 4)\n",
      "test_df.shape= (828934, 5)\n",
      "test_df.shape= (828934, 6)\n",
      "test_df.shape= (828934, 7)\n",
      "test_df.shape= (828934, 8)\n",
      "test_df.shape= (828934, 9)\n"
     ]
    }
   ],
   "source": [
    "model_list = ['RidgeCV', 'RandomForestRegressor','lasso','GradientBoostingRegressor','ExtraTreesRegressor',\n",
    "              'ElasticNetCV','DNN_V2', 'BaggingRegressor']\n",
    "for j, model_name in enumerate(model_list): #每个模型预测一个特征 \n",
    "#     print('j=%s model_name=%s' % (j, model_name))\n",
    "    for i in range(train_part_num):\n",
    "        if i == 0:\n",
    "            col_df1 = pd.read_csv(out_name % (summit_path, model_name, i))\n",
    "        else:\n",
    "            col_df2 = pd.read_csv(out_name % (summit_path, model_name, i))\n",
    "#             print('i=', i)\n",
    "#             print(col_df1.head())\n",
    "#             print(col_df2.head())\n",
    "            col_df1[target] = (col_df1[target] + col_df2[target])\n",
    "#             print(col_df1.head())\n",
    "    col_df1[target] = (col_df1[target] / train_part_num) #求平均\n",
    "    if j == 0:\n",
    "        test_df = pd.DataFrame(col_df1[user_id], columns=[user_id], dtype=np.int32)\n",
    "    test_df['pred_%s'%j] = col_df1[target].astype(np.float32) #多个特征合并，得到整个数据集。\n",
    "    print('test_df.shape=', test_df.shape)"
   ]
  },
  {
   "cell_type": "code",
   "execution_count": 10,
   "metadata": {},
   "outputs": [
    {
     "name": "stdout",
     "output_type": "stream",
     "text": [
      "<class 'pandas.core.frame.DataFrame'>\n",
      "RangeIndex: 828934 entries, 0 to 828933\n",
      "Data columns (total 9 columns):\n",
      "user_id    828934 non-null int32\n",
      "pred_0     828934 non-null float32\n",
      "pred_1     828934 non-null float32\n",
      "pred_2     828934 non-null float32\n",
      "pred_3     828934 non-null float32\n",
      "pred_4     828934 non-null float32\n",
      "pred_5     828934 non-null float32\n",
      "pred_6     828934 non-null float32\n",
      "pred_7     828934 non-null float32\n",
      "dtypes: float32(8), int32(1)\n",
      "memory usage: 28.5 MB\n"
     ]
    }
   ],
   "source": [
    "test_df.info()"
   ]
  },
  {
   "cell_type": "code",
   "execution_count": 11,
   "metadata": {
    "scrolled": false
   },
   "outputs": [
    {
     "data": {
      "text/html": [
       "<div>\n",
       "<style>\n",
       "    .dataframe thead tr:only-child th {\n",
       "        text-align: right;\n",
       "    }\n",
       "\n",
       "    .dataframe thead th {\n",
       "        text-align: left;\n",
       "    }\n",
       "\n",
       "    .dataframe tbody tr th {\n",
       "        vertical-align: top;\n",
       "    }\n",
       "</style>\n",
       "<table border=\"1\" class=\"dataframe\">\n",
       "  <thead>\n",
       "    <tr style=\"text-align: right;\">\n",
       "      <th></th>\n",
       "      <th>user_id</th>\n",
       "      <th>pred_0</th>\n",
       "      <th>pred_1</th>\n",
       "      <th>pred_2</th>\n",
       "      <th>pred_3</th>\n",
       "      <th>pred_4</th>\n",
       "      <th>pred_5</th>\n",
       "      <th>pred_6</th>\n",
       "      <th>pred_7</th>\n",
       "    </tr>\n",
       "  </thead>\n",
       "  <tbody>\n",
       "    <tr>\n",
       "      <th>0</th>\n",
       "      <td>14933</td>\n",
       "      <td>0.084183</td>\n",
       "      <td>0.000180</td>\n",
       "      <td>0.007868</td>\n",
       "      <td>0.406852</td>\n",
       "      <td>1.084812e-04</td>\n",
       "      <td>0.010231</td>\n",
       "      <td>1.650189</td>\n",
       "      <td>0.000162</td>\n",
       "    </tr>\n",
       "    <tr>\n",
       "      <th>1</th>\n",
       "      <td>14934</td>\n",
       "      <td>0.059209</td>\n",
       "      <td>0.000117</td>\n",
       "      <td>0.000000</td>\n",
       "      <td>0.406852</td>\n",
       "      <td>2.858160e-05</td>\n",
       "      <td>0.000000</td>\n",
       "      <td>0.671875</td>\n",
       "      <td>0.000123</td>\n",
       "    </tr>\n",
       "    <tr>\n",
       "      <th>2</th>\n",
       "      <td>14935</td>\n",
       "      <td>0.392662</td>\n",
       "      <td>0.000134</td>\n",
       "      <td>0.000000</td>\n",
       "      <td>0.406852</td>\n",
       "      <td>4.165320e-05</td>\n",
       "      <td>0.000000</td>\n",
       "      <td>0.931189</td>\n",
       "      <td>0.000121</td>\n",
       "    </tr>\n",
       "    <tr>\n",
       "      <th>3</th>\n",
       "      <td>14936</td>\n",
       "      <td>1.513114</td>\n",
       "      <td>0.006305</td>\n",
       "      <td>0.235470</td>\n",
       "      <td>0.406852</td>\n",
       "      <td>1.391971e-08</td>\n",
       "      <td>0.235131</td>\n",
       "      <td>1.364640</td>\n",
       "      <td>0.000070</td>\n",
       "    </tr>\n",
       "    <tr>\n",
       "      <th>4</th>\n",
       "      <td>14937</td>\n",
       "      <td>0.000000</td>\n",
       "      <td>0.000141</td>\n",
       "      <td>0.000000</td>\n",
       "      <td>0.406852</td>\n",
       "      <td>3.695815e-05</td>\n",
       "      <td>0.000000</td>\n",
       "      <td>0.599589</td>\n",
       "      <td>0.000145</td>\n",
       "    </tr>\n",
       "  </tbody>\n",
       "</table>\n",
       "</div>"
      ],
      "text/plain": [
       "   user_id    pred_0    pred_1    pred_2    pred_3        pred_4    pred_5  \\\n",
       "0    14933  0.084183  0.000180  0.007868  0.406852  1.084812e-04  0.010231   \n",
       "1    14934  0.059209  0.000117  0.000000  0.406852  2.858160e-05  0.000000   \n",
       "2    14935  0.392662  0.000134  0.000000  0.406852  4.165320e-05  0.000000   \n",
       "3    14936  1.513114  0.006305  0.235470  0.406852  1.391971e-08  0.235131   \n",
       "4    14937  0.000000  0.000141  0.000000  0.406852  3.695815e-05  0.000000   \n",
       "\n",
       "     pred_6    pred_7  \n",
       "0  1.650189  0.000162  \n",
       "1  0.671875  0.000123  \n",
       "2  0.931189  0.000121  \n",
       "3  1.364640  0.000070  \n",
       "4  0.599589  0.000145  "
      ]
     },
     "execution_count": 11,
     "metadata": {},
     "output_type": "execute_result"
    }
   ],
   "source": [
    "# 预测特征 v1 特征个数 =9\n",
    "test_df.to_csv(test_name %(path_test, '1', 'col=9'), index=False)\n",
    "test_df.head()"
   ]
  },
  {
   "cell_type": "markdown",
   "metadata": {
    "collapsed": true
   },
   "source": [
    "## 3.给训练集添加 target \n",
    "### 3.1 首先读取特征工程后的训练集 ，指定读取数据类型，节省内存"
   ]
  },
  {
   "cell_type": "code",
   "execution_count": 12,
   "metadata": {
    "collapsed": true
   },
   "outputs": [],
   "source": [
    "col_int32 = ['user_id', 'register_time', 'wood_add_value', 'wood_reduce_value',\n",
    "       'stone_add_value', 'stone_reduce_value', 'ivory_add_value',\n",
    "       'ivory_reduce_value', 'meat_add_value', 'meat_reduce_value',\n",
    "       'magic_add_value', 'magic_reduce_value', 'infantry_add_value',\n",
    "       'infantry_reduce_value', 'cavalry_add_value', 'cavalry_reduce_value',\n",
    "       'shaman_add_value', 'shaman_reduce_value', 'wound_infantry_add_value',\n",
    "       'wound_infantry_reduce_value', 'wound_cavalry_add_value',\n",
    "       'wound_cavalry_reduce_value', 'wound_shaman_add_value',\n",
    "       'wound_shaman_reduce_value', 'general_acceleration_add_value',\n",
    "       'general_acceleration_reduce_value', 'building_acceleration_add_value',\n",
    "       'building_acceleration_reduce_value', 'reaserch_acceleration_add_value',\n",
    "       'reaserch_acceleration_reduce_value', 'training_acceleration_add_value',\n",
    "       'training_acceleration_reduce_value', 'treatment_acceleraion_add_value',\n",
    "       'treatment_acceleration_reduce_value', 'bd_training_hut_level',\n",
    "       'bd_healing_lodge_level', 'bd_stronghold_level',\n",
    "       'bd_outpost_portal_level', 'bd_barrack_level',\n",
    "       'bd_healing_spring_level', 'bd_dolmen_level', 'bd_guest_cavern_level',\n",
    "       'bd_warehouse_level', 'bd_watchtower_level', 'bd_magic_coin_tree_level',\n",
    "       'bd_hall_of_war_level', 'bd_market_level', 'bd_hero_gacha_level',\n",
    "       'bd_hero_strengthen_level', 'bd_hero_pve_level', 'sr_scout_level', \n",
    "       'sr_training_speed_level', 'sr_infantry_tier_2_level',\n",
    "       'sr_cavalry_tier_2_level', 'sr_shaman_tier_2_level',\n",
    "       'sr_infantry_atk_level', 'sr_cavalry_atk_level', 'sr_shaman_atk_level',\n",
    "       'sr_infantry_tier_3_level', 'sr_cavalry_tier_3_level',\n",
    "       'sr_shaman_tier_3_level', 'sr_troop_defense_level',\n",
    "       'sr_infantry_def_level', 'sr_cavalry_def_level', 'sr_shaman_def_level',\n",
    "       'sr_infantry_hp_level', 'sr_cavalry_hp_level', 'sr_shaman_hp_level',\n",
    "       'sr_infantry_tier_4_level', 'sr_cavalry_tier_4_level',\n",
    "       'sr_shaman_tier_4_level', 'sr_troop_attack_level',\n",
    "       'sr_construction_speed_level', 'sr_hide_storage_level',\n",
    "       'sr_troop_consumption_level', 'sr_rss_a_prod_levell',\n",
    "       'sr_rss_b_prod_level', 'sr_rss_c_prod_level', 'sr_rss_d_prod_level',\n",
    "       'sr_rss_a_gather_level', 'sr_rss_b_gather_level',\n",
    "       'sr_rss_c_gather_level', 'sr_rss_d_gather_level', 'sr_troop_load_level',\n",
    "       'sr_rss_e_gather_level', 'sr_rss_e_prod_level',\n",
    "       'sr_outpost_durability_level', 'sr_outpost_tier_2_level',\n",
    "       'sr_healing_space_level', 'sr_gathering_hunter_buff_level',\n",
    "       'sr_healing_speed_level', 'sr_outpost_tier_3_level',\n",
    "       'sr_alliance_march_speed_level', 'sr_pvp_march_speed_level',\n",
    "       'sr_gathering_march_speed_level', 'sr_outpost_tier_4_level',\n",
    "       'sr_guest_troop_capacity_level', 'sr_march_size_level',\n",
    "       'sr_rss_help_bonus_level', 'pvp_battle_count', 'pvp_lanch_count',\n",
    "       'pvp_win_count', 'pve_battle_count', 'pve_lanch_count', 'pve_win_count',\n",
    "       'pay_count']\n",
    "col_float32 = ['avg_online_minutes', 'pay_price']"
   ]
  },
  {
   "cell_type": "code",
   "execution_count": 13,
   "metadata": {
    "collapsed": true
   },
   "outputs": [],
   "source": [
    "# 指定读取数据类型，节省内存\n",
    "dtype_test = {}\n",
    "for col in col_int32:\n",
    "    dtype_test[col] = np.int32\n",
    "for col in col_float32:\n",
    "    dtype_test[col] = np.float32\n",
    "# dtype_test"
   ]
  },
  {
   "cell_type": "code",
   "execution_count": 14,
   "metadata": {
    "collapsed": true
   },
   "outputs": [],
   "source": [
    "dtype_train = dtype_test.copy()\n",
    "dtype_train[target] = np.float32\n",
    "# dtype_train"
   ]
  },
  {
   "cell_type": "code",
   "execution_count": 15,
   "metadata": {},
   "outputs": [
    {
     "data": {
      "text/html": [
       "<div>\n",
       "<style>\n",
       "    .dataframe thead tr:only-child th {\n",
       "        text-align: right;\n",
       "    }\n",
       "\n",
       "    .dataframe thead th {\n",
       "        text-align: left;\n",
       "    }\n",
       "\n",
       "    .dataframe tbody tr th {\n",
       "        vertical-align: top;\n",
       "    }\n",
       "</style>\n",
       "<table border=\"1\" class=\"dataframe\">\n",
       "  <thead>\n",
       "    <tr style=\"text-align: right;\">\n",
       "      <th></th>\n",
       "      <th>user_id</th>\n",
       "      <th>register_time</th>\n",
       "      <th>wood_add_value</th>\n",
       "      <th>wood_reduce_value</th>\n",
       "      <th>stone_add_value</th>\n",
       "      <th>stone_reduce_value</th>\n",
       "      <th>ivory_add_value</th>\n",
       "      <th>ivory_reduce_value</th>\n",
       "      <th>meat_add_value</th>\n",
       "      <th>meat_reduce_value</th>\n",
       "      <th>...</th>\n",
       "      <th>pvp_battle_count</th>\n",
       "      <th>pvp_lanch_count</th>\n",
       "      <th>pvp_win_count</th>\n",
       "      <th>pve_battle_count</th>\n",
       "      <th>pve_lanch_count</th>\n",
       "      <th>pve_win_count</th>\n",
       "      <th>avg_online_minutes</th>\n",
       "      <th>pay_price</th>\n",
       "      <th>pay_count</th>\n",
       "      <th>prediction_pay_price</th>\n",
       "    </tr>\n",
       "  </thead>\n",
       "  <tbody>\n",
       "    <tr>\n",
       "      <th>0</th>\n",
       "      <td>1</td>\n",
       "      <td>128</td>\n",
       "      <td>20125</td>\n",
       "      <td>3700</td>\n",
       "      <td>0</td>\n",
       "      <td>0</td>\n",
       "      <td>0</td>\n",
       "      <td>0</td>\n",
       "      <td>16375</td>\n",
       "      <td>2000</td>\n",
       "      <td>...</td>\n",
       "      <td>0</td>\n",
       "      <td>0</td>\n",
       "      <td>0</td>\n",
       "      <td>0</td>\n",
       "      <td>0</td>\n",
       "      <td>0</td>\n",
       "      <td>0.333333</td>\n",
       "      <td>0.0</td>\n",
       "      <td>0</td>\n",
       "      <td>0.0</td>\n",
       "    </tr>\n",
       "    <tr>\n",
       "      <th>1</th>\n",
       "      <td>1593</td>\n",
       "      <td>136</td>\n",
       "      <td>0</td>\n",
       "      <td>0</td>\n",
       "      <td>0</td>\n",
       "      <td>0</td>\n",
       "      <td>0</td>\n",
       "      <td>0</td>\n",
       "      <td>0</td>\n",
       "      <td>0</td>\n",
       "      <td>...</td>\n",
       "      <td>0</td>\n",
       "      <td>0</td>\n",
       "      <td>0</td>\n",
       "      <td>0</td>\n",
       "      <td>0</td>\n",
       "      <td>0</td>\n",
       "      <td>0.333333</td>\n",
       "      <td>0.0</td>\n",
       "      <td>0</td>\n",
       "      <td>0.0</td>\n",
       "    </tr>\n",
       "    <tr>\n",
       "      <th>2</th>\n",
       "      <td>1594</td>\n",
       "      <td>136</td>\n",
       "      <td>0</td>\n",
       "      <td>0</td>\n",
       "      <td>0</td>\n",
       "      <td>0</td>\n",
       "      <td>0</td>\n",
       "      <td>0</td>\n",
       "      <td>0</td>\n",
       "      <td>0</td>\n",
       "      <td>...</td>\n",
       "      <td>0</td>\n",
       "      <td>0</td>\n",
       "      <td>0</td>\n",
       "      <td>0</td>\n",
       "      <td>0</td>\n",
       "      <td>0</td>\n",
       "      <td>1.166667</td>\n",
       "      <td>0.0</td>\n",
       "      <td>0</td>\n",
       "      <td>0.0</td>\n",
       "    </tr>\n",
       "    <tr>\n",
       "      <th>3</th>\n",
       "      <td>1595</td>\n",
       "      <td>136</td>\n",
       "      <td>0</td>\n",
       "      <td>0</td>\n",
       "      <td>0</td>\n",
       "      <td>0</td>\n",
       "      <td>0</td>\n",
       "      <td>0</td>\n",
       "      <td>0</td>\n",
       "      <td>0</td>\n",
       "      <td>...</td>\n",
       "      <td>0</td>\n",
       "      <td>0</td>\n",
       "      <td>0</td>\n",
       "      <td>0</td>\n",
       "      <td>0</td>\n",
       "      <td>0</td>\n",
       "      <td>3.166667</td>\n",
       "      <td>0.0</td>\n",
       "      <td>0</td>\n",
       "      <td>0.0</td>\n",
       "    </tr>\n",
       "    <tr>\n",
       "      <th>4</th>\n",
       "      <td>1596</td>\n",
       "      <td>136</td>\n",
       "      <td>0</td>\n",
       "      <td>0</td>\n",
       "      <td>0</td>\n",
       "      <td>0</td>\n",
       "      <td>0</td>\n",
       "      <td>0</td>\n",
       "      <td>0</td>\n",
       "      <td>0</td>\n",
       "      <td>...</td>\n",
       "      <td>0</td>\n",
       "      <td>0</td>\n",
       "      <td>0</td>\n",
       "      <td>0</td>\n",
       "      <td>0</td>\n",
       "      <td>0</td>\n",
       "      <td>2.333333</td>\n",
       "      <td>0.0</td>\n",
       "      <td>0</td>\n",
       "      <td>0.0</td>\n",
       "    </tr>\n",
       "  </tbody>\n",
       "</table>\n",
       "<p>5 rows × 109 columns</p>\n",
       "</div>"
      ],
      "text/plain": [
       "   user_id  register_time  wood_add_value  wood_reduce_value  stone_add_value  \\\n",
       "0        1            128           20125               3700                0   \n",
       "1     1593            136               0                  0                0   \n",
       "2     1594            136               0                  0                0   \n",
       "3     1595            136               0                  0                0   \n",
       "4     1596            136               0                  0                0   \n",
       "\n",
       "   stone_reduce_value  ivory_add_value  ivory_reduce_value  meat_add_value  \\\n",
       "0                   0                0                   0           16375   \n",
       "1                   0                0                   0               0   \n",
       "2                   0                0                   0               0   \n",
       "3                   0                0                   0               0   \n",
       "4                   0                0                   0               0   \n",
       "\n",
       "   meat_reduce_value          ...           pvp_battle_count  pvp_lanch_count  \\\n",
       "0               2000          ...                          0                0   \n",
       "1                  0          ...                          0                0   \n",
       "2                  0          ...                          0                0   \n",
       "3                  0          ...                          0                0   \n",
       "4                  0          ...                          0                0   \n",
       "\n",
       "   pvp_win_count  pve_battle_count  pve_lanch_count  pve_win_count  \\\n",
       "0              0                 0                0              0   \n",
       "1              0                 0                0              0   \n",
       "2              0                 0                0              0   \n",
       "3              0                 0                0              0   \n",
       "4              0                 0                0              0   \n",
       "\n",
       "   avg_online_minutes  pay_price  pay_count  prediction_pay_price  \n",
       "0            0.333333        0.0          0                   0.0  \n",
       "1            0.333333        0.0          0                   0.0  \n",
       "2            1.166667        0.0          0                   0.0  \n",
       "3            3.166667        0.0          0                   0.0  \n",
       "4            2.333333        0.0          0                   0.0  \n",
       "\n",
       "[5 rows x 109 columns]"
      ]
     },
     "execution_count": 15,
     "metadata": {},
     "output_type": "execute_result"
    }
   ],
   "source": [
    "train_fe = pd.read_csv('%strain=fe.csv' % (path_train_all), dtype=dtype_train)\n",
    "train_fe.head()"
   ]
  },
  {
   "cell_type": "markdown",
   "metadata": {},
   "source": [
    "### 3.2 然后只取 userid 和 target"
   ]
  },
  {
   "cell_type": "code",
   "execution_count": 16,
   "metadata": {},
   "outputs": [
    {
     "data": {
      "text/html": [
       "<div>\n",
       "<style>\n",
       "    .dataframe thead tr:only-child th {\n",
       "        text-align: right;\n",
       "    }\n",
       "\n",
       "    .dataframe thead th {\n",
       "        text-align: left;\n",
       "    }\n",
       "\n",
       "    .dataframe tbody tr th {\n",
       "        vertical-align: top;\n",
       "    }\n",
       "</style>\n",
       "<table border=\"1\" class=\"dataframe\">\n",
       "  <thead>\n",
       "    <tr style=\"text-align: right;\">\n",
       "      <th></th>\n",
       "      <th>user_id</th>\n",
       "      <th>prediction_pay_price</th>\n",
       "    </tr>\n",
       "  </thead>\n",
       "  <tbody>\n",
       "    <tr>\n",
       "      <th>0</th>\n",
       "      <td>1</td>\n",
       "      <td>0.0</td>\n",
       "    </tr>\n",
       "    <tr>\n",
       "      <th>1</th>\n",
       "      <td>1593</td>\n",
       "      <td>0.0</td>\n",
       "    </tr>\n",
       "    <tr>\n",
       "      <th>2</th>\n",
       "      <td>1594</td>\n",
       "      <td>0.0</td>\n",
       "    </tr>\n",
       "    <tr>\n",
       "      <th>3</th>\n",
       "      <td>1595</td>\n",
       "      <td>0.0</td>\n",
       "    </tr>\n",
       "    <tr>\n",
       "      <th>4</th>\n",
       "      <td>1596</td>\n",
       "      <td>0.0</td>\n",
       "    </tr>\n",
       "  </tbody>\n",
       "</table>\n",
       "</div>"
      ],
      "text/plain": [
       "   user_id  prediction_pay_price\n",
       "0        1                   0.0\n",
       "1     1593                   0.0\n",
       "2     1594                   0.0\n",
       "3     1595                   0.0\n",
       "4     1596                   0.0"
      ]
     },
     "execution_count": 16,
     "metadata": {},
     "output_type": "execute_result"
    }
   ],
   "source": [
    "train_fe2 = train_fe[[user_id, 'prediction_pay_price']]\n",
    "train_target_name = '%strain=fe-%s.csv' % (path_train_all, 'target')\n",
    "train_fe2.to_csv(train_target_name, index=False)\n",
    "train_fe2.head()"
   ]
  },
  {
   "cell_type": "code",
   "execution_count": 17,
   "metadata": {
    "collapsed": true,
    "scrolled": true
   },
   "outputs": [],
   "source": [
    "# 看看有没有不同 id \n",
    "# print(train_fe2[user_id].value_counts())\n",
    "# print(train_pred[user_id].value_counts())"
   ]
  },
  {
   "cell_type": "markdown",
   "metadata": {},
   "source": [
    "### 3.3 把 target 添加到 pred 里面"
   ]
  },
  {
   "cell_type": "code",
   "execution_count": 18,
   "metadata": {},
   "outputs": [
    {
     "data": {
      "text/html": [
       "<div>\n",
       "<style>\n",
       "    .dataframe thead tr:only-child th {\n",
       "        text-align: right;\n",
       "    }\n",
       "\n",
       "    .dataframe thead th {\n",
       "        text-align: left;\n",
       "    }\n",
       "\n",
       "    .dataframe tbody tr th {\n",
       "        vertical-align: top;\n",
       "    }\n",
       "</style>\n",
       "<table border=\"1\" class=\"dataframe\">\n",
       "  <thead>\n",
       "    <tr style=\"text-align: right;\">\n",
       "      <th></th>\n",
       "      <th>user_id</th>\n",
       "      <th>pred_0</th>\n",
       "      <th>pred_1</th>\n",
       "      <th>pred_2</th>\n",
       "      <th>pred_3</th>\n",
       "      <th>pred_4</th>\n",
       "      <th>pred_5</th>\n",
       "      <th>pred_6</th>\n",
       "      <th>pred_7</th>\n",
       "    </tr>\n",
       "  </thead>\n",
       "  <tbody>\n",
       "    <tr>\n",
       "      <th>0</th>\n",
       "      <td>1</td>\n",
       "      <td>0.000000</td>\n",
       "      <td>0.000056</td>\n",
       "      <td>0.0</td>\n",
       "      <td>0.484938</td>\n",
       "      <td>0.004374</td>\n",
       "      <td>0.0</td>\n",
       "      <td>0.622804</td>\n",
       "      <td>0.000059</td>\n",
       "    </tr>\n",
       "    <tr>\n",
       "      <th>1</th>\n",
       "      <td>1593</td>\n",
       "      <td>0.000000</td>\n",
       "      <td>0.052974</td>\n",
       "      <td>0.0</td>\n",
       "      <td>0.484938</td>\n",
       "      <td>0.042844</td>\n",
       "      <td>0.0</td>\n",
       "      <td>0.452778</td>\n",
       "      <td>0.036465</td>\n",
       "    </tr>\n",
       "    <tr>\n",
       "      <th>2</th>\n",
       "      <td>1594</td>\n",
       "      <td>0.194275</td>\n",
       "      <td>0.000119</td>\n",
       "      <td>0.0</td>\n",
       "      <td>0.349532</td>\n",
       "      <td>0.004415</td>\n",
       "      <td>0.0</td>\n",
       "      <td>0.083804</td>\n",
       "      <td>0.000068</td>\n",
       "    </tr>\n",
       "    <tr>\n",
       "      <th>3</th>\n",
       "      <td>1595</td>\n",
       "      <td>0.045743</td>\n",
       "      <td>0.000311</td>\n",
       "      <td>0.0</td>\n",
       "      <td>0.413887</td>\n",
       "      <td>0.000075</td>\n",
       "      <td>0.0</td>\n",
       "      <td>0.277812</td>\n",
       "      <td>0.000298</td>\n",
       "    </tr>\n",
       "    <tr>\n",
       "      <th>4</th>\n",
       "      <td>1596</td>\n",
       "      <td>0.045501</td>\n",
       "      <td>0.000064</td>\n",
       "      <td>0.0</td>\n",
       "      <td>0.442441</td>\n",
       "      <td>0.001589</td>\n",
       "      <td>0.0</td>\n",
       "      <td>0.276851</td>\n",
       "      <td>0.000137</td>\n",
       "    </tr>\n",
       "  </tbody>\n",
       "</table>\n",
       "</div>"
      ],
      "text/plain": [
       "   user_id    pred_0    pred_1  pred_2    pred_3    pred_4  pred_5    pred_6  \\\n",
       "0        1  0.000000  0.000056     0.0  0.484938  0.004374     0.0  0.622804   \n",
       "1     1593  0.000000  0.052974     0.0  0.484938  0.042844     0.0  0.452778   \n",
       "2     1594  0.194275  0.000119     0.0  0.349532  0.004415     0.0  0.083804   \n",
       "3     1595  0.045743  0.000311     0.0  0.413887  0.000075     0.0  0.277812   \n",
       "4     1596  0.045501  0.000064     0.0  0.442441  0.001589     0.0  0.276851   \n",
       "\n",
       "     pred_7  \n",
       "0  0.000059  \n",
       "1  0.036465  \n",
       "2  0.000068  \n",
       "3  0.000298  \n",
       "4  0.000137  "
      ]
     },
     "execution_count": 18,
     "metadata": {},
     "output_type": "execute_result"
    }
   ],
   "source": [
    "train_pred = pd.read_csv(train_name %(path_train, '1', 'col=9'))\n",
    "train_pred.head()"
   ]
  },
  {
   "cell_type": "code",
   "execution_count": 19,
   "metadata": {},
   "outputs": [
    {
     "data": {
      "text/html": [
       "<div>\n",
       "<style>\n",
       "    .dataframe thead tr:only-child th {\n",
       "        text-align: right;\n",
       "    }\n",
       "\n",
       "    .dataframe thead th {\n",
       "        text-align: left;\n",
       "    }\n",
       "\n",
       "    .dataframe tbody tr th {\n",
       "        vertical-align: top;\n",
       "    }\n",
       "</style>\n",
       "<table border=\"1\" class=\"dataframe\">\n",
       "  <thead>\n",
       "    <tr style=\"text-align: right;\">\n",
       "      <th></th>\n",
       "      <th>user_id</th>\n",
       "      <th>pred_0</th>\n",
       "      <th>pred_1</th>\n",
       "      <th>pred_2</th>\n",
       "      <th>pred_3</th>\n",
       "      <th>pred_4</th>\n",
       "      <th>pred_5</th>\n",
       "      <th>pred_6</th>\n",
       "      <th>pred_7</th>\n",
       "      <th>prediction_pay_price</th>\n",
       "    </tr>\n",
       "  </thead>\n",
       "  <tbody>\n",
       "    <tr>\n",
       "      <th>0</th>\n",
       "      <td>1</td>\n",
       "      <td>0.000000</td>\n",
       "      <td>0.000056</td>\n",
       "      <td>0.0</td>\n",
       "      <td>0.484938</td>\n",
       "      <td>0.004374</td>\n",
       "      <td>0.0</td>\n",
       "      <td>0.622804</td>\n",
       "      <td>0.000059</td>\n",
       "      <td>0.0</td>\n",
       "    </tr>\n",
       "    <tr>\n",
       "      <th>1</th>\n",
       "      <td>1593</td>\n",
       "      <td>0.000000</td>\n",
       "      <td>0.052974</td>\n",
       "      <td>0.0</td>\n",
       "      <td>0.484938</td>\n",
       "      <td>0.042844</td>\n",
       "      <td>0.0</td>\n",
       "      <td>0.452778</td>\n",
       "      <td>0.036465</td>\n",
       "      <td>0.0</td>\n",
       "    </tr>\n",
       "    <tr>\n",
       "      <th>2</th>\n",
       "      <td>1594</td>\n",
       "      <td>0.194275</td>\n",
       "      <td>0.000119</td>\n",
       "      <td>0.0</td>\n",
       "      <td>0.349532</td>\n",
       "      <td>0.004415</td>\n",
       "      <td>0.0</td>\n",
       "      <td>0.083804</td>\n",
       "      <td>0.000068</td>\n",
       "      <td>0.0</td>\n",
       "    </tr>\n",
       "    <tr>\n",
       "      <th>3</th>\n",
       "      <td>1595</td>\n",
       "      <td>0.045743</td>\n",
       "      <td>0.000311</td>\n",
       "      <td>0.0</td>\n",
       "      <td>0.413887</td>\n",
       "      <td>0.000075</td>\n",
       "      <td>0.0</td>\n",
       "      <td>0.277812</td>\n",
       "      <td>0.000298</td>\n",
       "      <td>0.0</td>\n",
       "    </tr>\n",
       "    <tr>\n",
       "      <th>4</th>\n",
       "      <td>1596</td>\n",
       "      <td>0.045501</td>\n",
       "      <td>0.000064</td>\n",
       "      <td>0.0</td>\n",
       "      <td>0.442441</td>\n",
       "      <td>0.001589</td>\n",
       "      <td>0.0</td>\n",
       "      <td>0.276851</td>\n",
       "      <td>0.000137</td>\n",
       "      <td>0.0</td>\n",
       "    </tr>\n",
       "  </tbody>\n",
       "</table>\n",
       "</div>"
      ],
      "text/plain": [
       "   user_id    pred_0    pred_1  pred_2    pred_3    pred_4  pred_5    pred_6  \\\n",
       "0        1  0.000000  0.000056     0.0  0.484938  0.004374     0.0  0.622804   \n",
       "1     1593  0.000000  0.052974     0.0  0.484938  0.042844     0.0  0.452778   \n",
       "2     1594  0.194275  0.000119     0.0  0.349532  0.004415     0.0  0.083804   \n",
       "3     1595  0.045743  0.000311     0.0  0.413887  0.000075     0.0  0.277812   \n",
       "4     1596  0.045501  0.000064     0.0  0.442441  0.001589     0.0  0.276851   \n",
       "\n",
       "     pred_7  prediction_pay_price  \n",
       "0  0.000059                   0.0  \n",
       "1  0.036465                   0.0  \n",
       "2  0.000068                   0.0  \n",
       "3  0.000298                   0.0  \n",
       "4  0.000137                   0.0  "
      ]
     },
     "execution_count": 19,
     "metadata": {},
     "output_type": "execute_result"
    }
   ],
   "source": [
    "train_pred[target] = train_fe2[target]\n",
    "train_pred.head()"
   ]
  },
  {
   "cell_type": "code",
   "execution_count": 20,
   "metadata": {},
   "outputs": [
    {
     "name": "stdout",
     "output_type": "stream",
     "text": [
      "<class 'pandas.core.frame.DataFrame'>\n",
      "RangeIndex: 2288007 entries, 0 to 2288006\n",
      "Data columns (total 10 columns):\n",
      "user_id                 int64\n",
      "pred_0                  float64\n",
      "pred_1                  float64\n",
      "pred_2                  float64\n",
      "pred_3                  float64\n",
      "pred_4                  float64\n",
      "pred_5                  float64\n",
      "pred_6                  float64\n",
      "pred_7                  float64\n",
      "prediction_pay_price    float32\n",
      "dtypes: float32(1), float64(8), int64(1)\n",
      "memory usage: 165.8 MB\n"
     ]
    }
   ],
   "source": [
    "train_pred.info()"
   ]
  },
  {
   "cell_type": "markdown",
   "metadata": {},
   "source": [
    "### 3.4 把 64 位数据转换为 32 位数据，节省内存"
   ]
  },
  {
   "cell_type": "code",
   "execution_count": 21,
   "metadata": {},
   "outputs": [
    {
     "data": {
      "text/plain": [
       "(1,)"
      ]
     },
     "execution_count": 21,
     "metadata": {},
     "output_type": "execute_result"
    }
   ],
   "source": [
    "col_int64 = train_pred.select_dtypes(include = [\"int64\"]).columns\n",
    "col_int64.shape"
   ]
  },
  {
   "cell_type": "code",
   "execution_count": 22,
   "metadata": {},
   "outputs": [
    {
     "data": {
      "text/plain": [
       "(8,)"
      ]
     },
     "execution_count": 22,
     "metadata": {},
     "output_type": "execute_result"
    }
   ],
   "source": [
    "col_float64 = train_pred.select_dtypes(include = [\"float64\"]).columns\n",
    "col_float64.shape"
   ]
  },
  {
   "cell_type": "code",
   "execution_count": 23,
   "metadata": {},
   "outputs": [
    {
     "name": "stdout",
     "output_type": "stream",
     "text": [
      "<class 'pandas.core.frame.DataFrame'>\n",
      "RangeIndex: 2288007 entries, 0 to 2288006\n",
      "Data columns (total 10 columns):\n",
      "user_id                 int32\n",
      "pred_0                  float32\n",
      "pred_1                  float32\n",
      "pred_2                  float32\n",
      "pred_3                  float32\n",
      "pred_4                  float32\n",
      "pred_5                  float32\n",
      "pred_6                  float32\n",
      "pred_7                  float32\n",
      "prediction_pay_price    float32\n",
      "dtypes: float32(9), int32(1)\n",
      "memory usage: 87.3 MB\n"
     ]
    }
   ],
   "source": [
    "train_pred[col_int64] = train_pred[col_int64].astype(np.int32)\n",
    "train_pred[col_float64] = train_pred[col_float64].astype(np.float32)\n",
    "train_pred.info()"
   ]
  },
  {
   "cell_type": "code",
   "execution_count": 24,
   "metadata": {},
   "outputs": [
    {
     "data": {
      "text/html": [
       "<div>\n",
       "<style>\n",
       "    .dataframe thead tr:only-child th {\n",
       "        text-align: right;\n",
       "    }\n",
       "\n",
       "    .dataframe thead th {\n",
       "        text-align: left;\n",
       "    }\n",
       "\n",
       "    .dataframe tbody tr th {\n",
       "        vertical-align: top;\n",
       "    }\n",
       "</style>\n",
       "<table border=\"1\" class=\"dataframe\">\n",
       "  <thead>\n",
       "    <tr style=\"text-align: right;\">\n",
       "      <th></th>\n",
       "      <th>user_id</th>\n",
       "      <th>pred_0</th>\n",
       "      <th>pred_1</th>\n",
       "      <th>pred_2</th>\n",
       "      <th>pred_3</th>\n",
       "      <th>pred_4</th>\n",
       "      <th>pred_5</th>\n",
       "      <th>pred_6</th>\n",
       "      <th>pred_7</th>\n",
       "      <th>prediction_pay_price</th>\n",
       "    </tr>\n",
       "  </thead>\n",
       "  <tbody>\n",
       "    <tr>\n",
       "      <th>0</th>\n",
       "      <td>1</td>\n",
       "      <td>0.000000</td>\n",
       "      <td>0.000056</td>\n",
       "      <td>0.0</td>\n",
       "      <td>0.484938</td>\n",
       "      <td>0.004374</td>\n",
       "      <td>0.0</td>\n",
       "      <td>0.622804</td>\n",
       "      <td>0.000059</td>\n",
       "      <td>0.0</td>\n",
       "    </tr>\n",
       "    <tr>\n",
       "      <th>1</th>\n",
       "      <td>1593</td>\n",
       "      <td>0.000000</td>\n",
       "      <td>0.052974</td>\n",
       "      <td>0.0</td>\n",
       "      <td>0.484938</td>\n",
       "      <td>0.042844</td>\n",
       "      <td>0.0</td>\n",
       "      <td>0.452778</td>\n",
       "      <td>0.036465</td>\n",
       "      <td>0.0</td>\n",
       "    </tr>\n",
       "    <tr>\n",
       "      <th>2</th>\n",
       "      <td>1594</td>\n",
       "      <td>0.194275</td>\n",
       "      <td>0.000119</td>\n",
       "      <td>0.0</td>\n",
       "      <td>0.349532</td>\n",
       "      <td>0.004415</td>\n",
       "      <td>0.0</td>\n",
       "      <td>0.083804</td>\n",
       "      <td>0.000068</td>\n",
       "      <td>0.0</td>\n",
       "    </tr>\n",
       "    <tr>\n",
       "      <th>3</th>\n",
       "      <td>1595</td>\n",
       "      <td>0.045743</td>\n",
       "      <td>0.000311</td>\n",
       "      <td>0.0</td>\n",
       "      <td>0.413887</td>\n",
       "      <td>0.000075</td>\n",
       "      <td>0.0</td>\n",
       "      <td>0.277812</td>\n",
       "      <td>0.000298</td>\n",
       "      <td>0.0</td>\n",
       "    </tr>\n",
       "    <tr>\n",
       "      <th>4</th>\n",
       "      <td>1596</td>\n",
       "      <td>0.045501</td>\n",
       "      <td>0.000064</td>\n",
       "      <td>0.0</td>\n",
       "      <td>0.442441</td>\n",
       "      <td>0.001589</td>\n",
       "      <td>0.0</td>\n",
       "      <td>0.276851</td>\n",
       "      <td>0.000137</td>\n",
       "      <td>0.0</td>\n",
       "    </tr>\n",
       "  </tbody>\n",
       "</table>\n",
       "</div>"
      ],
      "text/plain": [
       "   user_id    pred_0    pred_1  pred_2    pred_3    pred_4  pred_5    pred_6  \\\n",
       "0        1  0.000000  0.000056     0.0  0.484938  0.004374     0.0  0.622804   \n",
       "1     1593  0.000000  0.052974     0.0  0.484938  0.042844     0.0  0.452778   \n",
       "2     1594  0.194275  0.000119     0.0  0.349532  0.004415     0.0  0.083804   \n",
       "3     1595  0.045743  0.000311     0.0  0.413887  0.000075     0.0  0.277812   \n",
       "4     1596  0.045501  0.000064     0.0  0.442441  0.001589     0.0  0.276851   \n",
       "\n",
       "     pred_7  prediction_pay_price  \n",
       "0  0.000059                   0.0  \n",
       "1  0.036465                   0.0  \n",
       "2  0.000068                   0.0  \n",
       "3  0.000298                   0.0  \n",
       "4  0.000137                   0.0  "
      ]
     },
     "execution_count": 24,
     "metadata": {},
     "output_type": "execute_result"
    }
   ],
   "source": [
    "# 保存文件\n",
    "train_pred.to_csv(train_name %(path_train, '1', 'col=9-target'), index=False)\n",
    "train_pred.head()"
   ]
  },
  {
   "cell_type": "markdown",
   "metadata": {},
   "source": [
    "## 4. 拆分为 5 份，随机抽样"
   ]
  },
  {
   "cell_type": "code",
   "execution_count": 25,
   "metadata": {},
   "outputs": [
    {
     "name": "stdout",
     "output_type": "stream",
     "text": [
      "train.shape=(2288007, 10) train_part2345.shape=(1830405, 10) train_part1.shape=(457602, 10)\n"
     ]
    }
   ],
   "source": [
    "# 先取出 0.2 剩余的 0.8 再平分为 0.4 再平分为 0.2 \n",
    "train_part2345, train_part1 = train_test_split(train_pred, random_state=33, test_size=0.2)\n",
    "print('train.shape=%s train_part2345.shape=%s train_part1.shape=%s'\n",
    "      %(train_pred.shape, train_part2345.shape, train_part1.shape))"
   ]
  },
  {
   "cell_type": "code",
   "execution_count": 26,
   "metadata": {},
   "outputs": [
    {
     "name": "stdout",
     "output_type": "stream",
     "text": [
      "<class 'pandas.core.frame.DataFrame'>\n",
      "Int64Index: 457602 entries, 295995 to 525208\n",
      "Data columns (total 10 columns):\n",
      "user_id                 457602 non-null int32\n",
      "pred_0                  457602 non-null float32\n",
      "pred_1                  457602 non-null float32\n",
      "pred_2                  457602 non-null float32\n",
      "pred_3                  457602 non-null float32\n",
      "pred_4                  457602 non-null float32\n",
      "pred_5                  457602 non-null float32\n",
      "pred_6                  457602 non-null float32\n",
      "pred_7                  457602 non-null float32\n",
      "prediction_pay_price    457602 non-null float32\n",
      "dtypes: float32(9), int32(1)\n",
      "memory usage: 20.9 MB\n"
     ]
    }
   ],
   "source": [
    "# train=fe-1.csv 特征工程后的，注册日期转换为天数\n",
    "train_part1.to_csv(train_name %(path_train, '1', 'col=9-target-1'), index=False)\n",
    "train_part1.info()"
   ]
  },
  {
   "cell_type": "code",
   "execution_count": 27,
   "metadata": {},
   "outputs": [
    {
     "name": "stdout",
     "output_type": "stream",
     "text": [
      "train_part2345.shape=(1830405, 10) train_part23.shape=(915202, 10) train_part45.shape=(915203, 10)\n",
      "train_part23.shape=(915202, 10) train_part2.shape=(457601, 10) train_part3.shape=(457601, 10)\n",
      "train_part45.shape=(915203, 10) train_part4.shape=(457601, 10) train_part5.shape=(457602, 10)\n"
     ]
    }
   ],
   "source": [
    "train_part23, train_part45 = train_test_split(train_part2345, random_state=33, test_size=0.5)\n",
    "print('train_part2345.shape=%s train_part23.shape=%s train_part45.shape=%s'\n",
    "      %(train_part2345.shape, train_part23.shape, train_part45.shape))\n",
    "\n",
    "train_part2, train_part3 = train_test_split(train_part23, random_state=33, test_size=0.5)\n",
    "print('train_part23.shape=%s train_part2.shape=%s train_part3.shape=%s'\n",
    "      %(train_part23.shape, train_part2.shape, train_part3.shape))\n",
    "train_part2.to_csv(train_name %(path_train, '1', 'col=9-target-2'), index=False)\n",
    "train_part3.to_csv(train_name %(path_train, '1', 'col=9-target-3'), index=False)\n",
    "\n",
    "train_part4, train_part5 = train_test_split(train_part45, random_state=33, test_size=0.5)\n",
    "print('train_part45.shape=%s train_part4.shape=%s train_part5.shape=%s'\n",
    "      %(train_part45.shape, train_part4.shape, train_part5.shape))\n",
    "train_part4.to_csv(train_name %(path_train, '1', 'col=9-target-4'), index=False)\n",
    "train_part5.to_csv(train_name %(path_train, '1', 'col=9-target-5'), index=False)"
   ]
  },
  {
   "cell_type": "code",
   "execution_count": null,
   "metadata": {
    "collapsed": true
   },
   "outputs": [],
   "source": []
  }
 ],
 "metadata": {
  "kernelspec": {
   "display_name": "Python 3",
   "language": "python",
   "name": "python3"
  },
  "language_info": {
   "codemirror_mode": {
    "name": "ipython",
    "version": 3
   },
   "file_extension": ".py",
   "mimetype": "text/x-python",
   "name": "python",
   "nbconvert_exporter": "python",
   "pygments_lexer": "ipython3",
   "version": "3.6.3"
  }
 },
 "nbformat": 4,
 "nbformat_minor": 2
}
