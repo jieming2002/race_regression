{
 "cells": [
  {
   "cell_type": "markdown",
   "metadata": {},
   "source": [
    "# 游戏玩家付费金额预测大赛 - 特征工程\n",
    "全部数据，分成5份。 将来再做数据平衡。"
   ]
  },
  {
   "cell_type": "code",
   "execution_count": 1,
   "metadata": {
    "collapsed": true
   },
   "outputs": [],
   "source": [
    "from sklearn.model_selection import train_test_split\n",
    "import pandas as pd\n",
    "import numpy as np\n",
    "\n",
    "import matplotlib.pyplot as plt\n",
    "import seaborn as sns\n",
    "%matplotlib inline"
   ]
  },
  {
   "cell_type": "code",
   "execution_count": 2,
   "metadata": {
    "collapsed": true
   },
   "outputs": [],
   "source": [
    "path_raw = '../data/raw/'\n",
    "path_train = '../data/new/train=all/'\n",
    "path_test = '../data/new/test/'\n",
    "time_col = 'register_time'"
   ]
  },
  {
   "cell_type": "code",
   "execution_count": 3,
   "metadata": {},
   "outputs": [
    {
     "data": {
      "text/html": [
       "<div>\n",
       "<style>\n",
       "    .dataframe thead tr:only-child th {\n",
       "        text-align: right;\n",
       "    }\n",
       "\n",
       "    .dataframe thead th {\n",
       "        text-align: left;\n",
       "    }\n",
       "\n",
       "    .dataframe tbody tr th {\n",
       "        vertical-align: top;\n",
       "    }\n",
       "</style>\n",
       "<table border=\"1\" class=\"dataframe\">\n",
       "  <thead>\n",
       "    <tr style=\"text-align: right;\">\n",
       "      <th></th>\n",
       "      <th>user_id</th>\n",
       "      <th>register_time</th>\n",
       "      <th>wood_add_value</th>\n",
       "      <th>wood_reduce_value</th>\n",
       "      <th>stone_add_value</th>\n",
       "      <th>stone_reduce_value</th>\n",
       "      <th>ivory_add_value</th>\n",
       "      <th>ivory_reduce_value</th>\n",
       "      <th>meat_add_value</th>\n",
       "      <th>meat_reduce_value</th>\n",
       "      <th>...</th>\n",
       "      <th>pvp_battle_count</th>\n",
       "      <th>pvp_lanch_count</th>\n",
       "      <th>pvp_win_count</th>\n",
       "      <th>pve_battle_count</th>\n",
       "      <th>pve_lanch_count</th>\n",
       "      <th>pve_win_count</th>\n",
       "      <th>avg_online_minutes</th>\n",
       "      <th>pay_price</th>\n",
       "      <th>pay_count</th>\n",
       "      <th>prediction_pay_price</th>\n",
       "    </tr>\n",
       "  </thead>\n",
       "  <tbody>\n",
       "    <tr>\n",
       "      <th>0</th>\n",
       "      <td>1</td>\n",
       "      <td>2018-02-02 19:47:15</td>\n",
       "      <td>20125.0</td>\n",
       "      <td>3700.0</td>\n",
       "      <td>0.0</td>\n",
       "      <td>0.0</td>\n",
       "      <td>0.0</td>\n",
       "      <td>0.0</td>\n",
       "      <td>16375.0</td>\n",
       "      <td>2000.0</td>\n",
       "      <td>...</td>\n",
       "      <td>0</td>\n",
       "      <td>0</td>\n",
       "      <td>0</td>\n",
       "      <td>0</td>\n",
       "      <td>0</td>\n",
       "      <td>0</td>\n",
       "      <td>0.333333</td>\n",
       "      <td>0.0</td>\n",
       "      <td>0</td>\n",
       "      <td>0.0</td>\n",
       "    </tr>\n",
       "    <tr>\n",
       "      <th>1</th>\n",
       "      <td>1593</td>\n",
       "      <td>2018-01-26 00:01:05</td>\n",
       "      <td>0.0</td>\n",
       "      <td>0.0</td>\n",
       "      <td>0.0</td>\n",
       "      <td>0.0</td>\n",
       "      <td>0.0</td>\n",
       "      <td>0.0</td>\n",
       "      <td>0.0</td>\n",
       "      <td>0.0</td>\n",
       "      <td>...</td>\n",
       "      <td>0</td>\n",
       "      <td>0</td>\n",
       "      <td>0</td>\n",
       "      <td>0</td>\n",
       "      <td>0</td>\n",
       "      <td>0</td>\n",
       "      <td>0.333333</td>\n",
       "      <td>0.0</td>\n",
       "      <td>0</td>\n",
       "      <td>0.0</td>\n",
       "    </tr>\n",
       "    <tr>\n",
       "      <th>2</th>\n",
       "      <td>1594</td>\n",
       "      <td>2018-01-26 00:01:58</td>\n",
       "      <td>0.0</td>\n",
       "      <td>0.0</td>\n",
       "      <td>0.0</td>\n",
       "      <td>0.0</td>\n",
       "      <td>0.0</td>\n",
       "      <td>0.0</td>\n",
       "      <td>0.0</td>\n",
       "      <td>0.0</td>\n",
       "      <td>...</td>\n",
       "      <td>0</td>\n",
       "      <td>0</td>\n",
       "      <td>0</td>\n",
       "      <td>0</td>\n",
       "      <td>0</td>\n",
       "      <td>0</td>\n",
       "      <td>1.166667</td>\n",
       "      <td>0.0</td>\n",
       "      <td>0</td>\n",
       "      <td>0.0</td>\n",
       "    </tr>\n",
       "    <tr>\n",
       "      <th>3</th>\n",
       "      <td>1595</td>\n",
       "      <td>2018-01-26 00:02:13</td>\n",
       "      <td>0.0</td>\n",
       "      <td>0.0</td>\n",
       "      <td>0.0</td>\n",
       "      <td>0.0</td>\n",
       "      <td>0.0</td>\n",
       "      <td>0.0</td>\n",
       "      <td>0.0</td>\n",
       "      <td>0.0</td>\n",
       "      <td>...</td>\n",
       "      <td>0</td>\n",
       "      <td>0</td>\n",
       "      <td>0</td>\n",
       "      <td>0</td>\n",
       "      <td>0</td>\n",
       "      <td>0</td>\n",
       "      <td>3.166667</td>\n",
       "      <td>0.0</td>\n",
       "      <td>0</td>\n",
       "      <td>0.0</td>\n",
       "    </tr>\n",
       "    <tr>\n",
       "      <th>4</th>\n",
       "      <td>1596</td>\n",
       "      <td>2018-01-26 00:02:46</td>\n",
       "      <td>0.0</td>\n",
       "      <td>0.0</td>\n",
       "      <td>0.0</td>\n",
       "      <td>0.0</td>\n",
       "      <td>0.0</td>\n",
       "      <td>0.0</td>\n",
       "      <td>0.0</td>\n",
       "      <td>0.0</td>\n",
       "      <td>...</td>\n",
       "      <td>0</td>\n",
       "      <td>0</td>\n",
       "      <td>0</td>\n",
       "      <td>0</td>\n",
       "      <td>0</td>\n",
       "      <td>0</td>\n",
       "      <td>2.333333</td>\n",
       "      <td>0.0</td>\n",
       "      <td>0</td>\n",
       "      <td>0.0</td>\n",
       "    </tr>\n",
       "  </tbody>\n",
       "</table>\n",
       "<p>5 rows × 109 columns</p>\n",
       "</div>"
      ],
      "text/plain": [
       "   user_id        register_time  wood_add_value  wood_reduce_value  \\\n",
       "0        1  2018-02-02 19:47:15         20125.0             3700.0   \n",
       "1     1593  2018-01-26 00:01:05             0.0                0.0   \n",
       "2     1594  2018-01-26 00:01:58             0.0                0.0   \n",
       "3     1595  2018-01-26 00:02:13             0.0                0.0   \n",
       "4     1596  2018-01-26 00:02:46             0.0                0.0   \n",
       "\n",
       "   stone_add_value  stone_reduce_value  ivory_add_value  ivory_reduce_value  \\\n",
       "0              0.0                 0.0              0.0                 0.0   \n",
       "1              0.0                 0.0              0.0                 0.0   \n",
       "2              0.0                 0.0              0.0                 0.0   \n",
       "3              0.0                 0.0              0.0                 0.0   \n",
       "4              0.0                 0.0              0.0                 0.0   \n",
       "\n",
       "   meat_add_value  meat_reduce_value          ...           pvp_battle_count  \\\n",
       "0         16375.0             2000.0          ...                          0   \n",
       "1             0.0                0.0          ...                          0   \n",
       "2             0.0                0.0          ...                          0   \n",
       "3             0.0                0.0          ...                          0   \n",
       "4             0.0                0.0          ...                          0   \n",
       "\n",
       "   pvp_lanch_count  pvp_win_count  pve_battle_count  pve_lanch_count  \\\n",
       "0                0              0                 0                0   \n",
       "1                0              0                 0                0   \n",
       "2                0              0                 0                0   \n",
       "3                0              0                 0                0   \n",
       "4                0              0                 0                0   \n",
       "\n",
       "   pve_win_count  avg_online_minutes  pay_price  pay_count  \\\n",
       "0              0            0.333333        0.0          0   \n",
       "1              0            0.333333        0.0          0   \n",
       "2              0            1.166667        0.0          0   \n",
       "3              0            3.166667        0.0          0   \n",
       "4              0            2.333333        0.0          0   \n",
       "\n",
       "   prediction_pay_price  \n",
       "0                   0.0  \n",
       "1                   0.0  \n",
       "2                   0.0  \n",
       "3                   0.0  \n",
       "4                   0.0  \n",
       "\n",
       "[5 rows x 109 columns]"
      ]
     },
     "execution_count": 3,
     "metadata": {},
     "output_type": "execute_result"
    }
   ],
   "source": [
    "train = pd.read_csv(path_raw + 'tap_fun_train.csv')\n",
    "train.head()"
   ]
  },
  {
   "cell_type": "markdown",
   "metadata": {
    "collapsed": true
   },
   "source": [
    "## register_time 转换为注册天数。"
   ]
  },
  {
   "cell_type": "code",
   "execution_count": 4,
   "metadata": {
    "collapsed": true
   },
   "outputs": [],
   "source": [
    "def time_to_days(df, time_col):\n",
    "    \"\"\" 玩家注册时间转换为天数 = 从注册 到抓取数据时的天数。 \"\"\"\n",
    "    # 报名开始：6月19日11:00   猜测抓取数据的日期 \n",
    "    ty = pd.to_datetime('2018-06-11 16:51:15')\n",
    "    # 采用匿名函数 lambda\n",
    "    df[time_col] = df[time_col].apply(lambda x: (ty - pd.to_datetime(x)).days)\n",
    "    df[time_col] = df[time_col].astype(np.int64)"
   ]
  },
  {
   "cell_type": "code",
   "execution_count": 6,
   "metadata": {},
   "outputs": [
    {
     "data": {
      "text/html": [
       "<div>\n",
       "<style>\n",
       "    .dataframe thead tr:only-child th {\n",
       "        text-align: right;\n",
       "    }\n",
       "\n",
       "    .dataframe thead th {\n",
       "        text-align: left;\n",
       "    }\n",
       "\n",
       "    .dataframe tbody tr th {\n",
       "        vertical-align: top;\n",
       "    }\n",
       "</style>\n",
       "<table border=\"1\" class=\"dataframe\">\n",
       "  <thead>\n",
       "    <tr style=\"text-align: right;\">\n",
       "      <th></th>\n",
       "      <th>user_id</th>\n",
       "      <th>register_time</th>\n",
       "      <th>wood_add_value</th>\n",
       "      <th>wood_reduce_value</th>\n",
       "      <th>stone_add_value</th>\n",
       "      <th>stone_reduce_value</th>\n",
       "      <th>ivory_add_value</th>\n",
       "      <th>ivory_reduce_value</th>\n",
       "      <th>meat_add_value</th>\n",
       "      <th>meat_reduce_value</th>\n",
       "      <th>...</th>\n",
       "      <th>pvp_battle_count</th>\n",
       "      <th>pvp_lanch_count</th>\n",
       "      <th>pvp_win_count</th>\n",
       "      <th>pve_battle_count</th>\n",
       "      <th>pve_lanch_count</th>\n",
       "      <th>pve_win_count</th>\n",
       "      <th>avg_online_minutes</th>\n",
       "      <th>pay_price</th>\n",
       "      <th>pay_count</th>\n",
       "      <th>prediction_pay_price</th>\n",
       "    </tr>\n",
       "  </thead>\n",
       "  <tbody>\n",
       "    <tr>\n",
       "      <th>0</th>\n",
       "      <td>1</td>\n",
       "      <td>128</td>\n",
       "      <td>20125.0</td>\n",
       "      <td>3700.0</td>\n",
       "      <td>0.0</td>\n",
       "      <td>0.0</td>\n",
       "      <td>0.0</td>\n",
       "      <td>0.0</td>\n",
       "      <td>16375.0</td>\n",
       "      <td>2000.0</td>\n",
       "      <td>...</td>\n",
       "      <td>0</td>\n",
       "      <td>0</td>\n",
       "      <td>0</td>\n",
       "      <td>0</td>\n",
       "      <td>0</td>\n",
       "      <td>0</td>\n",
       "      <td>0.333333</td>\n",
       "      <td>0.0</td>\n",
       "      <td>0</td>\n",
       "      <td>0.0</td>\n",
       "    </tr>\n",
       "    <tr>\n",
       "      <th>1</th>\n",
       "      <td>1593</td>\n",
       "      <td>136</td>\n",
       "      <td>0.0</td>\n",
       "      <td>0.0</td>\n",
       "      <td>0.0</td>\n",
       "      <td>0.0</td>\n",
       "      <td>0.0</td>\n",
       "      <td>0.0</td>\n",
       "      <td>0.0</td>\n",
       "      <td>0.0</td>\n",
       "      <td>...</td>\n",
       "      <td>0</td>\n",
       "      <td>0</td>\n",
       "      <td>0</td>\n",
       "      <td>0</td>\n",
       "      <td>0</td>\n",
       "      <td>0</td>\n",
       "      <td>0.333333</td>\n",
       "      <td>0.0</td>\n",
       "      <td>0</td>\n",
       "      <td>0.0</td>\n",
       "    </tr>\n",
       "    <tr>\n",
       "      <th>2</th>\n",
       "      <td>1594</td>\n",
       "      <td>136</td>\n",
       "      <td>0.0</td>\n",
       "      <td>0.0</td>\n",
       "      <td>0.0</td>\n",
       "      <td>0.0</td>\n",
       "      <td>0.0</td>\n",
       "      <td>0.0</td>\n",
       "      <td>0.0</td>\n",
       "      <td>0.0</td>\n",
       "      <td>...</td>\n",
       "      <td>0</td>\n",
       "      <td>0</td>\n",
       "      <td>0</td>\n",
       "      <td>0</td>\n",
       "      <td>0</td>\n",
       "      <td>0</td>\n",
       "      <td>1.166667</td>\n",
       "      <td>0.0</td>\n",
       "      <td>0</td>\n",
       "      <td>0.0</td>\n",
       "    </tr>\n",
       "    <tr>\n",
       "      <th>3</th>\n",
       "      <td>1595</td>\n",
       "      <td>136</td>\n",
       "      <td>0.0</td>\n",
       "      <td>0.0</td>\n",
       "      <td>0.0</td>\n",
       "      <td>0.0</td>\n",
       "      <td>0.0</td>\n",
       "      <td>0.0</td>\n",
       "      <td>0.0</td>\n",
       "      <td>0.0</td>\n",
       "      <td>...</td>\n",
       "      <td>0</td>\n",
       "      <td>0</td>\n",
       "      <td>0</td>\n",
       "      <td>0</td>\n",
       "      <td>0</td>\n",
       "      <td>0</td>\n",
       "      <td>3.166667</td>\n",
       "      <td>0.0</td>\n",
       "      <td>0</td>\n",
       "      <td>0.0</td>\n",
       "    </tr>\n",
       "    <tr>\n",
       "      <th>4</th>\n",
       "      <td>1596</td>\n",
       "      <td>136</td>\n",
       "      <td>0.0</td>\n",
       "      <td>0.0</td>\n",
       "      <td>0.0</td>\n",
       "      <td>0.0</td>\n",
       "      <td>0.0</td>\n",
       "      <td>0.0</td>\n",
       "      <td>0.0</td>\n",
       "      <td>0.0</td>\n",
       "      <td>...</td>\n",
       "      <td>0</td>\n",
       "      <td>0</td>\n",
       "      <td>0</td>\n",
       "      <td>0</td>\n",
       "      <td>0</td>\n",
       "      <td>0</td>\n",
       "      <td>2.333333</td>\n",
       "      <td>0.0</td>\n",
       "      <td>0</td>\n",
       "      <td>0.0</td>\n",
       "    </tr>\n",
       "  </tbody>\n",
       "</table>\n",
       "<p>5 rows × 109 columns</p>\n",
       "</div>"
      ],
      "text/plain": [
       "   user_id  register_time  wood_add_value  wood_reduce_value  stone_add_value  \\\n",
       "0        1            128         20125.0             3700.0              0.0   \n",
       "1     1593            136             0.0                0.0              0.0   \n",
       "2     1594            136             0.0                0.0              0.0   \n",
       "3     1595            136             0.0                0.0              0.0   \n",
       "4     1596            136             0.0                0.0              0.0   \n",
       "\n",
       "   stone_reduce_value  ivory_add_value  ivory_reduce_value  meat_add_value  \\\n",
       "0                 0.0              0.0                 0.0         16375.0   \n",
       "1                 0.0              0.0                 0.0             0.0   \n",
       "2                 0.0              0.0                 0.0             0.0   \n",
       "3                 0.0              0.0                 0.0             0.0   \n",
       "4                 0.0              0.0                 0.0             0.0   \n",
       "\n",
       "   meat_reduce_value          ...           pvp_battle_count  pvp_lanch_count  \\\n",
       "0             2000.0          ...                          0                0   \n",
       "1                0.0          ...                          0                0   \n",
       "2                0.0          ...                          0                0   \n",
       "3                0.0          ...                          0                0   \n",
       "4                0.0          ...                          0                0   \n",
       "\n",
       "   pvp_win_count  pve_battle_count  pve_lanch_count  pve_win_count  \\\n",
       "0              0                 0                0              0   \n",
       "1              0                 0                0              0   \n",
       "2              0                 0                0              0   \n",
       "3              0                 0                0              0   \n",
       "4              0                 0                0              0   \n",
       "\n",
       "   avg_online_minutes  pay_price  pay_count  prediction_pay_price  \n",
       "0            0.333333        0.0          0                   0.0  \n",
       "1            0.333333        0.0          0                   0.0  \n",
       "2            1.166667        0.0          0                   0.0  \n",
       "3            3.166667        0.0          0                   0.0  \n",
       "4            2.333333        0.0          0                   0.0  \n",
       "\n",
       "[5 rows x 109 columns]"
      ]
     },
     "execution_count": 6,
     "metadata": {},
     "output_type": "execute_result"
    }
   ],
   "source": [
    "time_to_days(train, time_col)\n",
    "train.head()"
   ]
  },
  {
   "cell_type": "markdown",
   "metadata": {},
   "source": [
    "## 64位数据，转换为 32位，节省空间"
   ]
  },
  {
   "cell_type": "code",
   "execution_count": 12,
   "metadata": {},
   "outputs": [
    {
     "name": "stdout",
     "output_type": "stream",
     "text": [
      "<class 'pandas.core.frame.DataFrame'>\n",
      "RangeIndex: 2288007 entries, 0 to 2288006\n",
      "Columns: 109 entries, user_id to prediction_pay_price\n",
      "dtypes: float64(13), int64(96)\n",
      "memory usage: 1.9 GB\n"
     ]
    }
   ],
   "source": [
    "train.info()"
   ]
  },
  {
   "cell_type": "code",
   "execution_count": 14,
   "metadata": {},
   "outputs": [
    {
     "data": {
      "text/plain": [
       "(96,)"
      ]
     },
     "execution_count": 14,
     "metadata": {},
     "output_type": "execute_result"
    }
   ],
   "source": [
    "col_int64 = train.select_dtypes(include = [\"int64\"]).columns\n",
    "col_int64.shape"
   ]
  },
  {
   "cell_type": "code",
   "execution_count": 15,
   "metadata": {},
   "outputs": [
    {
     "data": {
      "text/plain": [
       "(13,)"
      ]
     },
     "execution_count": 15,
     "metadata": {},
     "output_type": "execute_result"
    }
   ],
   "source": [
    "col_float64 = train.select_dtypes(include = [\"float64\"]).columns\n",
    "col_float64.shape"
   ]
  },
  {
   "cell_type": "code",
   "execution_count": 16,
   "metadata": {},
   "outputs": [
    {
     "name": "stdout",
     "output_type": "stream",
     "text": [
      "<class 'pandas.core.frame.DataFrame'>\n",
      "RangeIndex: 2288007 entries, 0 to 2288006\n",
      "Columns: 109 entries, user_id to prediction_pay_price\n",
      "dtypes: float32(13), int32(96)\n",
      "memory usage: 951.4 MB\n"
     ]
    }
   ],
   "source": [
    "train[col_int64] = train[col_int64].astype(np.int32)\n",
    "train[col_float64] = train[col_float64].astype(np.float32)\n",
    "train.info()"
   ]
  },
  {
   "cell_type": "markdown",
   "metadata": {},
   "source": [
    "## 拆分为 5 份，随机抽样"
   ]
  },
  {
   "cell_type": "code",
   "execution_count": 17,
   "metadata": {},
   "outputs": [
    {
     "name": "stdout",
     "output_type": "stream",
     "text": [
      "train.shape=(2288007, 109) train_part2345.shape=(1830405, 109) train_part1.shape=(457602, 109)\n"
     ]
    }
   ],
   "source": [
    "# 先取出 0.2 剩余的 0.8 再平分为 0.4 再平分为 0.2 \n",
    "train_part2345, train_part1 = train_test_split(train, random_state=33, test_size=0.2)\n",
    "print('train.shape=%s train_part2345.shape=%s train_part1.shape=%s'\n",
    "      %(train.shape, train_part2345.shape, train_part1.shape))"
   ]
  },
  {
   "cell_type": "code",
   "execution_count": 19,
   "metadata": {},
   "outputs": [
    {
     "data": {
      "text/plain": [
       "(457602, 109)"
      ]
     },
     "execution_count": 19,
     "metadata": {},
     "output_type": "execute_result"
    }
   ],
   "source": [
    "# train=fe-1.csv 特征工程后的，注册日期转换为天数\n",
    "train_part1.to_csv(path_train + 'train=fe-1.csv', index=False)\n",
    "train_part1.shape"
   ]
  },
  {
   "cell_type": "code",
   "execution_count": 21,
   "metadata": {},
   "outputs": [
    {
     "name": "stdout",
     "output_type": "stream",
     "text": [
      "train_part2345.shape=(1830405, 109) train_part23.shape=(915202, 109) train_part45.shape=(915203, 109)\n",
      "train_part23.shape=(915202, 109) train_part2.shape=(457601, 109) train_part3.shape=(457601, 109)\n",
      "train_part45.shape=(915203, 109) train_part4.shape=(457601, 109) train_part5.shape=(457602, 109)\n"
     ]
    }
   ],
   "source": [
    "train_part23, train_part45 = train_test_split(train_part2345, random_state=33, test_size=0.5)\n",
    "print('train_part2345.shape=%s train_part23.shape=%s train_part45.shape=%s'\n",
    "      %(train_part2345.shape, train_part23.shape, train_part45.shape))\n",
    "\n",
    "train_part2, train_part3 = train_test_split(train_part23, random_state=33, test_size=0.5)\n",
    "print('train_part23.shape=%s train_part2.shape=%s train_part3.shape=%s'\n",
    "      %(train_part23.shape, train_part2.shape, train_part3.shape))\n",
    "train_part2.to_csv(path_train + 'train=fe-2.csv', index=False)\n",
    "train_part3.to_csv(path_train + 'train=fe-3.csv', index=False)\n",
    "\n",
    "train_part4, train_part5 = train_test_split(train_part45, random_state=33, test_size=0.5)\n",
    "print('train_part45.shape=%s train_part4.shape=%s train_part5.shape=%s'\n",
    "      %(train_part45.shape, train_part4.shape, train_part5.shape))\n",
    "train_part4.to_csv(path_train + 'train=fe-4.csv', index=False)\n",
    "train_part4.to_csv(path_train + 'train=fe-5.csv', index=False)"
   ]
  },
  {
   "cell_type": "markdown",
   "metadata": {},
   "source": [
    "## 进一步排查数据类型，float 转换为 int"
   ]
  },
  {
   "cell_type": "code",
   "execution_count": 4,
   "metadata": {},
   "outputs": [
    {
     "data": {
      "text/html": [
       "<div>\n",
       "<style>\n",
       "    .dataframe thead tr:only-child th {\n",
       "        text-align: right;\n",
       "    }\n",
       "\n",
       "    .dataframe thead th {\n",
       "        text-align: left;\n",
       "    }\n",
       "\n",
       "    .dataframe tbody tr th {\n",
       "        vertical-align: top;\n",
       "    }\n",
       "</style>\n",
       "<table border=\"1\" class=\"dataframe\">\n",
       "  <thead>\n",
       "    <tr style=\"text-align: right;\">\n",
       "      <th></th>\n",
       "      <th>user_id</th>\n",
       "      <th>register_time</th>\n",
       "      <th>wood_add_value</th>\n",
       "      <th>wood_reduce_value</th>\n",
       "      <th>stone_add_value</th>\n",
       "      <th>stone_reduce_value</th>\n",
       "      <th>ivory_add_value</th>\n",
       "      <th>ivory_reduce_value</th>\n",
       "      <th>meat_add_value</th>\n",
       "      <th>meat_reduce_value</th>\n",
       "      <th>...</th>\n",
       "      <th>pvp_battle_count</th>\n",
       "      <th>pvp_lanch_count</th>\n",
       "      <th>pvp_win_count</th>\n",
       "      <th>pve_battle_count</th>\n",
       "      <th>pve_lanch_count</th>\n",
       "      <th>pve_win_count</th>\n",
       "      <th>avg_online_minutes</th>\n",
       "      <th>pay_price</th>\n",
       "      <th>pay_count</th>\n",
       "      <th>prediction_pay_price</th>\n",
       "    </tr>\n",
       "  </thead>\n",
       "  <tbody>\n",
       "    <tr>\n",
       "      <th>0</th>\n",
       "      <td>332994</td>\n",
       "      <td>112</td>\n",
       "      <td>43413.0</td>\n",
       "      <td>18424.0</td>\n",
       "      <td>0.0</td>\n",
       "      <td>0.0</td>\n",
       "      <td>0.0</td>\n",
       "      <td>0.0</td>\n",
       "      <td>62775.0</td>\n",
       "      <td>9444.0</td>\n",
       "      <td>...</td>\n",
       "      <td>0</td>\n",
       "      <td>0</td>\n",
       "      <td>0</td>\n",
       "      <td>0</td>\n",
       "      <td>0</td>\n",
       "      <td>0</td>\n",
       "      <td>0.500000</td>\n",
       "      <td>0.0</td>\n",
       "      <td>0</td>\n",
       "      <td>0.0</td>\n",
       "    </tr>\n",
       "    <tr>\n",
       "      <th>1</th>\n",
       "      <td>2186887</td>\n",
       "      <td>136</td>\n",
       "      <td>0.0</td>\n",
       "      <td>0.0</td>\n",
       "      <td>0.0</td>\n",
       "      <td>0.0</td>\n",
       "      <td>0.0</td>\n",
       "      <td>0.0</td>\n",
       "      <td>0.0</td>\n",
       "      <td>0.0</td>\n",
       "      <td>...</td>\n",
       "      <td>0</td>\n",
       "      <td>0</td>\n",
       "      <td>0</td>\n",
       "      <td>0</td>\n",
       "      <td>0</td>\n",
       "      <td>0</td>\n",
       "      <td>0.333333</td>\n",
       "      <td>0.0</td>\n",
       "      <td>0</td>\n",
       "      <td>0.0</td>\n",
       "    </tr>\n",
       "    <tr>\n",
       "      <th>2</th>\n",
       "      <td>383991</td>\n",
       "      <td>134</td>\n",
       "      <td>0.0</td>\n",
       "      <td>0.0</td>\n",
       "      <td>0.0</td>\n",
       "      <td>0.0</td>\n",
       "      <td>0.0</td>\n",
       "      <td>0.0</td>\n",
       "      <td>0.0</td>\n",
       "      <td>0.0</td>\n",
       "      <td>...</td>\n",
       "      <td>0</td>\n",
       "      <td>0</td>\n",
       "      <td>0</td>\n",
       "      <td>0</td>\n",
       "      <td>0</td>\n",
       "      <td>0</td>\n",
       "      <td>0.666667</td>\n",
       "      <td>0.0</td>\n",
       "      <td>0</td>\n",
       "      <td>0.0</td>\n",
       "    </tr>\n",
       "    <tr>\n",
       "      <th>3</th>\n",
       "      <td>102315</td>\n",
       "      <td>134</td>\n",
       "      <td>0.0</td>\n",
       "      <td>0.0</td>\n",
       "      <td>0.0</td>\n",
       "      <td>0.0</td>\n",
       "      <td>0.0</td>\n",
       "      <td>0.0</td>\n",
       "      <td>0.0</td>\n",
       "      <td>0.0</td>\n",
       "      <td>...</td>\n",
       "      <td>0</td>\n",
       "      <td>0</td>\n",
       "      <td>0</td>\n",
       "      <td>0</td>\n",
       "      <td>0</td>\n",
       "      <td>0</td>\n",
       "      <td>0.500000</td>\n",
       "      <td>0.0</td>\n",
       "      <td>0</td>\n",
       "      <td>0.0</td>\n",
       "    </tr>\n",
       "    <tr>\n",
       "      <th>4</th>\n",
       "      <td>225310</td>\n",
       "      <td>106</td>\n",
       "      <td>28975.0</td>\n",
       "      <td>5780.0</td>\n",
       "      <td>0.0</td>\n",
       "      <td>0.0</td>\n",
       "      <td>0.0</td>\n",
       "      <td>0.0</td>\n",
       "      <td>33525.0</td>\n",
       "      <td>3220.0</td>\n",
       "      <td>...</td>\n",
       "      <td>0</td>\n",
       "      <td>0</td>\n",
       "      <td>0</td>\n",
       "      <td>0</td>\n",
       "      <td>0</td>\n",
       "      <td>0</td>\n",
       "      <td>0.666667</td>\n",
       "      <td>0.0</td>\n",
       "      <td>0</td>\n",
       "      <td>0.0</td>\n",
       "    </tr>\n",
       "  </tbody>\n",
       "</table>\n",
       "<p>5 rows × 109 columns</p>\n",
       "</div>"
      ],
      "text/plain": [
       "   user_id  register_time  wood_add_value  wood_reduce_value  stone_add_value  \\\n",
       "0   332994            112         43413.0            18424.0              0.0   \n",
       "1  2186887            136             0.0                0.0              0.0   \n",
       "2   383991            134             0.0                0.0              0.0   \n",
       "3   102315            134             0.0                0.0              0.0   \n",
       "4   225310            106         28975.0             5780.0              0.0   \n",
       "\n",
       "   stone_reduce_value  ivory_add_value  ivory_reduce_value  meat_add_value  \\\n",
       "0                 0.0              0.0                 0.0         62775.0   \n",
       "1                 0.0              0.0                 0.0             0.0   \n",
       "2                 0.0              0.0                 0.0             0.0   \n",
       "3                 0.0              0.0                 0.0             0.0   \n",
       "4                 0.0              0.0                 0.0         33525.0   \n",
       "\n",
       "   meat_reduce_value          ...           pvp_battle_count  pvp_lanch_count  \\\n",
       "0             9444.0          ...                          0                0   \n",
       "1                0.0          ...                          0                0   \n",
       "2                0.0          ...                          0                0   \n",
       "3                0.0          ...                          0                0   \n",
       "4             3220.0          ...                          0                0   \n",
       "\n",
       "   pvp_win_count  pve_battle_count  pve_lanch_count  pve_win_count  \\\n",
       "0              0                 0                0              0   \n",
       "1              0                 0                0              0   \n",
       "2              0                 0                0              0   \n",
       "3              0                 0                0              0   \n",
       "4              0                 0                0              0   \n",
       "\n",
       "   avg_online_minutes  pay_price  pay_count  prediction_pay_price  \n",
       "0            0.500000        0.0          0                   0.0  \n",
       "1            0.333333        0.0          0                   0.0  \n",
       "2            0.666667        0.0          0                   0.0  \n",
       "3            0.500000        0.0          0                   0.0  \n",
       "4            0.666667        0.0          0                   0.0  \n",
       "\n",
       "[5 rows x 109 columns]"
      ]
     },
     "execution_count": 4,
     "metadata": {},
     "output_type": "execute_result"
    }
   ],
   "source": [
    "train = pd.read_csv(path_train + 'train=fe-1.csv')\n",
    "train.head()"
   ]
  },
  {
   "cell_type": "code",
   "execution_count": 5,
   "metadata": {},
   "outputs": [
    {
     "name": "stdout",
     "output_type": "stream",
     "text": [
      "<class 'pandas.core.frame.DataFrame'>\n",
      "RangeIndex: 457602 entries, 0 to 457601\n",
      "Columns: 109 entries, user_id to prediction_pay_price\n",
      "dtypes: float64(13), int64(96)\n",
      "memory usage: 380.5 MB\n"
     ]
    }
   ],
   "source": [
    "train.info()"
   ]
  },
  {
   "cell_type": "code",
   "execution_count": 10,
   "metadata": {},
   "outputs": [
    {
     "data": {
      "text/plain": [
       "Index(['wood_add_value', 'wood_reduce_value', 'stone_add_value',\n",
       "       'stone_reduce_value', 'ivory_add_value', 'ivory_reduce_value',\n",
       "       'meat_add_value', 'meat_reduce_value', 'magic_add_value',\n",
       "       'magic_reduce_value', 'avg_online_minutes', 'pay_price',\n",
       "       'prediction_pay_price'],\n",
       "      dtype='object')"
      ]
     },
     "execution_count": 10,
     "metadata": {},
     "output_type": "execute_result"
    }
   ],
   "source": [
    "col_float64 = train.select_dtypes(include = [\"float64\"]).columns\n",
    "col_float64"
   ]
  },
  {
   "cell_type": "code",
   "execution_count": 13,
   "metadata": {},
   "outputs": [
    {
     "name": "stdout",
     "output_type": "stream",
     "text": [
      "<class 'pandas.core.frame.DataFrame'>\n",
      "RangeIndex: 457602 entries, 0 to 457601\n",
      "Columns: 109 entries, user_id to prediction_pay_price\n",
      "dtypes: float64(3), int32(10), int64(96)\n",
      "memory usage: 363.1 MB\n"
     ]
    }
   ],
   "source": [
    "should_int32 = ['wood_add_value', 'wood_reduce_value', 'stone_add_value',\n",
    "       'stone_reduce_value', 'ivory_add_value', 'ivory_reduce_value',\n",
    "       'meat_add_value', 'meat_reduce_value', 'magic_add_value',\n",
    "       'magic_reduce_value']\n",
    "train[should_int32] = train[should_int32].astype(np.int32)\n",
    "train.info()"
   ]
  },
  {
   "cell_type": "code",
   "execution_count": 14,
   "metadata": {},
   "outputs": [
    {
     "data": {
      "text/plain": [
       "(457602, 109)"
      ]
     },
     "execution_count": 14,
     "metadata": {},
     "output_type": "execute_result"
    }
   ],
   "source": [
    "# train=fe-1.csv 特征工程后的，注册日期转换为天数\n",
    "train.to_csv(path_train + 'train=fe-1.csv', index=False)\n",
    "train.shape"
   ]
  },
  {
   "cell_type": "code",
   "execution_count": 15,
   "metadata": {},
   "outputs": [
    {
     "name": "stdout",
     "output_type": "stream",
     "text": [
      "<class 'pandas.core.frame.DataFrame'>\n",
      "RangeIndex: 457601 entries, 0 to 457600\n",
      "Columns: 109 entries, user_id to prediction_pay_price\n",
      "dtypes: float64(3), int32(10), int64(96)\n",
      "memory usage: 363.1 MB\n"
     ]
    }
   ],
   "source": [
    "train = pd.read_csv(path_train + 'train=fe-2-1.csv')\n",
    "train[should_int32] = train[should_int32].astype(np.int32)\n",
    "train.to_csv(path_train + 'train=fe-2.csv', index=False)\n",
    "train.info()"
   ]
  },
  {
   "cell_type": "code",
   "execution_count": 17,
   "metadata": {},
   "outputs": [
    {
     "name": "stdout",
     "output_type": "stream",
     "text": [
      "<class 'pandas.core.frame.DataFrame'>\n",
      "RangeIndex: 457601 entries, 0 to 457600\n",
      "Columns: 109 entries, user_id to prediction_pay_price\n",
      "dtypes: float64(3), int32(10), int64(96)\n",
      "memory usage: 363.1 MB\n"
     ]
    }
   ],
   "source": [
    "train = pd.read_csv(path_train + 'train=fe-3-1.csv')\n",
    "train[should_int32] = train[should_int32].astype(np.int32)\n",
    "train.to_csv(path_train + 'train=fe-3.csv', index=False)\n",
    "train.info()"
   ]
  },
  {
   "cell_type": "code",
   "execution_count": 18,
   "metadata": {},
   "outputs": [
    {
     "name": "stdout",
     "output_type": "stream",
     "text": [
      "<class 'pandas.core.frame.DataFrame'>\n",
      "RangeIndex: 457601 entries, 0 to 457600\n",
      "Columns: 109 entries, user_id to prediction_pay_price\n",
      "dtypes: float64(3), int32(10), int64(96)\n",
      "memory usage: 363.1 MB\n"
     ]
    }
   ],
   "source": [
    "train = pd.read_csv(path_train + 'train=fe-4-1.csv')\n",
    "train[should_int32] = train[should_int32].astype(np.int32)\n",
    "train.to_csv(path_train + 'train=fe-4.csv', index=False)\n",
    "train.info()"
   ]
  },
  {
   "cell_type": "code",
   "execution_count": 19,
   "metadata": {},
   "outputs": [
    {
     "name": "stdout",
     "output_type": "stream",
     "text": [
      "<class 'pandas.core.frame.DataFrame'>\n",
      "RangeIndex: 457601 entries, 0 to 457600\n",
      "Columns: 109 entries, user_id to prediction_pay_price\n",
      "dtypes: float64(3), int32(10), int64(96)\n",
      "memory usage: 363.1 MB\n"
     ]
    }
   ],
   "source": [
    "train = pd.read_csv(path_train + 'train=fe-5-1.csv')\n",
    "train[should_int32] = train[should_int32].astype(np.int32)\n",
    "train.to_csv(path_train + 'train=fe-5.csv', index=False)\n",
    "train.info()"
   ]
  },
  {
   "cell_type": "markdown",
   "metadata": {},
   "source": [
    "### 测试集"
   ]
  },
  {
   "cell_type": "code",
   "execution_count": 3,
   "metadata": {},
   "outputs": [
    {
     "data": {
      "text/html": [
       "<div>\n",
       "<style>\n",
       "    .dataframe thead tr:only-child th {\n",
       "        text-align: right;\n",
       "    }\n",
       "\n",
       "    .dataframe thead th {\n",
       "        text-align: left;\n",
       "    }\n",
       "\n",
       "    .dataframe tbody tr th {\n",
       "        vertical-align: top;\n",
       "    }\n",
       "</style>\n",
       "<table border=\"1\" class=\"dataframe\">\n",
       "  <thead>\n",
       "    <tr style=\"text-align: right;\">\n",
       "      <th></th>\n",
       "      <th>user_id</th>\n",
       "      <th>register_time</th>\n",
       "      <th>wood_add_value</th>\n",
       "      <th>wood_reduce_value</th>\n",
       "      <th>stone_add_value</th>\n",
       "      <th>stone_reduce_value</th>\n",
       "      <th>ivory_add_value</th>\n",
       "      <th>ivory_reduce_value</th>\n",
       "      <th>meat_add_value</th>\n",
       "      <th>meat_reduce_value</th>\n",
       "      <th>...</th>\n",
       "      <th>sr_rss_help_bonus_level</th>\n",
       "      <th>pvp_battle_count</th>\n",
       "      <th>pvp_lanch_count</th>\n",
       "      <th>pvp_win_count</th>\n",
       "      <th>pve_battle_count</th>\n",
       "      <th>pve_lanch_count</th>\n",
       "      <th>pve_win_count</th>\n",
       "      <th>avg_online_minutes</th>\n",
       "      <th>pay_price</th>\n",
       "      <th>pay_count</th>\n",
       "    </tr>\n",
       "  </thead>\n",
       "  <tbody>\n",
       "    <tr>\n",
       "      <th>0</th>\n",
       "      <td>14933</td>\n",
       "      <td>94</td>\n",
       "      <td>166415</td>\n",
       "      <td>138362</td>\n",
       "      <td>0</td>\n",
       "      <td>0</td>\n",
       "      <td>0</td>\n",
       "      <td>0</td>\n",
       "      <td>258522</td>\n",
       "      <td>90142</td>\n",
       "      <td>...</td>\n",
       "      <td>0</td>\n",
       "      <td>0</td>\n",
       "      <td>0</td>\n",
       "      <td>0</td>\n",
       "      <td>1</td>\n",
       "      <td>1</td>\n",
       "      <td>1</td>\n",
       "      <td>8.000000</td>\n",
       "      <td>0.0</td>\n",
       "      <td>0</td>\n",
       "    </tr>\n",
       "    <tr>\n",
       "      <th>1</th>\n",
       "      <td>14934</td>\n",
       "      <td>94</td>\n",
       "      <td>10000</td>\n",
       "      <td>600</td>\n",
       "      <td>0</td>\n",
       "      <td>0</td>\n",
       "      <td>0</td>\n",
       "      <td>0</td>\n",
       "      <td>10000</td>\n",
       "      <td>400</td>\n",
       "      <td>...</td>\n",
       "      <td>0</td>\n",
       "      <td>0</td>\n",
       "      <td>0</td>\n",
       "      <td>0</td>\n",
       "      <td>0</td>\n",
       "      <td>0</td>\n",
       "      <td>0</td>\n",
       "      <td>0.166667</td>\n",
       "      <td>0.0</td>\n",
       "      <td>0</td>\n",
       "    </tr>\n",
       "    <tr>\n",
       "      <th>2</th>\n",
       "      <td>14935</td>\n",
       "      <td>94</td>\n",
       "      <td>10000</td>\n",
       "      <td>3700</td>\n",
       "      <td>0</td>\n",
       "      <td>0</td>\n",
       "      <td>0</td>\n",
       "      <td>0</td>\n",
       "      <td>10000</td>\n",
       "      <td>2000</td>\n",
       "      <td>...</td>\n",
       "      <td>0</td>\n",
       "      <td>0</td>\n",
       "      <td>0</td>\n",
       "      <td>0</td>\n",
       "      <td>0</td>\n",
       "      <td>0</td>\n",
       "      <td>0</td>\n",
       "      <td>17.000000</td>\n",
       "      <td>0.0</td>\n",
       "      <td>0</td>\n",
       "    </tr>\n",
       "    <tr>\n",
       "      <th>3</th>\n",
       "      <td>14936</td>\n",
       "      <td>94</td>\n",
       "      <td>210000</td>\n",
       "      <td>0</td>\n",
       "      <td>200000</td>\n",
       "      <td>0</td>\n",
       "      <td>200000</td>\n",
       "      <td>0</td>\n",
       "      <td>610000</td>\n",
       "      <td>0</td>\n",
       "      <td>...</td>\n",
       "      <td>0</td>\n",
       "      <td>0</td>\n",
       "      <td>0</td>\n",
       "      <td>0</td>\n",
       "      <td>0</td>\n",
       "      <td>0</td>\n",
       "      <td>0</td>\n",
       "      <td>1.666667</td>\n",
       "      <td>0.0</td>\n",
       "      <td>0</td>\n",
       "    </tr>\n",
       "    <tr>\n",
       "      <th>4</th>\n",
       "      <td>14937</td>\n",
       "      <td>94</td>\n",
       "      <td>11500</td>\n",
       "      <td>3700</td>\n",
       "      <td>0</td>\n",
       "      <td>0</td>\n",
       "      <td>0</td>\n",
       "      <td>0</td>\n",
       "      <td>11000</td>\n",
       "      <td>2000</td>\n",
       "      <td>...</td>\n",
       "      <td>0</td>\n",
       "      <td>0</td>\n",
       "      <td>0</td>\n",
       "      <td>0</td>\n",
       "      <td>0</td>\n",
       "      <td>0</td>\n",
       "      <td>0</td>\n",
       "      <td>0.333333</td>\n",
       "      <td>0.0</td>\n",
       "      <td>0</td>\n",
       "    </tr>\n",
       "  </tbody>\n",
       "</table>\n",
       "<p>5 rows × 108 columns</p>\n",
       "</div>"
      ],
      "text/plain": [
       "   user_id  register_time  wood_add_value  wood_reduce_value  stone_add_value  \\\n",
       "0    14933             94          166415             138362                0   \n",
       "1    14934             94           10000                600                0   \n",
       "2    14935             94           10000               3700                0   \n",
       "3    14936             94          210000                  0           200000   \n",
       "4    14937             94           11500               3700                0   \n",
       "\n",
       "   stone_reduce_value  ivory_add_value  ivory_reduce_value  meat_add_value  \\\n",
       "0                   0                0                   0          258522   \n",
       "1                   0                0                   0           10000   \n",
       "2                   0                0                   0           10000   \n",
       "3                   0           200000                   0          610000   \n",
       "4                   0                0                   0           11000   \n",
       "\n",
       "   meat_reduce_value    ...      sr_rss_help_bonus_level  pvp_battle_count  \\\n",
       "0              90142    ...                            0                 0   \n",
       "1                400    ...                            0                 0   \n",
       "2               2000    ...                            0                 0   \n",
       "3                  0    ...                            0                 0   \n",
       "4               2000    ...                            0                 0   \n",
       "\n",
       "   pvp_lanch_count  pvp_win_count  pve_battle_count  pve_lanch_count  \\\n",
       "0                0              0                 1                1   \n",
       "1                0              0                 0                0   \n",
       "2                0              0                 0                0   \n",
       "3                0              0                 0                0   \n",
       "4                0              0                 0                0   \n",
       "\n",
       "   pve_win_count  avg_online_minutes  pay_price  pay_count  \n",
       "0              1            8.000000        0.0          0  \n",
       "1              0            0.166667        0.0          0  \n",
       "2              0           17.000000        0.0          0  \n",
       "3              0            1.666667        0.0          0  \n",
       "4              0            0.333333        0.0          0  \n",
       "\n",
       "[5 rows x 108 columns]"
      ]
     },
     "execution_count": 3,
     "metadata": {},
     "output_type": "execute_result"
    }
   ],
   "source": [
    "test = pd.read_csv(path_test + 'tap_fun_test-fe-32bit.csv')\n",
    "test.head()"
   ]
  },
  {
   "cell_type": "code",
   "execution_count": 4,
   "metadata": {},
   "outputs": [
    {
     "data": {
      "text/plain": [
       "Index(['avg_online_minutes', 'pay_price'], dtype='object')"
      ]
     },
     "execution_count": 4,
     "metadata": {},
     "output_type": "execute_result"
    }
   ],
   "source": [
    "test_float64 = test.select_dtypes(include = [\"float64\"]).columns\n",
    "test_float64"
   ]
  },
  {
   "cell_type": "code",
   "execution_count": 6,
   "metadata": {},
   "outputs": [
    {
     "data": {
      "text/plain": [
       "Index(['user_id', 'register_time', 'stone_add_value', 'stone_reduce_value',\n",
       "       'ivory_add_value', 'ivory_reduce_value', 'meat_add_value',\n",
       "       'meat_reduce_value', 'magic_add_value', 'magic_reduce_value',\n",
       "       ...\n",
       "       'sr_guest_troop_capacity_level', 'sr_march_size_level',\n",
       "       'sr_rss_help_bonus_level', 'pvp_battle_count', 'pvp_lanch_count',\n",
       "       'pvp_win_count', 'pve_battle_count', 'pve_lanch_count', 'pve_win_count',\n",
       "       'pay_count'],\n",
       "      dtype='object', length=104)"
      ]
     },
     "execution_count": 6,
     "metadata": {},
     "output_type": "execute_result"
    }
   ],
   "source": [
    "test_int64 = test.select_dtypes(include = [\"int64\"]).columns\n",
    "test_int64"
   ]
  },
  {
   "cell_type": "code",
   "execution_count": 7,
   "metadata": {},
   "outputs": [
    {
     "name": "stdout",
     "output_type": "stream",
     "text": [
      "<class 'pandas.core.frame.DataFrame'>\n",
      "RangeIndex: 828934 entries, 0 to 828933\n",
      "Columns: 108 entries, user_id to pay_count\n",
      "dtypes: float32(2), int32(106)\n",
      "memory usage: 341.5 MB\n"
     ]
    }
   ],
   "source": [
    "should_int32 = ['wood_add_value', 'wood_reduce_value']\n",
    "test[should_int32] = test[should_int32].astype(np.int32)\n",
    "test[test_int64] = test[test_int64].astype(np.int32)\n",
    "test[test_float64] = test[test_float64].astype(np.float32)\n",
    "test.to_csv(path_test + 'tap_fun_test-fe.csv', index=False)\n",
    "test.info()"
   ]
  },
  {
   "cell_type": "code",
   "execution_count": null,
   "metadata": {
    "collapsed": true
   },
   "outputs": [],
   "source": []
  }
 ],
 "metadata": {
  "kernelspec": {
   "display_name": "Python 3",
   "language": "python",
   "name": "python3"
  },
  "language_info": {
   "codemirror_mode": {
    "name": "ipython",
    "version": 3
   },
   "file_extension": ".py",
   "mimetype": "text/x-python",
   "name": "python",
   "nbconvert_exporter": "python",
   "pygments_lexer": "ipython3",
   "version": "3.6.3"
  }
 },
 "nbformat": 4,
 "nbformat_minor": 2
}
