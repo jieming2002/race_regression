{
 "cells": [
  {
   "cell_type": "markdown",
   "metadata": {},
   "source": [
    "##  lasso 回归"
   ]
  },
  {
   "cell_type": "code",
   "execution_count": 1,
   "metadata": {
    "collapsed": true
   },
   "outputs": [],
   "source": [
    "# 导入必要的工具包\n",
    "import numpy as np #用于数值计算\n",
    "import pandas as pd #用于数据表处理，数据文件读写\n",
    "from sklearn.preprocessing import StandardScaler\n",
    "\n",
    "from sklearn.linear_model import LassoCV\n",
    "from sklearn.linear_model import RidgeCV\n",
    "\n",
    "import matplotlib.pyplot as plt #用于绘图：分析结果的可视化。\n",
    "import seaborn as sns #用于绘图：分析结果的可视化。封装更好。\n",
    "from IPython.display import display\n",
    "\n",
    "#应该是设置浮点数的形式格式，小数点后三位\n",
    "pd.set_option('display.float_format', lambda x: '%.4f' % x)\n",
    "\n",
    "#这一行是干嘛的？ 设置 matplotlib 让绘制的图形出现在 Notebook 里而不是新窗口\n",
    "%matplotlib inline"
   ]
  },
  {
   "cell_type": "code",
   "execution_count": 2,
   "metadata": {
    "collapsed": true
   },
   "outputs": [],
   "source": [
    "Y_Standard = False\n",
    "# 生成的结果文件编号\n",
    "out_id = 1\n",
    "out_name = '%ssummit=0.1-fe-top20-%s-%s.csv'\n",
    "\n",
    "path  = '../data/new/'\n",
    "path_train = '../data/new/train=0.1/'\n",
    "path_test = '../data/new/test/'\n",
    "summit_path = '../data/summit/'"
   ]
  },
  {
   "cell_type": "code",
   "execution_count": 3,
   "metadata": {},
   "outputs": [
    {
     "data": {
      "text/html": [
       "<div>\n",
       "<style>\n",
       "    .dataframe thead tr:only-child th {\n",
       "        text-align: right;\n",
       "    }\n",
       "\n",
       "    .dataframe thead th {\n",
       "        text-align: left;\n",
       "    }\n",
       "\n",
       "    .dataframe tbody tr th {\n",
       "        vertical-align: top;\n",
       "    }\n",
       "</style>\n",
       "<table border=\"1\" class=\"dataframe\">\n",
       "  <thead>\n",
       "    <tr style=\"text-align: right;\">\n",
       "      <th></th>\n",
       "      <th>user_id</th>\n",
       "      <th>register_time</th>\n",
       "      <th>wood_add_value</th>\n",
       "      <th>wood_reduce_value</th>\n",
       "      <th>stone_add_value</th>\n",
       "      <th>stone_reduce_value</th>\n",
       "      <th>ivory_add_value</th>\n",
       "      <th>ivory_reduce_value</th>\n",
       "      <th>meat_add_value</th>\n",
       "      <th>meat_reduce_value</th>\n",
       "      <th>...</th>\n",
       "      <th>sr_cavalry_def_level_sq</th>\n",
       "      <th>sr_shaman_hp_level_s2</th>\n",
       "      <th>sr_shaman_hp_level_s3</th>\n",
       "      <th>sr_shaman_hp_level_sq</th>\n",
       "      <th>sr_infantry_def_level_s2</th>\n",
       "      <th>sr_infantry_def_level_s3</th>\n",
       "      <th>sr_infantry_def_level_sq</th>\n",
       "      <th>sr_shaman_def_level_s2</th>\n",
       "      <th>sr_shaman_def_level_s3</th>\n",
       "      <th>sr_shaman_def_level_sq</th>\n",
       "    </tr>\n",
       "  </thead>\n",
       "  <tbody>\n",
       "    <tr>\n",
       "      <th>0</th>\n",
       "      <td>2320186</td>\n",
       "      <td>124</td>\n",
       "      <td>0.0000</td>\n",
       "      <td>0.0000</td>\n",
       "      <td>0.0000</td>\n",
       "      <td>0.0000</td>\n",
       "      <td>0.0000</td>\n",
       "      <td>0.0000</td>\n",
       "      <td>0.0000</td>\n",
       "      <td>0.0000</td>\n",
       "      <td>...</td>\n",
       "      <td>0.0000</td>\n",
       "      <td>0</td>\n",
       "      <td>0</td>\n",
       "      <td>0.0000</td>\n",
       "      <td>0</td>\n",
       "      <td>0</td>\n",
       "      <td>0.0000</td>\n",
       "      <td>0</td>\n",
       "      <td>0</td>\n",
       "      <td>0.0000</td>\n",
       "    </tr>\n",
       "    <tr>\n",
       "      <th>1</th>\n",
       "      <td>2959017</td>\n",
       "      <td>121</td>\n",
       "      <td>129429.0000</td>\n",
       "      <td>78242.0000</td>\n",
       "      <td>0.0000</td>\n",
       "      <td>0.0000</td>\n",
       "      <td>6000.0000</td>\n",
       "      <td>0.0000</td>\n",
       "      <td>152480.0000</td>\n",
       "      <td>48626.0000</td>\n",
       "      <td>...</td>\n",
       "      <td>0.0000</td>\n",
       "      <td>0</td>\n",
       "      <td>0</td>\n",
       "      <td>0.0000</td>\n",
       "      <td>0</td>\n",
       "      <td>0</td>\n",
       "      <td>0.0000</td>\n",
       "      <td>0</td>\n",
       "      <td>0</td>\n",
       "      <td>0.0000</td>\n",
       "    </tr>\n",
       "    <tr>\n",
       "      <th>2</th>\n",
       "      <td>242613</td>\n",
       "      <td>122</td>\n",
       "      <td>84839.0000</td>\n",
       "      <td>52467.0000</td>\n",
       "      <td>0.0000</td>\n",
       "      <td>0.0000</td>\n",
       "      <td>0.0000</td>\n",
       "      <td>0.0000</td>\n",
       "      <td>22144.0000</td>\n",
       "      <td>29600.0000</td>\n",
       "      <td>...</td>\n",
       "      <td>0.0000</td>\n",
       "      <td>0</td>\n",
       "      <td>0</td>\n",
       "      <td>0.0000</td>\n",
       "      <td>0</td>\n",
       "      <td>0</td>\n",
       "      <td>0.0000</td>\n",
       "      <td>0</td>\n",
       "      <td>0</td>\n",
       "      <td>0.0000</td>\n",
       "    </tr>\n",
       "    <tr>\n",
       "      <th>3</th>\n",
       "      <td>1416097</td>\n",
       "      <td>136</td>\n",
       "      <td>0.0000</td>\n",
       "      <td>0.0000</td>\n",
       "      <td>0.0000</td>\n",
       "      <td>0.0000</td>\n",
       "      <td>0.0000</td>\n",
       "      <td>0.0000</td>\n",
       "      <td>0.0000</td>\n",
       "      <td>0.0000</td>\n",
       "      <td>...</td>\n",
       "      <td>0.0000</td>\n",
       "      <td>0</td>\n",
       "      <td>0</td>\n",
       "      <td>0.0000</td>\n",
       "      <td>0</td>\n",
       "      <td>0</td>\n",
       "      <td>0.0000</td>\n",
       "      <td>0</td>\n",
       "      <td>0</td>\n",
       "      <td>0.0000</td>\n",
       "    </tr>\n",
       "    <tr>\n",
       "      <th>4</th>\n",
       "      <td>680469</td>\n",
       "      <td>104</td>\n",
       "      <td>28625.0000</td>\n",
       "      <td>7200.0000</td>\n",
       "      <td>0.0000</td>\n",
       "      <td>0.0000</td>\n",
       "      <td>0.0000</td>\n",
       "      <td>0.0000</td>\n",
       "      <td>33625.0000</td>\n",
       "      <td>3930.0000</td>\n",
       "      <td>...</td>\n",
       "      <td>0.0000</td>\n",
       "      <td>0</td>\n",
       "      <td>0</td>\n",
       "      <td>0.0000</td>\n",
       "      <td>0</td>\n",
       "      <td>0</td>\n",
       "      <td>0.0000</td>\n",
       "      <td>0</td>\n",
       "      <td>0</td>\n",
       "      <td>0.0000</td>\n",
       "    </tr>\n",
       "  </tbody>\n",
       "</table>\n",
       "<p>5 rows × 169 columns</p>\n",
       "</div>"
      ],
      "text/plain": [
       "   user_id  register_time  wood_add_value  wood_reduce_value  stone_add_value  \\\n",
       "0  2320186            124          0.0000             0.0000           0.0000   \n",
       "1  2959017            121     129429.0000         78242.0000           0.0000   \n",
       "2   242613            122      84839.0000         52467.0000           0.0000   \n",
       "3  1416097            136          0.0000             0.0000           0.0000   \n",
       "4   680469            104      28625.0000          7200.0000           0.0000   \n",
       "\n",
       "   stone_reduce_value  ivory_add_value  ivory_reduce_value  meat_add_value  \\\n",
       "0              0.0000           0.0000              0.0000          0.0000   \n",
       "1              0.0000        6000.0000              0.0000     152480.0000   \n",
       "2              0.0000           0.0000              0.0000      22144.0000   \n",
       "3              0.0000           0.0000              0.0000          0.0000   \n",
       "4              0.0000           0.0000              0.0000      33625.0000   \n",
       "\n",
       "   meat_reduce_value           ...            sr_cavalry_def_level_sq  \\\n",
       "0             0.0000           ...                             0.0000   \n",
       "1         48626.0000           ...                             0.0000   \n",
       "2         29600.0000           ...                             0.0000   \n",
       "3             0.0000           ...                             0.0000   \n",
       "4          3930.0000           ...                             0.0000   \n",
       "\n",
       "   sr_shaman_hp_level_s2  sr_shaman_hp_level_s3  sr_shaman_hp_level_sq  \\\n",
       "0                      0                      0                 0.0000   \n",
       "1                      0                      0                 0.0000   \n",
       "2                      0                      0                 0.0000   \n",
       "3                      0                      0                 0.0000   \n",
       "4                      0                      0                 0.0000   \n",
       "\n",
       "   sr_infantry_def_level_s2  sr_infantry_def_level_s3  \\\n",
       "0                         0                         0   \n",
       "1                         0                         0   \n",
       "2                         0                         0   \n",
       "3                         0                         0   \n",
       "4                         0                         0   \n",
       "\n",
       "   sr_infantry_def_level_sq  sr_shaman_def_level_s2  sr_shaman_def_level_s3  \\\n",
       "0                    0.0000                       0                       0   \n",
       "1                    0.0000                       0                       0   \n",
       "2                    0.0000                       0                       0   \n",
       "3                    0.0000                       0                       0   \n",
       "4                    0.0000                       0                       0   \n",
       "\n",
       "   sr_shaman_def_level_sq  \n",
       "0                  0.0000  \n",
       "1                  0.0000  \n",
       "2                  0.0000  \n",
       "3                  0.0000  \n",
       "4                  0.0000  \n",
       "\n",
       "[5 rows x 169 columns]"
      ]
     },
     "execution_count": 3,
     "metadata": {},
     "output_type": "execute_result"
    }
   ],
   "source": [
    "#读取训练数据: \n",
    "train = pd.read_csv(path_train + 'train=0.1-fe-top20.csv')\n",
    "train.head()"
   ]
  },
  {
   "cell_type": "code",
   "execution_count": 4,
   "metadata": {
    "scrolled": true
   },
   "outputs": [
    {
     "data": {
      "text/html": [
       "<div>\n",
       "<style>\n",
       "    .dataframe thead tr:only-child th {\n",
       "        text-align: right;\n",
       "    }\n",
       "\n",
       "    .dataframe thead th {\n",
       "        text-align: left;\n",
       "    }\n",
       "\n",
       "    .dataframe tbody tr th {\n",
       "        vertical-align: top;\n",
       "    }\n",
       "</style>\n",
       "<table border=\"1\" class=\"dataframe\">\n",
       "  <thead>\n",
       "    <tr style=\"text-align: right;\">\n",
       "      <th></th>\n",
       "      <th>user_id</th>\n",
       "      <th>register_time</th>\n",
       "      <th>wood_add_value</th>\n",
       "      <th>wood_reduce_value</th>\n",
       "      <th>stone_add_value</th>\n",
       "      <th>stone_reduce_value</th>\n",
       "      <th>ivory_add_value</th>\n",
       "      <th>ivory_reduce_value</th>\n",
       "      <th>meat_add_value</th>\n",
       "      <th>meat_reduce_value</th>\n",
       "      <th>...</th>\n",
       "      <th>sr_cavalry_def_level_sq</th>\n",
       "      <th>sr_shaman_hp_level_s2</th>\n",
       "      <th>sr_shaman_hp_level_s3</th>\n",
       "      <th>sr_shaman_hp_level_sq</th>\n",
       "      <th>sr_infantry_def_level_s2</th>\n",
       "      <th>sr_infantry_def_level_s3</th>\n",
       "      <th>sr_infantry_def_level_sq</th>\n",
       "      <th>sr_shaman_def_level_s2</th>\n",
       "      <th>sr_shaman_def_level_s3</th>\n",
       "      <th>sr_shaman_def_level_sq</th>\n",
       "    </tr>\n",
       "  </thead>\n",
       "  <tbody>\n",
       "    <tr>\n",
       "      <th>0</th>\n",
       "      <td>14933</td>\n",
       "      <td>94</td>\n",
       "      <td>166415.0000</td>\n",
       "      <td>138362.0000</td>\n",
       "      <td>0</td>\n",
       "      <td>0</td>\n",
       "      <td>0</td>\n",
       "      <td>0</td>\n",
       "      <td>258522</td>\n",
       "      <td>90142</td>\n",
       "      <td>...</td>\n",
       "      <td>0.0000</td>\n",
       "      <td>0</td>\n",
       "      <td>0</td>\n",
       "      <td>0.0000</td>\n",
       "      <td>0</td>\n",
       "      <td>0</td>\n",
       "      <td>0.0000</td>\n",
       "      <td>0</td>\n",
       "      <td>0</td>\n",
       "      <td>0.0000</td>\n",
       "    </tr>\n",
       "    <tr>\n",
       "      <th>1</th>\n",
       "      <td>14934</td>\n",
       "      <td>94</td>\n",
       "      <td>10000.0000</td>\n",
       "      <td>600.0000</td>\n",
       "      <td>0</td>\n",
       "      <td>0</td>\n",
       "      <td>0</td>\n",
       "      <td>0</td>\n",
       "      <td>10000</td>\n",
       "      <td>400</td>\n",
       "      <td>...</td>\n",
       "      <td>0.0000</td>\n",
       "      <td>0</td>\n",
       "      <td>0</td>\n",
       "      <td>0.0000</td>\n",
       "      <td>0</td>\n",
       "      <td>0</td>\n",
       "      <td>0.0000</td>\n",
       "      <td>0</td>\n",
       "      <td>0</td>\n",
       "      <td>0.0000</td>\n",
       "    </tr>\n",
       "    <tr>\n",
       "      <th>2</th>\n",
       "      <td>14935</td>\n",
       "      <td>94</td>\n",
       "      <td>10000.0000</td>\n",
       "      <td>3700.0000</td>\n",
       "      <td>0</td>\n",
       "      <td>0</td>\n",
       "      <td>0</td>\n",
       "      <td>0</td>\n",
       "      <td>10000</td>\n",
       "      <td>2000</td>\n",
       "      <td>...</td>\n",
       "      <td>0.0000</td>\n",
       "      <td>0</td>\n",
       "      <td>0</td>\n",
       "      <td>0.0000</td>\n",
       "      <td>0</td>\n",
       "      <td>0</td>\n",
       "      <td>0.0000</td>\n",
       "      <td>0</td>\n",
       "      <td>0</td>\n",
       "      <td>0.0000</td>\n",
       "    </tr>\n",
       "    <tr>\n",
       "      <th>3</th>\n",
       "      <td>14936</td>\n",
       "      <td>94</td>\n",
       "      <td>210000.0000</td>\n",
       "      <td>0.0000</td>\n",
       "      <td>200000</td>\n",
       "      <td>0</td>\n",
       "      <td>200000</td>\n",
       "      <td>0</td>\n",
       "      <td>610000</td>\n",
       "      <td>0</td>\n",
       "      <td>...</td>\n",
       "      <td>0.0000</td>\n",
       "      <td>0</td>\n",
       "      <td>0</td>\n",
       "      <td>0.0000</td>\n",
       "      <td>0</td>\n",
       "      <td>0</td>\n",
       "      <td>0.0000</td>\n",
       "      <td>0</td>\n",
       "      <td>0</td>\n",
       "      <td>0.0000</td>\n",
       "    </tr>\n",
       "    <tr>\n",
       "      <th>4</th>\n",
       "      <td>14937</td>\n",
       "      <td>94</td>\n",
       "      <td>11500.0000</td>\n",
       "      <td>3700.0000</td>\n",
       "      <td>0</td>\n",
       "      <td>0</td>\n",
       "      <td>0</td>\n",
       "      <td>0</td>\n",
       "      <td>11000</td>\n",
       "      <td>2000</td>\n",
       "      <td>...</td>\n",
       "      <td>0.0000</td>\n",
       "      <td>0</td>\n",
       "      <td>0</td>\n",
       "      <td>0.0000</td>\n",
       "      <td>0</td>\n",
       "      <td>0</td>\n",
       "      <td>0.0000</td>\n",
       "      <td>0</td>\n",
       "      <td>0</td>\n",
       "      <td>0.0000</td>\n",
       "    </tr>\n",
       "  </tbody>\n",
       "</table>\n",
       "<p>5 rows × 168 columns</p>\n",
       "</div>"
      ],
      "text/plain": [
       "   user_id  register_time  wood_add_value  wood_reduce_value  stone_add_value  \\\n",
       "0    14933             94     166415.0000        138362.0000                0   \n",
       "1    14934             94      10000.0000           600.0000                0   \n",
       "2    14935             94      10000.0000          3700.0000                0   \n",
       "3    14936             94     210000.0000             0.0000           200000   \n",
       "4    14937             94      11500.0000          3700.0000                0   \n",
       "\n",
       "   stone_reduce_value  ivory_add_value  ivory_reduce_value  meat_add_value  \\\n",
       "0                   0                0                   0          258522   \n",
       "1                   0                0                   0           10000   \n",
       "2                   0                0                   0           10000   \n",
       "3                   0           200000                   0          610000   \n",
       "4                   0                0                   0           11000   \n",
       "\n",
       "   meat_reduce_value           ...            sr_cavalry_def_level_sq  \\\n",
       "0              90142           ...                             0.0000   \n",
       "1                400           ...                             0.0000   \n",
       "2               2000           ...                             0.0000   \n",
       "3                  0           ...                             0.0000   \n",
       "4               2000           ...                             0.0000   \n",
       "\n",
       "   sr_shaman_hp_level_s2  sr_shaman_hp_level_s3  sr_shaman_hp_level_sq  \\\n",
       "0                      0                      0                 0.0000   \n",
       "1                      0                      0                 0.0000   \n",
       "2                      0                      0                 0.0000   \n",
       "3                      0                      0                 0.0000   \n",
       "4                      0                      0                 0.0000   \n",
       "\n",
       "   sr_infantry_def_level_s2  sr_infantry_def_level_s3  \\\n",
       "0                         0                         0   \n",
       "1                         0                         0   \n",
       "2                         0                         0   \n",
       "3                         0                         0   \n",
       "4                         0                         0   \n",
       "\n",
       "   sr_infantry_def_level_sq  sr_shaman_def_level_s2  sr_shaman_def_level_s3  \\\n",
       "0                    0.0000                       0                       0   \n",
       "1                    0.0000                       0                       0   \n",
       "2                    0.0000                       0                       0   \n",
       "3                    0.0000                       0                       0   \n",
       "4                    0.0000                       0                       0   \n",
       "\n",
       "   sr_shaman_def_level_sq  \n",
       "0                  0.0000  \n",
       "1                  0.0000  \n",
       "2                  0.0000  \n",
       "3                  0.0000  \n",
       "4                  0.0000  \n",
       "\n",
       "[5 rows x 168 columns]"
      ]
     },
     "execution_count": 4,
     "metadata": {},
     "output_type": "execute_result"
    }
   ],
   "source": [
    "test = pd.read_csv(path_test + 'tap_fun_test-fe-top20.csv')\n",
    "test.head()"
   ]
  },
  {
   "cell_type": "code",
   "execution_count": 5,
   "metadata": {
    "collapsed": true
   },
   "outputs": [],
   "source": [
    "# 从原始数据中分离输入特征x和输出y\n",
    "target = 'prediction_pay_price'\n",
    "id = 'user_id'\n",
    "train_y = train[target].values\n",
    "train_X = train.drop([target, id], axis = 1)\n",
    "\n",
    "# test_id = test[id]\n",
    "test_X = test.drop([id], axis = 1)"
   ]
  },
  {
   "cell_type": "markdown",
   "metadata": {},
   "source": [
    "## 数据标准化"
   ]
  },
  {
   "cell_type": "code",
   "execution_count": 6,
   "metadata": {
    "collapsed": true
   },
   "outputs": [],
   "source": [
    "# 分别初始化对特征和目标值的标准化器\n",
    "ss_X = StandardScaler()\n",
    "ss_y = StandardScaler()\n",
    "\n",
    "# 分别对训练和测试数据的特征以及目标值进行标准化处理\n",
    "train_X = ss_X.fit_transform(train_X)\n",
    "test_X = ss_X.transform(test_X)\n",
    "\n",
    "if Y_Standard:\n",
    "    train_y = ss_y.fit_transform(train_y.reshape(-1, 1))"
   ]
  },
  {
   "cell_type": "code",
   "execution_count": 7,
   "metadata": {
    "collapsed": true
   },
   "outputs": [],
   "source": [
    "# 标准化数据还原 \n",
    "def inverse_StandardScaler(predict):\n",
    "    if Y_Standard:\n",
    "        predict = ss_y.inverse_transform(predict)\n",
    "        print('predict = ', predict)\n",
    "    return predict\n",
    "\n",
    "#输出预测后的数据\n",
    "def generate_summit(predict):\n",
    "    testPredict = test.copy()\n",
    "    testPredict[target] = predict\n",
    "    testPredict = testPredict[[id,target]]\n",
    "    testPredict[target] = testPredict[target].apply(lambda x: x if x > 0 else 0)\n",
    "    return testPredict"
   ]
  },
  {
   "cell_type": "markdown",
   "metadata": {},
   "source": [
    "## 模型训练\n",
    "### 1.正则化的线性回归（L1正则 --> Lasso）"
   ]
  },
  {
   "cell_type": "code",
   "execution_count": 12,
   "metadata": {},
   "outputs": [
    {
     "name": "stderr",
     "output_type": "stream",
     "text": [
      "d:\\ProgramData\\Anaconda3\\lib\\site-packages\\sklearn\\linear_model\\coordinate_descent.py:491: ConvergenceWarning: Objective did not converge. You might want to increase the number of iterations. Fitting data with very small alpha may cause precision problems.\n",
      "  ConvergenceWarning)\n"
     ]
    },
    {
     "name": "stdout",
     "output_type": "stream",
     "text": [
      "Wall time: 4.32 s\n"
     ]
    }
   ],
   "source": [
    "%%time\n",
    "#正则项系数\n",
    "# alphas = [1, 10, 100, 1000, 10000, 10000]\n",
    "alphas = [1, 10, 10.1, 10.2, 10.3, 10.4,10.5, 10.55, 10.6, 20, 100]\n",
    "\n",
    "# Lasso 模型实例\n",
    "lasso = LassoCV(alphas=alphas)\n",
    "\n",
    "#进行模型训练\n",
    "lasso.fit(train_X, train_y)"
   ]
  },
  {
   "cell_type": "code",
   "execution_count": 13,
   "metadata": {},
   "outputs": [
    {
     "name": "stdout",
     "output_type": "stream",
     "text": [
      "best alpha is: 10.0\n"
     ]
    },
    {
     "data": {
      "image/png": "[encoded data removed]",
      "text/plain": [
       "<matplotlib.figure.Figure at 0x12abc278>"
      ]
     },
     "metadata": {},
     "output_type": "display_data"
    }
   ],
   "source": [
    "## 3.1 Lasso 模型评价\n",
    "mses = np.mean(lasso.mse_path_, axis=1)\n",
    "\n",
    "#plt.plot(np.log10(alphas), mses)\n",
    "plt.plot(np.log10(lasso.alphas_), mses)\n",
    "# plt.show()  #绘制在一张图上，显示异常，暂时分开 \n",
    "\n",
    "plt.plot(np.log10(lasso.alpha_)*np.ones(3), [1000, 3000, 5000])\n",
    "plt.xlabel('log(alpha)')\n",
    "plt.ylabel('mse')\n",
    "# plt.show() \n",
    "print ('best alpha is:', lasso.alpha_)\n",
    "# best alpha is: 10.5"
   ]
  },
  {
   "cell_type": "code",
   "execution_count": 14,
   "metadata": {},
   "outputs": [
    {
     "name": "stdout",
     "output_type": "stream",
     "text": [
      "The value of default measurement of Lasso on train is 0.635882611461241\n"
     ]
    }
   ],
   "source": [
    "## 3.2 Lasso 模型与 LinearRegression 的比较\n",
    "# 使用 Lasso 模型自带的评估模块（r2_score），并输出评估结果\n",
    "#训练集\n",
    "lassoScoreTrain = lasso.score(train_X, train_y)\n",
    "print('The value of default measurement of Lasso on train is', lassoScoreTrain) "
   ]
  },
  {
   "cell_type": "code",
   "execution_count": 15,
   "metadata": {},
   "outputs": [
    {
     "name": "stdout",
     "output_type": "stream",
     "text": [
      "lasso_y_predict_test =  [0.4556051 0.4556051 0.4556051 ... 0.4556051 0.4556051 0.4556051]\n"
     ]
    }
   ],
   "source": [
    "#对测试数据进行预测\n",
    "lasso_y_predict_test = lasso.predict(test_X)\n",
    "print('lasso_y_predict_test = ', lasso_y_predict_test)\n",
    "\n",
    "# 标准化数据还原 \n",
    "lasso_y_predict_test = inverse_StandardScaler(lasso_y_predict_test)"
   ]
  },
  {
   "cell_type": "code",
   "execution_count": 16,
   "metadata": {},
   "outputs": [
    {
     "data": {
      "text/html": [
       "<div>\n",
       "<style>\n",
       "    .dataframe thead tr:only-child th {\n",
       "        text-align: right;\n",
       "    }\n",
       "\n",
       "    .dataframe thead th {\n",
       "        text-align: left;\n",
       "    }\n",
       "\n",
       "    .dataframe tbody tr th {\n",
       "        vertical-align: top;\n",
       "    }\n",
       "</style>\n",
       "<table border=\"1\" class=\"dataframe\">\n",
       "  <thead>\n",
       "    <tr style=\"text-align: right;\">\n",
       "      <th></th>\n",
       "      <th>user_id</th>\n",
       "      <th>prediction_pay_price</th>\n",
       "    </tr>\n",
       "  </thead>\n",
       "  <tbody>\n",
       "    <tr>\n",
       "      <th>0</th>\n",
       "      <td>14933</td>\n",
       "      <td>0.4556</td>\n",
       "    </tr>\n",
       "    <tr>\n",
       "      <th>1</th>\n",
       "      <td>14934</td>\n",
       "      <td>0.4556</td>\n",
       "    </tr>\n",
       "    <tr>\n",
       "      <th>2</th>\n",
       "      <td>14935</td>\n",
       "      <td>0.4556</td>\n",
       "    </tr>\n",
       "    <tr>\n",
       "      <th>3</th>\n",
       "      <td>14936</td>\n",
       "      <td>0.4556</td>\n",
       "    </tr>\n",
       "    <tr>\n",
       "      <th>4</th>\n",
       "      <td>14937</td>\n",
       "      <td>0.4556</td>\n",
       "    </tr>\n",
       "  </tbody>\n",
       "</table>\n",
       "</div>"
      ],
      "text/plain": [
       "   user_id  prediction_pay_price\n",
       "0    14933                0.4556\n",
       "1    14934                0.4556\n",
       "2    14935                0.4556\n",
       "3    14936                0.4556\n",
       "4    14937                0.4556"
      ]
     },
     "execution_count": 16,
     "metadata": {},
     "output_type": "execute_result"
    }
   ],
   "source": [
    "testPredict = generate_summit(lasso_y_predict_test)\n",
    "testPredict.head()"
   ]
  },
  {
   "cell_type": "code",
   "execution_count": 17,
   "metadata": {},
   "outputs": [
    {
     "data": {
      "text/plain": [
       "(828934, 2)"
      ]
     },
     "execution_count": 17,
     "metadata": {},
     "output_type": "execute_result"
    }
   ],
   "source": [
    "#输出预测后的数据\n",
    "testPredict.to_csv(out_name %(summit_path, 'lasso', out_id), index=False)\n",
    "out_id += 1\n",
    "testPredict.shape"
   ]
  },
  {
   "cell_type": "markdown",
   "metadata": {},
   "source": [
    "## 2 正则化的线性回归（L2正则 --> 岭回归）"
   ]
  },
  {
   "cell_type": "code",
   "execution_count": 39,
   "metadata": {},
   "outputs": [
    {
     "name": "stdout",
     "output_type": "stream",
     "text": [
      "Wall time: 6.31 s\n"
     ]
    }
   ],
   "source": [
    "%%time\n",
    "#正则项的参数\n",
    "alphas = [0.01, 0.1, 1, 10, 100]\n",
    "alphas = [0.1, 984000, 984300, 984400, 984500, 10000000, 1000000000]\n",
    "\n",
    "#创建岭回归模块实例\n",
    "reg = RidgeCV(alphas=alphas, store_cv_values=True)\n",
    "\n",
    "#进行模型训练\n",
    "reg.fit(train_X, train_y)"
   ]
  },
  {
   "cell_type": "code",
   "execution_count": 40,
   "metadata": {},
   "outputs": [
    {
     "name": "stdout",
     "output_type": "stream",
     "text": [
      "best alpha is: 984400.0\n"
     ]
    },
    {
     "data": {
      "image/png": "[encoded data removed]",
      "text/plain": [
       "<matplotlib.figure.Figure at 0x82d2da0>"
      ]
     },
     "metadata": {},
     "output_type": "display_data"
    }
   ],
   "source": [
    "### 2.1 岭回归模型评价\n",
    "mse_mean = np.mean(reg.cv_values_, axis=0)\n",
    "\n",
    "#正则项参数取对数， mse_mean.reshape() 干什么的？拉平\n",
    "plt.plot(np.log10(alphas), mse_mean.reshape(len(alphas), 1))\n",
    "# 在最佳参数位置绘制竖线：注意第二个参数值要和 Y 坐标轴匹配\n",
    "plt.plot(np.log10(reg.alpha_)*np.ones(3), [100, 5000, 900000])\n",
    "# plt.show() #绘制在一张图上，显示异常，暂时分开 \n",
    "\n",
    "plt.xlabel('log(alpha)')\n",
    "plt.ylabel('mse')\n",
    "\n",
    "print('best alpha is:', reg.alpha_)"
   ]
  },
  {
   "cell_type": "code",
   "execution_count": 41,
   "metadata": {},
   "outputs": [
    {
     "name": "stdout",
     "output_type": "stream",
     "text": [
      "The value of default measurement of RidgeRegression on train is 0.6265072515268366\n",
      "ridgeScoreTrain - lassoScoreTrain =  -0.009375359934404415\n"
     ]
    }
   ],
   "source": [
    "## 2.2 岭回归 模型与 Lasso 的比较\n",
    "# 使用 RidgeCV 模型自带的评估模块（r2_score），并输出评估结果\n",
    "#训练集\n",
    "ridgeScoreTrain = reg.score(train_X, train_y)\n",
    "print('The value of default measurement of RidgeRegression on train is', ridgeScoreTrain) \n",
    "print('ridgeScoreTrain - lassoScoreTrain = ', ridgeScoreTrain - lassoScoreTrain)\n",
    "# The value of default measurement of RidgeRegression on train is 0.633948526875\n",
    "# ridgeScoreTrain - lrScoreTrain =  -0.131696775147"
   ]
  },
  {
   "cell_type": "code",
   "execution_count": 42,
   "metadata": {},
   "outputs": [
    {
     "name": "stdout",
     "output_type": "stream",
     "text": [
      "ridge_y_predict_test =  [-0.19316209 -0.68265793 -0.79187262 ... -1.54003024 -0.71588596\n",
      " -0.72087114]\n"
     ]
    }
   ],
   "source": [
    "#对测试数据进行预测\n",
    "ridge_y_predict_test = reg.predict(test_X)\n",
    "print('ridge_y_predict_test = ', ridge_y_predict_test)\n",
    "\n",
    "# 标准化数据还原 \n",
    "ridge_y_predict_test = inverse_StandardScaler(ridge_y_predict_test)"
   ]
  },
  {
   "cell_type": "code",
   "execution_count": 43,
   "metadata": {},
   "outputs": [
    {
     "data": {
      "text/html": [
       "<div>\n",
       "<style>\n",
       "    .dataframe thead tr:only-child th {\n",
       "        text-align: right;\n",
       "    }\n",
       "\n",
       "    .dataframe thead th {\n",
       "        text-align: left;\n",
       "    }\n",
       "\n",
       "    .dataframe tbody tr th {\n",
       "        vertical-align: top;\n",
       "    }\n",
       "</style>\n",
       "<table border=\"1\" class=\"dataframe\">\n",
       "  <thead>\n",
       "    <tr style=\"text-align: right;\">\n",
       "      <th></th>\n",
       "      <th>user_id</th>\n",
       "      <th>prediction_pay_price</th>\n",
       "    </tr>\n",
       "  </thead>\n",
       "  <tbody>\n",
       "    <tr>\n",
       "      <th>0</th>\n",
       "      <td>14933</td>\n",
       "      <td>0.0000</td>\n",
       "    </tr>\n",
       "    <tr>\n",
       "      <th>1</th>\n",
       "      <td>14934</td>\n",
       "      <td>0.0000</td>\n",
       "    </tr>\n",
       "    <tr>\n",
       "      <th>2</th>\n",
       "      <td>14935</td>\n",
       "      <td>0.0000</td>\n",
       "    </tr>\n",
       "    <tr>\n",
       "      <th>3</th>\n",
       "      <td>14936</td>\n",
       "      <td>3.0722</td>\n",
       "    </tr>\n",
       "    <tr>\n",
       "      <th>4</th>\n",
       "      <td>14937</td>\n",
       "      <td>0.0000</td>\n",
       "    </tr>\n",
       "  </tbody>\n",
       "</table>\n",
       "</div>"
      ],
      "text/plain": [
       "   user_id  prediction_pay_price\n",
       "0    14933                0.0000\n",
       "1    14934                0.0000\n",
       "2    14935                0.0000\n",
       "3    14936                3.0722\n",
       "4    14937                0.0000"
      ]
     },
     "execution_count": 43,
     "metadata": {},
     "output_type": "execute_result"
    }
   ],
   "source": [
    "#输出预测后的数据\n",
    "testPredict = generate_summit(ridge_y_predict_test)\n",
    "testPredict.head()"
   ]
  },
  {
   "cell_type": "code",
   "execution_count": 44,
   "metadata": {},
   "outputs": [
    {
     "data": {
      "text/plain": [
       "(828934, 2)"
      ]
     },
     "execution_count": 44,
     "metadata": {},
     "output_type": "execute_result"
    }
   ],
   "source": [
    "#输出预测后的数据\n",
    "testPredict.to_csv(out_name %(summit_path, 'RidgeCV', out_id), index=False)\n",
    "out_id += 1\n",
    "testPredict.shape"
   ]
  },
  {
   "cell_type": "code",
   "execution_count": null,
   "metadata": {
    "collapsed": true
   },
   "outputs": [],
   "source": []
  }
 ],
 "metadata": {
  "kernelspec": {
   "display_name": "Python 3",
   "language": "python",
   "name": "python3"
  },
  "language_info": {
   "codemirror_mode": {
    "name": "ipython",
    "version": 3
   },
   "file_extension": ".py",
   "mimetype": "text/x-python",
   "name": "python",
   "nbconvert_exporter": "python",
   "pygments_lexer": "ipython3",
   "version": "3.6.3"
  }
 },
 "nbformat": 4,
 "nbformat_minor": 2
}
