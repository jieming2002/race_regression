{
 "cells": [
  {
   "cell_type": "markdown",
   "metadata": {},
   "source": [
    "## 测试集分类"
   ]
  },
  {
   "cell_type": "code",
   "execution_count": 1,
   "metadata": {
    "collapsed": true
   },
   "outputs": [],
   "source": [
    "# 导入必要的工具包\n",
    "from sklearn.model_selection import train_test_split\n",
    "import numpy as np #用于数值计算\n",
    "import pandas as pd #用于数据表处理，数据文件读写"
   ]
  },
  {
   "cell_type": "code",
   "execution_count": 2,
   "metadata": {
    "collapsed": true
   },
   "outputs": [],
   "source": [
    "path_train_all = '../data/new/train=all/' #训练集，特征工程后的文件 \n",
    "path_train = '../data/new/train=predict/' #训练集，预测，得到的特征\n",
    "train_name = '%strain=pred-%s-%s.csv' #训练集，预测特征，文件名\n",
    "path_test = '../../data/new/test=class/' #测试集，预测，得到的特征\n",
    "test_name = '%stest-7pay=lightgbm-%s.csv' #测试集，预测特征，文件名 \n",
    "\n",
    "val_path = '../data/val/' #保存校验集测试结果\n",
    "val_name = '%sval=stacking-base2-%s-%s.csv' #校验集预测结果文件名\n",
    "summit_path = '../../data/new/test=class/' #保存提交文件，测试集测试结果 \n",
    "out_name = '%stest-7pay=classBase-%s-%s.csv' # 生成的结果文件名称\n",
    "\n",
    "train_part_num = 5 #训练集拆分个数\n",
    "target = 'prediction_pay_price'\n",
    "user_id = 'user_id'"
   ]
  },
  {
   "cell_type": "markdown",
   "metadata": {},
   "source": [
    "## 2.读取测试集预测结果，0,1,2,3,4平均。"
   ]
  },
  {
   "cell_type": "code",
   "execution_count": 3,
   "metadata": {
    "scrolled": true
   },
   "outputs": [
    {
     "name": "stdout",
     "output_type": "stream",
     "text": [
      "j=0 model_name=lightgbm\n",
      "test_df.shape= (19549, 109)\n"
     ]
    }
   ],
   "source": [
    "model_list = ['lightgbm']\n",
    "for j, model_name in enumerate(model_list): #每个模型预测一个特征 \n",
    "    print('j=%s model_name=%s' % (j, model_name))\n",
    "    for i in range(train_part_num):\n",
    "        if i == 0:\n",
    "            col_df1 = pd.read_csv(out_name % (summit_path, model_name, i))\n",
    "        else:\n",
    "            col_df2 = pd.read_csv(out_name % (summit_path, model_name, i))\n",
    "#             print('i=', i)\n",
    "#             print(col_df1.head())\n",
    "#             print(col_df2.head())\n",
    "            col_df1[target] = (col_df1[target] + col_df2[target])\n",
    "#             print(col_df1.head())\n",
    "    col_df1[target] = (col_df1[target] / train_part_num) #求平均\n",
    "    if j == 0:\n",
    "        test_df = col_df1\n",
    "    test_df[target] = test_df[target].astype(np.float32) #多个特征合并，得到整个数据集。\n",
    "    print('test_df.shape=', test_df.shape)"
   ]
  },
  {
   "cell_type": "code",
   "execution_count": 4,
   "metadata": {},
   "outputs": [
    {
     "name": "stdout",
     "output_type": "stream",
     "text": [
      "<class 'pandas.core.frame.DataFrame'>\n",
      "RangeIndex: 19549 entries, 0 to 19548\n",
      "Columns: 109 entries, user_id to prediction_pay_price\n",
      "dtypes: float32(1), float64(2), int64(106)\n",
      "memory usage: 16.2 MB\n"
     ]
    }
   ],
   "source": [
    "test_df.info()"
   ]
  },
  {
   "cell_type": "code",
   "execution_count": 5,
   "metadata": {
    "scrolled": false
   },
   "outputs": [
    {
     "data": {
      "text/html": [
       "<div>\n",
       "<style>\n",
       "    .dataframe thead tr:only-child th {\n",
       "        text-align: right;\n",
       "    }\n",
       "\n",
       "    .dataframe thead th {\n",
       "        text-align: left;\n",
       "    }\n",
       "\n",
       "    .dataframe tbody tr th {\n",
       "        vertical-align: top;\n",
       "    }\n",
       "</style>\n",
       "<table border=\"1\" class=\"dataframe\">\n",
       "  <thead>\n",
       "    <tr style=\"text-align: right;\">\n",
       "      <th></th>\n",
       "      <th>user_id</th>\n",
       "      <th>register_time</th>\n",
       "      <th>wood_add_value</th>\n",
       "      <th>wood_reduce_value</th>\n",
       "      <th>stone_add_value</th>\n",
       "      <th>stone_reduce_value</th>\n",
       "      <th>ivory_add_value</th>\n",
       "      <th>ivory_reduce_value</th>\n",
       "      <th>meat_add_value</th>\n",
       "      <th>meat_reduce_value</th>\n",
       "      <th>...</th>\n",
       "      <th>pvp_battle_count</th>\n",
       "      <th>pvp_lanch_count</th>\n",
       "      <th>pvp_win_count</th>\n",
       "      <th>pve_battle_count</th>\n",
       "      <th>pve_lanch_count</th>\n",
       "      <th>pve_win_count</th>\n",
       "      <th>avg_online_minutes</th>\n",
       "      <th>pay_price</th>\n",
       "      <th>pay_count</th>\n",
       "      <th>prediction_pay_price</th>\n",
       "    </tr>\n",
       "  </thead>\n",
       "  <tbody>\n",
       "    <tr>\n",
       "      <th>0</th>\n",
       "      <td>14952</td>\n",
       "      <td>94</td>\n",
       "      <td>3838322</td>\n",
       "      <td>2859288</td>\n",
       "      <td>1041000</td>\n",
       "      <td>0</td>\n",
       "      <td>504000</td>\n",
       "      <td>0</td>\n",
       "      <td>6898146</td>\n",
       "      <td>4297996</td>\n",
       "      <td>...</td>\n",
       "      <td>4</td>\n",
       "      <td>4</td>\n",
       "      <td>4</td>\n",
       "      <td>4</td>\n",
       "      <td>4</td>\n",
       "      <td>3</td>\n",
       "      <td>27.166668</td>\n",
       "      <td>0.99</td>\n",
       "      <td>1</td>\n",
       "      <td>0.869829</td>\n",
       "    </tr>\n",
       "    <tr>\n",
       "      <th>1</th>\n",
       "      <td>15029</td>\n",
       "      <td>94</td>\n",
       "      <td>2353190</td>\n",
       "      <td>1286349</td>\n",
       "      <td>1000000</td>\n",
       "      <td>0</td>\n",
       "      <td>609000</td>\n",
       "      <td>0</td>\n",
       "      <td>3216753</td>\n",
       "      <td>513123</td>\n",
       "      <td>...</td>\n",
       "      <td>2</td>\n",
       "      <td>0</td>\n",
       "      <td>0</td>\n",
       "      <td>5</td>\n",
       "      <td>5</td>\n",
       "      <td>5</td>\n",
       "      <td>19.500000</td>\n",
       "      <td>0.99</td>\n",
       "      <td>1</td>\n",
       "      <td>0.764428</td>\n",
       "    </tr>\n",
       "    <tr>\n",
       "      <th>2</th>\n",
       "      <td>15059</td>\n",
       "      <td>94</td>\n",
       "      <td>6058137</td>\n",
       "      <td>3960541</td>\n",
       "      <td>5040000</td>\n",
       "      <td>2520000</td>\n",
       "      <td>2109000</td>\n",
       "      <td>0</td>\n",
       "      <td>14586512</td>\n",
       "      <td>7910807</td>\n",
       "      <td>...</td>\n",
       "      <td>0</td>\n",
       "      <td>0</td>\n",
       "      <td>0</td>\n",
       "      <td>11</td>\n",
       "      <td>11</td>\n",
       "      <td>9</td>\n",
       "      <td>13.833333</td>\n",
       "      <td>5.98</td>\n",
       "      <td>2</td>\n",
       "      <td>0.966343</td>\n",
       "    </tr>\n",
       "    <tr>\n",
       "      <th>3</th>\n",
       "      <td>15064</td>\n",
       "      <td>94</td>\n",
       "      <td>2958155</td>\n",
       "      <td>2350347</td>\n",
       "      <td>1364518</td>\n",
       "      <td>407296</td>\n",
       "      <td>600000</td>\n",
       "      <td>0</td>\n",
       "      <td>5895581</td>\n",
       "      <td>3241016</td>\n",
       "      <td>...</td>\n",
       "      <td>2</td>\n",
       "      <td>1</td>\n",
       "      <td>0</td>\n",
       "      <td>2</td>\n",
       "      <td>2</td>\n",
       "      <td>2</td>\n",
       "      <td>13.000000</td>\n",
       "      <td>0.99</td>\n",
       "      <td>1</td>\n",
       "      <td>0.855419</td>\n",
       "    </tr>\n",
       "    <tr>\n",
       "      <th>4</th>\n",
       "      <td>15102</td>\n",
       "      <td>94</td>\n",
       "      <td>1080008</td>\n",
       "      <td>19659</td>\n",
       "      <td>1000000</td>\n",
       "      <td>0</td>\n",
       "      <td>500000</td>\n",
       "      <td>0</td>\n",
       "      <td>2303911</td>\n",
       "      <td>13076</td>\n",
       "      <td>...</td>\n",
       "      <td>0</td>\n",
       "      <td>0</td>\n",
       "      <td>0</td>\n",
       "      <td>1</td>\n",
       "      <td>1</td>\n",
       "      <td>1</td>\n",
       "      <td>2.166667</td>\n",
       "      <td>0.99</td>\n",
       "      <td>1</td>\n",
       "      <td>0.933103</td>\n",
       "    </tr>\n",
       "  </tbody>\n",
       "</table>\n",
       "<p>5 rows × 109 columns</p>\n",
       "</div>"
      ],
      "text/plain": [
       "   user_id  register_time  wood_add_value  wood_reduce_value  stone_add_value  \\\n",
       "0    14952             94         3838322            2859288          1041000   \n",
       "1    15029             94         2353190            1286349          1000000   \n",
       "2    15059             94         6058137            3960541          5040000   \n",
       "3    15064             94         2958155            2350347          1364518   \n",
       "4    15102             94         1080008              19659          1000000   \n",
       "\n",
       "   stone_reduce_value  ivory_add_value  ivory_reduce_value  meat_add_value  \\\n",
       "0                   0           504000                   0         6898146   \n",
       "1                   0           609000                   0         3216753   \n",
       "2             2520000          2109000                   0        14586512   \n",
       "3              407296           600000                   0         5895581   \n",
       "4                   0           500000                   0         2303911   \n",
       "\n",
       "   meat_reduce_value          ...           pvp_battle_count  pvp_lanch_count  \\\n",
       "0            4297996          ...                          4                4   \n",
       "1             513123          ...                          2                0   \n",
       "2            7910807          ...                          0                0   \n",
       "3            3241016          ...                          2                1   \n",
       "4              13076          ...                          0                0   \n",
       "\n",
       "   pvp_win_count  pve_battle_count  pve_lanch_count  pve_win_count  \\\n",
       "0              4                 4                4              3   \n",
       "1              0                 5                5              5   \n",
       "2              0                11               11              9   \n",
       "3              0                 2                2              2   \n",
       "4              0                 1                1              1   \n",
       "\n",
       "   avg_online_minutes  pay_price  pay_count  prediction_pay_price  \n",
       "0           27.166668       0.99          1              0.869829  \n",
       "1           19.500000       0.99          1              0.764428  \n",
       "2           13.833333       5.98          2              0.966343  \n",
       "3           13.000000       0.99          1              0.855419  \n",
       "4            2.166667       0.99          1              0.933103  \n",
       "\n",
       "[5 rows x 109 columns]"
      ]
     },
     "execution_count": 5,
     "metadata": {},
     "output_type": "execute_result"
    }
   ],
   "source": [
    "# 预测特征 v1 特征个数 =9\n",
    "test_df.to_csv(test_name %(path_test, 'avg'), index=False)\n",
    "test_df.head()"
   ]
  },
  {
   "cell_type": "code",
   "execution_count": 6,
   "metadata": {
    "collapsed": true
   },
   "outputs": [],
   "source": [
    "def get_again_pay(df, col, threshold):\n",
    "    ''' 只保留付费记录 pay_col 付费字段'''\n",
    "    df_pay = df.loc[df[col] > threshold]\n",
    "    df_pay = df_pay.drop([col], axis = 1)\n",
    "    df_nopay = df.loc[df[col] <= threshold]\n",
    "    df_nopay = df_nopay.drop([col], axis = 1)\n",
    "    return df_pay, df_nopay"
   ]
  },
  {
   "cell_type": "code",
   "execution_count": 23,
   "metadata": {},
   "outputs": [
    {
     "name": "stdout",
     "output_type": "stream",
     "text": [
      "(19549, 109)\n",
      "(5343, 108)\n",
      "(14206, 108)\n",
      "19549\n"
     ]
    }
   ],
   "source": [
    "# threshold = 0.50\n",
    "# threshold = 0.89\n",
    "threshold = 0.88\n",
    "test_pay, test_nopay = get_again_pay(test_df, target, threshold)\n",
    "print(test_df.shape)\n",
    "print(test_pay.shape)\n",
    "print(test_nopay.shape)\n",
    "print(test_nopay.shape[0]+test_pay.shape[0])"
   ]
  },
  {
   "cell_type": "code",
   "execution_count": 24,
   "metadata": {},
   "outputs": [
    {
     "name": "stdout",
     "output_type": "stream",
     "text": [
      "<class 'pandas.core.frame.DataFrame'>\n",
      "Int64Index: 14206 entries, 0 to 19548\n",
      "Columns: 108 entries, user_id to pay_count\n",
      "dtypes: float64(2), int64(106)\n",
      "memory usage: 11.8 MB\n"
     ]
    }
   ],
   "source": [
    "# 只保留付费记录\n",
    "test_pay.to_csv(path_test + 'test-7pay-45pay=%s.csv' % threshold, index=False)\n",
    "# 不付费的记录 \n",
    "test_nopay.to_csv(path_test + 'test-7pay-45nopay=%s.csv' % threshold, index=False)\n",
    "test_nopay.info()"
   ]
  },
  {
   "cell_type": "code",
   "execution_count": null,
   "metadata": {
    "collapsed": true
   },
   "outputs": [],
   "source": []
  }
 ],
 "metadata": {
  "kernelspec": {
   "display_name": "Python 3",
   "language": "python",
   "name": "python3"
  },
  "language_info": {
   "codemirror_mode": {
    "name": "ipython",
    "version": 3
   },
   "file_extension": ".py",
   "mimetype": "text/x-python",
   "name": "python",
   "nbconvert_exporter": "python",
   "pygments_lexer": "ipython3",
   "version": "3.6.3"
  }
 },
 "nbformat": 4,
 "nbformat_minor": 2
}
