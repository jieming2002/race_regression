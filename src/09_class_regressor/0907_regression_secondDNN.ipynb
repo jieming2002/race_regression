{
 "cells": [
  {
   "cell_type": "markdown",
   "metadata": {},
   "source": [
    "## stacking 集成算法-只有付费记录：次级学习器融合-深度神经网络\n",
    "- 8 神经网络回归"
   ]
  },
  {
   "cell_type": "code",
   "execution_count": 1,
   "metadata": {},
   "outputs": [
    {
     "name": "stderr",
     "output_type": "stream",
     "text": [
      "d:\\ProgramData\\Anaconda3\\lib\\site-packages\\h5py\\__init__.py:34: FutureWarning: Conversion of the second argument of issubdtype from `float` to `np.floating` is deprecated. In future, it will be treated as `np.float64 == np.dtype(float).type`.\n",
      "  from ._conv import register_converters as _register_converters\n"
     ]
    }
   ],
   "source": [
    "# 导入必要的工具包\n",
    "import numpy as np #用于数值计算\n",
    "import pandas as pd #用于数据表处理，数据文件读写\n",
    "from sklearn.preprocessing import StandardScaler\n",
    "from sklearn.metrics import mean_squared_error \n",
    "\n",
    "import time\n",
    "from sklearn.model_selection import cross_val_score, train_test_split\n",
    "import tensorflow as tf\n",
    "\n",
    "import matplotlib.pyplot as plt #用于绘图：分析结果的可视化。\n",
    "#应该是设置浮点数的形式格式，小数点后三位\n",
    "pd.set_option('display.float_format', lambda x: '%.4f' % x)\n",
    "#这一行是干嘛的？ 设置 matplotlib 让绘制的图形出现在 Notebook 里而不是新窗口\n",
    "%matplotlib inline"
   ]
  },
  {
   "cell_type": "code",
   "execution_count": 2,
   "metadata": {
    "collapsed": true
   },
   "outputs": [],
   "source": [
    "def get_train_val(val_id):\n",
    "    '''获取训练集和校验集 \n",
    "    val_id = 0,1,2 #当前校验集编号 '''\n",
    "    print('val_id=%s'% (val_id))\n",
    "    df_val = train_list[val_id]\n",
    "    train_tmp = []\n",
    "\n",
    "    for i in range(1, train_part_num):\n",
    "        cur_id = (val_id + i) % 5\n",
    "        print('cur_id=%s'% (cur_id))\n",
    "        train_tmp.append(train_list[cur_id])\n",
    "    \n",
    "#     只生成一次，节省内存 \n",
    "    df_train = pd.concat(train_tmp)\n",
    "    print('df_train.shape=%s  df_val.shape=%s'% (df_train.shape, df_val.shape))\n",
    "    return df_train, df_val"
   ]
  },
  {
   "cell_type": "code",
   "execution_count": 3,
   "metadata": {
    "collapsed": true
   },
   "outputs": [],
   "source": [
    "Y_Standard = True\n",
    "path_train = '../data/new/train=predict/'\n",
    "path_test = '../data/new/test=predict/'\n",
    "\n",
    "val_path = '../data/val/second/' #保存校验集测试结果\n",
    "val_name = '%sval=stacking-%s-%s.csv'\n",
    "summit_path = '../data/summit/stacking-second/' #保存提交文件，测试集测试结果 \n",
    "out_name = '%ssummit=stacking-%s-%s.csv' # 生成的结果文件名称\n",
    "base = 'second' #学习器级别 \n",
    "\n",
    "train_part_num = 5 #训练集拆分个数\n",
    "target = 'prediction_pay_price'\n",
    "user_id = 'user_id'"
   ]
  },
  {
   "cell_type": "markdown",
   "metadata": {},
   "source": [
    "## 指定读取数据类型，节省内存"
   ]
  },
  {
   "cell_type": "code",
   "execution_count": 4,
   "metadata": {
    "collapsed": true
   },
   "outputs": [],
   "source": [
    "col_int32 = ['user_id']\n",
    "col_float32 = ['pred_0', 'pred_1', 'pred_2', 'pred_3', 'pred_4', 'pred_5', 'pred_6', 'pred_7']"
   ]
  },
  {
   "cell_type": "code",
   "execution_count": 5,
   "metadata": {
    "collapsed": true
   },
   "outputs": [],
   "source": [
    "# 指定读取数据类型，节省内存\n",
    "dtype_test = {}\n",
    "for col in col_int32:\n",
    "    dtype_test[col] = np.int32\n",
    "for col in col_float32:\n",
    "    dtype_test[col] = np.float32\n",
    "# dtype_test"
   ]
  },
  {
   "cell_type": "code",
   "execution_count": 6,
   "metadata": {
    "collapsed": true
   },
   "outputs": [],
   "source": [
    "dtype_train = dtype_test.copy()\n",
    "dtype_train[target] = np.float32\n",
    "# dtype_train"
   ]
  },
  {
   "cell_type": "markdown",
   "metadata": {},
   "source": [
    "## 读取数据，一次读取多次使用，不同组合 "
   ]
  },
  {
   "cell_type": "code",
   "execution_count": 7,
   "metadata": {},
   "outputs": [
    {
     "data": {
      "text/html": [
       "<div>\n",
       "<style>\n",
       "    .dataframe thead tr:only-child th {\n",
       "        text-align: right;\n",
       "    }\n",
       "\n",
       "    .dataframe thead th {\n",
       "        text-align: left;\n",
       "    }\n",
       "\n",
       "    .dataframe tbody tr th {\n",
       "        vertical-align: top;\n",
       "    }\n",
       "</style>\n",
       "<table border=\"1\" class=\"dataframe\">\n",
       "  <thead>\n",
       "    <tr style=\"text-align: right;\">\n",
       "      <th></th>\n",
       "      <th>user_id</th>\n",
       "      <th>pred_0</th>\n",
       "      <th>pred_1</th>\n",
       "      <th>pred_2</th>\n",
       "      <th>pred_3</th>\n",
       "      <th>pred_4</th>\n",
       "      <th>pred_5</th>\n",
       "      <th>pred_6</th>\n",
       "      <th>pred_7</th>\n",
       "      <th>prediction_pay_price</th>\n",
       "    </tr>\n",
       "  </thead>\n",
       "  <tbody>\n",
       "    <tr>\n",
       "      <th>0</th>\n",
       "      <td>332994</td>\n",
       "      <td>0.0000</td>\n",
       "      <td>0.0001</td>\n",
       "      <td>0.0000</td>\n",
       "      <td>0.3495</td>\n",
       "      <td>0.0001</td>\n",
       "      <td>0.0000</td>\n",
       "      <td>0.0000</td>\n",
       "      <td>0.0001</td>\n",
       "      <td>0.0000</td>\n",
       "    </tr>\n",
       "    <tr>\n",
       "      <th>1</th>\n",
       "      <td>2186887</td>\n",
       "      <td>0.1648</td>\n",
       "      <td>0.0001</td>\n",
       "      <td>0.0000</td>\n",
       "      <td>0.3495</td>\n",
       "      <td>0.0046</td>\n",
       "      <td>0.0000</td>\n",
       "      <td>0.1085</td>\n",
       "      <td>0.0002</td>\n",
       "      <td>0.0000</td>\n",
       "    </tr>\n",
       "    <tr>\n",
       "      <th>2</th>\n",
       "      <td>383991</td>\n",
       "      <td>0.1635</td>\n",
       "      <td>0.0001</td>\n",
       "      <td>0.0000</td>\n",
       "      <td>0.3495</td>\n",
       "      <td>0.0001</td>\n",
       "      <td>0.0000</td>\n",
       "      <td>0.0527</td>\n",
       "      <td>0.0001</td>\n",
       "      <td>0.0000</td>\n",
       "    </tr>\n",
       "    <tr>\n",
       "      <th>3</th>\n",
       "      <td>102315</td>\n",
       "      <td>0.1576</td>\n",
       "      <td>0.0001</td>\n",
       "      <td>0.0000</td>\n",
       "      <td>0.3495</td>\n",
       "      <td>0.0002</td>\n",
       "      <td>0.0000</td>\n",
       "      <td>0.0576</td>\n",
       "      <td>0.0001</td>\n",
       "      <td>0.0000</td>\n",
       "    </tr>\n",
       "    <tr>\n",
       "      <th>4</th>\n",
       "      <td>225310</td>\n",
       "      <td>0.0000</td>\n",
       "      <td>0.0001</td>\n",
       "      <td>0.0000</td>\n",
       "      <td>0.3495</td>\n",
       "      <td>0.0007</td>\n",
       "      <td>0.0000</td>\n",
       "      <td>0.0131</td>\n",
       "      <td>0.0001</td>\n",
       "      <td>0.0000</td>\n",
       "    </tr>\n",
       "  </tbody>\n",
       "</table>\n",
       "</div>"
      ],
      "text/plain": [
       "   user_id  pred_0  pred_1  pred_2  pred_3  pred_4  pred_5  pred_6  pred_7  \\\n",
       "0   332994  0.0000  0.0001  0.0000  0.3495  0.0001  0.0000  0.0000  0.0001   \n",
       "1  2186887  0.1648  0.0001  0.0000  0.3495  0.0046  0.0000  0.1085  0.0002   \n",
       "2   383991  0.1635  0.0001  0.0000  0.3495  0.0001  0.0000  0.0527  0.0001   \n",
       "3   102315  0.1576  0.0001  0.0000  0.3495  0.0002  0.0000  0.0576  0.0001   \n",
       "4   225310  0.0000  0.0001  0.0000  0.3495  0.0007  0.0000  0.0131  0.0001   \n",
       "\n",
       "   prediction_pay_price  \n",
       "0                0.0000  \n",
       "1                0.0000  \n",
       "2                0.0000  \n",
       "3                0.0000  \n",
       "4                0.0000  "
      ]
     },
     "execution_count": 7,
     "metadata": {},
     "output_type": "execute_result"
    }
   ],
   "source": [
    "train_list = []\n",
    "for i in range(train_part_num):\n",
    "    cur_id = i + 1\n",
    "    train_list.append(pd.read_csv('%strain=pred-1-col=9-target-%s.csv' % (path_train, cur_id), dtype=dtype_train))\n",
    "train_list[0].head()"
   ]
  },
  {
   "cell_type": "markdown",
   "metadata": {},
   "source": [
    "## 5折交叉验证"
   ]
  },
  {
   "cell_type": "code",
   "execution_count": 8,
   "metadata": {},
   "outputs": [
    {
     "name": "stdout",
     "output_type": "stream",
     "text": [
      "val_id=4\n",
      "cur_id=0\n",
      "cur_id=1\n",
      "cur_id=2\n",
      "cur_id=3\n",
      "df_train.shape=(1830405, 10)  df_val.shape=(457602, 10)\n"
     ]
    }
   ],
   "source": [
    "# 根据校验集编号 0，1,2,3,4 ，获取训练集和校验集\n",
    "df_train, df_val = get_train_val(4)\n",
    "\n",
    "# 从原始数据中分离输入特征x和输出y\n",
    "train_y = df_train[target].values\n",
    "train_X = df_train.drop([target, user_id], axis = 1)\n",
    "val_y = df_val[target].values\n",
    "val_X = df_val.drop([target, user_id], axis = 1)"
   ]
  },
  {
   "cell_type": "code",
   "execution_count": 9,
   "metadata": {
    "collapsed": true
   },
   "outputs": [],
   "source": [
    "# 数据标准化：分别初始化对特征和目标值的标准化器 \n",
    "ss_X = StandardScaler()\n",
    "ss_y = StandardScaler()\n",
    "\n",
    "# 分别对训练和测试数据的特征以及目标值进行标准化处理\n",
    "train_X_ss = ss_X.fit_transform(train_X)\n",
    "val_X_ss = ss_X.transform(val_X)\n",
    "\n",
    "if Y_Standard:\n",
    "    train_y_ss = ss_y.fit_transform(train_y.reshape(-1, 1))\n",
    "    val_y_ss = ss_y.transform(val_y.reshape(-1, 1))\n",
    "\n",
    "# 需要转换为一维数组 \n",
    "train_y_ss_1d = train_y_ss.reshape(train_y_ss.shape[0])\n",
    "val_y_ss_1d = val_y_ss.reshape(val_y_ss.shape[0])"
   ]
  },
  {
   "cell_type": "code",
   "execution_count": 10,
   "metadata": {},
   "outputs": [
    {
     "name": "stdout",
     "output_type": "stream",
     "text": [
      "(457602, 8)\n",
      "(1830405, 8)\n",
      "(1830405, 1)\n"
     ]
    }
   ],
   "source": [
    "print(val_X_ss.shape)\n",
    "print(train_X_ss.shape)\n",
    "print(train_y_ss.shape)"
   ]
  },
  {
   "cell_type": "code",
   "execution_count": 11,
   "metadata": {
    "collapsed": true
   },
   "outputs": [],
   "source": [
    "def inverse_StandardScaler(predict):\n",
    "    ''' 标准化数据还原  '''    \n",
    "    if Y_Standard:\n",
    "        predict = ss_y.inverse_transform(predict)\n",
    "        print('predict = ', predict)\n",
    "    return predict\n",
    "\n",
    "def generate_summit(predict):\n",
    "    ''' 输出预测后的数据 '''\n",
    "    testPredict = test.copy()\n",
    "    testPredict[target] = predict\n",
    "    testPredict = testPredict[[user_id, target]]\n",
    "#     应该过滤掉负数\n",
    "    testPredict[target] = testPredict[target].apply(lambda x: x if x > 0 else 0)\n",
    "    return testPredict\n",
    "\n",
    "def generate_val_predict(predict):\n",
    "    ''' 生成校验集预测后的数据 '''\n",
    "    testPredict = df_val.copy()\n",
    "    testPredict[target] = predict\n",
    "    testPredict = testPredict[[user_id, target]]\n",
    "#     应该过滤掉负数\n",
    "    testPredict[target] = testPredict[target].apply(lambda x: x if x > 0 else 0)\n",
    "    return testPredict"
   ]
  },
  {
   "cell_type": "markdown",
   "metadata": {},
   "source": [
    "## 加载测试数据"
   ]
  },
  {
   "cell_type": "code",
   "execution_count": 12,
   "metadata": {
    "scrolled": true
   },
   "outputs": [
    {
     "data": {
      "text/html": [
       "<div>\n",
       "<style>\n",
       "    .dataframe thead tr:only-child th {\n",
       "        text-align: right;\n",
       "    }\n",
       "\n",
       "    .dataframe thead th {\n",
       "        text-align: left;\n",
       "    }\n",
       "\n",
       "    .dataframe tbody tr th {\n",
       "        vertical-align: top;\n",
       "    }\n",
       "</style>\n",
       "<table border=\"1\" class=\"dataframe\">\n",
       "  <thead>\n",
       "    <tr style=\"text-align: right;\">\n",
       "      <th></th>\n",
       "      <th>user_id</th>\n",
       "      <th>pred_0</th>\n",
       "      <th>pred_1</th>\n",
       "      <th>pred_2</th>\n",
       "      <th>pred_3</th>\n",
       "      <th>pred_4</th>\n",
       "      <th>pred_5</th>\n",
       "      <th>pred_6</th>\n",
       "      <th>pred_7</th>\n",
       "    </tr>\n",
       "  </thead>\n",
       "  <tbody>\n",
       "    <tr>\n",
       "      <th>0</th>\n",
       "      <td>14933</td>\n",
       "      <td>0.0842</td>\n",
       "      <td>0.0002</td>\n",
       "      <td>0.0079</td>\n",
       "      <td>0.4069</td>\n",
       "      <td>0.0001</td>\n",
       "      <td>0.0102</td>\n",
       "      <td>1.6502</td>\n",
       "      <td>0.0002</td>\n",
       "    </tr>\n",
       "    <tr>\n",
       "      <th>1</th>\n",
       "      <td>14934</td>\n",
       "      <td>0.0592</td>\n",
       "      <td>0.0001</td>\n",
       "      <td>0.0000</td>\n",
       "      <td>0.4069</td>\n",
       "      <td>0.0000</td>\n",
       "      <td>0.0000</td>\n",
       "      <td>0.6719</td>\n",
       "      <td>0.0001</td>\n",
       "    </tr>\n",
       "    <tr>\n",
       "      <th>2</th>\n",
       "      <td>14935</td>\n",
       "      <td>0.3927</td>\n",
       "      <td>0.0001</td>\n",
       "      <td>0.0000</td>\n",
       "      <td>0.4069</td>\n",
       "      <td>0.0000</td>\n",
       "      <td>0.0000</td>\n",
       "      <td>0.9312</td>\n",
       "      <td>0.0001</td>\n",
       "    </tr>\n",
       "    <tr>\n",
       "      <th>3</th>\n",
       "      <td>14936</td>\n",
       "      <td>1.5131</td>\n",
       "      <td>0.0063</td>\n",
       "      <td>0.2355</td>\n",
       "      <td>0.4069</td>\n",
       "      <td>0.0000</td>\n",
       "      <td>0.2351</td>\n",
       "      <td>1.3646</td>\n",
       "      <td>0.0001</td>\n",
       "    </tr>\n",
       "    <tr>\n",
       "      <th>4</th>\n",
       "      <td>14937</td>\n",
       "      <td>0.0000</td>\n",
       "      <td>0.0001</td>\n",
       "      <td>0.0000</td>\n",
       "      <td>0.4069</td>\n",
       "      <td>0.0000</td>\n",
       "      <td>0.0000</td>\n",
       "      <td>0.5996</td>\n",
       "      <td>0.0001</td>\n",
       "    </tr>\n",
       "  </tbody>\n",
       "</table>\n",
       "</div>"
      ],
      "text/plain": [
       "   user_id  pred_0  pred_1  pred_2  pred_3  pred_4  pred_5  pred_6  pred_7\n",
       "0    14933  0.0842  0.0002  0.0079  0.4069  0.0001  0.0102  1.6502  0.0002\n",
       "1    14934  0.0592  0.0001  0.0000  0.4069  0.0000  0.0000  0.6719  0.0001\n",
       "2    14935  0.3927  0.0001  0.0000  0.4069  0.0000  0.0000  0.9312  0.0001\n",
       "3    14936  1.5131  0.0063  0.2355  0.4069  0.0000  0.2351  1.3646  0.0001\n",
       "4    14937  0.0000  0.0001  0.0000  0.4069  0.0000  0.0000  0.5996  0.0001"
      ]
     },
     "execution_count": 12,
     "metadata": {},
     "output_type": "execute_result"
    }
   ],
   "source": [
    "test = pd.read_csv(path_test + 'test=pred-1-col=9.csv', dtype=dtype_test)\n",
    "test_X = test.drop([user_id], axis = 1)\n",
    "test_X_ss = ss_X.transform(test_X)\n",
    "test.head()"
   ]
  },
  {
   "cell_type": "markdown",
   "metadata": {},
   "source": [
    "## 模型训练\n",
    "###  8 神经网络回归"
   ]
  },
  {
   "cell_type": "code",
   "execution_count": 13,
   "metadata": {
    "collapsed": true
   },
   "outputs": [],
   "source": [
    "def add_layer(inputs, in_size, out_size, activation_function=None):\n",
    "    '''添加层，返回本层的输出项\n",
    "    in_size 输入节点个数\n",
    "    out_size 输出节点个数\n",
    "    '''\n",
    "    #在ReLU 激活函数中推荐使用 Xavier 初始化的变种，暂且称之为 He Initialization：\n",
    "    Weights = tf.Variable(tf.truncated_normal([in_size, out_size], stddev=0.5)) / np.sqrt(in_size / 2)\n",
    "    \n",
    "    #计算正则项，加入集合losses里面\n",
    "#     reg = tf.contrib.layers.l1_regularizer(0.001)(Weights)\n",
    "    reg = tf.contrib.layers.l1_regularizer(0.01)(Weights)\n",
    "#     reg = tf.contrib.layers.l1_regularizer(0.02)(Weights)\n",
    "#     reg = tf.contrib.layers.l1_regularizer(0.1)(Weights)\n",
    "    tf.add_to_collection(\"losses\", reg)\n",
    "    \n",
    "    # 偏置初始化分布参数设置  \n",
    "    biases = tf.Variable(tf.constant(1.0, shape=[out_size]))\n",
    "#     biases = tf.Variable(tf.constant(0.1, shape=[out_size]))\n",
    "#     biases = tf.Variable(tf.constant(0.01, shape=[out_size]))\n",
    "    \n",
    "    Wx_plus_b = tf.matmul(inputs, Weights) + biases\n",
    "    if activation_function is None:\n",
    "        outputs = Wx_plus_b\n",
    "    else:\n",
    "        outputs = activation_function(Wx_plus_b)\n",
    "    return outputs"
   ]
  },
  {
   "cell_type": "code",
   "execution_count": 14,
   "metadata": {
    "collapsed": true
   },
   "outputs": [],
   "source": [
    "# 定义网络结构\n",
    "n_input = train_X_ss.shape[1]\n",
    "n_output = train_y_ss.shape[1]\n",
    "tf_x = tf.placeholder(tf.float32, [None,n_input])     # input x\n",
    "tf_y = tf.placeholder(tf.float32, [None,n_output])     # input y\n",
    "\n",
    "# 神经元数量=数据维度 ,添加隐层，调整神经元个数，看看效果 \n",
    "# layer_dim = [n_input, 107, n_output]\n",
    "# layer_dim = [n_input, 107, 50, n_output]\n",
    "# layer_dim = [n_input, 107, 50, 20, n_output]\n",
    "# layer_dim = [n_input, 55, 27, n_output]\n",
    "# layer_dim = [n_input, n_input*4, n_input*2, n_output]\n",
    "layer_dim = [n_input, n_input*2, n_input*1, n_output]\n",
    "# layer_dim = [n_input, n_input*1, n_input//2, n_output]\n",
    "n_layers = len(layer_dim) #神经网络的层数\n",
    "\n",
    "output_layer = tf_x\n",
    "in_dimension = layer_dim[0]\n",
    "for i in range (1, n_layers):\n",
    "    out_dimension = layer_dim[i]\n",
    "    if out_dimension == n_output:\n",
    "        active_fun = None \n",
    "    else: #调整激活函数\n",
    "#         active_fun = tf.nn.relu6\n",
    "        active_fun = tf.nn.relu\n",
    "    # 添加层：有 out_dimension 个神经元 \n",
    "    output_layer = add_layer(output_layer, in_dimension, out_dimension, activation_function=active_fun)\n",
    "    in_dimension = layer_dim[i]\n",
    "    output_layer = tf.layers.batch_normalization(output_layer) #加快收敛\n",
    "    output_layer = tf.layers.dropout(output_layer, rate=0.1) #防止过拟合\n",
    "#     output_layer = tf.layers.dropout(output_layer, rate=0.2) #防止过拟合\n",
    "\n",
    "loss = tf.losses.mean_squared_error(tf_y, output_layer)   # compute cost 损失函数 \n",
    "tf.add_to_collection(\"losses\", loss)#把交叉熵损失，也加入到集合里\n",
    "\n",
    "# 调整优化器和学习率 \n",
    "# optimizer = tf.train.GradientDescentOptimizer(learning_rate=0.1)\n",
    "optimizer = tf.train.AdamOptimizer(learning_rate=0.001)\n",
    "train_op = optimizer.minimize(loss)"
   ]
  },
  {
   "cell_type": "code",
   "execution_count": 15,
   "metadata": {
    "collapsed": true
   },
   "outputs": [],
   "source": [
    "def model_validation(epoch):\n",
    "    ''' 模型校验 '''\n",
    "#     train_loss = sess.run(loss, {tf_x: X_train_part, \n",
    "#                                     tf_y: y_train_part})\n",
    "    val_loss, val_pred = sess.run([loss, output_layer], {tf_x: val_X_ss, \n",
    "                                    tf_y: val_y_ss})\n",
    "    if epoch % 1 == 0:\n",
    "        print('---------------- epoch=%s  val_loss=%s' % (epoch+1, val_loss))\n",
    "    \n",
    "    return val_loss, val_pred"
   ]
  },
  {
   "cell_type": "code",
   "execution_count": 16,
   "metadata": {},
   "outputs": [
    {
     "name": "stdout",
     "output_type": "stream",
     "text": [
      "n_sample=1830405 batch_size=228801 n_step=8 n_epoch=50\n"
     ]
    }
   ],
   "source": [
    "# 训练参数\n",
    "n_sample = train_X_ss.shape[0]\n",
    "# batch_size = int(n_sample / 2)\n",
    "# batch_size = 20592\n",
    "# batch_size = 457602\n",
    "batch_size = 228801\n",
    "# batch_size = 114400\n",
    "n_step = int(np.ceil(n_sample / batch_size))\n",
    "n_epoch = 50\n",
    "early_stopping_max = 10\n",
    "early_stopping_threshold = 0.2\n",
    "print('n_sample=%s batch_size=%s n_step=%s n_epoch=%s' % (n_sample, batch_size, n_step, n_epoch))"
   ]
  },
  {
   "cell_type": "code",
   "execution_count": 17,
   "metadata": {
    "scrolled": true
   },
   "outputs": [
    {
     "name": "stdout",
     "output_type": "stream",
     "text": [
      "---------------- epoch=1  val_loss=2.6771355\n",
      "3.56s/epoch  loss=2.7444985\n",
      "---------------- epoch=2  val_loss=2.2232826\n",
      "3.54s/epoch  loss=2.280939\n",
      "---------------- epoch=3  val_loss=1.8457713\n",
      "3.51s/epoch  loss=1.89478\n",
      "---------------- epoch=4  val_loss=1.5389384\n",
      "3.53s/epoch  loss=1.5796533\n",
      "---------------- epoch=5  val_loss=1.2936149\n",
      "3.53s/epoch  loss=1.3270497\n",
      "---------------- epoch=6  val_loss=1.1005458\n",
      "3.54s/epoch  loss=1.1276494\n",
      "---------------- epoch=7  val_loss=0.9503306\n",
      "3.53s/epoch  loss=0.97212297\n",
      "---------------- epoch=8  val_loss=0.8352527\n",
      "3.55s/epoch  loss=0.85251695\n",
      "---------------- epoch=9  val_loss=0.7481921\n",
      "3.52s/epoch  loss=0.7616574\n",
      "---------------- epoch=10  val_loss=0.68345666\n",
      "3.52s/epoch  loss=0.69370806\n",
      "---------------- epoch=11  val_loss=0.6358171\n",
      "3.55s/epoch  loss=0.6430857\n",
      "---------------- epoch=12  val_loss=0.6008084\n",
      "3.51s/epoch  loss=0.60531217\n",
      "---------------- epoch=13  val_loss=0.57492816\n",
      "3.52s/epoch  loss=0.5767286\n",
      "---------------- epoch=14  val_loss=0.55520654\n",
      "3.53s/epoch  loss=0.5542523\n",
      "---------------- epoch=15  val_loss=0.5394702\n",
      "3.58s/epoch  loss=0.5358554\n",
      "---------------- epoch=16  val_loss=0.5259932\n",
      "3.53s/epoch  loss=0.5198555\n",
      "---------------- epoch=17  val_loss=0.513883\n",
      "3.52s/epoch  loss=0.5052036\n",
      "---------------- epoch=18  val_loss=0.5028431\n",
      "3.53s/epoch  loss=0.49170637\n",
      "---------------- epoch=19  val_loss=0.4922712\n",
      "3.51s/epoch  loss=0.47874755\n",
      "---------------- epoch=20  val_loss=0.48235622\n",
      "3.58s/epoch  loss=0.466298\n",
      "---------------- epoch=21  val_loss=0.47311673\n",
      "3.52s/epoch  loss=0.45460108\n",
      "---------------- epoch=22  val_loss=0.4645706\n",
      "3.52s/epoch  loss=0.44368345\n",
      "---------------- epoch=23  val_loss=0.45684004\n",
      "3.53s/epoch  loss=0.43359405\n",
      "---------------- epoch=24  val_loss=0.44986516\n",
      "3.56s/epoch  loss=0.42442864\n",
      "---------------- epoch=25  val_loss=0.4438933\n",
      "3.55s/epoch  loss=0.41635177\n",
      "---------------- epoch=26  val_loss=0.43879324\n",
      "3.54s/epoch  loss=0.40938735\n",
      "---------------- epoch=27  val_loss=0.4345785\n",
      "3.53s/epoch  loss=0.40339735\n",
      "---------------- epoch=28  val_loss=0.43113717\n",
      "3.53s/epoch  loss=0.39831445\n",
      "---------------- epoch=29  val_loss=0.42847136\n",
      "3.58s/epoch  loss=0.39410058\n",
      "---------------- epoch=30  val_loss=0.4263908\n",
      "3.52s/epoch  loss=0.39067847\n",
      "---------------- epoch=31  val_loss=0.4248964\n",
      "3.53s/epoch  loss=0.38793913\n",
      "---------------- epoch=32  val_loss=0.42382163\n",
      "3.53s/epoch  loss=0.3857536\n",
      "---------------- epoch=33  val_loss=0.42310116\n",
      "3.56s/epoch  loss=0.38403022\n",
      "---------------- epoch=34  val_loss=0.42262027\n",
      "3.5s/epoch  loss=0.3826793\n",
      "---------------- epoch=35  val_loss=0.4223303\n",
      "3.51s/epoch  loss=0.38162175\n",
      "---------------- epoch=36  val_loss=0.42218265\n",
      "3.53s/epoch  loss=0.38077235\n",
      "---------------- epoch=37  val_loss=0.42213437\n",
      "3.53s/epoch  loss=0.38007763\n",
      "---------------- epoch=38  val_loss=0.42216095\n",
      "3.59s/epoch  loss=0.37950382\n",
      "---------------- epoch=39  val_loss=0.42224512\n",
      "3.53s/epoch  loss=0.37895143\n",
      "---------------- epoch=40  val_loss=0.42236096\n",
      "3.53s/epoch  loss=0.37842768\n",
      "---------------- epoch=41  val_loss=0.42245978\n",
      "3.54s/epoch  loss=0.37786296\n",
      "---------------- epoch=42  val_loss=0.42256945\n",
      "3.57s/epoch  loss=0.37728494\n",
      "---------------- epoch=43  val_loss=0.42259338\n",
      "3.53s/epoch  loss=0.37665927\n",
      "---------------- epoch=44  val_loss=0.42260706\n",
      "3.53s/epoch  loss=0.37595895\n",
      "---------------- epoch=45  val_loss=0.42277038\n",
      "3.52s/epoch  loss=0.37534577\n",
      "---------------- epoch=46  val_loss=0.4229383\n",
      "3.52s/epoch  loss=0.37466195\n",
      "---------------- epoch=47  val_loss=0.42303547\n",
      "3.56s/epoch  loss=0.3741916\n",
      "---------------- epoch=48  val_loss=0.42310882\n",
      "3.52s/epoch  loss=0.3737963\n",
      "---------------- epoch=49  val_loss=0.42322072\n",
      "3.52s/epoch  loss=0.37342194\n",
      "---------------- epoch=50  val_loss=0.42333952\n",
      "3.52s/epoch  loss=0.37300646\n",
      "time_total=176.74s time_epoch=3.56\n"
     ]
    }
   ],
   "source": [
    "# 进行训练\n",
    "sess = tf.Session()\n",
    "sess.run(tf.global_variables_initializer())         # initialize var in graph\n",
    "loss_train_arr = []\n",
    "loss_val_arr = []\n",
    "time_count = []\n",
    "# losses = []\n",
    "early_stopping_n = 0\n",
    "random_train = True #是否随机 batch \n",
    "\n",
    "for epoch in range(n_epoch):\n",
    "    ticks = time.time()\n",
    "#     print('=============== epoch=%s' % (epoch+1))\n",
    "    for step in range(n_step):\n",
    "        # train and net output\n",
    "        if random_train:# 随机取训练集\n",
    "            _, batch_X, _, batch_y = train_test_split(train_X_ss, train_y_ss, random_state=33, test_size=batch_size)\n",
    "        else:# 固定截取一段训练集\n",
    "            i_from = step * batch_size\n",
    "            i_to = (step+1) * batch_size\n",
    "            if i_to > (n_sample - 1): #索引越界处理 \n",
    "                i_to = (n_sample - 1)\n",
    "            batch_X, batch_y = train_X_ss[i_from:i_to], train_y_ss[i_from:i_to]\n",
    "#         print('batch_X.shape=%s  batch_y.shape=%s' % (batch_X.shape, batch_y.shape))\n",
    "        _, loss_v, pred = sess.run([train_op, loss, output_layer], {tf_x: batch_X, \n",
    "                                                         tf_y: batch_y})\n",
    "        \n",
    "#         losses.append(loss_v)\n",
    "#         if step % 5 == 0:\n",
    "#             print('step=%s loss=%s' % (step+1, loss_v))\n",
    "    mean_loss = loss_v # np.mean(losses)\n",
    "    loss_train_arr.append(mean_loss)\n",
    "    val_loss, val_pred = model_validation(epoch)\n",
    "    loss_val_arr.append(val_loss)\n",
    "    ticks = np.round((time.time() - ticks) * 100) / 100\n",
    "    time_count.append(ticks)\n",
    "    if epoch % 1 == 0:\n",
    "        print('%ss/epoch  loss=%s' % (ticks, mean_loss))\n",
    "    if val_loss < early_stopping_threshold:\n",
    "        early_stopping_n += 1\n",
    "        if early_stopping_n > early_stopping_max:\n",
    "            break\n",
    "\n",
    "time_total = np.sum(time_count)\n",
    "print('time_total=%ss time_epoch=%s'%(time_total, time_count[0]))"
   ]
  },
  {
   "cell_type": "markdown",
   "metadata": {},
   "source": [
    "## 4. 训练结果可视化"
   ]
  },
  {
   "cell_type": "code",
   "execution_count": 18,
   "metadata": {
    "collapsed": true
   },
   "outputs": [],
   "source": [
    "# 训练次数，x 轴\n",
    "# x = np.arange(0, n_epoch, 1)\n",
    "x = np.arange(0, len(loss_val_arr), 1)"
   ]
  },
  {
   "cell_type": "code",
   "execution_count": 19,
   "metadata": {},
   "outputs": [
    {
     "data": {
      "image/png": "[encoded data removed]",
      "text/plain": [
       "<matplotlib.figure.Figure at 0x1547a550>"
      ]
     },
     "metadata": {},
     "output_type": "display_data"
    }
   ],
   "source": [
    "plt.figure(figsize=(18, 8))\n",
    "# plt.plot(x, loss_train_arr, '-o', label='loss_train')\n",
    "plt.plot(x, loss_train_arr, '-', label='loss_train')\n",
    "plt.plot(x, loss_val_arr, '-', label='loss_val')\n",
    "\n",
    "plt.xlabel('n_epoch')\n",
    "plt.ylabel('loss')\n",
    "plt.legend()\n",
    "plt.show()"
   ]
  },
  {
   "cell_type": "markdown",
   "metadata": {},
   "source": [
    "## 5. 模型应用"
   ]
  },
  {
   "cell_type": "code",
   "execution_count": 20,
   "metadata": {},
   "outputs": [
    {
     "name": "stdout",
     "output_type": "stream",
     "text": [
      "val_pred=  [[-0.00467398]\n",
      " [-0.02422741]\n",
      " [-0.02415662]\n",
      " ...\n",
      " [-0.02045652]\n",
      " [-0.02428448]\n",
      " [-0.02425331]]\n",
      "predict =  [[ 1.4021618 ]\n",
      " [-0.3680239 ]\n",
      " [-0.3616145 ]\n",
      " ...\n",
      " [-0.02664189]\n",
      " [-0.37319043]\n",
      " [-0.37036827]]\n"
     ]
    },
    {
     "data": {
      "text/html": [
       "<div>\n",
       "<style>\n",
       "    .dataframe thead tr:only-child th {\n",
       "        text-align: right;\n",
       "    }\n",
       "\n",
       "    .dataframe thead th {\n",
       "        text-align: left;\n",
       "    }\n",
       "\n",
       "    .dataframe tbody tr th {\n",
       "        vertical-align: top;\n",
       "    }\n",
       "</style>\n",
       "<table border=\"1\" class=\"dataframe\">\n",
       "  <thead>\n",
       "    <tr style=\"text-align: right;\">\n",
       "      <th></th>\n",
       "      <th>user_id</th>\n",
       "      <th>prediction_pay_price</th>\n",
       "    </tr>\n",
       "  </thead>\n",
       "  <tbody>\n",
       "    <tr>\n",
       "      <th>0</th>\n",
       "      <td>1987367</td>\n",
       "      <td>1.4022</td>\n",
       "    </tr>\n",
       "    <tr>\n",
       "      <th>1</th>\n",
       "      <td>2292622</td>\n",
       "      <td>0.0000</td>\n",
       "    </tr>\n",
       "    <tr>\n",
       "      <th>2</th>\n",
       "      <td>466954</td>\n",
       "      <td>0.0000</td>\n",
       "    </tr>\n",
       "    <tr>\n",
       "      <th>3</th>\n",
       "      <td>1008130</td>\n",
       "      <td>0.0000</td>\n",
       "    </tr>\n",
       "    <tr>\n",
       "      <th>4</th>\n",
       "      <td>9759</td>\n",
       "      <td>0.0000</td>\n",
       "    </tr>\n",
       "  </tbody>\n",
       "</table>\n",
       "</div>"
      ],
      "text/plain": [
       "   user_id  prediction_pay_price\n",
       "0  1987367                1.4022\n",
       "1  2292622                0.0000\n",
       "2   466954                0.0000\n",
       "3  1008130                0.0000\n",
       "4     9759                0.0000"
      ]
     },
     "execution_count": 20,
     "metadata": {},
     "output_type": "execute_result"
    }
   ],
   "source": [
    "print('val_pred= ', val_pred)\n",
    "# 标准化数据还原 \n",
    "predict_val = inverse_StandardScaler(val_pred)\n",
    "valPredict = generate_val_predict(predict_val)\n",
    "#输出预测后的数据\n",
    "valPredict.to_csv(val_name %(val_path, base, 'DNN_V2'), index=False)\n",
    "valPredict.head()"
   ]
  },
  {
   "cell_type": "code",
   "execution_count": 21,
   "metadata": {},
   "outputs": [
    {
     "name": "stdout",
     "output_type": "stream",
     "text": [
      "test_pred =  [[-0.02066283]\n",
      " [-0.02288207]\n",
      " [-0.02205972]\n",
      " ...\n",
      " [-0.01659217]\n",
      " [-0.02357522]\n",
      " [-0.02315721]]\n",
      "predict =  [[-0.0453196 ]\n",
      " [-0.24622945]\n",
      " [-0.17178147]\n",
      " ...\n",
      " [ 0.3232002 ]\n",
      " [-0.30898073]\n",
      " [-0.27113798]]\n"
     ]
    }
   ],
   "source": [
    "#对测试数据进行预测\n",
    "test_pred = sess.run(output_layer, {tf_x:test_X_ss})\n",
    "print('test_pred = ', test_pred)\n",
    "\n",
    "# 标准化数据还原 \n",
    "test_pred = inverse_StandardScaler(test_pred)"
   ]
  },
  {
   "cell_type": "code",
   "execution_count": 22,
   "metadata": {},
   "outputs": [
    {
     "data": {
      "text/html": [
       "<div>\n",
       "<style>\n",
       "    .dataframe thead tr:only-child th {\n",
       "        text-align: right;\n",
       "    }\n",
       "\n",
       "    .dataframe thead th {\n",
       "        text-align: left;\n",
       "    }\n",
       "\n",
       "    .dataframe tbody tr th {\n",
       "        vertical-align: top;\n",
       "    }\n",
       "</style>\n",
       "<table border=\"1\" class=\"dataframe\">\n",
       "  <thead>\n",
       "    <tr style=\"text-align: right;\">\n",
       "      <th></th>\n",
       "      <th>user_id</th>\n",
       "      <th>prediction_pay_price</th>\n",
       "    </tr>\n",
       "  </thead>\n",
       "  <tbody>\n",
       "    <tr>\n",
       "      <th>0</th>\n",
       "      <td>14933</td>\n",
       "      <td>0.0000</td>\n",
       "    </tr>\n",
       "    <tr>\n",
       "      <th>1</th>\n",
       "      <td>14934</td>\n",
       "      <td>0.0000</td>\n",
       "    </tr>\n",
       "    <tr>\n",
       "      <th>2</th>\n",
       "      <td>14935</td>\n",
       "      <td>0.0000</td>\n",
       "    </tr>\n",
       "    <tr>\n",
       "      <th>3</th>\n",
       "      <td>14936</td>\n",
       "      <td>0.1170</td>\n",
       "    </tr>\n",
       "    <tr>\n",
       "      <th>4</th>\n",
       "      <td>14937</td>\n",
       "      <td>0.0000</td>\n",
       "    </tr>\n",
       "  </tbody>\n",
       "</table>\n",
       "</div>"
      ],
      "text/plain": [
       "   user_id  prediction_pay_price\n",
       "0    14933                0.0000\n",
       "1    14934                0.0000\n",
       "2    14935                0.0000\n",
       "3    14936                0.1170\n",
       "4    14937                0.0000"
      ]
     },
     "execution_count": 22,
     "metadata": {},
     "output_type": "execute_result"
    }
   ],
   "source": [
    "#输出预测后的数据\n",
    "testPredict = generate_summit(test_pred)\n",
    "testPredict.to_csv(out_name %(summit_path, base, 'DNN_V2'), index=False)\n",
    "testPredict.head()"
   ]
  },
  {
   "cell_type": "code",
   "execution_count": 23,
   "metadata": {
    "collapsed": true
   },
   "outputs": [],
   "source": [
    "# 最后要关闭 \n",
    "sess.close()"
   ]
  },
  {
   "cell_type": "code",
   "execution_count": null,
   "metadata": {
    "collapsed": true
   },
   "outputs": [],
   "source": []
  }
 ],
 "metadata": {
  "kernelspec": {
   "display_name": "Python 3",
   "language": "python",
   "name": "python3"
  },
  "language_info": {
   "codemirror_mode": {
    "name": "ipython",
    "version": 3
   },
   "file_extension": ".py",
   "mimetype": "text/x-python",
   "name": "python",
   "nbconvert_exporter": "python",
   "pygments_lexer": "ipython3",
   "version": "3.6.3"
  }
 },
 "nbformat": 4,
 "nbformat_minor": 2
}
