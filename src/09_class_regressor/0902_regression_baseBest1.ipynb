{
 "cells": [
  {
   "cell_type": "markdown",
   "metadata": {},
   "source": [
    "# 回归-基础学习器：最佳模型\n",
    "## 只对分类后的数据集进行回归\n",
    "- 4 正则化的线性回归 ElasticNetCV\n",
    "- 5 Gradient Boosting Regressor\n",
    "- 6 RandomForestRegressor\n",
    "- 7 BaggingRegressor"
   ]
  },
  {
   "cell_type": "code",
   "execution_count": 74,
   "metadata": {
    "collapsed": true
   },
   "outputs": [],
   "source": [
    "# 导入必要的工具包\n",
    "import numpy as np #用于数值计算\n",
    "import pandas as pd #用于数据表处理，数据文件读写\n",
    "from sklearn.preprocessing import StandardScaler\n",
    "from sklearn.metrics import mean_squared_error\n",
    "from sklearn.linear_model import ElasticNetCV\n",
    "from sklearn import ensemble\n",
    "\n",
    "import matplotlib.pyplot as plt #用于绘图：分析结果的可视化。\n",
    "#应该是设置浮点数的形式格式，小数点后三位\n",
    "pd.set_option('display.float_format', lambda x: '%.4f' % x)\n",
    "#这一行是干嘛的？ 设置 matplotlib 让绘制的图形出现在 Notebook 里而不是新窗口\n",
    "%matplotlib inline"
   ]
  },
  {
   "cell_type": "code",
   "execution_count": 75,
   "metadata": {
    "collapsed": true
   },
   "outputs": [],
   "source": [
    "def get_train_val(val_id):\n",
    "    '''获取训练集和校验集 \n",
    "    val_id = 0,1,2 #当前校验集编号 '''\n",
    "    print('val_id=%s'% (val_id))\n",
    "    df_val = train_list[val_id]\n",
    "    train_tmp = []\n",
    "\n",
    "    for i in range(1, train_part_num):\n",
    "        cur_id = (val_id + i) % 5\n",
    "        print('cur_id=%s'% (cur_id))\n",
    "        train_tmp.append(train_list[cur_id])\n",
    "    \n",
    "#     只生成一次，节省内存 \n",
    "    df_train = pd.concat(train_tmp)\n",
    "    print('df_train.shape=%s  df_val.shape=%s'% (df_train.shape, df_val.shape))\n",
    "    return df_train, df_val"
   ]
  },
  {
   "cell_type": "code",
   "execution_count": 76,
   "metadata": {
    "collapsed": true
   },
   "outputs": [],
   "source": [
    "train_part_num = 5 #训练集拆分个数\n",
    "test_class_threshold = 0.88\n",
    "\n",
    "Y_Standard = True\n",
    "path_train = '../../data/new/train=all-class/'\n",
    "path_test = '../../data/new/test/'\n",
    "\n",
    "val_path = '../../data/val/7pay_45payBase/' #保存校验集测试结果\n",
    "val_name = '%sval=stacking-%s-%s.csv'\n",
    "summit_path = '../../data/summit/7pay_45payBase/' #保存提交文件，测试集测试结果 \n",
    "part_name = '7pay_45pay' #拆分的部分\n",
    "predict_name = '%s%s=stacking-%s-%s=%s.csv' # 生成的结果文件名称：只有当前部分\n",
    "out_name = '%ssummit=stacking-%s-%s=%s.csv' # 生成的结果文件名称：用于提交\n",
    "base = '7pay_45payBase' #学习器级别 \n",
    "\n",
    "target = 'prediction_pay_price'\n",
    "user_id = 'user_id'"
   ]
  },
  {
   "cell_type": "markdown",
   "metadata": {},
   "source": [
    "## 指定读取数据类型，节省内存"
   ]
  },
  {
   "cell_type": "code",
   "execution_count": 77,
   "metadata": {
    "collapsed": true
   },
   "outputs": [],
   "source": [
    "col_int32 = ['user_id', 'register_time', 'wood_add_value', 'wood_reduce_value',\n",
    "       'stone_add_value', 'stone_reduce_value', 'ivory_add_value',\n",
    "       'ivory_reduce_value', 'meat_add_value', 'meat_reduce_value',\n",
    "       'magic_add_value', 'magic_reduce_value', 'infantry_add_value',\n",
    "       'infantry_reduce_value', 'cavalry_add_value', 'cavalry_reduce_value',\n",
    "       'shaman_add_value', 'shaman_reduce_value', 'wound_infantry_add_value',\n",
    "       'wound_infantry_reduce_value', 'wound_cavalry_add_value',\n",
    "       'wound_cavalry_reduce_value', 'wound_shaman_add_value',\n",
    "       'wound_shaman_reduce_value', 'general_acceleration_add_value',\n",
    "       'general_acceleration_reduce_value', 'building_acceleration_add_value',\n",
    "       'building_acceleration_reduce_value', 'reaserch_acceleration_add_value',\n",
    "       'reaserch_acceleration_reduce_value', 'training_acceleration_add_value',\n",
    "       'training_acceleration_reduce_value', 'treatment_acceleraion_add_value',\n",
    "       'treatment_acceleration_reduce_value', 'bd_training_hut_level',\n",
    "       'bd_healing_lodge_level', 'bd_stronghold_level',\n",
    "       'bd_outpost_portal_level', 'bd_barrack_level',\n",
    "       'bd_healing_spring_level', 'bd_dolmen_level', 'bd_guest_cavern_level',\n",
    "       'bd_warehouse_level', 'bd_watchtower_level', 'bd_magic_coin_tree_level',\n",
    "       'bd_hall_of_war_level', 'bd_market_level', 'bd_hero_gacha_level',\n",
    "       'bd_hero_strengthen_level', 'bd_hero_pve_level', 'sr_scout_level', \n",
    "       'sr_training_speed_level', 'sr_infantry_tier_2_level',\n",
    "       'sr_cavalry_tier_2_level', 'sr_shaman_tier_2_level',\n",
    "       'sr_infantry_atk_level', 'sr_cavalry_atk_level', 'sr_shaman_atk_level',\n",
    "       'sr_infantry_tier_3_level', 'sr_cavalry_tier_3_level',\n",
    "       'sr_shaman_tier_3_level', 'sr_troop_defense_level',\n",
    "       'sr_infantry_def_level', 'sr_cavalry_def_level', 'sr_shaman_def_level',\n",
    "       'sr_infantry_hp_level', 'sr_cavalry_hp_level', 'sr_shaman_hp_level',\n",
    "       'sr_infantry_tier_4_level', 'sr_cavalry_tier_4_level',\n",
    "       'sr_shaman_tier_4_level', 'sr_troop_attack_level',\n",
    "       'sr_construction_speed_level', 'sr_hide_storage_level',\n",
    "       'sr_troop_consumption_level', 'sr_rss_a_prod_levell',\n",
    "       'sr_rss_b_prod_level', 'sr_rss_c_prod_level', 'sr_rss_d_prod_level',\n",
    "       'sr_rss_a_gather_level', 'sr_rss_b_gather_level',\n",
    "       'sr_rss_c_gather_level', 'sr_rss_d_gather_level', 'sr_troop_load_level',\n",
    "       'sr_rss_e_gather_level', 'sr_rss_e_prod_level',\n",
    "       'sr_outpost_durability_level', 'sr_outpost_tier_2_level',\n",
    "       'sr_healing_space_level', 'sr_gathering_hunter_buff_level',\n",
    "       'sr_healing_speed_level', 'sr_outpost_tier_3_level',\n",
    "       'sr_alliance_march_speed_level', 'sr_pvp_march_speed_level',\n",
    "       'sr_gathering_march_speed_level', 'sr_outpost_tier_4_level',\n",
    "       'sr_guest_troop_capacity_level', 'sr_march_size_level',\n",
    "       'sr_rss_help_bonus_level', 'pvp_battle_count', 'pvp_lanch_count',\n",
    "       'pvp_win_count', 'pve_battle_count', 'pve_lanch_count', 'pve_win_count',\n",
    "       'pay_count']\n",
    "col_float32 = ['avg_online_minutes', 'pay_price']"
   ]
  },
  {
   "cell_type": "code",
   "execution_count": 78,
   "metadata": {
    "collapsed": true
   },
   "outputs": [],
   "source": [
    "# 指定读取数据类型，节省内存\n",
    "dtype_test = {}\n",
    "for col in col_int32:\n",
    "    dtype_test[col] = np.int32\n",
    "for col in col_float32:\n",
    "    dtype_test[col] = np.float32\n",
    "# dtype_test"
   ]
  },
  {
   "cell_type": "code",
   "execution_count": 79,
   "metadata": {
    "collapsed": true
   },
   "outputs": [],
   "source": [
    "dtype_train = dtype_test.copy()\n",
    "dtype_train[target] = np.float32\n",
    "# dtype_train"
   ]
  },
  {
   "cell_type": "markdown",
   "metadata": {},
   "source": [
    "## 读取数据，一次读取多次使用，不同组合 "
   ]
  },
  {
   "cell_type": "code",
   "execution_count": 80,
   "metadata": {},
   "outputs": [
    {
     "data": {
      "text/html": [
       "<div>\n",
       "<style>\n",
       "    .dataframe thead tr:only-child th {\n",
       "        text-align: right;\n",
       "    }\n",
       "\n",
       "    .dataframe thead th {\n",
       "        text-align: left;\n",
       "    }\n",
       "\n",
       "    .dataframe tbody tr th {\n",
       "        vertical-align: top;\n",
       "    }\n",
       "</style>\n",
       "<table border=\"1\" class=\"dataframe\">\n",
       "  <thead>\n",
       "    <tr style=\"text-align: right;\">\n",
       "      <th></th>\n",
       "      <th>user_id</th>\n",
       "      <th>register_time</th>\n",
       "      <th>wood_add_value</th>\n",
       "      <th>wood_reduce_value</th>\n",
       "      <th>stone_add_value</th>\n",
       "      <th>stone_reduce_value</th>\n",
       "      <th>ivory_add_value</th>\n",
       "      <th>ivory_reduce_value</th>\n",
       "      <th>meat_add_value</th>\n",
       "      <th>meat_reduce_value</th>\n",
       "      <th>...</th>\n",
       "      <th>pvp_battle_count</th>\n",
       "      <th>pvp_lanch_count</th>\n",
       "      <th>pvp_win_count</th>\n",
       "      <th>pve_battle_count</th>\n",
       "      <th>pve_lanch_count</th>\n",
       "      <th>pve_win_count</th>\n",
       "      <th>avg_online_minutes</th>\n",
       "      <th>pay_price</th>\n",
       "      <th>pay_count</th>\n",
       "      <th>prediction_pay_price</th>\n",
       "    </tr>\n",
       "  </thead>\n",
       "  <tbody>\n",
       "    <tr>\n",
       "      <th>0</th>\n",
       "      <td>2310878</td>\n",
       "      <td>100</td>\n",
       "      <td>10273601</td>\n",
       "      <td>9588829</td>\n",
       "      <td>5389321</td>\n",
       "      <td>4259624</td>\n",
       "      <td>3071031</td>\n",
       "      <td>921416</td>\n",
       "      <td>12518252</td>\n",
       "      <td>9156837</td>\n",
       "      <td>...</td>\n",
       "      <td>4</td>\n",
       "      <td>4</td>\n",
       "      <td>0</td>\n",
       "      <td>69</td>\n",
       "      <td>68</td>\n",
       "      <td>68</td>\n",
       "      <td>55.0000</td>\n",
       "      <td>19.9900</td>\n",
       "      <td>1</td>\n",
       "      <td>42.9600</td>\n",
       "    </tr>\n",
       "    <tr>\n",
       "      <th>1</th>\n",
       "      <td>922981</td>\n",
       "      <td>121</td>\n",
       "      <td>1901611</td>\n",
       "      <td>1680532</td>\n",
       "      <td>200000</td>\n",
       "      <td>0</td>\n",
       "      <td>200000</td>\n",
       "      <td>0</td>\n",
       "      <td>981486</td>\n",
       "      <td>257991</td>\n",
       "      <td>...</td>\n",
       "      <td>1</td>\n",
       "      <td>1</td>\n",
       "      <td>0</td>\n",
       "      <td>2</td>\n",
       "      <td>1</td>\n",
       "      <td>1</td>\n",
       "      <td>13.8333</td>\n",
       "      <td>0.9900</td>\n",
       "      <td>1</td>\n",
       "      <td>2.9800</td>\n",
       "    </tr>\n",
       "    <tr>\n",
       "      <th>2</th>\n",
       "      <td>1421836</td>\n",
       "      <td>132</td>\n",
       "      <td>3076081</td>\n",
       "      <td>3767755</td>\n",
       "      <td>1577607</td>\n",
       "      <td>2332954</td>\n",
       "      <td>815919</td>\n",
       "      <td>127796</td>\n",
       "      <td>6818347</td>\n",
       "      <td>5943642</td>\n",
       "      <td>...</td>\n",
       "      <td>2</td>\n",
       "      <td>0</td>\n",
       "      <td>0</td>\n",
       "      <td>37</td>\n",
       "      <td>37</td>\n",
       "      <td>35</td>\n",
       "      <td>215.1667</td>\n",
       "      <td>2.9700</td>\n",
       "      <td>3</td>\n",
       "      <td>32.9500</td>\n",
       "    </tr>\n",
       "    <tr>\n",
       "      <th>3</th>\n",
       "      <td>1132808</td>\n",
       "      <td>110</td>\n",
       "      <td>13214092</td>\n",
       "      <td>6245650</td>\n",
       "      <td>7457241</td>\n",
       "      <td>3362896</td>\n",
       "      <td>4700000</td>\n",
       "      <td>0</td>\n",
       "      <td>13581968</td>\n",
       "      <td>3982139</td>\n",
       "      <td>...</td>\n",
       "      <td>7</td>\n",
       "      <td>6</td>\n",
       "      <td>5</td>\n",
       "      <td>12</td>\n",
       "      <td>12</td>\n",
       "      <td>8</td>\n",
       "      <td>107.6667</td>\n",
       "      <td>77.9300</td>\n",
       "      <td>7</td>\n",
       "      <td>322.7200</td>\n",
       "    </tr>\n",
       "    <tr>\n",
       "      <th>4</th>\n",
       "      <td>2984162</td>\n",
       "      <td>100</td>\n",
       "      <td>14309792</td>\n",
       "      <td>12930020</td>\n",
       "      <td>10279537</td>\n",
       "      <td>7703921</td>\n",
       "      <td>3821383</td>\n",
       "      <td>874338</td>\n",
       "      <td>20707492</td>\n",
       "      <td>13489209</td>\n",
       "      <td>...</td>\n",
       "      <td>18</td>\n",
       "      <td>17</td>\n",
       "      <td>16</td>\n",
       "      <td>33</td>\n",
       "      <td>33</td>\n",
       "      <td>33</td>\n",
       "      <td>155.3333</td>\n",
       "      <td>31.9400</td>\n",
       "      <td>6</td>\n",
       "      <td>298.7400</td>\n",
       "    </tr>\n",
       "  </tbody>\n",
       "</table>\n",
       "<p>5 rows × 109 columns</p>\n",
       "</div>"
      ],
      "text/plain": [
       "   user_id  register_time  wood_add_value  wood_reduce_value  stone_add_value  \\\n",
       "0  2310878            100        10273601            9588829          5389321   \n",
       "1   922981            121         1901611            1680532           200000   \n",
       "2  1421836            132         3076081            3767755          1577607   \n",
       "3  1132808            110        13214092            6245650          7457241   \n",
       "4  2984162            100        14309792           12930020         10279537   \n",
       "\n",
       "   stone_reduce_value  ivory_add_value  ivory_reduce_value  meat_add_value  \\\n",
       "0             4259624          3071031              921416        12518252   \n",
       "1                   0           200000                   0          981486   \n",
       "2             2332954           815919              127796         6818347   \n",
       "3             3362896          4700000                   0        13581968   \n",
       "4             7703921          3821383              874338        20707492   \n",
       "\n",
       "   meat_reduce_value          ...           pvp_battle_count  pvp_lanch_count  \\\n",
       "0            9156837          ...                          4                4   \n",
       "1             257991          ...                          1                1   \n",
       "2            5943642          ...                          2                0   \n",
       "3            3982139          ...                          7                6   \n",
       "4           13489209          ...                         18               17   \n",
       "\n",
       "   pvp_win_count  pve_battle_count  pve_lanch_count  pve_win_count  \\\n",
       "0              0                69               68             68   \n",
       "1              0                 2                1              1   \n",
       "2              0                37               37             35   \n",
       "3              5                12               12              8   \n",
       "4             16                33               33             33   \n",
       "\n",
       "   avg_online_minutes  pay_price  pay_count  prediction_pay_price  \n",
       "0             55.0000    19.9900          1               42.9600  \n",
       "1             13.8333     0.9900          1                2.9800  \n",
       "2            215.1667     2.9700          3               32.9500  \n",
       "3            107.6667    77.9300          7              322.7200  \n",
       "4            155.3333    31.9400          6              298.7400  \n",
       "\n",
       "[5 rows x 109 columns]"
      ]
     },
     "execution_count": 80,
     "metadata": {},
     "output_type": "execute_result"
    }
   ],
   "source": [
    "train_list = []\n",
    "for i in range(train_part_num):\n",
    "    cur_id = i + 1\n",
    "    train_list.append(pd.read_csv('%strain_7pay_45pay-%s.csv' % (path_train, cur_id), dtype=dtype_train))\n",
    "train_list[0].head()"
   ]
  },
  {
   "cell_type": "markdown",
   "metadata": {},
   "source": [
    "## 5折交叉验证"
   ]
  },
  {
   "cell_type": "code",
   "execution_count": 81,
   "metadata": {},
   "outputs": [
    {
     "name": "stdout",
     "output_type": "stream",
     "text": [
      "val_id=2\n",
      "cur_id=3\n",
      "cur_id=4\n",
      "cur_id=0\n",
      "cur_id=1\n",
      "df_train.shape=(9047, 109)  df_val.shape=(2262, 109)\n"
     ]
    }
   ],
   "source": [
    "# 根据校验集编号 0，1,2,3,4 ，获取训练集和校验集\n",
    "df_train, df_val = get_train_val(2)\n",
    "\n",
    "# # 剔除离群点: 效果不好 \n",
    "# outlier = 30000\n",
    "# df_train = df_train[df_train[target] < outlier]\n",
    "# df_val = df_val[df_val[target] < outlier]"
   ]
  },
  {
   "cell_type": "code",
   "execution_count": 82,
   "metadata": {},
   "outputs": [
    {
     "data": {
      "text/plain": [
       "Text(0.5,1,'Distribution of prediction_pay_price')"
      ]
     },
     "execution_count": 82,
     "metadata": {},
     "output_type": "execute_result"
    },
    {
     "data": {
      "image/png": "[encoded data removed]",
      "text/plain": [
       "<matplotlib.figure.Figure at 0x1011a6a0>"
      ]
     },
     "metadata": {},
     "output_type": "display_data"
    }
   ],
   "source": [
    "# 离群点检测：单个特征散点图\n",
    "plt.scatter(range(df_train.shape[0]), df_train[target].values, edgecolors='purple')\n",
    "plt.title('Distribution of prediction_pay_price')\n",
    "# 超过 25000 可以认为是异常点"
   ]
  },
  {
   "cell_type": "code",
   "execution_count": 83,
   "metadata": {
    "collapsed": true
   },
   "outputs": [],
   "source": [
    "# # 剔除离群点：删除 y 大于 700000 的样本\n",
    "# df_train = df_train[df_train[target] < 20000]\n",
    "# df_train.shape"
   ]
  },
  {
   "cell_type": "code",
   "execution_count": 84,
   "metadata": {
    "collapsed": true
   },
   "outputs": [],
   "source": [
    "# # 离群点检测：单个特征散点图\n",
    "# plt.scatter(range(df_val.shape[0]), df_val[target].values, edgecolors='purple')\n",
    "# plt.title('Distribution of prediction_pay_price')\n",
    "# # 超过 25000 可以认为是异常点"
   ]
  },
  {
   "cell_type": "code",
   "execution_count": 85,
   "metadata": {
    "collapsed": true
   },
   "outputs": [],
   "source": [
    "# # 剔除离群点：删除 y 大于 700000 的样本\n",
    "# df_val = df_val[df_val[target] < 20000]\n",
    "# df_val.shape"
   ]
  },
  {
   "cell_type": "code",
   "execution_count": 86,
   "metadata": {
    "collapsed": true
   },
   "outputs": [],
   "source": [
    "# 从原始数据中分离输入特征x和输出y\n",
    "train_y = df_train[target].values\n",
    "train_X = df_train.drop([target, user_id], axis = 1)\n",
    "val_y = df_val[target].values\n",
    "val_X = df_val.drop([target, user_id], axis = 1)"
   ]
  },
  {
   "cell_type": "code",
   "execution_count": 87,
   "metadata": {
    "collapsed": true
   },
   "outputs": [],
   "source": [
    "# 数据标准化：分别初始化对特征和目标值的标准化器 \n",
    "ss_X = StandardScaler()\n",
    "ss_y = StandardScaler()\n",
    "\n",
    "# 分别对训练和测试数据的特征以及目标值进行标准化处理\n",
    "train_X_ss = ss_X.fit_transform(train_X)\n",
    "val_X_ss = ss_X.transform(val_X)\n",
    "\n",
    "if Y_Standard:\n",
    "    train_y_ss = ss_y.fit_transform(train_y.reshape(-1, 1))\n",
    "    val_y_ss = ss_y.transform(val_y.reshape(-1, 1))\n",
    "    # 需要转换为一维数组 \n",
    "    train_y_ss_1d = train_y_ss.reshape(train_y_ss.shape[0])\n",
    "    val_y_ss_1d = val_y_ss.reshape(val_y_ss.shape[0])\n",
    "else:\n",
    "    # 需要转换为一维数组 \n",
    "    train_y_ss_1d = train_y.reshape(train_y.shape[0])\n",
    "    val_y_ss_1d = val_y.reshape(val_y.shape[0])"
   ]
  },
  {
   "cell_type": "code",
   "execution_count": 88,
   "metadata": {
    "collapsed": true
   },
   "outputs": [],
   "source": [
    "def inverse_StandardScaler(predict):\n",
    "    ''' 标准化数据还原  '''\n",
    "    if Y_Standard:\n",
    "        predict = ss_y.inverse_transform(predict)\n",
    "        print('predict = ', predict)\n",
    "    return predict\n",
    "\n",
    "def generate_summit(predict, df, isTest=False):\n",
    "    ''' 输出预测后的数据 '''\n",
    "    testPredict = df.copy()\n",
    "    testPredict[target] = predict\n",
    "    testPredict = testPredict[[user_id, target]]\n",
    "#     应该过滤掉负数\n",
    "    testPredict[target] = testPredict[target].apply(lambda x: x if x > 0 else 0)\n",
    "#     过滤掉太大的数值看看\n",
    "#     testPredict[target] = testPredict[target].apply(lambda x: x if x < 20000 else 20000)\n",
    "    if isTest: #测试集需要合并其他部分 \n",
    "        test_7pay_45nopay = pd.read_csv(path_test + 'test-7pay-45nopay=%s.csv' % test_class_threshold, dtype=dtype_test)\n",
    "        test_7pay_45nopay[target] = test_7pay_45nopay['pay_price']\n",
    "        testPredict_7pay_45nopay = test_7pay_45nopay[[user_id, target]]\n",
    "        \n",
    "        test_7nopay = pd.read_csv(path_test + 'test-7nopay.csv', dtype=dtype_test)\n",
    "        test_7nopay[target] = 0\n",
    "        testPredict_7nopay = test_7nopay[[user_id, target]]\n",
    "        \n",
    "        testPredict = pd.concat([testPredict, testPredict_7pay_45nopay, testPredict_7nopay])\n",
    "    return testPredict"
   ]
  },
  {
   "cell_type": "markdown",
   "metadata": {},
   "source": [
    "## 模型训练\n",
    "###  4. 正则化的线性回归 ElasticNetCV"
   ]
  },
  {
   "cell_type": "code",
   "execution_count": 89,
   "metadata": {},
   "outputs": [
    {
     "name": "stdout",
     "output_type": "stream",
     "text": [
      "best alpha is:0.1417291629654938  l1_ratio_:1.0\n",
      "Wall time: 554 ms\n"
     ]
    }
   ],
   "source": [
    "%%time\n",
    "# l1_ratio = [.1, .5, .7, .9, .95, .99, 1]\n",
    "l1_ratio = [.95, .99, 1.0]\n",
    "\n",
    "# model = ElasticNetCV(l1_ratio=l1_ratio, eps=0.0001)\n",
    "# model = ElasticNetCV(l1_ratio=l1_ratio, eps=0.0005)\n",
    "# model = ElasticNetCV(l1_ratio=l1_ratio, eps=0.001) #效果最好\n",
    "# model = ElasticNetCV(l1_ratio=l1_ratio, eps=0.005)\n",
    "# model = ElasticNetCV(l1_ratio=l1_ratio, eps=0.01)\n",
    "# model = ElasticNetCV(l1_ratio=l1_ratio, eps=0.05)\n",
    "# model = ElasticNetCV(l1_ratio=l1_ratio, eps=0.1)\n",
    "model = ElasticNetCV(l1_ratio=l1_ratio, eps=0.2)\n",
    "model.fit(train_X_ss, train_y_ss_1d)\n",
    "print ('best alpha is:%s  l1_ratio_:%s' % (model.alpha_, model.l1_ratio_))\n",
    "# best alpha is:0.023491824547378765  l1_ratio_:1.0\n",
    "# Wall time: 1min 17s"
   ]
  },
  {
   "cell_type": "code",
   "execution_count": 90,
   "metadata": {},
   "outputs": [
    {
     "name": "stdout",
     "output_type": "stream",
     "text": [
      "The score of model: Train=0.4852108932079056  Val=0.599647420050688\n",
      "The RMSE: Train=0.7174880918925083  Val=0.8043727999427486\n"
     ]
    }
   ],
   "source": [
    "# 模型评估\n",
    "scoreTrain = model.score(train_X_ss, train_y_ss_1d)\n",
    "scoreVal = model.score(val_X_ss, val_y_ss_1d)\n",
    "print('The score of model: Train=%s  Val=%s'% (scoreTrain, scoreVal)) \n",
    "\n",
    "predict_train = model.predict(train_X_ss)\n",
    "rmseTrain = mean_squared_error(train_y_ss_1d, predict_train) ** 0.5\n",
    "predict_val = model.predict(val_X_ss)\n",
    "rmseVal = mean_squared_error(val_y_ss_1d, predict_val) ** 0.5\n",
    "print('The RMSE: Train=%s  Val=%s' % (rmseTrain, rmseVal))\n",
    "\n",
    "# The score of model: Train=0.5740511825542906  Val=0.3706422635842158\n",
    "# The RMSE: Train=0.6526475534755682  Val=0.7335363456456494"
   ]
  },
  {
   "cell_type": "markdown",
   "metadata": {},
   "source": [
    "### 保存校验集测试结果"
   ]
  },
  {
   "cell_type": "code",
   "execution_count": 91,
   "metadata": {},
   "outputs": [
    {
     "name": "stdout",
     "output_type": "stream",
     "text": [
      "predict_val=  [-0.16292422 -0.13681941 -0.16814217 ... -0.13559418 -0.08734636\n",
      " -0.12195773]\n",
      "predict =  [122.64909882 152.27197492 116.72793916 ... 153.66232712 208.41236183\n",
      " 169.1365178 ]\n"
     ]
    },
    {
     "data": {
      "text/html": [
       "<div>\n",
       "<style>\n",
       "    .dataframe thead tr:only-child th {\n",
       "        text-align: right;\n",
       "    }\n",
       "\n",
       "    .dataframe thead th {\n",
       "        text-align: left;\n",
       "    }\n",
       "\n",
       "    .dataframe tbody tr th {\n",
       "        vertical-align: top;\n",
       "    }\n",
       "</style>\n",
       "<table border=\"1\" class=\"dataframe\">\n",
       "  <thead>\n",
       "    <tr style=\"text-align: right;\">\n",
       "      <th></th>\n",
       "      <th>user_id</th>\n",
       "      <th>prediction_pay_price</th>\n",
       "    </tr>\n",
       "  </thead>\n",
       "  <tbody>\n",
       "    <tr>\n",
       "      <th>0</th>\n",
       "      <td>1790114</td>\n",
       "      <td>122.6491</td>\n",
       "    </tr>\n",
       "    <tr>\n",
       "      <th>1</th>\n",
       "      <td>1492968</td>\n",
       "      <td>152.2720</td>\n",
       "    </tr>\n",
       "    <tr>\n",
       "      <th>2</th>\n",
       "      <td>1931840</td>\n",
       "      <td>116.7279</td>\n",
       "    </tr>\n",
       "    <tr>\n",
       "      <th>3</th>\n",
       "      <td>1958049</td>\n",
       "      <td>249.2223</td>\n",
       "    </tr>\n",
       "    <tr>\n",
       "      <th>4</th>\n",
       "      <td>246631</td>\n",
       "      <td>205.0079</td>\n",
       "    </tr>\n",
       "  </tbody>\n",
       "</table>\n",
       "</div>"
      ],
      "text/plain": [
       "   user_id  prediction_pay_price\n",
       "0  1790114              122.6491\n",
       "1  1492968              152.2720\n",
       "2  1931840              116.7279\n",
       "3  1958049              249.2223\n",
       "4   246631              205.0079"
      ]
     },
     "execution_count": 91,
     "metadata": {},
     "output_type": "execute_result"
    }
   ],
   "source": [
    "print('predict_val= ', predict_val)\n",
    "# 标准化数据还原 \n",
    "predict_val = inverse_StandardScaler(predict_val)\n",
    "valPredict = generate_summit(predict_val, df_val)\n",
    "#输出预测后的数据\n",
    "valPredict.to_csv(val_name %(val_path, base, 'ElasticNetCV'), index=False)\n",
    "valPredict.head()"
   ]
  },
  {
   "cell_type": "markdown",
   "metadata": {},
   "source": [
    "## 加载测试数据"
   ]
  },
  {
   "cell_type": "code",
   "execution_count": 92,
   "metadata": {
    "scrolled": true
   },
   "outputs": [
    {
     "data": {
      "text/html": [
       "<div>\n",
       "<style>\n",
       "    .dataframe thead tr:only-child th {\n",
       "        text-align: right;\n",
       "    }\n",
       "\n",
       "    .dataframe thead th {\n",
       "        text-align: left;\n",
       "    }\n",
       "\n",
       "    .dataframe tbody tr th {\n",
       "        vertical-align: top;\n",
       "    }\n",
       "</style>\n",
       "<table border=\"1\" class=\"dataframe\">\n",
       "  <thead>\n",
       "    <tr style=\"text-align: right;\">\n",
       "      <th></th>\n",
       "      <th>user_id</th>\n",
       "      <th>register_time</th>\n",
       "      <th>wood_add_value</th>\n",
       "      <th>wood_reduce_value</th>\n",
       "      <th>stone_add_value</th>\n",
       "      <th>stone_reduce_value</th>\n",
       "      <th>ivory_add_value</th>\n",
       "      <th>ivory_reduce_value</th>\n",
       "      <th>meat_add_value</th>\n",
       "      <th>meat_reduce_value</th>\n",
       "      <th>...</th>\n",
       "      <th>sr_rss_help_bonus_level</th>\n",
       "      <th>pvp_battle_count</th>\n",
       "      <th>pvp_lanch_count</th>\n",
       "      <th>pvp_win_count</th>\n",
       "      <th>pve_battle_count</th>\n",
       "      <th>pve_lanch_count</th>\n",
       "      <th>pve_win_count</th>\n",
       "      <th>avg_online_minutes</th>\n",
       "      <th>pay_price</th>\n",
       "      <th>pay_count</th>\n",
       "    </tr>\n",
       "  </thead>\n",
       "  <tbody>\n",
       "    <tr>\n",
       "      <th>0</th>\n",
       "      <td>15059</td>\n",
       "      <td>94</td>\n",
       "      <td>6058137</td>\n",
       "      <td>3960541</td>\n",
       "      <td>5040000</td>\n",
       "      <td>2520000</td>\n",
       "      <td>2109000</td>\n",
       "      <td>0</td>\n",
       "      <td>14586512</td>\n",
       "      <td>7910807</td>\n",
       "      <td>...</td>\n",
       "      <td>0</td>\n",
       "      <td>0</td>\n",
       "      <td>0</td>\n",
       "      <td>0</td>\n",
       "      <td>11</td>\n",
       "      <td>11</td>\n",
       "      <td>9</td>\n",
       "      <td>13.8333</td>\n",
       "      <td>5.9800</td>\n",
       "      <td>2</td>\n",
       "    </tr>\n",
       "    <tr>\n",
       "      <th>1</th>\n",
       "      <td>15102</td>\n",
       "      <td>94</td>\n",
       "      <td>1080008</td>\n",
       "      <td>19659</td>\n",
       "      <td>1000000</td>\n",
       "      <td>0</td>\n",
       "      <td>500000</td>\n",
       "      <td>0</td>\n",
       "      <td>2303911</td>\n",
       "      <td>13076</td>\n",
       "      <td>...</td>\n",
       "      <td>0</td>\n",
       "      <td>0</td>\n",
       "      <td>0</td>\n",
       "      <td>0</td>\n",
       "      <td>1</td>\n",
       "      <td>1</td>\n",
       "      <td>1</td>\n",
       "      <td>2.1667</td>\n",
       "      <td>0.9900</td>\n",
       "      <td>1</td>\n",
       "    </tr>\n",
       "    <tr>\n",
       "      <th>2</th>\n",
       "      <td>15117</td>\n",
       "      <td>94</td>\n",
       "      <td>1008693</td>\n",
       "      <td>1432481</td>\n",
       "      <td>260373</td>\n",
       "      <td>341296</td>\n",
       "      <td>3000</td>\n",
       "      <td>0</td>\n",
       "      <td>1138637</td>\n",
       "      <td>1125207</td>\n",
       "      <td>...</td>\n",
       "      <td>0</td>\n",
       "      <td>17</td>\n",
       "      <td>11</td>\n",
       "      <td>11</td>\n",
       "      <td>13</td>\n",
       "      <td>13</td>\n",
       "      <td>8</td>\n",
       "      <td>46.5000</td>\n",
       "      <td>0.9900</td>\n",
       "      <td>1</td>\n",
       "    </tr>\n",
       "    <tr>\n",
       "      <th>3</th>\n",
       "      <td>15403</td>\n",
       "      <td>94</td>\n",
       "      <td>32476542</td>\n",
       "      <td>31760660</td>\n",
       "      <td>25469599</td>\n",
       "      <td>23563422</td>\n",
       "      <td>9018996</td>\n",
       "      <td>4927897</td>\n",
       "      <td>33390901</td>\n",
       "      <td>23173564</td>\n",
       "      <td>...</td>\n",
       "      <td>0</td>\n",
       "      <td>30</td>\n",
       "      <td>30</td>\n",
       "      <td>29</td>\n",
       "      <td>62</td>\n",
       "      <td>61</td>\n",
       "      <td>53</td>\n",
       "      <td>137.0000</td>\n",
       "      <td>93.9000</td>\n",
       "      <td>10</td>\n",
       "    </tr>\n",
       "    <tr>\n",
       "      <th>4</th>\n",
       "      <td>15416</td>\n",
       "      <td>94</td>\n",
       "      <td>13519777</td>\n",
       "      <td>10714207</td>\n",
       "      <td>13774948</td>\n",
       "      <td>10304076</td>\n",
       "      <td>4972950</td>\n",
       "      <td>382176</td>\n",
       "      <td>15574803</td>\n",
       "      <td>11066862</td>\n",
       "      <td>...</td>\n",
       "      <td>0</td>\n",
       "      <td>0</td>\n",
       "      <td>0</td>\n",
       "      <td>0</td>\n",
       "      <td>27</td>\n",
       "      <td>27</td>\n",
       "      <td>27</td>\n",
       "      <td>45.5000</td>\n",
       "      <td>10.9800</td>\n",
       "      <td>2</td>\n",
       "    </tr>\n",
       "  </tbody>\n",
       "</table>\n",
       "<p>5 rows × 108 columns</p>\n",
       "</div>"
      ],
      "text/plain": [
       "   user_id  register_time  wood_add_value  wood_reduce_value  stone_add_value  \\\n",
       "0    15059             94         6058137            3960541          5040000   \n",
       "1    15102             94         1080008              19659          1000000   \n",
       "2    15117             94         1008693            1432481           260373   \n",
       "3    15403             94        32476542           31760660         25469599   \n",
       "4    15416             94        13519777           10714207         13774948   \n",
       "\n",
       "   stone_reduce_value  ivory_add_value  ivory_reduce_value  meat_add_value  \\\n",
       "0             2520000          2109000                   0        14586512   \n",
       "1                   0           500000                   0         2303911   \n",
       "2              341296             3000                   0         1138637   \n",
       "3            23563422          9018996             4927897        33390901   \n",
       "4            10304076          4972950              382176        15574803   \n",
       "\n",
       "   meat_reduce_value    ...      sr_rss_help_bonus_level  pvp_battle_count  \\\n",
       "0            7910807    ...                            0                 0   \n",
       "1              13076    ...                            0                 0   \n",
       "2            1125207    ...                            0                17   \n",
       "3           23173564    ...                            0                30   \n",
       "4           11066862    ...                            0                 0   \n",
       "\n",
       "   pvp_lanch_count  pvp_win_count  pve_battle_count  pve_lanch_count  \\\n",
       "0                0              0                11               11   \n",
       "1                0              0                 1                1   \n",
       "2               11             11                13               13   \n",
       "3               30             29                62               61   \n",
       "4                0              0                27               27   \n",
       "\n",
       "   pve_win_count  avg_online_minutes  pay_price  pay_count  \n",
       "0              9             13.8333     5.9800          2  \n",
       "1              1              2.1667     0.9900          1  \n",
       "2              8             46.5000     0.9900          1  \n",
       "3             53            137.0000    93.9000         10  \n",
       "4             27             45.5000    10.9800          2  \n",
       "\n",
       "[5 rows x 108 columns]"
      ]
     },
     "execution_count": 92,
     "metadata": {},
     "output_type": "execute_result"
    }
   ],
   "source": [
    "test = pd.read_csv(path_test + 'test-7pay-45pay=%s.csv' % test_class_threshold, dtype=dtype_test)\n",
    "test_X = test.drop([user_id], axis = 1)\n",
    "test_X_ss = ss_X.transform(test_X)\n",
    "test.head()"
   ]
  },
  {
   "cell_type": "code",
   "execution_count": 93,
   "metadata": {},
   "outputs": [
    {
     "name": "stdout",
     "output_type": "stream",
     "text": [
      "model_y_predict_test =  [-0.1549238  -0.1709577  -0.17098791 ... -0.13797673 -0.12755282\n",
      " -0.17060779]\n",
      "predict =  [131.72771054 113.53296861 113.49868559 ... 150.95868231 162.78739474\n",
      " 113.9300325 ]\n"
     ]
    }
   ],
   "source": [
    "#对测试数据进行预测\n",
    "model_y_predict_test = model.predict(test_X_ss)\n",
    "print('model_y_predict_test = ', model_y_predict_test)\n",
    "\n",
    "# 标准化数据还原 \n",
    "y_predict_test = inverse_StandardScaler(model_y_predict_test)\n",
    "# lasso_y_predict_test =  [0.4556051 0.4556051 0.4556051 ... 0.4556051 0.4556051 0.4556051]"
   ]
  },
  {
   "cell_type": "code",
   "execution_count": 94,
   "metadata": {},
   "outputs": [
    {
     "data": {
      "text/html": [
       "<div>\n",
       "<style>\n",
       "    .dataframe thead tr:only-child th {\n",
       "        text-align: right;\n",
       "    }\n",
       "\n",
       "    .dataframe thead th {\n",
       "        text-align: left;\n",
       "    }\n",
       "\n",
       "    .dataframe tbody tr th {\n",
       "        vertical-align: top;\n",
       "    }\n",
       "</style>\n",
       "<table border=\"1\" class=\"dataframe\">\n",
       "  <thead>\n",
       "    <tr style=\"text-align: right;\">\n",
       "      <th></th>\n",
       "      <th>user_id</th>\n",
       "      <th>prediction_pay_price</th>\n",
       "    </tr>\n",
       "  </thead>\n",
       "  <tbody>\n",
       "    <tr>\n",
       "      <th>0</th>\n",
       "      <td>15059</td>\n",
       "      <td>131.7277</td>\n",
       "    </tr>\n",
       "    <tr>\n",
       "      <th>1</th>\n",
       "      <td>15102</td>\n",
       "      <td>113.5330</td>\n",
       "    </tr>\n",
       "    <tr>\n",
       "      <th>2</th>\n",
       "      <td>15117</td>\n",
       "      <td>113.4987</td>\n",
       "    </tr>\n",
       "    <tr>\n",
       "      <th>3</th>\n",
       "      <td>15403</td>\n",
       "      <td>370.8625</td>\n",
       "    </tr>\n",
       "    <tr>\n",
       "      <th>4</th>\n",
       "      <td>15416</td>\n",
       "      <td>145.7337</td>\n",
       "    </tr>\n",
       "  </tbody>\n",
       "</table>\n",
       "</div>"
      ],
      "text/plain": [
       "   user_id  prediction_pay_price\n",
       "0    15059              131.7277\n",
       "1    15102              113.5330\n",
       "2    15117              113.4987\n",
       "3    15403              370.8625\n",
       "4    15416              145.7337"
      ]
     },
     "execution_count": 94,
     "metadata": {},
     "output_type": "execute_result"
    }
   ],
   "source": [
    "#输出预测后的数据：不组合其他部分\n",
    "testPredict = generate_summit(y_predict_test, test)\n",
    "testPredict.to_csv(predict_name %(summit_path, part_name, base, 'ElasticNetCV', test_class_threshold), index=False)\n",
    "testPredict.head()"
   ]
  },
  {
   "cell_type": "code",
   "execution_count": 95,
   "metadata": {},
   "outputs": [
    {
     "data": {
      "text/html": [
       "<div>\n",
       "<style>\n",
       "    .dataframe thead tr:only-child th {\n",
       "        text-align: right;\n",
       "    }\n",
       "\n",
       "    .dataframe thead th {\n",
       "        text-align: left;\n",
       "    }\n",
       "\n",
       "    .dataframe tbody tr th {\n",
       "        vertical-align: top;\n",
       "    }\n",
       "</style>\n",
       "<table border=\"1\" class=\"dataframe\">\n",
       "  <thead>\n",
       "    <tr style=\"text-align: right;\">\n",
       "      <th></th>\n",
       "      <th>user_id</th>\n",
       "      <th>prediction_pay_price</th>\n",
       "    </tr>\n",
       "  </thead>\n",
       "  <tbody>\n",
       "    <tr>\n",
       "      <th>0</th>\n",
       "      <td>15059</td>\n",
       "      <td>131.7277</td>\n",
       "    </tr>\n",
       "    <tr>\n",
       "      <th>1</th>\n",
       "      <td>15102</td>\n",
       "      <td>113.5330</td>\n",
       "    </tr>\n",
       "    <tr>\n",
       "      <th>2</th>\n",
       "      <td>15117</td>\n",
       "      <td>113.4987</td>\n",
       "    </tr>\n",
       "    <tr>\n",
       "      <th>3</th>\n",
       "      <td>15403</td>\n",
       "      <td>370.8625</td>\n",
       "    </tr>\n",
       "    <tr>\n",
       "      <th>4</th>\n",
       "      <td>15416</td>\n",
       "      <td>145.7337</td>\n",
       "    </tr>\n",
       "  </tbody>\n",
       "</table>\n",
       "</div>"
      ],
      "text/plain": [
       "   user_id  prediction_pay_price\n",
       "0    15059              131.7277\n",
       "1    15102              113.5330\n",
       "2    15117              113.4987\n",
       "3    15403              370.8625\n",
       "4    15416              145.7337"
      ]
     },
     "execution_count": 95,
     "metadata": {},
     "output_type": "execute_result"
    }
   ],
   "source": [
    "#输出预测后的数据：组合了其他部分\n",
    "testPredict = generate_summit(y_predict_test, test, True)\n",
    "testPredict.to_csv(out_name %(summit_path, base, 'ElasticNetCV', test_class_threshold), index=False)\n",
    "testPredict.head()"
   ]
  },
  {
   "cell_type": "markdown",
   "metadata": {},
   "source": [
    "## 5 GradientBoostingRegressor"
   ]
  },
  {
   "cell_type": "code",
   "execution_count": 131,
   "metadata": {},
   "outputs": [
    {
     "name": "stdout",
     "output_type": "stream",
     "text": [
      "Wall time: 250 ms\n"
     ]
    }
   ],
   "source": [
    "%%time\n",
    "model = ensemble.GradientBoostingRegressor(learning_rate=0.25, n_estimators=6, min_samples_split=95, min_samples_leaf=25, alpha=0.99)\n",
    "model.fit(train_X_ss, train_y_ss_1d)\n",
    "# Wall time: 3min 2s "
   ]
  },
  {
   "cell_type": "code",
   "execution_count": 132,
   "metadata": {},
   "outputs": [
    {
     "name": "stdout",
     "output_type": "stream",
     "text": [
      "The score: Train=0.5504279906688054  Val=0.3901868703393093\n",
      "The RMSE: Train=0.670501321092755  Val=0.7220565885833644\n"
     ]
    }
   ],
   "source": [
    "# 模型评估\n",
    "scoreTrain = model.score(train_X_ss, train_y_ss_1d)\n",
    "scoreVal = model.score(val_X_ss, val_y_ss_1d)\n",
    "print('The score: Train=%s  Val=%s'% (scoreTrain, scoreVal)) \n",
    "\n",
    "model_predict_train = model.predict(train_X_ss)\n",
    "rmseTrain = mean_squared_error(train_y_ss_1d, model_predict_train) ** 0.5\n",
    "model_predict_val = model.predict(val_X_ss)\n",
    "rmseVal = mean_squared_error(val_y_ss_1d, model_predict_val) ** 0.5\n",
    "print('The RMSE: Train=%s  Val=%s' % (rmseTrain, rmseVal))\n",
    "\n",
    "# learning_rate=0.25, n_estimators=14, min_samples_split=80, min_samples_leaf=8, alpha=0.99\n",
    "# learning_rate=0.1, n_estimators=10, min_samples_split=100, min_samples_leaf=10, alpha=0.99\n",
    "# learning_rate=0.2, n_estimators=5, min_samples_split=100, min_samples_leaf=10, alpha=0.99\n",
    "# learning_rate=0.25, n_estimators=5, min_samples_split=100, min_samples_leaf=10, alpha=0.99\n",
    "# learning_rate=0.25, n_estimators=5, min_samples_split=90, min_samples_leaf=20, alpha=0.99\n",
    "# learning_rate=0.25, n_estimators=5, min_samples_split=90, min_samples_leaf=30, alpha=0.99\n",
    "# learning_rate=0.25, n_estimators=5, min_samples_split=90, min_samples_leaf=35, alpha=0.99\n",
    "# learning_rate=0.25, n_estimators=5, min_samples_split=90, min_samples_leaf=25, alpha=0.99\n",
    "# learning_rate=0.25, n_estimators=6, min_samples_split=95, min_samples_leaf=25, alpha=0.99\n",
    "# The score: Train=0.5504279906688055  Val=0.3901868703393093\n",
    "# The RMSE: Train=0.670501321092755  Val=0.722056588583364"
   ]
  },
  {
   "cell_type": "markdown",
   "metadata": {},
   "source": [
    "### 保存校验集测试结果"
   ]
  },
  {
   "cell_type": "code",
   "execution_count": 133,
   "metadata": {},
   "outputs": [
    {
     "name": "stdout",
     "output_type": "stream",
     "text": [
      "model_predict_val=  [-0.16357946 -0.16357946 -0.16357946 ...  0.09346007 -0.16357946\n",
      " -0.10405175]\n",
      "predict =  [119.66016402 119.66016402 119.66016402 ... 433.40050632 119.66016402\n",
      " 192.31919687]\n"
     ]
    },
    {
     "data": {
      "text/html": [
       "<div>\n",
       "<style>\n",
       "    .dataframe thead tr:only-child th {\n",
       "        text-align: right;\n",
       "    }\n",
       "\n",
       "    .dataframe thead th {\n",
       "        text-align: left;\n",
       "    }\n",
       "\n",
       "    .dataframe tbody tr th {\n",
       "        vertical-align: top;\n",
       "    }\n",
       "</style>\n",
       "<table border=\"1\" class=\"dataframe\">\n",
       "  <thead>\n",
       "    <tr style=\"text-align: right;\">\n",
       "      <th></th>\n",
       "      <th>user_id</th>\n",
       "      <th>prediction_pay_price</th>\n",
       "    </tr>\n",
       "  </thead>\n",
       "  <tbody>\n",
       "    <tr>\n",
       "      <th>0</th>\n",
       "      <td>2310878</td>\n",
       "      <td>119.6602</td>\n",
       "    </tr>\n",
       "    <tr>\n",
       "      <th>1</th>\n",
       "      <td>922981</td>\n",
       "      <td>119.6602</td>\n",
       "    </tr>\n",
       "    <tr>\n",
       "      <th>2</th>\n",
       "      <td>1421836</td>\n",
       "      <td>119.6602</td>\n",
       "    </tr>\n",
       "    <tr>\n",
       "      <th>3</th>\n",
       "      <td>1132808</td>\n",
       "      <td>315.5659</td>\n",
       "    </tr>\n",
       "    <tr>\n",
       "      <th>4</th>\n",
       "      <td>2984162</td>\n",
       "      <td>149.3679</td>\n",
       "    </tr>\n",
       "  </tbody>\n",
       "</table>\n",
       "</div>"
      ],
      "text/plain": [
       "   user_id  prediction_pay_price\n",
       "0  2310878              119.6602\n",
       "1   922981              119.6602\n",
       "2  1421836              119.6602\n",
       "3  1132808              315.5659\n",
       "4  2984162              149.3679"
      ]
     },
     "execution_count": 133,
     "metadata": {},
     "output_type": "execute_result"
    }
   ],
   "source": [
    "print('model_predict_val= ', model_predict_val)\n",
    "# 标准化数据还原 \n",
    "predict_val = inverse_StandardScaler(model_predict_val)\n",
    "valPredict = generate_summit(predict_val, df_val)\n",
    "#输出预测后的数据\n",
    "valPredict.to_csv(val_name %(val_path, base, 'GradientBoostingRegressor'), index=False)\n",
    "valPredict.head()"
   ]
  },
  {
   "cell_type": "code",
   "execution_count": 134,
   "metadata": {
    "scrolled": true
   },
   "outputs": [
    {
     "name": "stdout",
     "output_type": "stream",
     "text": [
      "model_y_predict_test =  [-0.16357946 -0.16357946 -0.16357946 ... -0.16357946 -0.16357946\n",
      " -0.16357946]\n",
      "predict =  [119.66016402 119.66016402 119.66016402 ... 119.66016402 119.66016402\n",
      " 119.66016402]\n"
     ]
    }
   ],
   "source": [
    "#对测试数据进行预测\n",
    "model_y_predict_test = model.predict(test_X_ss)\n",
    "print('model_y_predict_test = ', model_y_predict_test)\n",
    "\n",
    "# 标准化数据还原 \n",
    "y_predict_test = inverse_StandardScaler(model_y_predict_test)"
   ]
  },
  {
   "cell_type": "code",
   "execution_count": 135,
   "metadata": {},
   "outputs": [
    {
     "data": {
      "text/html": [
       "<div>\n",
       "<style>\n",
       "    .dataframe thead tr:only-child th {\n",
       "        text-align: right;\n",
       "    }\n",
       "\n",
       "    .dataframe thead th {\n",
       "        text-align: left;\n",
       "    }\n",
       "\n",
       "    .dataframe tbody tr th {\n",
       "        vertical-align: top;\n",
       "    }\n",
       "</style>\n",
       "<table border=\"1\" class=\"dataframe\">\n",
       "  <thead>\n",
       "    <tr style=\"text-align: right;\">\n",
       "      <th></th>\n",
       "      <th>user_id</th>\n",
       "      <th>prediction_pay_price</th>\n",
       "    </tr>\n",
       "  </thead>\n",
       "  <tbody>\n",
       "    <tr>\n",
       "      <th>0</th>\n",
       "      <td>14952</td>\n",
       "      <td>119.6602</td>\n",
       "    </tr>\n",
       "    <tr>\n",
       "      <th>1</th>\n",
       "      <td>15029</td>\n",
       "      <td>119.6602</td>\n",
       "    </tr>\n",
       "    <tr>\n",
       "      <th>2</th>\n",
       "      <td>15059</td>\n",
       "      <td>119.6602</td>\n",
       "    </tr>\n",
       "    <tr>\n",
       "      <th>3</th>\n",
       "      <td>15064</td>\n",
       "      <td>119.6602</td>\n",
       "    </tr>\n",
       "    <tr>\n",
       "      <th>4</th>\n",
       "      <td>15102</td>\n",
       "      <td>119.6602</td>\n",
       "    </tr>\n",
       "  </tbody>\n",
       "</table>\n",
       "</div>"
      ],
      "text/plain": [
       "   user_id  prediction_pay_price\n",
       "0    14952              119.6602\n",
       "1    15029              119.6602\n",
       "2    15059              119.6602\n",
       "3    15064              119.6602\n",
       "4    15102              119.6602"
      ]
     },
     "execution_count": 135,
     "metadata": {},
     "output_type": "execute_result"
    }
   ],
   "source": [
    "#输出预测后的数据：不组合其他部分\n",
    "testPredict = generate_summit(y_predict_test, test)\n",
    "testPredict.to_csv(predict_name %(summit_path, part_name, base, 'GradientBoostingRegressor', test_class_threshold), index=False)\n",
    "testPredict.head()"
   ]
  },
  {
   "cell_type": "code",
   "execution_count": 136,
   "metadata": {},
   "outputs": [
    {
     "data": {
      "text/html": [
       "<div>\n",
       "<style>\n",
       "    .dataframe thead tr:only-child th {\n",
       "        text-align: right;\n",
       "    }\n",
       "\n",
       "    .dataframe thead th {\n",
       "        text-align: left;\n",
       "    }\n",
       "\n",
       "    .dataframe tbody tr th {\n",
       "        vertical-align: top;\n",
       "    }\n",
       "</style>\n",
       "<table border=\"1\" class=\"dataframe\">\n",
       "  <thead>\n",
       "    <tr style=\"text-align: right;\">\n",
       "      <th></th>\n",
       "      <th>user_id</th>\n",
       "      <th>prediction_pay_price</th>\n",
       "    </tr>\n",
       "  </thead>\n",
       "  <tbody>\n",
       "    <tr>\n",
       "      <th>0</th>\n",
       "      <td>14952</td>\n",
       "      <td>119.6602</td>\n",
       "    </tr>\n",
       "    <tr>\n",
       "      <th>1</th>\n",
       "      <td>15029</td>\n",
       "      <td>119.6602</td>\n",
       "    </tr>\n",
       "    <tr>\n",
       "      <th>2</th>\n",
       "      <td>15059</td>\n",
       "      <td>119.6602</td>\n",
       "    </tr>\n",
       "    <tr>\n",
       "      <th>3</th>\n",
       "      <td>15064</td>\n",
       "      <td>119.6602</td>\n",
       "    </tr>\n",
       "    <tr>\n",
       "      <th>4</th>\n",
       "      <td>15102</td>\n",
       "      <td>119.6602</td>\n",
       "    </tr>\n",
       "  </tbody>\n",
       "</table>\n",
       "</div>"
      ],
      "text/plain": [
       "   user_id  prediction_pay_price\n",
       "0    14952              119.6602\n",
       "1    15029              119.6602\n",
       "2    15059              119.6602\n",
       "3    15064              119.6602\n",
       "4    15102              119.6602"
      ]
     },
     "execution_count": 136,
     "metadata": {},
     "output_type": "execute_result"
    }
   ],
   "source": [
    "#输出预测后的数据：组合了其他部分\n",
    "testPredict = generate_summit(y_predict_test, test, True)\n",
    "testPredict.to_csv(out_name %(summit_path, base, 'GradientBoostingRegressor', test_class_threshold), index=False)\n",
    "testPredict.head()"
   ]
  },
  {
   "cell_type": "markdown",
   "metadata": {},
   "source": [
    "## 6 RandomForestRegressor"
   ]
  },
  {
   "cell_type": "code",
   "execution_count": 22,
   "metadata": {},
   "outputs": [
    {
     "name": "stdout",
     "output_type": "stream",
     "text": [
      "Wall time: 6.97 s\n"
     ]
    }
   ],
   "source": [
    "%%time\n",
    "model = ensemble.RandomForestRegressor(n_estimators=16, min_samples_split=80, min_samples_leaf=8, n_jobs=-1)\n",
    "model.fit(train_X_ss, train_y_ss_1d)\n",
    "# Wall time: 10min 2s "
   ]
  },
  {
   "cell_type": "code",
   "execution_count": 23,
   "metadata": {},
   "outputs": [
    {
     "name": "stdout",
     "output_type": "stream",
     "text": [
      "The score: Train=0.583956589556768  Val=0.49581719925796\n",
      "The RMSE: Train=0.6450142538876716  Val=0.8774750957561084\n"
     ]
    }
   ],
   "source": [
    "# 模型评估\n",
    "scoreTrain = model.score(train_X_ss, train_y_ss_1d)\n",
    "scoreVal = model.score(val_X_ss, val_y_ss_1d)\n",
    "print('The score: Train=%s  Val=%s'% (scoreTrain, scoreVal)) \n",
    "\n",
    "model_predict_train = model.predict(train_X_ss)\n",
    "rmseTrain = mean_squared_error(train_y_ss_1d, model_predict_train) ** 0.5\n",
    "model_predict_val = model.predict(val_X_ss)\n",
    "rmseVal = mean_squared_error(val_y_ss_1d, model_predict_val) ** 0.5\n",
    "print('The RMSE: Train=%s  Val=%s' % (rmseTrain, rmseVal))\n",
    "\n",
    "# n_estimators=14, min_samples_split=80, min_samples_leaf=8, min_impurity_decrease=0.1\n",
    "# n_estimators=20, min_samples_split=80, min_samples_leaf=8, min_impurity_decrease=0.1\n",
    "# n_estimators=20, min_samples_split=80, min_samples_leaf=8, min_impurity_decrease=0.0\n",
    "# n_estimators=20, min_samples_split=100, min_samples_leaf=8\n",
    "# n_estimators=16, min_samples_split=100, min_samples_leaf=8\n",
    "# The score: Train=0.6193906706679225  Val=0.4333588747424302\n",
    "# The RMSE: Train=0.6169354557150862  Val=0.8718379844283086 \n",
    "# n_estimators=16, min_samples_split=80, min_samples_leaf=8\n",
    "# The score: Train=0.6393206199636329  Val=0.35457588882649244\n",
    "# The RMSE: Train=0.6005657993266247  Val=0.517339714712821"
   ]
  },
  {
   "cell_type": "markdown",
   "metadata": {},
   "source": [
    "### 保存校验集测试结果"
   ]
  },
  {
   "cell_type": "code",
   "execution_count": 24,
   "metadata": {},
   "outputs": [
    {
     "name": "stdout",
     "output_type": "stream",
     "text": [
      "model_predict_val=  [-0.1445315   1.69831279  0.32877925 ... -0.12928703 -0.0603818\n",
      " -0.1399901 ]\n",
      "predict =  [   2.36816721 1085.0178158   280.43274633 ...   11.32411764   51.80514071\n",
      "    5.03618722]\n"
     ]
    },
    {
     "data": {
      "text/html": [
       "<div>\n",
       "<style>\n",
       "    .dataframe thead tr:only-child th {\n",
       "        text-align: right;\n",
       "    }\n",
       "\n",
       "    .dataframe thead th {\n",
       "        text-align: left;\n",
       "    }\n",
       "\n",
       "    .dataframe tbody tr th {\n",
       "        vertical-align: top;\n",
       "    }\n",
       "</style>\n",
       "<table border=\"1\" class=\"dataframe\">\n",
       "  <thead>\n",
       "    <tr style=\"text-align: right;\">\n",
       "      <th></th>\n",
       "      <th>user_id</th>\n",
       "      <th>prediction_pay_price</th>\n",
       "    </tr>\n",
       "  </thead>\n",
       "  <tbody>\n",
       "    <tr>\n",
       "      <th>0</th>\n",
       "      <td>563914</td>\n",
       "      <td>2.3682</td>\n",
       "    </tr>\n",
       "    <tr>\n",
       "      <th>1</th>\n",
       "      <td>1837494</td>\n",
       "      <td>1085.0178</td>\n",
       "    </tr>\n",
       "    <tr>\n",
       "      <th>2</th>\n",
       "      <td>1775165</td>\n",
       "      <td>280.4327</td>\n",
       "    </tr>\n",
       "    <tr>\n",
       "      <th>3</th>\n",
       "      <td>3038897</td>\n",
       "      <td>2.2484</td>\n",
       "    </tr>\n",
       "    <tr>\n",
       "      <th>4</th>\n",
       "      <td>285815</td>\n",
       "      <td>6.0593</td>\n",
       "    </tr>\n",
       "  </tbody>\n",
       "</table>\n",
       "</div>"
      ],
      "text/plain": [
       "   user_id  prediction_pay_price\n",
       "0   563914                2.3682\n",
       "1  1837494             1085.0178\n",
       "2  1775165              280.4327\n",
       "3  3038897                2.2484\n",
       "4   285815                6.0593"
      ]
     },
     "execution_count": 24,
     "metadata": {},
     "output_type": "execute_result"
    }
   ],
   "source": [
    "print('model_predict_val= ', model_predict_val)\n",
    "# 标准化数据还原 \n",
    "predict_val = inverse_StandardScaler(model_predict_val)\n",
    "valPredict = generate_summit(predict_val, df_val)\n",
    "#输出预测后的数据\n",
    "valPredict.to_csv(val_name %(val_path, base, 'RandomForestRegressor'), index=False)\n",
    "valPredict.head()"
   ]
  },
  {
   "cell_type": "code",
   "execution_count": 25,
   "metadata": {
    "scrolled": true
   },
   "outputs": [
    {
     "name": "stdout",
     "output_type": "stream",
     "text": [
      "model_y_predict_test =  [-0.08238434 -0.07292834 -0.06258769 ... -0.02516248 -0.0492921\n",
      " -0.05108797]\n",
      "predict =  [38.87890181 44.43419366 50.50920791 ... 72.49608479 58.32020776\n",
      " 57.2651576 ]\n"
     ]
    }
   ],
   "source": [
    "#对测试数据进行预测\n",
    "model_y_predict_test = model.predict(test_X_ss)\n",
    "print('model_y_predict_test = ', model_y_predict_test)\n",
    "\n",
    "# 标准化数据还原 \n",
    "y_predict_test = inverse_StandardScaler(model_y_predict_test)"
   ]
  },
  {
   "cell_type": "code",
   "execution_count": 26,
   "metadata": {
    "scrolled": true
   },
   "outputs": [
    {
     "data": {
      "text/html": [
       "<div>\n",
       "<style>\n",
       "    .dataframe thead tr:only-child th {\n",
       "        text-align: right;\n",
       "    }\n",
       "\n",
       "    .dataframe thead th {\n",
       "        text-align: left;\n",
       "    }\n",
       "\n",
       "    .dataframe tbody tr th {\n",
       "        vertical-align: top;\n",
       "    }\n",
       "</style>\n",
       "<table border=\"1\" class=\"dataframe\">\n",
       "  <thead>\n",
       "    <tr style=\"text-align: right;\">\n",
       "      <th></th>\n",
       "      <th>user_id</th>\n",
       "      <th>prediction_pay_price</th>\n",
       "    </tr>\n",
       "  </thead>\n",
       "  <tbody>\n",
       "    <tr>\n",
       "      <th>0</th>\n",
       "      <td>14933</td>\n",
       "      <td>38.8789</td>\n",
       "    </tr>\n",
       "    <tr>\n",
       "      <th>1</th>\n",
       "      <td>14934</td>\n",
       "      <td>44.4342</td>\n",
       "    </tr>\n",
       "    <tr>\n",
       "      <th>2</th>\n",
       "      <td>14935</td>\n",
       "      <td>50.5092</td>\n",
       "    </tr>\n",
       "    <tr>\n",
       "      <th>3</th>\n",
       "      <td>14936</td>\n",
       "      <td>39.3197</td>\n",
       "    </tr>\n",
       "    <tr>\n",
       "      <th>4</th>\n",
       "      <td>14937</td>\n",
       "      <td>53.4540</td>\n",
       "    </tr>\n",
       "  </tbody>\n",
       "</table>\n",
       "</div>"
      ],
      "text/plain": [
       "   user_id  prediction_pay_price\n",
       "0    14933               38.8789\n",
       "1    14934               44.4342\n",
       "2    14935               50.5092\n",
       "3    14936               39.3197\n",
       "4    14937               53.4540"
      ]
     },
     "execution_count": 26,
     "metadata": {},
     "output_type": "execute_result"
    }
   ],
   "source": [
    "# ridge_y_predict_test = move_up(ridge_y_predict_test)\n",
    "#输出预测后的数据\n",
    "testPredict = generate_summit(y_predict_test, test)\n",
    "#输出预测后的数据\n",
    "testPredict.to_csv(out_name %(summit_path, base, 'RandomForestRegressor'), index=False)\n",
    "testPredict.head()"
   ]
  },
  {
   "cell_type": "markdown",
   "metadata": {},
   "source": [
    "## 7 BaggingRegressor"
   ]
  },
  {
   "cell_type": "code",
   "execution_count": 27,
   "metadata": {},
   "outputs": [
    {
     "name": "stdout",
     "output_type": "stream",
     "text": [
      "Wall time: 24.3 s\n"
     ]
    }
   ],
   "source": [
    "%%time\n",
    "model = ensemble.BaggingRegressor(n_jobs=2, n_estimators=20)\n",
    "model.fit(train_X_ss, train_y_ss_1d)\n",
    "# Wall time: 9min 2s "
   ]
  },
  {
   "cell_type": "code",
   "execution_count": 28,
   "metadata": {},
   "outputs": [
    {
     "name": "stdout",
     "output_type": "stream",
     "text": [
      "The score: Train=0.9084004210793603  Val=0.5113913103519558\n",
      "The RMSE: Train=0.30265421509921697  Val=0.8638162690790285\n",
      "Wall time: 4.5 s\n"
     ]
    }
   ],
   "source": [
    "%%time\n",
    "# 模型评估\n",
    "scoreTrain = model.score(train_X_ss, train_y_ss_1d)\n",
    "scoreVal = model.score(val_X_ss, val_y_ss_1d)\n",
    "print('The score: Train=%s  Val=%s'% (scoreTrain, scoreVal)) \n",
    "\n",
    "model_predict_train = model.predict(train_X_ss)\n",
    "rmseTrain = mean_squared_error(train_y_ss_1d, model_predict_train) ** 0.5\n",
    "model_predict_val = model.predict(val_X_ss)\n",
    "rmseVal = mean_squared_error(val_y_ss_1d, model_predict_val) ** 0.5\n",
    "print('The RMSE: Train=%s  Val=%s' % (rmseTrain, rmseVal))\n",
    "\n",
    "# n_estimators=10 \n",
    "# n_estimators=15 \n",
    "# he score: Train=0.944126770370558  Val=0.35667035830687766\n",
    "# The RMSE: Train=0.2363752321974746  Val=0.5473401373069637\n",
    "# n_estimators=20 \n"
   ]
  },
  {
   "cell_type": "markdown",
   "metadata": {},
   "source": [
    "### 保存校验集测试结果"
   ]
  },
  {
   "cell_type": "code",
   "execution_count": 29,
   "metadata": {},
   "outputs": [
    {
     "name": "stdout",
     "output_type": "stream",
     "text": [
      "model_predict_val=  [-0.14500466  2.11534174  0.15957826 ... -0.12965373 -0.01657653\n",
      " -0.13261034]\n",
      "predict =  [   2.09019103 1330.0174898   181.02912418 ...   11.10868509   77.54022964\n",
      "    9.37170776]\n"
     ]
    },
    {
     "data": {
      "text/html": [
       "<div>\n",
       "<style>\n",
       "    .dataframe thead tr:only-child th {\n",
       "        text-align: right;\n",
       "    }\n",
       "\n",
       "    .dataframe thead th {\n",
       "        text-align: left;\n",
       "    }\n",
       "\n",
       "    .dataframe tbody tr th {\n",
       "        vertical-align: top;\n",
       "    }\n",
       "</style>\n",
       "<table border=\"1\" class=\"dataframe\">\n",
       "  <thead>\n",
       "    <tr style=\"text-align: right;\">\n",
       "      <th></th>\n",
       "      <th>user_id</th>\n",
       "      <th>prediction_pay_price</th>\n",
       "    </tr>\n",
       "  </thead>\n",
       "  <tbody>\n",
       "    <tr>\n",
       "      <th>0</th>\n",
       "      <td>563914</td>\n",
       "      <td>2.0902</td>\n",
       "    </tr>\n",
       "    <tr>\n",
       "      <th>1</th>\n",
       "      <td>1837494</td>\n",
       "      <td>1330.0175</td>\n",
       "    </tr>\n",
       "    <tr>\n",
       "      <th>2</th>\n",
       "      <td>1775165</td>\n",
       "      <td>181.0291</td>\n",
       "    </tr>\n",
       "    <tr>\n",
       "      <th>3</th>\n",
       "      <td>3038897</td>\n",
       "      <td>2.7386</td>\n",
       "    </tr>\n",
       "    <tr>\n",
       "      <th>4</th>\n",
       "      <td>285815</td>\n",
       "      <td>13.0659</td>\n",
       "    </tr>\n",
       "  </tbody>\n",
       "</table>\n",
       "</div>"
      ],
      "text/plain": [
       "   user_id  prediction_pay_price\n",
       "0   563914                2.0902\n",
       "1  1837494             1330.0175\n",
       "2  1775165              181.0291\n",
       "3  3038897                2.7386\n",
       "4   285815               13.0659"
      ]
     },
     "execution_count": 29,
     "metadata": {},
     "output_type": "execute_result"
    }
   ],
   "source": [
    "print('model_predict_val= ', model_predict_val)\n",
    "# 标准化数据还原 \n",
    "predict_val = inverse_StandardScaler(model_predict_val)\n",
    "valPredict = generate_summit(predict_val, df_val)\n",
    "#输出预测后的数据\n",
    "valPredict.to_csv(val_name %(val_path, base, 'BaggingRegressor'), index=False)\n",
    "valPredict.head()"
   ]
  },
  {
   "cell_type": "code",
   "execution_count": 30,
   "metadata": {
    "scrolled": true
   },
   "outputs": [
    {
     "name": "stdout",
     "output_type": "stream",
     "text": [
      "model_y_predict_test =  [-0.13710695 -0.13593721  0.04477152 ... -0.07671938 -0.09576869\n",
      " -0.1072685 ]\n",
      "predict =  [  6.73000233   7.41721569 113.58149923 ...  42.20699965  31.01575206\n",
      "  24.2597502 ]\n"
     ]
    }
   ],
   "source": [
    "#对测试数据进行预测\n",
    "model_y_predict_test = model.predict(test_X_ss)\n",
    "print('model_y_predict_test = ', model_y_predict_test)\n",
    "\n",
    "# 标准化数据还原 \n",
    "y_predict_test = inverse_StandardScaler(model_y_predict_test)"
   ]
  },
  {
   "cell_type": "code",
   "execution_count": 31,
   "metadata": {
    "scrolled": true
   },
   "outputs": [
    {
     "data": {
      "text/html": [
       "<div>\n",
       "<style>\n",
       "    .dataframe thead tr:only-child th {\n",
       "        text-align: right;\n",
       "    }\n",
       "\n",
       "    .dataframe thead th {\n",
       "        text-align: left;\n",
       "    }\n",
       "\n",
       "    .dataframe tbody tr th {\n",
       "        vertical-align: top;\n",
       "    }\n",
       "</style>\n",
       "<table border=\"1\" class=\"dataframe\">\n",
       "  <thead>\n",
       "    <tr style=\"text-align: right;\">\n",
       "      <th></th>\n",
       "      <th>user_id</th>\n",
       "      <th>prediction_pay_price</th>\n",
       "    </tr>\n",
       "  </thead>\n",
       "  <tbody>\n",
       "    <tr>\n",
       "      <th>0</th>\n",
       "      <td>14933</td>\n",
       "      <td>6.7300</td>\n",
       "    </tr>\n",
       "    <tr>\n",
       "      <th>1</th>\n",
       "      <td>14934</td>\n",
       "      <td>7.4172</td>\n",
       "    </tr>\n",
       "    <tr>\n",
       "      <th>2</th>\n",
       "      <td>14935</td>\n",
       "      <td>113.5815</td>\n",
       "    </tr>\n",
       "    <tr>\n",
       "      <th>3</th>\n",
       "      <td>14936</td>\n",
       "      <td>23.5250</td>\n",
       "    </tr>\n",
       "    <tr>\n",
       "      <th>4</th>\n",
       "      <td>14937</td>\n",
       "      <td>122.9885</td>\n",
       "    </tr>\n",
       "  </tbody>\n",
       "</table>\n",
       "</div>"
      ],
      "text/plain": [
       "   user_id  prediction_pay_price\n",
       "0    14933                6.7300\n",
       "1    14934                7.4172\n",
       "2    14935              113.5815\n",
       "3    14936               23.5250\n",
       "4    14937              122.9885"
      ]
     },
     "execution_count": 31,
     "metadata": {},
     "output_type": "execute_result"
    }
   ],
   "source": [
    "# ridge_y_predict_test = move_up(ridge_y_predict_test)\n",
    "#输出预测后的数据\n",
    "testPredict = generate_summit(y_predict_test, test)\n",
    "#输出预测后的数据\n",
    "testPredict.to_csv(out_name %(summit_path, base, 'BaggingRegressor'), index=False)\n",
    "testPredict.head()"
   ]
  },
  {
   "cell_type": "markdown",
   "metadata": {},
   "source": [
    "## 7-1 BaggingRegressor的代码最佳示例\n",
    "https://www.helplib.com/Python-Module-Examples/article_66154"
   ]
  },
  {
   "cell_type": "code",
   "execution_count": null,
   "metadata": {
    "collapsed": true
   },
   "outputs": [],
   "source": []
  }
 ],
 "metadata": {
  "kernelspec": {
   "display_name": "Python 3",
   "language": "python",
   "name": "python3"
  },
  "language_info": {
   "codemirror_mode": {
    "name": "ipython",
    "version": 3
   },
   "file_extension": ".py",
   "mimetype": "text/x-python",
   "name": "python",
   "nbconvert_exporter": "python",
   "pygments_lexer": "ipython3",
   "version": "3.6.3"
  }
 },
 "nbformat": 4,
 "nbformat_minor": 2
}
