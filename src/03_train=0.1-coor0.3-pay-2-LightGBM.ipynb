{
 "cells": [
  {
   "cell_type": "markdown",
   "metadata": {},
   "source": [
    "# LightGBM\n",
    "https://blog.csdn.net/owenfy/article/details/79631144\n",
    "- learning_rate =0.1,\n",
    "-       n_estimators= 109,  #第二轮参数调整得到的 n_estimators 最优值\n",
    "-      max_depth=7,\n",
    "-     min_child_weight=1,\n",
    "-   gamma=0,\n",
    "-  subsample=0.5,\n",
    "-  colsample_bytree=0.6,\n",
    "-  colsample_bylevel=0.7,\n",
    "-  objective= 'multi:softprob',\n",
    "-  n_jobs=4, \n",
    "-  seed=3)"
   ]
  },
  {
   "cell_type": "code",
   "execution_count": 1,
   "metadata": {
    "collapsed": true
   },
   "outputs": [],
   "source": [
    "import lightgbm as lgbm\n",
    "import pandas as pd \n",
    "import numpy as np\n",
    "\n",
    "from sklearn.model_selection import GridSearchCV\n",
    "from sklearn.metrics import mean_squared_error\n",
    "from sklearn.preprocessing import StandardScaler\n",
    "\n",
    "import matplotlib.pyplot as plt\n",
    "import seaborn as sns\n",
    "\n",
    "%matplotlib inline"
   ]
  },
  {
   "cell_type": "code",
   "execution_count": 84,
   "metadata": {},
   "outputs": [
    {
     "data": {
      "text/html": [
       "<div>\n",
       "<style>\n",
       "    .dataframe thead tr:only-child th {\n",
       "        text-align: right;\n",
       "    }\n",
       "\n",
       "    .dataframe thead th {\n",
       "        text-align: left;\n",
       "    }\n",
       "\n",
       "    .dataframe tbody tr th {\n",
       "        vertical-align: top;\n",
       "    }\n",
       "</style>\n",
       "<table border=\"1\" class=\"dataframe\">\n",
       "  <thead>\n",
       "    <tr style=\"text-align: right;\">\n",
       "      <th></th>\n",
       "      <th>user_id</th>\n",
       "      <th>sr_infantry_atk_level</th>\n",
       "      <th>magic_add_value</th>\n",
       "      <th>cavalry_add_value</th>\n",
       "      <th>sr_rss_e_gather_level</th>\n",
       "      <th>sr_cavalry_atk_level</th>\n",
       "      <th>sr_march_size_level</th>\n",
       "      <th>sr_outpost_tier_4_level</th>\n",
       "      <th>sr_guest_troop_capacity_level</th>\n",
       "      <th>sr_shaman_atk_level</th>\n",
       "      <th>...</th>\n",
       "      <th>wood_reduce_value</th>\n",
       "      <th>general_acceleration_add_value</th>\n",
       "      <th>wood_add_value</th>\n",
       "      <th>stone_add_value</th>\n",
       "      <th>general_acceleration_reduce_value</th>\n",
       "      <th>ivory_reduce_value</th>\n",
       "      <th>ivory_add_value</th>\n",
       "      <th>stone_reduce_value</th>\n",
       "      <th>pay_price</th>\n",
       "      <th>prediction_pay_price</th>\n",
       "    </tr>\n",
       "  </thead>\n",
       "  <tbody>\n",
       "    <tr>\n",
       "      <th>0</th>\n",
       "      <td>878466</td>\n",
       "      <td>1</td>\n",
       "      <td>970840.0</td>\n",
       "      <td>420</td>\n",
       "      <td>0</td>\n",
       "      <td>0</td>\n",
       "      <td>0</td>\n",
       "      <td>0</td>\n",
       "      <td>0</td>\n",
       "      <td>0</td>\n",
       "      <td>...</td>\n",
       "      <td>4235090.0</td>\n",
       "      <td>659</td>\n",
       "      <td>4788674.0</td>\n",
       "      <td>3014688.0</td>\n",
       "      <td>478</td>\n",
       "      <td>0.0</td>\n",
       "      <td>1045000.0</td>\n",
       "      <td>2102260.0</td>\n",
       "      <td>2.98</td>\n",
       "      <td>2.98</td>\n",
       "    </tr>\n",
       "    <tr>\n",
       "      <th>1</th>\n",
       "      <td>2078768</td>\n",
       "      <td>0</td>\n",
       "      <td>1547887.0</td>\n",
       "      <td>1265</td>\n",
       "      <td>0</td>\n",
       "      <td>0</td>\n",
       "      <td>0</td>\n",
       "      <td>0</td>\n",
       "      <td>0</td>\n",
       "      <td>1</td>\n",
       "      <td>...</td>\n",
       "      <td>6394213.0</td>\n",
       "      <td>4248</td>\n",
       "      <td>9964534.0</td>\n",
       "      <td>4504160.0</td>\n",
       "      <td>730</td>\n",
       "      <td>0.0</td>\n",
       "      <td>1702932.0</td>\n",
       "      <td>2281412.0</td>\n",
       "      <td>1.98</td>\n",
       "      <td>1.98</td>\n",
       "    </tr>\n",
       "    <tr>\n",
       "      <th>2</th>\n",
       "      <td>66889</td>\n",
       "      <td>0</td>\n",
       "      <td>30301.0</td>\n",
       "      <td>0</td>\n",
       "      <td>0</td>\n",
       "      <td>0</td>\n",
       "      <td>0</td>\n",
       "      <td>0</td>\n",
       "      <td>0</td>\n",
       "      <td>0</td>\n",
       "      <td>...</td>\n",
       "      <td>545664.0</td>\n",
       "      <td>932</td>\n",
       "      <td>1853155.0</td>\n",
       "      <td>1020000.0</td>\n",
       "      <td>13</td>\n",
       "      <td>0.0</td>\n",
       "      <td>503000.0</td>\n",
       "      <td>0.0</td>\n",
       "      <td>0.99</td>\n",
       "      <td>0.99</td>\n",
       "    </tr>\n",
       "    <tr>\n",
       "      <th>3</th>\n",
       "      <td>3169202</td>\n",
       "      <td>1</td>\n",
       "      <td>3576488.0</td>\n",
       "      <td>4345</td>\n",
       "      <td>0</td>\n",
       "      <td>1</td>\n",
       "      <td>0</td>\n",
       "      <td>0</td>\n",
       "      <td>0</td>\n",
       "      <td>1</td>\n",
       "      <td>...</td>\n",
       "      <td>12919086.0</td>\n",
       "      <td>6110</td>\n",
       "      <td>14578830.0</td>\n",
       "      <td>6907604.0</td>\n",
       "      <td>6110</td>\n",
       "      <td>1565976.0</td>\n",
       "      <td>3787258.0</td>\n",
       "      <td>5026825.0</td>\n",
       "      <td>0.99</td>\n",
       "      <td>0.99</td>\n",
       "    </tr>\n",
       "    <tr>\n",
       "      <th>4</th>\n",
       "      <td>878159</td>\n",
       "      <td>0</td>\n",
       "      <td>41091.0</td>\n",
       "      <td>0</td>\n",
       "      <td>0</td>\n",
       "      <td>0</td>\n",
       "      <td>0</td>\n",
       "      <td>0</td>\n",
       "      <td>0</td>\n",
       "      <td>0</td>\n",
       "      <td>...</td>\n",
       "      <td>1431281.0</td>\n",
       "      <td>56</td>\n",
       "      <td>2462137.0</td>\n",
       "      <td>1000000.0</td>\n",
       "      <td>56</td>\n",
       "      <td>0.0</td>\n",
       "      <td>506000.0</td>\n",
       "      <td>0.0</td>\n",
       "      <td>0.99</td>\n",
       "      <td>0.99</td>\n",
       "    </tr>\n",
       "  </tbody>\n",
       "</table>\n",
       "<p>5 rows × 49 columns</p>\n",
       "</div>"
      ],
      "text/plain": [
       "   user_id  sr_infantry_atk_level  magic_add_value  cavalry_add_value  \\\n",
       "0   878466                      1         970840.0                420   \n",
       "1  2078768                      0        1547887.0               1265   \n",
       "2    66889                      0          30301.0                  0   \n",
       "3  3169202                      1        3576488.0               4345   \n",
       "4   878159                      0          41091.0                  0   \n",
       "\n",
       "   sr_rss_e_gather_level  sr_cavalry_atk_level  sr_march_size_level  \\\n",
       "0                      0                     0                    0   \n",
       "1                      0                     0                    0   \n",
       "2                      0                     0                    0   \n",
       "3                      0                     1                    0   \n",
       "4                      0                     0                    0   \n",
       "\n",
       "   sr_outpost_tier_4_level  sr_guest_troop_capacity_level  \\\n",
       "0                        0                              0   \n",
       "1                        0                              0   \n",
       "2                        0                              0   \n",
       "3                        0                              0   \n",
       "4                        0                              0   \n",
       "\n",
       "   sr_shaman_atk_level          ...           wood_reduce_value  \\\n",
       "0                    0          ...                   4235090.0   \n",
       "1                    1          ...                   6394213.0   \n",
       "2                    0          ...                    545664.0   \n",
       "3                    1          ...                  12919086.0   \n",
       "4                    0          ...                   1431281.0   \n",
       "\n",
       "   general_acceleration_add_value  wood_add_value  stone_add_value  \\\n",
       "0                             659       4788674.0        3014688.0   \n",
       "1                            4248       9964534.0        4504160.0   \n",
       "2                             932       1853155.0        1020000.0   \n",
       "3                            6110      14578830.0        6907604.0   \n",
       "4                              56       2462137.0        1000000.0   \n",
       "\n",
       "   general_acceleration_reduce_value  ivory_reduce_value  ivory_add_value  \\\n",
       "0                                478                 0.0        1045000.0   \n",
       "1                                730                 0.0        1702932.0   \n",
       "2                                 13                 0.0         503000.0   \n",
       "3                               6110           1565976.0        3787258.0   \n",
       "4                                 56                 0.0         506000.0   \n",
       "\n",
       "   stone_reduce_value  pay_price  prediction_pay_price  \n",
       "0           2102260.0       2.98                  2.98  \n",
       "1           2281412.0       1.98                  1.98  \n",
       "2                 0.0       0.99                  0.99  \n",
       "3           5026825.0       0.99                  0.99  \n",
       "4                 0.0       0.99                  0.99  \n",
       "\n",
       "[5 rows x 49 columns]"
      ]
     },
     "execution_count": 84,
     "metadata": {},
     "output_type": "execute_result"
    }
   ],
   "source": [
    "# 是否对 y_train 进行标准化 \n",
    "Y_Standard = True\n",
    "out_id = 1 #输出文件编号 \n",
    "\n",
    "#读取训练数据: \n",
    "path  = '../data/new/'\n",
    "path_train = '../data/new/train=0.1/'\n",
    "path_test = '../data/new/test/'\n",
    "summit_path = '../data/summit/'\n",
    "\n",
    "train = pd.read_csv(path_train + 'train=0.1-fe-coor0.3-pay.csv')\n",
    "train.head()"
   ]
  },
  {
   "cell_type": "code",
   "execution_count": 3,
   "metadata": {
    "scrolled": true
   },
   "outputs": [
    {
     "data": {
      "text/html": [
       "<div>\n",
       "<style>\n",
       "    .dataframe thead tr:only-child th {\n",
       "        text-align: right;\n",
       "    }\n",
       "\n",
       "    .dataframe thead th {\n",
       "        text-align: left;\n",
       "    }\n",
       "\n",
       "    .dataframe tbody tr th {\n",
       "        vertical-align: top;\n",
       "    }\n",
       "</style>\n",
       "<table border=\"1\" class=\"dataframe\">\n",
       "  <thead>\n",
       "    <tr style=\"text-align: right;\">\n",
       "      <th></th>\n",
       "      <th>user_id</th>\n",
       "      <th>sr_infantry_atk_level</th>\n",
       "      <th>magic_add_value</th>\n",
       "      <th>cavalry_add_value</th>\n",
       "      <th>sr_rss_e_gather_level</th>\n",
       "      <th>sr_cavalry_atk_level</th>\n",
       "      <th>sr_march_size_level</th>\n",
       "      <th>sr_outpost_tier_4_level</th>\n",
       "      <th>sr_guest_troop_capacity_level</th>\n",
       "      <th>sr_shaman_atk_level</th>\n",
       "      <th>...</th>\n",
       "      <th>training_acceleration_reduce_value</th>\n",
       "      <th>wood_reduce_value</th>\n",
       "      <th>general_acceleration_add_value</th>\n",
       "      <th>wood_add_value</th>\n",
       "      <th>stone_add_value</th>\n",
       "      <th>general_acceleration_reduce_value</th>\n",
       "      <th>ivory_reduce_value</th>\n",
       "      <th>ivory_add_value</th>\n",
       "      <th>stone_reduce_value</th>\n",
       "      <th>pay_price</th>\n",
       "    </tr>\n",
       "  </thead>\n",
       "  <tbody>\n",
       "    <tr>\n",
       "      <th>0</th>\n",
       "      <td>14933</td>\n",
       "      <td>0</td>\n",
       "      <td>0</td>\n",
       "      <td>0</td>\n",
       "      <td>0</td>\n",
       "      <td>0</td>\n",
       "      <td>0</td>\n",
       "      <td>0</td>\n",
       "      <td>0</td>\n",
       "      <td>0</td>\n",
       "      <td>...</td>\n",
       "      <td>0</td>\n",
       "      <td>138362.0</td>\n",
       "      <td>3</td>\n",
       "      <td>166415.0</td>\n",
       "      <td>0</td>\n",
       "      <td>0</td>\n",
       "      <td>0</td>\n",
       "      <td>0</td>\n",
       "      <td>0</td>\n",
       "      <td>0.0</td>\n",
       "    </tr>\n",
       "    <tr>\n",
       "      <th>1</th>\n",
       "      <td>14934</td>\n",
       "      <td>0</td>\n",
       "      <td>0</td>\n",
       "      <td>0</td>\n",
       "      <td>0</td>\n",
       "      <td>0</td>\n",
       "      <td>0</td>\n",
       "      <td>0</td>\n",
       "      <td>0</td>\n",
       "      <td>0</td>\n",
       "      <td>...</td>\n",
       "      <td>0</td>\n",
       "      <td>600.0</td>\n",
       "      <td>0</td>\n",
       "      <td>10000.0</td>\n",
       "      <td>0</td>\n",
       "      <td>0</td>\n",
       "      <td>0</td>\n",
       "      <td>0</td>\n",
       "      <td>0</td>\n",
       "      <td>0.0</td>\n",
       "    </tr>\n",
       "    <tr>\n",
       "      <th>2</th>\n",
       "      <td>14935</td>\n",
       "      <td>0</td>\n",
       "      <td>0</td>\n",
       "      <td>0</td>\n",
       "      <td>0</td>\n",
       "      <td>0</td>\n",
       "      <td>0</td>\n",
       "      <td>0</td>\n",
       "      <td>0</td>\n",
       "      <td>0</td>\n",
       "      <td>...</td>\n",
       "      <td>0</td>\n",
       "      <td>3700.0</td>\n",
       "      <td>0</td>\n",
       "      <td>10000.0</td>\n",
       "      <td>0</td>\n",
       "      <td>0</td>\n",
       "      <td>0</td>\n",
       "      <td>0</td>\n",
       "      <td>0</td>\n",
       "      <td>0.0</td>\n",
       "    </tr>\n",
       "    <tr>\n",
       "      <th>3</th>\n",
       "      <td>14936</td>\n",
       "      <td>0</td>\n",
       "      <td>60000</td>\n",
       "      <td>0</td>\n",
       "      <td>0</td>\n",
       "      <td>0</td>\n",
       "      <td>0</td>\n",
       "      <td>0</td>\n",
       "      <td>0</td>\n",
       "      <td>0</td>\n",
       "      <td>...</td>\n",
       "      <td>0</td>\n",
       "      <td>0.0</td>\n",
       "      <td>660</td>\n",
       "      <td>210000.0</td>\n",
       "      <td>200000</td>\n",
       "      <td>0</td>\n",
       "      <td>0</td>\n",
       "      <td>200000</td>\n",
       "      <td>0</td>\n",
       "      <td>0.0</td>\n",
       "    </tr>\n",
       "    <tr>\n",
       "      <th>4</th>\n",
       "      <td>14937</td>\n",
       "      <td>0</td>\n",
       "      <td>0</td>\n",
       "      <td>0</td>\n",
       "      <td>0</td>\n",
       "      <td>0</td>\n",
       "      <td>0</td>\n",
       "      <td>0</td>\n",
       "      <td>0</td>\n",
       "      <td>0</td>\n",
       "      <td>...</td>\n",
       "      <td>0</td>\n",
       "      <td>3700.0</td>\n",
       "      <td>0</td>\n",
       "      <td>11500.0</td>\n",
       "      <td>0</td>\n",
       "      <td>0</td>\n",
       "      <td>0</td>\n",
       "      <td>0</td>\n",
       "      <td>0</td>\n",
       "      <td>0.0</td>\n",
       "    </tr>\n",
       "  </tbody>\n",
       "</table>\n",
       "<p>5 rows × 48 columns</p>\n",
       "</div>"
      ],
      "text/plain": [
       "   user_id  sr_infantry_atk_level  magic_add_value  cavalry_add_value  \\\n",
       "0    14933                      0                0                  0   \n",
       "1    14934                      0                0                  0   \n",
       "2    14935                      0                0                  0   \n",
       "3    14936                      0            60000                  0   \n",
       "4    14937                      0                0                  0   \n",
       "\n",
       "   sr_rss_e_gather_level  sr_cavalry_atk_level  sr_march_size_level  \\\n",
       "0                      0                     0                    0   \n",
       "1                      0                     0                    0   \n",
       "2                      0                     0                    0   \n",
       "3                      0                     0                    0   \n",
       "4                      0                     0                    0   \n",
       "\n",
       "   sr_outpost_tier_4_level  sr_guest_troop_capacity_level  \\\n",
       "0                        0                              0   \n",
       "1                        0                              0   \n",
       "2                        0                              0   \n",
       "3                        0                              0   \n",
       "4                        0                              0   \n",
       "\n",
       "   sr_shaman_atk_level    ...      training_acceleration_reduce_value  \\\n",
       "0                    0    ...                                       0   \n",
       "1                    0    ...                                       0   \n",
       "2                    0    ...                                       0   \n",
       "3                    0    ...                                       0   \n",
       "4                    0    ...                                       0   \n",
       "\n",
       "   wood_reduce_value  general_acceleration_add_value  wood_add_value  \\\n",
       "0           138362.0                               3        166415.0   \n",
       "1              600.0                               0         10000.0   \n",
       "2             3700.0                               0         10000.0   \n",
       "3                0.0                             660        210000.0   \n",
       "4             3700.0                               0         11500.0   \n",
       "\n",
       "   stone_add_value  general_acceleration_reduce_value  ivory_reduce_value  \\\n",
       "0                0                                  0                   0   \n",
       "1                0                                  0                   0   \n",
       "2                0                                  0                   0   \n",
       "3           200000                                  0                   0   \n",
       "4                0                                  0                   0   \n",
       "\n",
       "   ivory_add_value  stone_reduce_value  pay_price  \n",
       "0                0                   0        0.0  \n",
       "1                0                   0        0.0  \n",
       "2                0                   0        0.0  \n",
       "3           200000                   0        0.0  \n",
       "4                0                   0        0.0  \n",
       "\n",
       "[5 rows x 48 columns]"
      ]
     },
     "execution_count": 3,
     "metadata": {},
     "output_type": "execute_result"
    }
   ],
   "source": [
    "test = pd.read_csv(path_test + 'tap_fun_test-fe-coor0.3.csv')\n",
    "test.head()"
   ]
  },
  {
   "cell_type": "code",
   "execution_count": 4,
   "metadata": {
    "collapsed": true
   },
   "outputs": [],
   "source": [
    "# 从原始数据中分离输入特征x和输出y\n",
    "target = 'prediction_pay_price'\n",
    "id = 'user_id'\n",
    "train_y = train[target].values\n",
    "train_X = train.drop([target, id], axis = 1)\n",
    "\n",
    "# test_id = test[id]\n",
    "test_X = test.drop([id], axis = 1)"
   ]
  },
  {
   "cell_type": "markdown",
   "metadata": {},
   "source": [
    "## 数据标准化"
   ]
  },
  {
   "cell_type": "code",
   "execution_count": 5,
   "metadata": {
    "collapsed": true
   },
   "outputs": [],
   "source": [
    "# 分别初始化对特征和目标值的标准化器\n",
    "ss_X = StandardScaler()\n",
    "ss_y = StandardScaler()\n",
    "\n",
    "# 分别对训练和测试数据的特征以及目标值进行标准化处理\n",
    "train_X = ss_X.fit_transform(train_X)\n",
    "test_X = ss_X.transform(test_X)\n",
    "\n",
    "# 无论是否标准化 train_y 得到的预测结果相同\n",
    "if Y_Standard:\n",
    "    train_y = ss_y.fit_transform(train_y.reshape(-1, 1))"
   ]
  },
  {
   "cell_type": "code",
   "execution_count": 6,
   "metadata": {
    "collapsed": true
   },
   "outputs": [],
   "source": [
    "# 标准化数据还原 \n",
    "def inverse_StandardScaler(predict):\n",
    "    if Y_Standard:\n",
    "        predict = ss_y.inverse_transform(predict)\n",
    "        print('predict = ', predict)\n",
    "    return predict"
   ]
  },
  {
   "cell_type": "markdown",
   "metadata": {},
   "source": [
    "## 模型训练\n",
    "- 直接调用 LightGBM 内嵌的交叉验证（cv），可对连续的 n_estimators 参数进行快速交叉验证\n",
    "- 而 GridSearchCV 只能对有限个参数进行交叉验证"
   ]
  },
  {
   "cell_type": "markdown",
   "metadata": {},
   "source": [
    "### 采用默认参数配置，看看模型是过拟合还是欠拟合"
   ]
  },
  {
   "cell_type": "code",
   "execution_count": 8,
   "metadata": {},
   "outputs": [
    {
     "name": "stderr",
     "output_type": "stream",
     "text": [
      "D:\\Applications\\Anaconda\\envs\\python3\\lib\\site-packages\\sklearn\\utils\\validation.py:578: DataConversionWarning: A column-vector y was passed when a 1d array was expected. Please change the shape of y to (n_samples, ), for example using ravel().\n",
      "  y = column_or_1d(y, warn=True)\n"
     ]
    },
    {
     "data": {
      "text/plain": [
       "LGBMRegressor(boosting_type='gbdt', colsample_bytree=1.0, learning_rate=0.05,\n",
       "       max_bin=255, max_depth=-1, min_child_samples=10, min_child_weight=5,\n",
       "       min_split_gain=0.0, n_estimators=20, n_jobs=-1, num_leaves=31,\n",
       "       objective='regression', random_state=0, reg_alpha=0.0,\n",
       "       reg_lambda=0.0, silent=True, subsample=1.0, subsample_for_bin=50000,\n",
       "       subsample_freq=1)"
      ]
     },
     "execution_count": 8,
     "metadata": {},
     "output_type": "execute_result"
    }
   ],
   "source": [
    "lgbm_1 = lgbm.LGBMRegressor(objective='regression',\n",
    "                        num_leaves=31,\n",
    "                        learning_rate=0.05,\n",
    "                        n_estimators=20)\n",
    "lgbm_1.fit(train_X, train_y, eval_metric='l1')"
   ]
  },
  {
   "cell_type": "code",
   "execution_count": 14,
   "metadata": {},
   "outputs": [
    {
     "data": {
      "text/plain": [
       "array([-0.10146111, -0.10146111, -0.10146111, ..., -0.10146111,\n",
       "       -0.10146111, -0.10146111])"
      ]
     },
     "execution_count": 14,
     "metadata": {},
     "output_type": "execute_result"
    }
   ],
   "source": [
    "# predict\n",
    "# y_pred = lgbm_1.predict(test_X, num_iteration=lgbm_1.best_iteration_)\n",
    "lgbm_1_pred = lgbm_1.predict(test_X)\n",
    "lgbm_1_pred"
   ]
  },
  {
   "cell_type": "code",
   "execution_count": 25,
   "metadata": {},
   "outputs": [
    {
     "name": "stdout",
     "output_type": "stream",
     "text": [
      "The rmse of prediction is: 0.585378123593\n",
      "Feature importances: [19, 18, 23, 3, 7, 0, 0, 0, 13, 0, 0, 6, 12, 1, 6, 0, 1, 0, 0, 0, 0, 0, 38, 13, 0, 0, 24, 0, 0, 2, 0, 14, 20, 0, 19, 38, 14, 18, 16, 26, 15, 16, 26, 24, 16, 16, 136]\n"
     ]
    }
   ],
   "source": [
    "lgbm_1_pred_train = lgbm_1.predict(train_X )\n",
    "lgbm_1_pred_train\n",
    "\n",
    "print('The rmse of prediction is:', mean_squared_error(train_y, lgbm_1_pred_train) ** 0.5)\n",
    "print('Feature importances:', list(lgbm_1.feature_importances_))"
   ]
  },
  {
   "cell_type": "code",
   "execution_count": 15,
   "metadata": {
    "scrolled": true
   },
   "outputs": [
    {
     "name": "stdout",
     "output_type": "stream",
     "text": [
      "predict =  [ 33.85809542  33.85809542  33.85809542 ...,  33.85809542  33.85809542\n",
      "  33.85809542]\n"
     ]
    },
    {
     "data": {
      "text/html": [
       "<div>\n",
       "<style>\n",
       "    .dataframe thead tr:only-child th {\n",
       "        text-align: right;\n",
       "    }\n",
       "\n",
       "    .dataframe thead th {\n",
       "        text-align: left;\n",
       "    }\n",
       "\n",
       "    .dataframe tbody tr th {\n",
       "        vertical-align: top;\n",
       "    }\n",
       "</style>\n",
       "<table border=\"1\" class=\"dataframe\">\n",
       "  <thead>\n",
       "    <tr style=\"text-align: right;\">\n",
       "      <th></th>\n",
       "      <th>user_id</th>\n",
       "      <th>prediction_pay_price</th>\n",
       "    </tr>\n",
       "  </thead>\n",
       "  <tbody>\n",
       "    <tr>\n",
       "      <th>0</th>\n",
       "      <td>14933</td>\n",
       "      <td>33.858095</td>\n",
       "    </tr>\n",
       "    <tr>\n",
       "      <th>1</th>\n",
       "      <td>14934</td>\n",
       "      <td>33.858095</td>\n",
       "    </tr>\n",
       "    <tr>\n",
       "      <th>2</th>\n",
       "      <td>14935</td>\n",
       "      <td>33.858095</td>\n",
       "    </tr>\n",
       "    <tr>\n",
       "      <th>3</th>\n",
       "      <td>14936</td>\n",
       "      <td>33.858095</td>\n",
       "    </tr>\n",
       "    <tr>\n",
       "      <th>4</th>\n",
       "      <td>14937</td>\n",
       "      <td>33.858095</td>\n",
       "    </tr>\n",
       "  </tbody>\n",
       "</table>\n",
       "</div>"
      ],
      "text/plain": [
       "   user_id  prediction_pay_price\n",
       "0    14933             33.858095\n",
       "1    14934             33.858095\n",
       "2    14935             33.858095\n",
       "3    14936             33.858095\n",
       "4    14937             33.858095"
      ]
     },
     "execution_count": 15,
     "metadata": {},
     "output_type": "execute_result"
    }
   ],
   "source": [
    "# 标准化数据还原 \n",
    "lgbm_1_pred = inverse_StandardScaler(lgbm_1_pred)\n",
    "\n",
    "#输出预测后的数据\n",
    "def generate_summit(predict):\n",
    "    testPredict = test.copy()\n",
    "    testPredict[target] = predict\n",
    "    testPredict = testPredict[[id,target]]\n",
    "    testPredict[target] = testPredict[target].apply(lambda x: x if x > 0 else 0)\n",
    "    return testPredict\n",
    "\n",
    "#输出预测后的数据\n",
    "testPredict = generate_summit(lgbm_1_pred)\n",
    "testPredict.head()"
   ]
  },
  {
   "cell_type": "code",
   "execution_count": 16,
   "metadata": {},
   "outputs": [
    {
     "data": {
      "text/plain": [
       "(828934, 2)"
      ]
     },
     "execution_count": 16,
     "metadata": {},
     "output_type": "execute_result"
    }
   ],
   "source": [
    "#输出预测后的数据\n",
    "testPredict.to_csv('%ssummit0.1-coor0.3-pay-lgbm-%s.csv' %(summit_path, out_id), index=False)\n",
    "testPredict.shape"
   ]
  },
  {
   "cell_type": "markdown",
   "metadata": {},
   "source": [
    "## 参数调优 \n",
    "### 1. learning_rate / n_estimators"
   ]
  },
  {
   "cell_type": "code",
   "execution_count": 41,
   "metadata": {},
   "outputs": [
    {
     "data": {
      "text/plain": [
       "array([-0.16597985, -0.16806931, -0.17013789, ..., -0.17013789,\n",
       "       -0.01378312, -0.16393217])"
      ]
     },
     "execution_count": 41,
     "metadata": {},
     "output_type": "execute_result"
    }
   ],
   "source": [
    "# 需要转换数据\n",
    "train_y_1d = train_y.reshape(train_y.shape[0])\n",
    "train_y_1d"
   ]
  },
  {
   "cell_type": "code",
   "execution_count": 39,
   "metadata": {},
   "outputs": [
    {
     "name": "stdout",
     "output_type": "stream",
     "text": [
      "Best parameters found by grid search are: {'learning_rate': 0.01, 'n_estimators': 150}\n",
      "Wall time: 3min 33s\n"
     ]
    }
   ],
   "source": [
    "%%time\n",
    "\n",
    "estimator = lgbm.LGBMRegressor(objective='regression')\n",
    "param_grid = {\n",
    "    'learning_rate': [0.008, 0.01, 0.02],\n",
    "    'n_estimators': [120, 130, 140, 145, 150, 155, 160]\n",
    "}\n",
    " \n",
    "lgbm_2 = GridSearchCV(estimator, param_grid)\n",
    "lgbm_2.fit(train_X, train_y_1d)\n",
    " \n",
    "print('Best parameters found by grid search are:', lgbm_2.best_params_)\n",
    "# Best parameters found by grid search are: {'learning_rate': 0.01, 'n_estimators': 200}\n",
    "# Best parameters found by grid search are: {'learning_rate': 0.01, 'n_estimators': 150}"
   ]
  },
  {
   "cell_type": "code",
   "execution_count": 48,
   "metadata": {},
   "outputs": [
    {
     "data": {
      "text/plain": [
       "150"
      ]
     },
     "execution_count": 48,
     "metadata": {},
     "output_type": "execute_result"
    }
   ],
   "source": [
    "# 保存最佳参数\n",
    "learning_rate = lgbm_2.best_params_['learning_rate']\n",
    "n_estimators = lgbm_2.best_params_['n_estimators']\n",
    "n_estimators"
   ]
  },
  {
   "cell_type": "markdown",
   "metadata": {
    "collapsed": true
   },
   "source": [
    "## 2：调整树的参数：num_leaves\n",
    "(粗调，参数的步长为10；下一步是在粗调最佳参数周围，将步长降为2，进行精细调整)"
   ]
  },
  {
   "cell_type": "code",
   "execution_count": 53,
   "metadata": {},
   "outputs": [
    {
     "name": "stdout",
     "output_type": "stream",
     "text": [
      "Best parameters found by grid search are: {'num_leaves': 32}\n",
      "Wall time: 1min 14s\n"
     ]
    }
   ],
   "source": [
    "%%time\n",
    "estimator = lgbm.LGBMRegressor(objective='regression'\n",
    "                              , learning_rate=learning_rate\n",
    "                              , n_estimators=n_estimators)\n",
    "param_grid = {\n",
    "    'num_leaves': [26, 28, 30, 32, 34]\n",
    "}\n",
    " \n",
    "lgbm_3 = GridSearchCV(estimator, param_grid)\n",
    "lgbm_3.fit(train_X, train_y_1d)\n",
    "\n",
    "num_leaves = lgbm_3.best_params_['num_leaves']\n",
    "print('Best parameters found by grid search are:', lgbm_3.best_params_)\n",
    "# Best parameters found by grid search are: {'num_leaves': 30}"
   ]
  },
  {
   "cell_type": "markdown",
   "metadata": {},
   "source": [
    "## 3：调整树的参数：max_depth & min_child_weight\n",
    "(粗调，参数的步长为2；下一步是在粗调最佳参数周围，将步长降为1，进行精细调整)"
   ]
  },
  {
   "cell_type": "code",
   "execution_count": 59,
   "metadata": {},
   "outputs": [
    {
     "name": "stdout",
     "output_type": "stream",
     "text": [
      "Best parameters found by grid search are: {'max_depth': 5, 'min_child_weight': 1}\n",
      "Wall time: 55.7 s\n"
     ]
    }
   ],
   "source": [
    "%%time\n",
    "estimator = lgbm.LGBMRegressor(objective='regression'\n",
    "                              , learning_rate=learning_rate\n",
    "                              , n_estimators=n_estimators\n",
    "                              , num_leaves=num_leaves)\n",
    "param_grid = {\n",
    "    'max_depth': [5, 6, 7],\n",
    "    'min_child_weight' : [1, 2, 3]\n",
    "}\n",
    " \n",
    "lgbm_4 = GridSearchCV(estimator, param_grid)\n",
    "lgbm_4.fit(train_X, train_y_1d)\n",
    "\n",
    "max_depth = lgbm_4.best_params_['max_depth']\n",
    "min_child_weight = lgbm_4.best_params_['min_child_weight']\n",
    "print('Best parameters are:', lgbm_4.best_params_)\n",
    "# Best parameters are: {'max_depth': 5, 'min_child_weight': 1}"
   ]
  },
  {
   "cell_type": "markdown",
   "metadata": {},
   "source": [
    "## 4：调整树的参数：subsample 和 colsample_bytree\n",
    "(粗调，参数的步长为0.1；下一步是在粗调最佳参数周围，将步长降为0.05，进行精细调整)"
   ]
  },
  {
   "cell_type": "code",
   "execution_count": 70,
   "metadata": {},
   "outputs": [
    {
     "name": "stdout",
     "output_type": "stream",
     "text": [
      "Best parameters are: {'colsample_bytree': 0.55, 'subsample': 0.95}\n",
      "Wall time: 36.3 s\n"
     ]
    }
   ],
   "source": [
    "%%time\n",
    "estimator = lgbm.LGBMRegressor(objective='regression',\n",
    "                               learning_rate=learning_rate,\n",
    "                               n_estimators=n_estimators,\n",
    "                               num_leaves=num_leaves,\n",
    "                               max_depth=max_depth,\n",
    "                               min_child_weight=min_child_weight\n",
    "                              )\n",
    "param_grid = {\n",
    "    'subsample': [0.85, 0.9, 0.95],\n",
    "    'colsample_bytree' : [0.55, 0.6, 0.65]\n",
    "}\n",
    "lgbm_5 = GridSearchCV(estimator, param_grid)\n",
    "lgbm_5.fit(train_X, train_y_1d)\n",
    "\n",
    "subsample = lgbm_5.best_params_['subsample']\n",
    "colsample_bytree = lgbm_5.best_params_['colsample_bytree']\n",
    "print('Best parameters are:', lgbm_5.best_params_)\n",
    "# Best parameters are: {'colsample_bytree': 0.6, 'subsample': 0.9}"
   ]
  },
  {
   "cell_type": "markdown",
   "metadata": {},
   "source": [
    "## 5：调整正则化参数：reg_alpha 和 reg_lambda"
   ]
  },
  {
   "cell_type": "code",
   "execution_count": 75,
   "metadata": {},
   "outputs": [
    {
     "name": "stdout",
     "output_type": "stream",
     "text": [
      "Best parameters are: {'reg_alpha': 0.042, 'reg_lambda': 0.18}\n",
      "Wall time: 31.8 s\n"
     ]
    }
   ],
   "source": [
    "%%time\n",
    "estimator = lgbm.LGBMRegressor(objective='regression',\n",
    "                               learning_rate=learning_rate,\n",
    "                               n_estimators=n_estimators,\n",
    "                               num_leaves=num_leaves,\n",
    "                               max_depth=max_depth,\n",
    "                               min_child_weight=min_child_weight,\n",
    "                               subsample=subsample,\n",
    "                               colsample_bytree=colsample_bytree\n",
    "                              )\n",
    "param_grid = {\n",
    "    'reg_alpha': [0.038, 0.04, 0.042],\n",
    "    'reg_lambda' : [0.17, 0.18, 0.19]\n",
    "}\n",
    "lgbm_5 = GridSearchCV(estimator, param_grid)\n",
    "lgbm_5.fit(train_X, train_y_1d)\n",
    "\n",
    "reg_alpha = lgbm_5.best_params_['reg_alpha']\n",
    "reg_lambda = lgbm_5.best_params_['reg_lambda']\n",
    "print('Best parameters are:', lgbm_5.best_params_)\n",
    "# Best parameters are: {'reg_alpha': 0.05, 'reg_lambda': 0.2}"
   ]
  },
  {
   "cell_type": "markdown",
   "metadata": {},
   "source": [
    "## 6. 再次调优 learning_rate / n_estimators"
   ]
  },
  {
   "cell_type": "code",
   "execution_count": 80,
   "metadata": {},
   "outputs": [
    {
     "name": "stdout",
     "output_type": "stream",
     "text": [
      "Best parameters are: {'learning_rate': 0.01, 'n_estimators': 176}\n",
      "Wall time: 18.2 s\n"
     ]
    }
   ],
   "source": [
    "%%time\n",
    "estimator = lgbm.LGBMRegressor(objective='regression',\n",
    "                               num_leaves=num_leaves,\n",
    "                               max_depth=max_depth,\n",
    "                               min_child_weight=min_child_weight,\n",
    "                               subsample=subsample,\n",
    "                               colsample_bytree=colsample_bytree,\n",
    "                               reg_alpha=reg_alpha,\n",
    "                               reg_lambda=reg_lambda\n",
    "                              )\n",
    "param_grid = {\n",
    "    'learning_rate': [0.01],\n",
    "    'n_estimators' : [173, 175, 176,177]\n",
    "}\n",
    "lgbm_5 = GridSearchCV(estimator, param_grid)\n",
    "lgbm_5.fit(train_X, train_y_1d)\n",
    "\n",
    "learning_rate = lgbm_5.best_params_['learning_rate']\n",
    "n_estimators = lgbm_5.best_params_['n_estimators']\n",
    "print('Best parameters are:', lgbm_5.best_params_)\n",
    "# Best parameters are: {'learning_rate': 0.01, 'n_estimators': 180}\n",
    "# Wall time: 36.1 s"
   ]
  },
  {
   "cell_type": "markdown",
   "metadata": {},
   "source": [
    "## 7 用最佳模型测试"
   ]
  },
  {
   "cell_type": "code",
   "execution_count": 82,
   "metadata": {},
   "outputs": [
    {
     "name": "stdout",
     "output_type": "stream",
     "text": [
      "The rmse of prediction is: 0.51561109904\n"
     ]
    }
   ],
   "source": [
    "lgbm_5_pred_train = lgbm_5.predict(train_X )\n",
    "print('The rmse of prediction is:', mean_squared_error(train_y, lgbm_5_pred_train) ** 0.5)"
   ]
  },
  {
   "cell_type": "code",
   "execution_count": 83,
   "metadata": {},
   "outputs": [
    {
     "name": "stdout",
     "output_type": "stream",
     "text": [
      "predict =  [ 18.22507667  18.22507667  18.22507667 ...,  18.22507667  18.22507667\n",
      "  18.22507667]\n"
     ]
    },
    {
     "data": {
      "text/html": [
       "<div>\n",
       "<style>\n",
       "    .dataframe thead tr:only-child th {\n",
       "        text-align: right;\n",
       "    }\n",
       "\n",
       "    .dataframe thead th {\n",
       "        text-align: left;\n",
       "    }\n",
       "\n",
       "    .dataframe tbody tr th {\n",
       "        vertical-align: top;\n",
       "    }\n",
       "</style>\n",
       "<table border=\"1\" class=\"dataframe\">\n",
       "  <thead>\n",
       "    <tr style=\"text-align: right;\">\n",
       "      <th></th>\n",
       "      <th>user_id</th>\n",
       "      <th>prediction_pay_price</th>\n",
       "    </tr>\n",
       "  </thead>\n",
       "  <tbody>\n",
       "    <tr>\n",
       "      <th>0</th>\n",
       "      <td>14933</td>\n",
       "      <td>18.225077</td>\n",
       "    </tr>\n",
       "    <tr>\n",
       "      <th>1</th>\n",
       "      <td>14934</td>\n",
       "      <td>18.225077</td>\n",
       "    </tr>\n",
       "    <tr>\n",
       "      <th>2</th>\n",
       "      <td>14935</td>\n",
       "      <td>18.225077</td>\n",
       "    </tr>\n",
       "    <tr>\n",
       "      <th>3</th>\n",
       "      <td>14936</td>\n",
       "      <td>18.225077</td>\n",
       "    </tr>\n",
       "    <tr>\n",
       "      <th>4</th>\n",
       "      <td>14937</td>\n",
       "      <td>18.225077</td>\n",
       "    </tr>\n",
       "  </tbody>\n",
       "</table>\n",
       "</div>"
      ],
      "text/plain": [
       "   user_id  prediction_pay_price\n",
       "0    14933             18.225077\n",
       "1    14934             18.225077\n",
       "2    14935             18.225077\n",
       "3    14936             18.225077\n",
       "4    14937             18.225077"
      ]
     },
     "execution_count": 83,
     "metadata": {},
     "output_type": "execute_result"
    }
   ],
   "source": [
    "lgbm_5_pred = lgbm_5.predict(test_X)\n",
    "# 标准化数据还原 \n",
    "lgbm_5_pred = inverse_StandardScaler(lgbm_5_pred)\n",
    "#输出预测后的数据\n",
    "testPredict = generate_summit(lgbm_5_pred)\n",
    "testPredict.head()"
   ]
  },
  {
   "cell_type": "code",
   "execution_count": 86,
   "metadata": {},
   "outputs": [
    {
     "data": {
      "text/plain": [
       "(828934, 2)"
      ]
     },
     "execution_count": 86,
     "metadata": {},
     "output_type": "execute_result"
    }
   ],
   "source": [
    "#输出预测后的数据\n",
    "out_id += 1\n",
    "testPredict.to_csv('%ssummit0.1-coor0.3-pay-lgbm-%s.csv' %(summit_path, out_id), index=False)\n",
    "testPredict.shape"
   ]
  },
  {
   "cell_type": "code",
   "execution_count": null,
   "metadata": {
    "collapsed": true
   },
   "outputs": [],
   "source": []
  }
 ],
 "metadata": {
  "kernelspec": {
   "display_name": "Python 3",
   "language": "python",
   "name": "python3"
  },
  "language_info": {
   "codemirror_mode": {
    "name": "ipython",
    "version": 3
   },
   "file_extension": ".py",
   "mimetype": "text/x-python",
   "name": "python",
   "nbconvert_exporter": "python",
   "pygments_lexer": "ipython3",
   "version": "3.6.3"
  }
 },
 "nbformat": 4,
 "nbformat_minor": 2
}
