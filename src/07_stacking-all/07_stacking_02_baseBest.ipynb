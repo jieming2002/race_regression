{
 "cells": [
  {
   "cell_type": "markdown",
   "metadata": {},
   "source": [
    "## stacking 集成算法：最佳模型\n",
    "基础学习器抽取特征，次级学习器融合。5折。\n",
    "- 4 ExtraTreesRegressor\n",
    "- 5 Gradient Boosting Regressor\n",
    "- 6 RandomForestRegressor\n",
    "- 7 BaggingRegressor"
   ]
  },
  {
   "cell_type": "code",
   "execution_count": 1,
   "metadata": {
    "collapsed": true
   },
   "outputs": [],
   "source": [
    "# 导入必要的工具包\n",
    "import numpy as np #用于数值计算\n",
    "import pandas as pd #用于数据表处理，数据文件读写\n",
    "from sklearn.preprocessing import StandardScaler\n",
    "from sklearn.metrics import mean_squared_error\n",
    "\n",
    "from sklearn import ensemble\n",
    "\n",
    "import matplotlib.pyplot as plt #用于绘图：分析结果的可视化。\n",
    "#应该是设置浮点数的形式格式，小数点后三位\n",
    "pd.set_option('display.float_format', lambda x: '%.4f' % x)\n",
    "#这一行是干嘛的？ 设置 matplotlib 让绘制的图形出现在 Notebook 里而不是新窗口\n",
    "%matplotlib inline"
   ]
  },
  {
   "cell_type": "code",
   "execution_count": 2,
   "metadata": {
    "collapsed": true
   },
   "outputs": [],
   "source": [
    "def get_train_val(val_id):\n",
    "    '''获取训练集和校验集 \n",
    "    val_id = 0,1,2 #当前校验集编号 '''\n",
    "    print('val_id=%s'% (val_id))\n",
    "    df_val = train_list[val_id]\n",
    "    train_tmp = []\n",
    "\n",
    "    for i in range(1, train_part_num):\n",
    "        cur_id = (val_id + i) % 5\n",
    "        print('cur_id=%s'% (cur_id))\n",
    "        train_tmp.append(train_list[cur_id])\n",
    "    \n",
    "#     只生成一次，节省内存 \n",
    "    df_train = pd.concat(train_tmp)\n",
    "    print('df_train.shape=%s  df_val.shape=%s'% (df_train.shape, df_val.shape))\n",
    "    return df_train, df_val"
   ]
  },
  {
   "cell_type": "code",
   "execution_count": 3,
   "metadata": {
    "collapsed": true
   },
   "outputs": [],
   "source": [
    "Y_Standard = True\n",
    "path_train = '../data/new/train=all/'\n",
    "path_test = '../data/new/test/'\n",
    "\n",
    "val_path = '../data/val/' #保存校验集测试结果\n",
    "val_name = '%sval=stacking-%s-%s.csv'\n",
    "summit_path = '../data/summit/stacking2/' #保存提交文件，测试集测试结果 \n",
    "out_name = '%ssummit=stacking-%s-%s.csv' # 生成的结果文件名称\n",
    "base = 'base2' #学习器级别 \n",
    "\n",
    "train_part_num = 5 #训练集拆分个数\n",
    "target = 'prediction_pay_price'\n",
    "user_id = 'user_id'"
   ]
  },
  {
   "cell_type": "markdown",
   "metadata": {},
   "source": [
    "## 指定读取数据类型，节省内存"
   ]
  },
  {
   "cell_type": "code",
   "execution_count": 4,
   "metadata": {
    "collapsed": true
   },
   "outputs": [],
   "source": [
    "col_int32 = ['user_id', 'register_time', 'wood_add_value', 'wood_reduce_value',\n",
    "       'stone_add_value', 'stone_reduce_value', 'ivory_add_value',\n",
    "       'ivory_reduce_value', 'meat_add_value', 'meat_reduce_value',\n",
    "       'magic_add_value', 'magic_reduce_value', 'infantry_add_value',\n",
    "       'infantry_reduce_value', 'cavalry_add_value', 'cavalry_reduce_value',\n",
    "       'shaman_add_value', 'shaman_reduce_value', 'wound_infantry_add_value',\n",
    "       'wound_infantry_reduce_value', 'wound_cavalry_add_value',\n",
    "       'wound_cavalry_reduce_value', 'wound_shaman_add_value',\n",
    "       'wound_shaman_reduce_value', 'general_acceleration_add_value',\n",
    "       'general_acceleration_reduce_value', 'building_acceleration_add_value',\n",
    "       'building_acceleration_reduce_value', 'reaserch_acceleration_add_value',\n",
    "       'reaserch_acceleration_reduce_value', 'training_acceleration_add_value',\n",
    "       'training_acceleration_reduce_value', 'treatment_acceleraion_add_value',\n",
    "       'treatment_acceleration_reduce_value', 'bd_training_hut_level',\n",
    "       'bd_healing_lodge_level', 'bd_stronghold_level',\n",
    "       'bd_outpost_portal_level', 'bd_barrack_level',\n",
    "       'bd_healing_spring_level', 'bd_dolmen_level', 'bd_guest_cavern_level',\n",
    "       'bd_warehouse_level', 'bd_watchtower_level', 'bd_magic_coin_tree_level',\n",
    "       'bd_hall_of_war_level', 'bd_market_level', 'bd_hero_gacha_level',\n",
    "       'bd_hero_strengthen_level', 'bd_hero_pve_level', 'sr_scout_level', \n",
    "       'sr_training_speed_level', 'sr_infantry_tier_2_level',\n",
    "       'sr_cavalry_tier_2_level', 'sr_shaman_tier_2_level',\n",
    "       'sr_infantry_atk_level', 'sr_cavalry_atk_level', 'sr_shaman_atk_level',\n",
    "       'sr_infantry_tier_3_level', 'sr_cavalry_tier_3_level',\n",
    "       'sr_shaman_tier_3_level', 'sr_troop_defense_level',\n",
    "       'sr_infantry_def_level', 'sr_cavalry_def_level', 'sr_shaman_def_level',\n",
    "       'sr_infantry_hp_level', 'sr_cavalry_hp_level', 'sr_shaman_hp_level',\n",
    "       'sr_infantry_tier_4_level', 'sr_cavalry_tier_4_level',\n",
    "       'sr_shaman_tier_4_level', 'sr_troop_attack_level',\n",
    "       'sr_construction_speed_level', 'sr_hide_storage_level',\n",
    "       'sr_troop_consumption_level', 'sr_rss_a_prod_levell',\n",
    "       'sr_rss_b_prod_level', 'sr_rss_c_prod_level', 'sr_rss_d_prod_level',\n",
    "       'sr_rss_a_gather_level', 'sr_rss_b_gather_level',\n",
    "       'sr_rss_c_gather_level', 'sr_rss_d_gather_level', 'sr_troop_load_level',\n",
    "       'sr_rss_e_gather_level', 'sr_rss_e_prod_level',\n",
    "       'sr_outpost_durability_level', 'sr_outpost_tier_2_level',\n",
    "       'sr_healing_space_level', 'sr_gathering_hunter_buff_level',\n",
    "       'sr_healing_speed_level', 'sr_outpost_tier_3_level',\n",
    "       'sr_alliance_march_speed_level', 'sr_pvp_march_speed_level',\n",
    "       'sr_gathering_march_speed_level', 'sr_outpost_tier_4_level',\n",
    "       'sr_guest_troop_capacity_level', 'sr_march_size_level',\n",
    "       'sr_rss_help_bonus_level', 'pvp_battle_count', 'pvp_lanch_count',\n",
    "       'pvp_win_count', 'pve_battle_count', 'pve_lanch_count', 'pve_win_count',\n",
    "       'pay_count']\n",
    "col_float32 = ['avg_online_minutes', 'pay_price']"
   ]
  },
  {
   "cell_type": "code",
   "execution_count": 5,
   "metadata": {
    "collapsed": true
   },
   "outputs": [],
   "source": [
    "# 指定读取数据类型，节省内存\n",
    "dtype_test = {}\n",
    "for col in col_int32:\n",
    "    dtype_test[col] = np.int32\n",
    "for col in col_float32:\n",
    "    dtype_test[col] = np.float32\n",
    "# dtype_test"
   ]
  },
  {
   "cell_type": "code",
   "execution_count": 6,
   "metadata": {
    "collapsed": true
   },
   "outputs": [],
   "source": [
    "dtype_train = dtype_test.copy()\n",
    "dtype_train[target] = np.float32\n",
    "# dtype_train"
   ]
  },
  {
   "cell_type": "markdown",
   "metadata": {},
   "source": [
    "## 读取数据，一次读取多次使用，不同组合 "
   ]
  },
  {
   "cell_type": "code",
   "execution_count": 7,
   "metadata": {},
   "outputs": [
    {
     "data": {
      "text/html": [
       "<div>\n",
       "<style>\n",
       "    .dataframe thead tr:only-child th {\n",
       "        text-align: right;\n",
       "    }\n",
       "\n",
       "    .dataframe thead th {\n",
       "        text-align: left;\n",
       "    }\n",
       "\n",
       "    .dataframe tbody tr th {\n",
       "        vertical-align: top;\n",
       "    }\n",
       "</style>\n",
       "<table border=\"1\" class=\"dataframe\">\n",
       "  <thead>\n",
       "    <tr style=\"text-align: right;\">\n",
       "      <th></th>\n",
       "      <th>user_id</th>\n",
       "      <th>register_time</th>\n",
       "      <th>wood_add_value</th>\n",
       "      <th>wood_reduce_value</th>\n",
       "      <th>stone_add_value</th>\n",
       "      <th>stone_reduce_value</th>\n",
       "      <th>ivory_add_value</th>\n",
       "      <th>ivory_reduce_value</th>\n",
       "      <th>meat_add_value</th>\n",
       "      <th>meat_reduce_value</th>\n",
       "      <th>...</th>\n",
       "      <th>pvp_battle_count</th>\n",
       "      <th>pvp_lanch_count</th>\n",
       "      <th>pvp_win_count</th>\n",
       "      <th>pve_battle_count</th>\n",
       "      <th>pve_lanch_count</th>\n",
       "      <th>pve_win_count</th>\n",
       "      <th>avg_online_minutes</th>\n",
       "      <th>pay_price</th>\n",
       "      <th>pay_count</th>\n",
       "      <th>prediction_pay_price</th>\n",
       "    </tr>\n",
       "  </thead>\n",
       "  <tbody>\n",
       "    <tr>\n",
       "      <th>0</th>\n",
       "      <td>332994</td>\n",
       "      <td>112</td>\n",
       "      <td>43413</td>\n",
       "      <td>18424</td>\n",
       "      <td>0</td>\n",
       "      <td>0</td>\n",
       "      <td>0</td>\n",
       "      <td>0</td>\n",
       "      <td>62775</td>\n",
       "      <td>9444</td>\n",
       "      <td>...</td>\n",
       "      <td>0</td>\n",
       "      <td>0</td>\n",
       "      <td>0</td>\n",
       "      <td>0</td>\n",
       "      <td>0</td>\n",
       "      <td>0</td>\n",
       "      <td>0.5000</td>\n",
       "      <td>0.0000</td>\n",
       "      <td>0</td>\n",
       "      <td>0.0000</td>\n",
       "    </tr>\n",
       "    <tr>\n",
       "      <th>1</th>\n",
       "      <td>2186887</td>\n",
       "      <td>136</td>\n",
       "      <td>0</td>\n",
       "      <td>0</td>\n",
       "      <td>0</td>\n",
       "      <td>0</td>\n",
       "      <td>0</td>\n",
       "      <td>0</td>\n",
       "      <td>0</td>\n",
       "      <td>0</td>\n",
       "      <td>...</td>\n",
       "      <td>0</td>\n",
       "      <td>0</td>\n",
       "      <td>0</td>\n",
       "      <td>0</td>\n",
       "      <td>0</td>\n",
       "      <td>0</td>\n",
       "      <td>0.3333</td>\n",
       "      <td>0.0000</td>\n",
       "      <td>0</td>\n",
       "      <td>0.0000</td>\n",
       "    </tr>\n",
       "    <tr>\n",
       "      <th>2</th>\n",
       "      <td>383991</td>\n",
       "      <td>134</td>\n",
       "      <td>0</td>\n",
       "      <td>0</td>\n",
       "      <td>0</td>\n",
       "      <td>0</td>\n",
       "      <td>0</td>\n",
       "      <td>0</td>\n",
       "      <td>0</td>\n",
       "      <td>0</td>\n",
       "      <td>...</td>\n",
       "      <td>0</td>\n",
       "      <td>0</td>\n",
       "      <td>0</td>\n",
       "      <td>0</td>\n",
       "      <td>0</td>\n",
       "      <td>0</td>\n",
       "      <td>0.6667</td>\n",
       "      <td>0.0000</td>\n",
       "      <td>0</td>\n",
       "      <td>0.0000</td>\n",
       "    </tr>\n",
       "    <tr>\n",
       "      <th>3</th>\n",
       "      <td>102315</td>\n",
       "      <td>134</td>\n",
       "      <td>0</td>\n",
       "      <td>0</td>\n",
       "      <td>0</td>\n",
       "      <td>0</td>\n",
       "      <td>0</td>\n",
       "      <td>0</td>\n",
       "      <td>0</td>\n",
       "      <td>0</td>\n",
       "      <td>...</td>\n",
       "      <td>0</td>\n",
       "      <td>0</td>\n",
       "      <td>0</td>\n",
       "      <td>0</td>\n",
       "      <td>0</td>\n",
       "      <td>0</td>\n",
       "      <td>0.5000</td>\n",
       "      <td>0.0000</td>\n",
       "      <td>0</td>\n",
       "      <td>0.0000</td>\n",
       "    </tr>\n",
       "    <tr>\n",
       "      <th>4</th>\n",
       "      <td>225310</td>\n",
       "      <td>106</td>\n",
       "      <td>28975</td>\n",
       "      <td>5780</td>\n",
       "      <td>0</td>\n",
       "      <td>0</td>\n",
       "      <td>0</td>\n",
       "      <td>0</td>\n",
       "      <td>33525</td>\n",
       "      <td>3220</td>\n",
       "      <td>...</td>\n",
       "      <td>0</td>\n",
       "      <td>0</td>\n",
       "      <td>0</td>\n",
       "      <td>0</td>\n",
       "      <td>0</td>\n",
       "      <td>0</td>\n",
       "      <td>0.6667</td>\n",
       "      <td>0.0000</td>\n",
       "      <td>0</td>\n",
       "      <td>0.0000</td>\n",
       "    </tr>\n",
       "  </tbody>\n",
       "</table>\n",
       "<p>5 rows × 109 columns</p>\n",
       "</div>"
      ],
      "text/plain": [
       "   user_id  register_time  wood_add_value  wood_reduce_value  stone_add_value  \\\n",
       "0   332994            112           43413              18424                0   \n",
       "1  2186887            136               0                  0                0   \n",
       "2   383991            134               0                  0                0   \n",
       "3   102315            134               0                  0                0   \n",
       "4   225310            106           28975               5780                0   \n",
       "\n",
       "   stone_reduce_value  ivory_add_value  ivory_reduce_value  meat_add_value  \\\n",
       "0                   0                0                   0           62775   \n",
       "1                   0                0                   0               0   \n",
       "2                   0                0                   0               0   \n",
       "3                   0                0                   0               0   \n",
       "4                   0                0                   0           33525   \n",
       "\n",
       "   meat_reduce_value          ...           pvp_battle_count  pvp_lanch_count  \\\n",
       "0               9444          ...                          0                0   \n",
       "1                  0          ...                          0                0   \n",
       "2                  0          ...                          0                0   \n",
       "3                  0          ...                          0                0   \n",
       "4               3220          ...                          0                0   \n",
       "\n",
       "   pvp_win_count  pve_battle_count  pve_lanch_count  pve_win_count  \\\n",
       "0              0                 0                0              0   \n",
       "1              0                 0                0              0   \n",
       "2              0                 0                0              0   \n",
       "3              0                 0                0              0   \n",
       "4              0                 0                0              0   \n",
       "\n",
       "   avg_online_minutes  pay_price  pay_count  prediction_pay_price  \n",
       "0              0.5000     0.0000          0                0.0000  \n",
       "1              0.3333     0.0000          0                0.0000  \n",
       "2              0.6667     0.0000          0                0.0000  \n",
       "3              0.5000     0.0000          0                0.0000  \n",
       "4              0.6667     0.0000          0                0.0000  \n",
       "\n",
       "[5 rows x 109 columns]"
      ]
     },
     "execution_count": 7,
     "metadata": {},
     "output_type": "execute_result"
    }
   ],
   "source": [
    "train_list = []\n",
    "for i in range(train_part_num):\n",
    "    cur_id = i + 1\n",
    "    train_list.append(pd.read_csv('%strain=fe-%s.csv' % (path_train, cur_id), dtype=dtype_train))\n",
    "train_list[0].head()"
   ]
  },
  {
   "cell_type": "markdown",
   "metadata": {},
   "source": [
    "## 5折交叉验证"
   ]
  },
  {
   "cell_type": "code",
   "execution_count": 8,
   "metadata": {},
   "outputs": [
    {
     "name": "stdout",
     "output_type": "stream",
     "text": [
      "val_id=4\n",
      "cur_id=0\n",
      "cur_id=1\n",
      "cur_id=2\n",
      "cur_id=3\n",
      "df_train.shape=(1830405, 109)  df_val.shape=(457602, 109)\n"
     ]
    }
   ],
   "source": [
    "# 根据校验集编号 0，1,2,3,4 ，获取训练集和校验集\n",
    "df_train, df_val = get_train_val(4)\n",
    "\n",
    "# 从原始数据中分离输入特征x和输出y\n",
    "train_y = df_train[target].values\n",
    "train_X = df_train.drop([target, user_id], axis = 1)\n",
    "val_y = df_val[target].values\n",
    "val_X = df_val.drop([target, user_id], axis = 1)"
   ]
  },
  {
   "cell_type": "code",
   "execution_count": 9,
   "metadata": {
    "collapsed": true
   },
   "outputs": [],
   "source": [
    "# 数据标准化：分别初始化对特征和目标值的标准化器 \n",
    "ss_X = StandardScaler()\n",
    "ss_y = StandardScaler()\n",
    "\n",
    "# 分别对训练和测试数据的特征以及目标值进行标准化处理\n",
    "train_X_ss = ss_X.fit_transform(train_X)\n",
    "val_X_ss = ss_X.transform(val_X)\n",
    "\n",
    "if Y_Standard:\n",
    "    train_y_ss = ss_y.fit_transform(train_y.reshape(-1, 1))\n",
    "    val_y_ss = ss_y.transform(val_y.reshape(-1, 1))\n",
    "\n",
    "# 需要转换为一维数组 \n",
    "train_y_ss_1d = train_y_ss.reshape(train_y_ss.shape[0])\n",
    "val_y_ss_1d = val_y_ss.reshape(val_y_ss.shape[0])"
   ]
  },
  {
   "cell_type": "code",
   "execution_count": 10,
   "metadata": {
    "collapsed": true
   },
   "outputs": [],
   "source": [
    "def inverse_StandardScaler(predict):\n",
    "    ''' 标准化数据还原  '''\n",
    "    if Y_Standard:\n",
    "        predict = ss_y.inverse_transform(predict)\n",
    "        print('predict = ', predict)\n",
    "    return predict\n",
    "\n",
    "def generate_summit(predict):\n",
    "    ''' 输出预测后的数据 '''\n",
    "    testPredict = test.copy()\n",
    "    testPredict[target] = predict\n",
    "    testPredict = testPredict[[user_id, target]]\n",
    "#     应该过滤掉负数\n",
    "    testPredict[target] = testPredict[target].apply(lambda x: x if x > 0 else 0)\n",
    "    return testPredict\n",
    "\n",
    "def generate_val_predict(predict):\n",
    "    ''' 生成校验集预测后的数据 '''\n",
    "    testPredict = df_val.copy()\n",
    "    testPredict[target] = predict\n",
    "    testPredict = testPredict[[user_id, target]]\n",
    "#     应该过滤掉负数\n",
    "    testPredict[target] = testPredict[target].apply(lambda x: x if x > 0 else 0)\n",
    "    return testPredict"
   ]
  },
  {
   "cell_type": "markdown",
   "metadata": {},
   "source": [
    "## 模型训练\n",
    "###  4. ExtraTreesRegressor"
   ]
  },
  {
   "cell_type": "code",
   "execution_count": 11,
   "metadata": {},
   "outputs": [
    {
     "name": "stdout",
     "output_type": "stream",
     "text": [
      "Wall time: 6min 47s\n"
     ]
    }
   ],
   "source": [
    "%%time\n",
    "model = ensemble.ExtraTreesRegressor(n_estimators=16, min_samples_split=80, min_samples_leaf=8, n_jobs=-1)\n",
    "model.fit(train_X_ss, train_y_ss_1d)\n",
    "# Wall time: 4min 6s"
   ]
  },
  {
   "cell_type": "code",
   "execution_count": 12,
   "metadata": {},
   "outputs": [
    {
     "name": "stdout",
     "output_type": "stream",
     "text": [
      "The score: Train=0.5756203255311486  Val=0.48576997881035494\n",
      "The RMSE: Train=0.6514444283623049  Val=0.6309690932311239\n"
     ]
    }
   ],
   "source": [
    "# 模型评估\n",
    "scoreTrain = model.score(train_X_ss, train_y_ss)\n",
    "scoreVal = model.score(val_X_ss, val_y_ss)\n",
    "print('The score: Train=%s  Val=%s'% (scoreTrain, scoreVal)) \n",
    "\n",
    "predict_train = model.predict(train_X_ss)\n",
    "rmseTrain = mean_squared_error(train_y_ss, predict_train) ** 0.5\n",
    "predict_val = model.predict(val_X_ss)\n",
    "rmseVal = mean_squared_error(val_y_ss, predict_val) ** 0.5\n",
    "print('The RMSE: Train=%s  Val=%s' % (rmseTrain, rmseVal))\n",
    "\n",
    "# n_estimators=10, min_samples_split=80, min_samples_leaf=8 \n",
    "# n_estimators=12, min_samples_split=80, min_samples_leaf=8\n",
    "# n_estimators=14, min_samples_split=80, min_samples_leaf=8\n",
    "# The score: Train=0.6521757828419238  Val=0.5987845196080509\n",
    "# The RMSE: Train=0.5897663490208811  Val=0.43224438107351143\n",
    "# n_estimators=16, min_samples_split=80, min_samples_leaf=8 "
   ]
  },
  {
   "cell_type": "markdown",
   "metadata": {},
   "source": [
    "### 保存校验集测试结果"
   ]
  },
  {
   "cell_type": "code",
   "execution_count": 13,
   "metadata": {},
   "outputs": [
    {
     "name": "stdout",
     "output_type": "stream",
     "text": [
      "predict_val=  [-0.01991728 -0.02015105 -0.02015979 ... -0.01995695 -0.02015841\n",
      " -0.02015806]\n",
      "predict =  [0.02217546 0.00101233 0.00022061 ... 0.01858445 0.00034597 0.00037783]\n"
     ]
    },
    {
     "data": {
      "text/html": [
       "<div>\n",
       "<style>\n",
       "    .dataframe thead tr:only-child th {\n",
       "        text-align: right;\n",
       "    }\n",
       "\n",
       "    .dataframe thead th {\n",
       "        text-align: left;\n",
       "    }\n",
       "\n",
       "    .dataframe tbody tr th {\n",
       "        vertical-align: top;\n",
       "    }\n",
       "</style>\n",
       "<table border=\"1\" class=\"dataframe\">\n",
       "  <thead>\n",
       "    <tr style=\"text-align: right;\">\n",
       "      <th></th>\n",
       "      <th>user_id</th>\n",
       "      <th>prediction_pay_price</th>\n",
       "    </tr>\n",
       "  </thead>\n",
       "  <tbody>\n",
       "    <tr>\n",
       "      <th>0</th>\n",
       "      <td>1987367</td>\n",
       "      <td>0.0222</td>\n",
       "    </tr>\n",
       "    <tr>\n",
       "      <th>1</th>\n",
       "      <td>2292622</td>\n",
       "      <td>0.0010</td>\n",
       "    </tr>\n",
       "    <tr>\n",
       "      <th>2</th>\n",
       "      <td>466954</td>\n",
       "      <td>0.0002</td>\n",
       "    </tr>\n",
       "    <tr>\n",
       "      <th>3</th>\n",
       "      <td>1008130</td>\n",
       "      <td>0.0004</td>\n",
       "    </tr>\n",
       "    <tr>\n",
       "      <th>4</th>\n",
       "      <td>9759</td>\n",
       "      <td>0.0000</td>\n",
       "    </tr>\n",
       "  </tbody>\n",
       "</table>\n",
       "</div>"
      ],
      "text/plain": [
       "   user_id  prediction_pay_price\n",
       "0  1987367                0.0222\n",
       "1  2292622                0.0010\n",
       "2   466954                0.0002\n",
       "3  1008130                0.0004\n",
       "4     9759                0.0000"
      ]
     },
     "execution_count": 13,
     "metadata": {},
     "output_type": "execute_result"
    }
   ],
   "source": [
    "print('predict_val= ', predict_val)\n",
    "# 标准化数据还原 \n",
    "predict_val = inverse_StandardScaler(predict_val)\n",
    "valPredict = generate_val_predict(predict_val)\n",
    "#输出预测后的数据\n",
    "valPredict.to_csv(val_name %(val_path, base, 'ExtraTreesRegressor'), index=False)\n",
    "valPredict.head()"
   ]
  },
  {
   "cell_type": "markdown",
   "metadata": {},
   "source": [
    "## 加载测试数据"
   ]
  },
  {
   "cell_type": "code",
   "execution_count": 14,
   "metadata": {
    "scrolled": true
   },
   "outputs": [
    {
     "data": {
      "text/html": [
       "<div>\n",
       "<style>\n",
       "    .dataframe thead tr:only-child th {\n",
       "        text-align: right;\n",
       "    }\n",
       "\n",
       "    .dataframe thead th {\n",
       "        text-align: left;\n",
       "    }\n",
       "\n",
       "    .dataframe tbody tr th {\n",
       "        vertical-align: top;\n",
       "    }\n",
       "</style>\n",
       "<table border=\"1\" class=\"dataframe\">\n",
       "  <thead>\n",
       "    <tr style=\"text-align: right;\">\n",
       "      <th></th>\n",
       "      <th>user_id</th>\n",
       "      <th>register_time</th>\n",
       "      <th>wood_add_value</th>\n",
       "      <th>wood_reduce_value</th>\n",
       "      <th>stone_add_value</th>\n",
       "      <th>stone_reduce_value</th>\n",
       "      <th>ivory_add_value</th>\n",
       "      <th>ivory_reduce_value</th>\n",
       "      <th>meat_add_value</th>\n",
       "      <th>meat_reduce_value</th>\n",
       "      <th>...</th>\n",
       "      <th>sr_rss_help_bonus_level</th>\n",
       "      <th>pvp_battle_count</th>\n",
       "      <th>pvp_lanch_count</th>\n",
       "      <th>pvp_win_count</th>\n",
       "      <th>pve_battle_count</th>\n",
       "      <th>pve_lanch_count</th>\n",
       "      <th>pve_win_count</th>\n",
       "      <th>avg_online_minutes</th>\n",
       "      <th>pay_price</th>\n",
       "      <th>pay_count</th>\n",
       "    </tr>\n",
       "  </thead>\n",
       "  <tbody>\n",
       "    <tr>\n",
       "      <th>0</th>\n",
       "      <td>14933</td>\n",
       "      <td>94</td>\n",
       "      <td>166415</td>\n",
       "      <td>138362</td>\n",
       "      <td>0</td>\n",
       "      <td>0</td>\n",
       "      <td>0</td>\n",
       "      <td>0</td>\n",
       "      <td>258522</td>\n",
       "      <td>90142</td>\n",
       "      <td>...</td>\n",
       "      <td>0</td>\n",
       "      <td>0</td>\n",
       "      <td>0</td>\n",
       "      <td>0</td>\n",
       "      <td>1</td>\n",
       "      <td>1</td>\n",
       "      <td>1</td>\n",
       "      <td>8.0000</td>\n",
       "      <td>0.0000</td>\n",
       "      <td>0</td>\n",
       "    </tr>\n",
       "    <tr>\n",
       "      <th>1</th>\n",
       "      <td>14934</td>\n",
       "      <td>94</td>\n",
       "      <td>10000</td>\n",
       "      <td>600</td>\n",
       "      <td>0</td>\n",
       "      <td>0</td>\n",
       "      <td>0</td>\n",
       "      <td>0</td>\n",
       "      <td>10000</td>\n",
       "      <td>400</td>\n",
       "      <td>...</td>\n",
       "      <td>0</td>\n",
       "      <td>0</td>\n",
       "      <td>0</td>\n",
       "      <td>0</td>\n",
       "      <td>0</td>\n",
       "      <td>0</td>\n",
       "      <td>0</td>\n",
       "      <td>0.1667</td>\n",
       "      <td>0.0000</td>\n",
       "      <td>0</td>\n",
       "    </tr>\n",
       "    <tr>\n",
       "      <th>2</th>\n",
       "      <td>14935</td>\n",
       "      <td>94</td>\n",
       "      <td>10000</td>\n",
       "      <td>3700</td>\n",
       "      <td>0</td>\n",
       "      <td>0</td>\n",
       "      <td>0</td>\n",
       "      <td>0</td>\n",
       "      <td>10000</td>\n",
       "      <td>2000</td>\n",
       "      <td>...</td>\n",
       "      <td>0</td>\n",
       "      <td>0</td>\n",
       "      <td>0</td>\n",
       "      <td>0</td>\n",
       "      <td>0</td>\n",
       "      <td>0</td>\n",
       "      <td>0</td>\n",
       "      <td>17.0000</td>\n",
       "      <td>0.0000</td>\n",
       "      <td>0</td>\n",
       "    </tr>\n",
       "    <tr>\n",
       "      <th>3</th>\n",
       "      <td>14936</td>\n",
       "      <td>94</td>\n",
       "      <td>210000</td>\n",
       "      <td>0</td>\n",
       "      <td>200000</td>\n",
       "      <td>0</td>\n",
       "      <td>200000</td>\n",
       "      <td>0</td>\n",
       "      <td>610000</td>\n",
       "      <td>0</td>\n",
       "      <td>...</td>\n",
       "      <td>0</td>\n",
       "      <td>0</td>\n",
       "      <td>0</td>\n",
       "      <td>0</td>\n",
       "      <td>0</td>\n",
       "      <td>0</td>\n",
       "      <td>0</td>\n",
       "      <td>1.6667</td>\n",
       "      <td>0.0000</td>\n",
       "      <td>0</td>\n",
       "    </tr>\n",
       "    <tr>\n",
       "      <th>4</th>\n",
       "      <td>14937</td>\n",
       "      <td>94</td>\n",
       "      <td>11500</td>\n",
       "      <td>3700</td>\n",
       "      <td>0</td>\n",
       "      <td>0</td>\n",
       "      <td>0</td>\n",
       "      <td>0</td>\n",
       "      <td>11000</td>\n",
       "      <td>2000</td>\n",
       "      <td>...</td>\n",
       "      <td>0</td>\n",
       "      <td>0</td>\n",
       "      <td>0</td>\n",
       "      <td>0</td>\n",
       "      <td>0</td>\n",
       "      <td>0</td>\n",
       "      <td>0</td>\n",
       "      <td>0.3333</td>\n",
       "      <td>0.0000</td>\n",
       "      <td>0</td>\n",
       "    </tr>\n",
       "  </tbody>\n",
       "</table>\n",
       "<p>5 rows × 108 columns</p>\n",
       "</div>"
      ],
      "text/plain": [
       "   user_id  register_time  wood_add_value  wood_reduce_value  stone_add_value  \\\n",
       "0    14933             94          166415             138362                0   \n",
       "1    14934             94           10000                600                0   \n",
       "2    14935             94           10000               3700                0   \n",
       "3    14936             94          210000                  0           200000   \n",
       "4    14937             94           11500               3700                0   \n",
       "\n",
       "   stone_reduce_value  ivory_add_value  ivory_reduce_value  meat_add_value  \\\n",
       "0                   0                0                   0          258522   \n",
       "1                   0                0                   0           10000   \n",
       "2                   0                0                   0           10000   \n",
       "3                   0           200000                   0          610000   \n",
       "4                   0                0                   0           11000   \n",
       "\n",
       "   meat_reduce_value    ...      sr_rss_help_bonus_level  pvp_battle_count  \\\n",
       "0              90142    ...                            0                 0   \n",
       "1                400    ...                            0                 0   \n",
       "2               2000    ...                            0                 0   \n",
       "3                  0    ...                            0                 0   \n",
       "4               2000    ...                            0                 0   \n",
       "\n",
       "   pvp_lanch_count  pvp_win_count  pve_battle_count  pve_lanch_count  \\\n",
       "0                0              0                 1                1   \n",
       "1                0              0                 0                0   \n",
       "2                0              0                 0                0   \n",
       "3                0              0                 0                0   \n",
       "4                0              0                 0                0   \n",
       "\n",
       "   pve_win_count  avg_online_minutes  pay_price  pay_count  \n",
       "0              1              8.0000     0.0000          0  \n",
       "1              0              0.1667     0.0000          0  \n",
       "2              0             17.0000     0.0000          0  \n",
       "3              0              1.6667     0.0000          0  \n",
       "4              0              0.3333     0.0000          0  \n",
       "\n",
       "[5 rows x 108 columns]"
      ]
     },
     "execution_count": 14,
     "metadata": {},
     "output_type": "execute_result"
    }
   ],
   "source": [
    "test = pd.read_csv(path_test + 'tap_fun_test-fe.csv', dtype=dtype_test)\n",
    "test_X = test.drop([user_id], axis = 1)\n",
    "test_X_ss = ss_X.transform(test_X)\n",
    "test.head()"
   ]
  },
  {
   "cell_type": "code",
   "execution_count": 15,
   "metadata": {},
   "outputs": [
    {
     "name": "stdout",
     "output_type": "stream",
     "text": [
      "model_y_predict_test =  [-0.02016139 -0.02016223 -0.02016223 ... -0.020055   -0.02016223\n",
      " -0.02016197]\n",
      "predict =  [ 7.57668193e-05 -8.71155108e-08 -8.71155108e-08 ...  9.70718840e-03\n",
      " -8.71155108e-08  2.32751671e-05]\n"
     ]
    }
   ],
   "source": [
    "#对测试数据进行预测\n",
    "model_y_predict_test = model.predict(test_X_ss)\n",
    "print('model_y_predict_test = ', model_y_predict_test)\n",
    "\n",
    "# 标准化数据还原 \n",
    "y_predict_test = inverse_StandardScaler(model_y_predict_test)\n",
    "# lasso_y_predict_test =  [0.4556051 0.4556051 0.4556051 ... 0.4556051 0.4556051 0.4556051]"
   ]
  },
  {
   "cell_type": "code",
   "execution_count": 16,
   "metadata": {},
   "outputs": [
    {
     "data": {
      "text/html": [
       "<div>\n",
       "<style>\n",
       "    .dataframe thead tr:only-child th {\n",
       "        text-align: right;\n",
       "    }\n",
       "\n",
       "    .dataframe thead th {\n",
       "        text-align: left;\n",
       "    }\n",
       "\n",
       "    .dataframe tbody tr th {\n",
       "        vertical-align: top;\n",
       "    }\n",
       "</style>\n",
       "<table border=\"1\" class=\"dataframe\">\n",
       "  <thead>\n",
       "    <tr style=\"text-align: right;\">\n",
       "      <th></th>\n",
       "      <th>user_id</th>\n",
       "      <th>prediction_pay_price</th>\n",
       "    </tr>\n",
       "  </thead>\n",
       "  <tbody>\n",
       "    <tr>\n",
       "      <th>0</th>\n",
       "      <td>14933</td>\n",
       "      <td>0.0001</td>\n",
       "    </tr>\n",
       "    <tr>\n",
       "      <th>1</th>\n",
       "      <td>14934</td>\n",
       "      <td>0.0000</td>\n",
       "    </tr>\n",
       "    <tr>\n",
       "      <th>2</th>\n",
       "      <td>14935</td>\n",
       "      <td>0.0000</td>\n",
       "    </tr>\n",
       "    <tr>\n",
       "      <th>3</th>\n",
       "      <td>14936</td>\n",
       "      <td>0.0000</td>\n",
       "    </tr>\n",
       "    <tr>\n",
       "      <th>4</th>\n",
       "      <td>14937</td>\n",
       "      <td>0.0000</td>\n",
       "    </tr>\n",
       "  </tbody>\n",
       "</table>\n",
       "</div>"
      ],
      "text/plain": [
       "   user_id  prediction_pay_price\n",
       "0    14933                0.0001\n",
       "1    14934                0.0000\n",
       "2    14935                0.0000\n",
       "3    14936                0.0000\n",
       "4    14937                0.0000"
      ]
     },
     "execution_count": 16,
     "metadata": {},
     "output_type": "execute_result"
    }
   ],
   "source": [
    "testPredict = generate_summit(y_predict_test)\n",
    "#输出预测后的数据\n",
    "testPredict.to_csv(out_name %(summit_path, base, 'ExtraTreesRegressor'), index=False)\n",
    "testPredict.head()"
   ]
  },
  {
   "cell_type": "markdown",
   "metadata": {},
   "source": [
    "## 5 GradientBoostingRegressor"
   ]
  },
  {
   "cell_type": "code",
   "execution_count": 17,
   "metadata": {},
   "outputs": [
    {
     "name": "stdout",
     "output_type": "stream",
     "text": [
      "Wall time: 2min 13s\n"
     ]
    }
   ],
   "source": [
    "%%time\n",
    "model = ensemble.GradientBoostingRegressor(learning_rate=0.25, n_estimators=14, min_samples_split=80, min_samples_leaf=8, alpha=0.99)\n",
    "model.fit(train_X_ss, train_y_ss_1d)\n",
    "# Wall time: 3min 2s "
   ]
  },
  {
   "cell_type": "code",
   "execution_count": 18,
   "metadata": {},
   "outputs": [
    {
     "name": "stdout",
     "output_type": "stream",
     "text": [
      "The score: Train=0.6811526105797193  Val=0.3464289280568956\n",
      "The RMSE: Train=0.5646658447485722  Val=0.7113376300355244\n"
     ]
    }
   ],
   "source": [
    "# 模型评估\n",
    "scoreTrain = model.score(train_X_ss, train_y_ss_1d)\n",
    "scoreVal = model.score(val_X_ss, val_y_ss_1d)\n",
    "print('The score: Train=%s  Val=%s'% (scoreTrain, scoreVal)) \n",
    "\n",
    "model_predict_train = model.predict(train_X_ss)\n",
    "rmseTrain = mean_squared_error(train_y_ss_1d, model_predict_train) ** 0.5\n",
    "model_predict_val = model.predict(val_X_ss)\n",
    "rmseVal = mean_squared_error(val_y_ss_1d, model_predict_val) ** 0.5\n",
    "print('The RMSE: Train=%s  Val=%s' % (rmseTrain, rmseVal))\n",
    "\n",
    "# learning_rate=0.1, n_estimators=50, min_samples_split=50, min_samples_leaf=10, alpha=0.8\n",
    "# learning_rate=0.2, n_estimators=30, min_samples_split=50, min_samples_leaf=10, alpha=0.8\n",
    "# learning_rate=0.2, n_estimators=20, min_samples_split=50, min_samples_leaf=10, alpha=0.8\n",
    "# learning_rate=0.2, n_estimators=20, min_samples_split=50, min_samples_leaf=10, alpha=0.99\n",
    "# learning_rate=0.25, n_estimators=16, min_samples_split=64, min_samples_leaf=8, alpha=0.99\n",
    "# learning_rate=0.25, n_estimators=12, min_samples_split=64, min_samples_leaf=8, alpha=0.99\n",
    "# learning_rate=0.25, n_estimators=12, min_samples_split=80, min_samples_leaf=8, alpha=0.99\n",
    "# learning_rate=0.25, n_estimators=13, min_samples_split=80, min_samples_leaf=8, alpha=0.99\n",
    "# learning_rate=0.25, n_estimators=14, min_samples_split=80, min_samples_leaf=8, alpha=0.99\n",
    "# The score: Train=0.7474515268358191  Val=0.45818076230225474\n",
    "# The RMSE: Train=0.5025420292903933  Val=0.8525285883738782"
   ]
  },
  {
   "cell_type": "markdown",
   "metadata": {},
   "source": [
    "### 保存校验集测试结果"
   ]
  },
  {
   "cell_type": "code",
   "execution_count": 19,
   "metadata": {},
   "outputs": [
    {
     "name": "stdout",
     "output_type": "stream",
     "text": [
      "model_predict_val=  [-0.01559045 -0.01559045 -0.01559045 ... -0.01559045 -0.01559045\n",
      " -0.01559045]\n",
      "predict =  [0.41388658 0.41388658 0.41388658 ... 0.41388658 0.41388658 0.41388658]\n"
     ]
    },
    {
     "data": {
      "text/html": [
       "<div>\n",
       "<style>\n",
       "    .dataframe thead tr:only-child th {\n",
       "        text-align: right;\n",
       "    }\n",
       "\n",
       "    .dataframe thead th {\n",
       "        text-align: left;\n",
       "    }\n",
       "\n",
       "    .dataframe tbody tr th {\n",
       "        vertical-align: top;\n",
       "    }\n",
       "</style>\n",
       "<table border=\"1\" class=\"dataframe\">\n",
       "  <thead>\n",
       "    <tr style=\"text-align: right;\">\n",
       "      <th></th>\n",
       "      <th>user_id</th>\n",
       "      <th>prediction_pay_price</th>\n",
       "    </tr>\n",
       "  </thead>\n",
       "  <tbody>\n",
       "    <tr>\n",
       "      <th>0</th>\n",
       "      <td>1987367</td>\n",
       "      <td>0.4139</td>\n",
       "    </tr>\n",
       "    <tr>\n",
       "      <th>1</th>\n",
       "      <td>2292622</td>\n",
       "      <td>0.4139</td>\n",
       "    </tr>\n",
       "    <tr>\n",
       "      <th>2</th>\n",
       "      <td>466954</td>\n",
       "      <td>0.4139</td>\n",
       "    </tr>\n",
       "    <tr>\n",
       "      <th>3</th>\n",
       "      <td>1008130</td>\n",
       "      <td>0.4139</td>\n",
       "    </tr>\n",
       "    <tr>\n",
       "      <th>4</th>\n",
       "      <td>9759</td>\n",
       "      <td>0.4139</td>\n",
       "    </tr>\n",
       "  </tbody>\n",
       "</table>\n",
       "</div>"
      ],
      "text/plain": [
       "   user_id  prediction_pay_price\n",
       "0  1987367                0.4139\n",
       "1  2292622                0.4139\n",
       "2   466954                0.4139\n",
       "3  1008130                0.4139\n",
       "4     9759                0.4139"
      ]
     },
     "execution_count": 19,
     "metadata": {},
     "output_type": "execute_result"
    }
   ],
   "source": [
    "print('model_predict_val= ', model_predict_val)\n",
    "# 标准化数据还原 \n",
    "predict_val = inverse_StandardScaler(model_predict_val)\n",
    "valPredict = generate_val_predict(predict_val)\n",
    "#输出预测后的数据\n",
    "valPredict.to_csv(val_name %(val_path, base, 'GradientBoostingRegressor'), index=False)\n",
    "valPredict.head()"
   ]
  },
  {
   "cell_type": "code",
   "execution_count": 20,
   "metadata": {
    "scrolled": true
   },
   "outputs": [
    {
     "name": "stdout",
     "output_type": "stream",
     "text": [
      "model_y_predict_test =  [-0.01559045 -0.01559045 -0.01559045 ... -0.01559045 -0.01559045\n",
      " -0.01559045]\n",
      "predict =  [0.41388658 0.41388658 0.41388658 ... 0.41388658 0.41388658 0.41388658]\n"
     ]
    }
   ],
   "source": [
    "#对测试数据进行预测\n",
    "model_y_predict_test = model.predict(test_X_ss)\n",
    "print('model_y_predict_test = ', model_y_predict_test)\n",
    "\n",
    "# 标准化数据还原 \n",
    "y_predict_test = inverse_StandardScaler(model_y_predict_test)"
   ]
  },
  {
   "cell_type": "code",
   "execution_count": 21,
   "metadata": {},
   "outputs": [
    {
     "data": {
      "text/html": [
       "<div>\n",
       "<style>\n",
       "    .dataframe thead tr:only-child th {\n",
       "        text-align: right;\n",
       "    }\n",
       "\n",
       "    .dataframe thead th {\n",
       "        text-align: left;\n",
       "    }\n",
       "\n",
       "    .dataframe tbody tr th {\n",
       "        vertical-align: top;\n",
       "    }\n",
       "</style>\n",
       "<table border=\"1\" class=\"dataframe\">\n",
       "  <thead>\n",
       "    <tr style=\"text-align: right;\">\n",
       "      <th></th>\n",
       "      <th>user_id</th>\n",
       "      <th>prediction_pay_price</th>\n",
       "    </tr>\n",
       "  </thead>\n",
       "  <tbody>\n",
       "    <tr>\n",
       "      <th>0</th>\n",
       "      <td>14933</td>\n",
       "      <td>0.4139</td>\n",
       "    </tr>\n",
       "    <tr>\n",
       "      <th>1</th>\n",
       "      <td>14934</td>\n",
       "      <td>0.4139</td>\n",
       "    </tr>\n",
       "    <tr>\n",
       "      <th>2</th>\n",
       "      <td>14935</td>\n",
       "      <td>0.4139</td>\n",
       "    </tr>\n",
       "    <tr>\n",
       "      <th>3</th>\n",
       "      <td>14936</td>\n",
       "      <td>0.4139</td>\n",
       "    </tr>\n",
       "    <tr>\n",
       "      <th>4</th>\n",
       "      <td>14937</td>\n",
       "      <td>0.4139</td>\n",
       "    </tr>\n",
       "  </tbody>\n",
       "</table>\n",
       "</div>"
      ],
      "text/plain": [
       "   user_id  prediction_pay_price\n",
       "0    14933                0.4139\n",
       "1    14934                0.4139\n",
       "2    14935                0.4139\n",
       "3    14936                0.4139\n",
       "4    14937                0.4139"
      ]
     },
     "execution_count": 21,
     "metadata": {},
     "output_type": "execute_result"
    }
   ],
   "source": [
    "# ridge_y_predict_test = move_up(ridge_y_predict_test)\n",
    "#输出预测后的数据\n",
    "testPredict = generate_summit(y_predict_test)\n",
    "#输出预测后的数据\n",
    "testPredict.to_csv(out_name %(summit_path, base, 'GradientBoostingRegressor'), index=False)\n",
    "testPredict.head()"
   ]
  },
  {
   "cell_type": "markdown",
   "metadata": {},
   "source": [
    "## 6 RandomForestRegressor"
   ]
  },
  {
   "cell_type": "code",
   "execution_count": 22,
   "metadata": {},
   "outputs": [
    {
     "name": "stdout",
     "output_type": "stream",
     "text": [
      "Wall time: 7min 54s\n"
     ]
    }
   ],
   "source": [
    "%%time\n",
    "model = ensemble.RandomForestRegressor(n_estimators=16, min_samples_split=80, min_samples_leaf=8, n_jobs=-1)\n",
    "model.fit(train_X_ss, train_y_ss_1d)\n",
    "# Wall time: 10min 2s "
   ]
  },
  {
   "cell_type": "code",
   "execution_count": 23,
   "metadata": {},
   "outputs": [
    {
     "name": "stdout",
     "output_type": "stream",
     "text": [
      "The score: Train=0.60076477613784  Val=0.45951994837695753\n",
      "The RMSE: Train=0.63185075978246  Val=0.6468732729373746\n"
     ]
    }
   ],
   "source": [
    "# 模型评估\n",
    "scoreTrain = model.score(train_X_ss, train_y_ss_1d)\n",
    "scoreVal = model.score(val_X_ss, val_y_ss_1d)\n",
    "print('The score: Train=%s  Val=%s'% (scoreTrain, scoreVal)) \n",
    "\n",
    "model_predict_train = model.predict(train_X_ss)\n",
    "rmseTrain = mean_squared_error(train_y_ss_1d, model_predict_train) ** 0.5\n",
    "model_predict_val = model.predict(val_X_ss)\n",
    "rmseVal = mean_squared_error(val_y_ss_1d, model_predict_val) ** 0.5\n",
    "print('The RMSE: Train=%s  Val=%s' % (rmseTrain, rmseVal))\n",
    "\n",
    "# n_estimators=14, min_samples_split=80, min_samples_leaf=8, min_impurity_decrease=0.1\n",
    "# n_estimators=20, min_samples_split=80, min_samples_leaf=8, min_impurity_decrease=0.1\n",
    "# n_estimators=20, min_samples_split=80, min_samples_leaf=8, min_impurity_decrease=0.0\n",
    "# n_estimators=20, min_samples_split=100, min_samples_leaf=8\n",
    "# n_estimators=16, min_samples_split=100, min_samples_leaf=8\n",
    "# The score: Train=0.6193906706679225  Val=0.4333588747424302\n",
    "# The RMSE: Train=0.6169354557150862  Val=0.8718379844283086 \n",
    "# n_estimators=16, min_samples_split=80, min_samples_leaf=8\n",
    "# The score: Train=0.6393206199636329  Val=0.35457588882649244\n",
    "# The RMSE: Train=0.6005657993266247  Val=0.517339714712821"
   ]
  },
  {
   "cell_type": "markdown",
   "metadata": {},
   "source": [
    "### 保存校验集测试结果"
   ]
  },
  {
   "cell_type": "code",
   "execution_count": 24,
   "metadata": {},
   "outputs": [
    {
     "name": "stdout",
     "output_type": "stream",
     "text": [
      "model_predict_val=  [-0.02012636 -0.0201608  -0.02015859 ... -0.02015874 -0.02016121\n",
      " -0.02016061]\n",
      "predict =  [3.24703555e-03 1.29771838e-04 3.29886858e-04 ... 3.15924405e-04\n",
      " 9.24195345e-05 1.46705193e-04]\n"
     ]
    },
    {
     "data": {
      "text/html": [
       "<div>\n",
       "<style>\n",
       "    .dataframe thead tr:only-child th {\n",
       "        text-align: right;\n",
       "    }\n",
       "\n",
       "    .dataframe thead th {\n",
       "        text-align: left;\n",
       "    }\n",
       "\n",
       "    .dataframe tbody tr th {\n",
       "        vertical-align: top;\n",
       "    }\n",
       "</style>\n",
       "<table border=\"1\" class=\"dataframe\">\n",
       "  <thead>\n",
       "    <tr style=\"text-align: right;\">\n",
       "      <th></th>\n",
       "      <th>user_id</th>\n",
       "      <th>prediction_pay_price</th>\n",
       "    </tr>\n",
       "  </thead>\n",
       "  <tbody>\n",
       "    <tr>\n",
       "      <th>0</th>\n",
       "      <td>1987367</td>\n",
       "      <td>0.0032</td>\n",
       "    </tr>\n",
       "    <tr>\n",
       "      <th>1</th>\n",
       "      <td>2292622</td>\n",
       "      <td>0.0001</td>\n",
       "    </tr>\n",
       "    <tr>\n",
       "      <th>2</th>\n",
       "      <td>466954</td>\n",
       "      <td>0.0003</td>\n",
       "    </tr>\n",
       "    <tr>\n",
       "      <th>3</th>\n",
       "      <td>1008130</td>\n",
       "      <td>0.0001</td>\n",
       "    </tr>\n",
       "    <tr>\n",
       "      <th>4</th>\n",
       "      <td>9759</td>\n",
       "      <td>0.0000</td>\n",
       "    </tr>\n",
       "  </tbody>\n",
       "</table>\n",
       "</div>"
      ],
      "text/plain": [
       "   user_id  prediction_pay_price\n",
       "0  1987367                0.0032\n",
       "1  2292622                0.0001\n",
       "2   466954                0.0003\n",
       "3  1008130                0.0001\n",
       "4     9759                0.0000"
      ]
     },
     "execution_count": 24,
     "metadata": {},
     "output_type": "execute_result"
    }
   ],
   "source": [
    "print('model_predict_val= ', model_predict_val)\n",
    "# 标准化数据还原 \n",
    "predict_val = inverse_StandardScaler(model_predict_val)\n",
    "valPredict = generate_val_predict(predict_val)\n",
    "#输出预测后的数据\n",
    "valPredict.to_csv(val_name %(val_path, base, 'RandomForestRegressor'), index=False)\n",
    "valPredict.head()"
   ]
  },
  {
   "cell_type": "code",
   "execution_count": 25,
   "metadata": {
    "scrolled": true
   },
   "outputs": [
    {
     "name": "stdout",
     "output_type": "stream",
     "text": [
      "model_y_predict_test =  [-0.02016032 -0.02016063 -0.02016062 ... -0.02009732 -0.02016145\n",
      " -0.02016153]\n",
      "predict =  [1.72601980e-04 1.44893029e-04 1.45679420e-04 ... 5.87600448e-03\n",
      " 7.01564847e-05 6.30155483e-05]\n"
     ]
    }
   ],
   "source": [
    "#对测试数据进行预测\n",
    "model_y_predict_test = model.predict(test_X_ss)\n",
    "print('model_y_predict_test = ', model_y_predict_test)\n",
    "\n",
    "# 标准化数据还原 \n",
    "y_predict_test = inverse_StandardScaler(model_y_predict_test)"
   ]
  },
  {
   "cell_type": "code",
   "execution_count": 26,
   "metadata": {
    "scrolled": true
   },
   "outputs": [
    {
     "data": {
      "text/html": [
       "<div>\n",
       "<style>\n",
       "    .dataframe thead tr:only-child th {\n",
       "        text-align: right;\n",
       "    }\n",
       "\n",
       "    .dataframe thead th {\n",
       "        text-align: left;\n",
       "    }\n",
       "\n",
       "    .dataframe tbody tr th {\n",
       "        vertical-align: top;\n",
       "    }\n",
       "</style>\n",
       "<table border=\"1\" class=\"dataframe\">\n",
       "  <thead>\n",
       "    <tr style=\"text-align: right;\">\n",
       "      <th></th>\n",
       "      <th>user_id</th>\n",
       "      <th>prediction_pay_price</th>\n",
       "    </tr>\n",
       "  </thead>\n",
       "  <tbody>\n",
       "    <tr>\n",
       "      <th>0</th>\n",
       "      <td>14933</td>\n",
       "      <td>0.0002</td>\n",
       "    </tr>\n",
       "    <tr>\n",
       "      <th>1</th>\n",
       "      <td>14934</td>\n",
       "      <td>0.0001</td>\n",
       "    </tr>\n",
       "    <tr>\n",
       "      <th>2</th>\n",
       "      <td>14935</td>\n",
       "      <td>0.0001</td>\n",
       "    </tr>\n",
       "    <tr>\n",
       "      <th>3</th>\n",
       "      <td>14936</td>\n",
       "      <td>0.0160</td>\n",
       "    </tr>\n",
       "    <tr>\n",
       "      <th>4</th>\n",
       "      <td>14937</td>\n",
       "      <td>0.0002</td>\n",
       "    </tr>\n",
       "  </tbody>\n",
       "</table>\n",
       "</div>"
      ],
      "text/plain": [
       "   user_id  prediction_pay_price\n",
       "0    14933                0.0002\n",
       "1    14934                0.0001\n",
       "2    14935                0.0001\n",
       "3    14936                0.0160\n",
       "4    14937                0.0002"
      ]
     },
     "execution_count": 26,
     "metadata": {},
     "output_type": "execute_result"
    }
   ],
   "source": [
    "# ridge_y_predict_test = move_up(ridge_y_predict_test)\n",
    "#输出预测后的数据\n",
    "testPredict = generate_summit(y_predict_test)\n",
    "#输出预测后的数据\n",
    "testPredict.to_csv(out_name %(summit_path, base, 'RandomForestRegressor'), index=False)\n",
    "testPredict.head()"
   ]
  },
  {
   "cell_type": "markdown",
   "metadata": {},
   "source": [
    "## 7 BaggingRegressor"
   ]
  },
  {
   "cell_type": "code",
   "execution_count": 27,
   "metadata": {},
   "outputs": [
    {
     "name": "stdout",
     "output_type": "stream",
     "text": [
      "Wall time: 17min 14s\n"
     ]
    }
   ],
   "source": [
    "%%time\n",
    "model = ensemble.BaggingRegressor(n_jobs=2, n_estimators=20)\n",
    "model.fit(train_X_ss, train_y_ss_1d)\n",
    "# Wall time: 9min 2s "
   ]
  },
  {
   "cell_type": "code",
   "execution_count": 28,
   "metadata": {},
   "outputs": [
    {
     "name": "stdout",
     "output_type": "stream",
     "text": [
      "The score: Train=0.913251997388679  Val=0.36646045612672906\n",
      "The RMSE: Train=0.29453019728192303  Val=0.7003517799305795\n",
      "Wall time: 1min 4s\n"
     ]
    }
   ],
   "source": [
    "%%time\n",
    "# 模型评估\n",
    "scoreTrain = model.score(train_X_ss, train_y_ss_1d)\n",
    "scoreVal = model.score(val_X_ss, val_y_ss_1d)\n",
    "print('The score: Train=%s  Val=%s'% (scoreTrain, scoreVal)) \n",
    "\n",
    "model_predict_train = model.predict(train_X_ss)\n",
    "rmseTrain = mean_squared_error(train_y_ss_1d, model_predict_train) ** 0.5\n",
    "model_predict_val = model.predict(val_X_ss)\n",
    "rmseVal = mean_squared_error(val_y_ss_1d, model_predict_val) ** 0.5\n",
    "print('The RMSE: Train=%s  Val=%s' % (rmseTrain, rmseVal))\n",
    "\n",
    "# n_estimators=10 \n",
    "# n_estimators=15 \n",
    "# he score: Train=0.944126770370558  Val=0.35667035830687766\n",
    "# The RMSE: Train=0.2363752321974746  Val=0.5473401373069637\n",
    "# n_estimators=20 \n"
   ]
  },
  {
   "cell_type": "markdown",
   "metadata": {},
   "source": [
    "### 保存校验集测试结果"
   ]
  },
  {
   "cell_type": "code",
   "execution_count": 29,
   "metadata": {},
   "outputs": [
    {
     "name": "stdout",
     "output_type": "stream",
     "text": [
      "model_predict_val=  [-0.02016024 -0.02016089 -0.02015934 ... -0.02015791 -0.02016131\n",
      " -0.02016111]\n",
      "predict =  [1.80489074e-04 1.20919390e-04 2.61997773e-04 ... 3.90591308e-04\n",
      " 8.29102097e-05 1.01077875e-04]\n"
     ]
    },
    {
     "data": {
      "text/html": [
       "<div>\n",
       "<style>\n",
       "    .dataframe thead tr:only-child th {\n",
       "        text-align: right;\n",
       "    }\n",
       "\n",
       "    .dataframe thead th {\n",
       "        text-align: left;\n",
       "    }\n",
       "\n",
       "    .dataframe tbody tr th {\n",
       "        vertical-align: top;\n",
       "    }\n",
       "</style>\n",
       "<table border=\"1\" class=\"dataframe\">\n",
       "  <thead>\n",
       "    <tr style=\"text-align: right;\">\n",
       "      <th></th>\n",
       "      <th>user_id</th>\n",
       "      <th>prediction_pay_price</th>\n",
       "    </tr>\n",
       "  </thead>\n",
       "  <tbody>\n",
       "    <tr>\n",
       "      <th>0</th>\n",
       "      <td>1987367</td>\n",
       "      <td>0.0002</td>\n",
       "    </tr>\n",
       "    <tr>\n",
       "      <th>1</th>\n",
       "      <td>2292622</td>\n",
       "      <td>0.0001</td>\n",
       "    </tr>\n",
       "    <tr>\n",
       "      <th>2</th>\n",
       "      <td>466954</td>\n",
       "      <td>0.0003</td>\n",
       "    </tr>\n",
       "    <tr>\n",
       "      <th>3</th>\n",
       "      <td>1008130</td>\n",
       "      <td>0.0001</td>\n",
       "    </tr>\n",
       "    <tr>\n",
       "      <th>4</th>\n",
       "      <td>9759</td>\n",
       "      <td>0.0001</td>\n",
       "    </tr>\n",
       "  </tbody>\n",
       "</table>\n",
       "</div>"
      ],
      "text/plain": [
       "   user_id  prediction_pay_price\n",
       "0  1987367                0.0002\n",
       "1  2292622                0.0001\n",
       "2   466954                0.0003\n",
       "3  1008130                0.0001\n",
       "4     9759                0.0001"
      ]
     },
     "execution_count": 29,
     "metadata": {},
     "output_type": "execute_result"
    }
   ],
   "source": [
    "print('model_predict_val= ', model_predict_val)\n",
    "# 标准化数据还原 \n",
    "predict_val = inverse_StandardScaler(model_predict_val)\n",
    "valPredict = generate_val_predict(predict_val)\n",
    "#输出预测后的数据\n",
    "valPredict.to_csv(val_name %(val_path, base, 'BaggingRegressor'), index=False)\n",
    "valPredict.head()"
   ]
  },
  {
   "cell_type": "code",
   "execution_count": 30,
   "metadata": {
    "scrolled": true
   },
   "outputs": [
    {
     "name": "stdout",
     "output_type": "stream",
     "text": [
      "model_y_predict_test =  [-0.02016037 -0.02016043 -0.02016078 ... -0.02016117 -0.02016132\n",
      " -0.02016098]\n",
      "predict =  [1.68377059e-04 1.62723280e-04 1.31418879e-04 ... 9.59142042e-05\n",
      " 8.26657229e-05 1.12932125e-04]\n"
     ]
    }
   ],
   "source": [
    "#对测试数据进行预测\n",
    "model_y_predict_test = model.predict(test_X_ss)\n",
    "print('model_y_predict_test = ', model_y_predict_test)\n",
    "\n",
    "# 标准化数据还原 \n",
    "y_predict_test = inverse_StandardScaler(model_y_predict_test)"
   ]
  },
  {
   "cell_type": "code",
   "execution_count": 31,
   "metadata": {
    "scrolled": true
   },
   "outputs": [
    {
     "data": {
      "text/html": [
       "<div>\n",
       "<style>\n",
       "    .dataframe thead tr:only-child th {\n",
       "        text-align: right;\n",
       "    }\n",
       "\n",
       "    .dataframe thead th {\n",
       "        text-align: left;\n",
       "    }\n",
       "\n",
       "    .dataframe tbody tr th {\n",
       "        vertical-align: top;\n",
       "    }\n",
       "</style>\n",
       "<table border=\"1\" class=\"dataframe\">\n",
       "  <thead>\n",
       "    <tr style=\"text-align: right;\">\n",
       "      <th></th>\n",
       "      <th>user_id</th>\n",
       "      <th>prediction_pay_price</th>\n",
       "    </tr>\n",
       "  </thead>\n",
       "  <tbody>\n",
       "    <tr>\n",
       "      <th>0</th>\n",
       "      <td>14933</td>\n",
       "      <td>0.0002</td>\n",
       "    </tr>\n",
       "    <tr>\n",
       "      <th>1</th>\n",
       "      <td>14934</td>\n",
       "      <td>0.0002</td>\n",
       "    </tr>\n",
       "    <tr>\n",
       "      <th>2</th>\n",
       "      <td>14935</td>\n",
       "      <td>0.0001</td>\n",
       "    </tr>\n",
       "    <tr>\n",
       "      <th>3</th>\n",
       "      <td>14936</td>\n",
       "      <td>0.0000</td>\n",
       "    </tr>\n",
       "    <tr>\n",
       "      <th>4</th>\n",
       "      <td>14937</td>\n",
       "      <td>0.0001</td>\n",
       "    </tr>\n",
       "  </tbody>\n",
       "</table>\n",
       "</div>"
      ],
      "text/plain": [
       "   user_id  prediction_pay_price\n",
       "0    14933                0.0002\n",
       "1    14934                0.0002\n",
       "2    14935                0.0001\n",
       "3    14936                0.0000\n",
       "4    14937                0.0001"
      ]
     },
     "execution_count": 31,
     "metadata": {},
     "output_type": "execute_result"
    }
   ],
   "source": [
    "# ridge_y_predict_test = move_up(ridge_y_predict_test)\n",
    "#输出预测后的数据\n",
    "testPredict = generate_summit(y_predict_test)\n",
    "#输出预测后的数据\n",
    "testPredict.to_csv(out_name %(summit_path, base, 'BaggingRegressor'), index=False)\n",
    "testPredict.head()"
   ]
  },
  {
   "cell_type": "markdown",
   "metadata": {},
   "source": [
    "## 7-1 BaggingRegressor的代码最佳示例\n",
    "https://www.helplib.com/Python-Module-Examples/article_66154"
   ]
  },
  {
   "cell_type": "code",
   "execution_count": null,
   "metadata": {
    "collapsed": true
   },
   "outputs": [],
   "source": []
  }
 ],
 "metadata": {
  "kernelspec": {
   "display_name": "Python 3",
   "language": "python",
   "name": "python3"
  },
  "language_info": {
   "codemirror_mode": {
    "name": "ipython",
    "version": 3
   },
   "file_extension": ".py",
   "mimetype": "text/x-python",
   "name": "python",
   "nbconvert_exporter": "python",
   "pygments_lexer": "ipython3",
   "version": "3.6.3"
  }
 },
 "nbformat": 4,
 "nbformat_minor": 2
}
