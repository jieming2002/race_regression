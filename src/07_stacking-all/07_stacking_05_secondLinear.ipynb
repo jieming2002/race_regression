{
 "cells": [
  {
   "cell_type": "markdown",
   "metadata": {},
   "source": [
    "## stacking 集成算法：次级学习器融合-常规模型\n",
    "- 1.LassoCV\n",
    "- 2.RidgeCV\n",
    "- 3.ElasticNetCV"
   ]
  },
  {
   "cell_type": "code",
   "execution_count": 1,
   "metadata": {
    "collapsed": true
   },
   "outputs": [],
   "source": [
    "# 导入必要的工具包\n",
    "import numpy as np #用于数值计算\n",
    "import pandas as pd #用于数据表处理，数据文件读写\n",
    "from sklearn.preprocessing import StandardScaler\n",
    "from sklearn.metrics import mean_squared_error\n",
    "\n",
    "from sklearn.linear_model import LassoCV\n",
    "from sklearn.linear_model import RidgeCV\n",
    "from sklearn.linear_model import ElasticNetCV\n",
    "\n",
    "import matplotlib.pyplot as plt #用于绘图：分析结果的可视化。\n",
    "%matplotlib inline"
   ]
  },
  {
   "cell_type": "code",
   "execution_count": 2,
   "metadata": {
    "collapsed": true
   },
   "outputs": [],
   "source": [
    "def get_train_val(val_id):\n",
    "    '''获取训练集和校验集 \n",
    "    val_id = 0,1,2 #当前校验集编号 '''\n",
    "    print('val_id=%s'% (val_id))\n",
    "    df_val = train_list[val_id]\n",
    "    train_tmp = []\n",
    "\n",
    "    for i in range(1, train_part_num):\n",
    "        cur_id = (val_id + i) % 5\n",
    "        print('cur_id=%s'% (cur_id))\n",
    "        train_tmp.append(train_list[cur_id])\n",
    "    \n",
    "#     只生成一次，节省内存 \n",
    "    df_train = pd.concat(train_tmp)\n",
    "    print('df_train.shape=%s  df_val.shape=%s'% (df_train.shape, df_val.shape))\n",
    "    return df_train, df_val"
   ]
  },
  {
   "cell_type": "code",
   "execution_count": 3,
   "metadata": {
    "collapsed": true
   },
   "outputs": [],
   "source": [
    "Y_Standard = True\n",
    "path_train = '../data/new/train=predict/'\n",
    "path_test = '../data/new/test=predict/'\n",
    "\n",
    "val_path = '../data/val/second/' #保存校验集测试结果\n",
    "val_name = '%sval=stacking-%s-%s.csv'\n",
    "summit_path = '../data/summit/stacking-second/' #保存提交文件，测试集测试结果 \n",
    "out_name = '%ssummit=stacking-%s-%s.csv' # 生成的结果文件名称\n",
    "base = 'second' #学习器级别 \n",
    "\n",
    "train_part_num = 5 #训练集拆分个数\n",
    "target = 'prediction_pay_price'\n",
    "user_id = 'user_id'"
   ]
  },
  {
   "cell_type": "markdown",
   "metadata": {},
   "source": [
    "## 指定读取数据类型，节省内存"
   ]
  },
  {
   "cell_type": "code",
   "execution_count": 4,
   "metadata": {
    "collapsed": true
   },
   "outputs": [],
   "source": [
    "col_int32 = ['user_id']\n",
    "col_float32 = ['pred_0', 'pred_1', 'pred_2', 'pred_3', 'pred_4', 'pred_5', 'pred_6', 'pred_7']"
   ]
  },
  {
   "cell_type": "code",
   "execution_count": 5,
   "metadata": {
    "collapsed": true
   },
   "outputs": [],
   "source": [
    "# 指定读取数据类型，节省内存\n",
    "dtype_test = {}\n",
    "for col in col_int32:\n",
    "    dtype_test[col] = np.int32\n",
    "for col in col_float32:\n",
    "    dtype_test[col] = np.float32\n",
    "# dtype_test"
   ]
  },
  {
   "cell_type": "code",
   "execution_count": 6,
   "metadata": {
    "collapsed": true
   },
   "outputs": [],
   "source": [
    "dtype_train = dtype_test.copy()\n",
    "dtype_train[target] = np.float32\n",
    "# dtype_train"
   ]
  },
  {
   "cell_type": "markdown",
   "metadata": {},
   "source": [
    "## 读取数据，一次读取多次使用，不同组合 "
   ]
  },
  {
   "cell_type": "code",
   "execution_count": 7,
   "metadata": {},
   "outputs": [
    {
     "data": {
      "text/html": [
       "<div>\n",
       "<style>\n",
       "    .dataframe thead tr:only-child th {\n",
       "        text-align: right;\n",
       "    }\n",
       "\n",
       "    .dataframe thead th {\n",
       "        text-align: left;\n",
       "    }\n",
       "\n",
       "    .dataframe tbody tr th {\n",
       "        vertical-align: top;\n",
       "    }\n",
       "</style>\n",
       "<table border=\"1\" class=\"dataframe\">\n",
       "  <thead>\n",
       "    <tr style=\"text-align: right;\">\n",
       "      <th></th>\n",
       "      <th>user_id</th>\n",
       "      <th>pred_0</th>\n",
       "      <th>pred_1</th>\n",
       "      <th>pred_2</th>\n",
       "      <th>pred_3</th>\n",
       "      <th>pred_4</th>\n",
       "      <th>pred_5</th>\n",
       "      <th>pred_6</th>\n",
       "      <th>pred_7</th>\n",
       "      <th>prediction_pay_price</th>\n",
       "    </tr>\n",
       "  </thead>\n",
       "  <tbody>\n",
       "    <tr>\n",
       "      <th>0</th>\n",
       "      <td>332994</td>\n",
       "      <td>0.0000</td>\n",
       "      <td>0.0001</td>\n",
       "      <td>0.0000</td>\n",
       "      <td>0.3495</td>\n",
       "      <td>0.0001</td>\n",
       "      <td>0.0000</td>\n",
       "      <td>0.0000</td>\n",
       "      <td>0.0001</td>\n",
       "      <td>0.0000</td>\n",
       "    </tr>\n",
       "    <tr>\n",
       "      <th>1</th>\n",
       "      <td>2186887</td>\n",
       "      <td>0.1648</td>\n",
       "      <td>0.0001</td>\n",
       "      <td>0.0000</td>\n",
       "      <td>0.3495</td>\n",
       "      <td>0.0046</td>\n",
       "      <td>0.0000</td>\n",
       "      <td>0.1085</td>\n",
       "      <td>0.0002</td>\n",
       "      <td>0.0000</td>\n",
       "    </tr>\n",
       "    <tr>\n",
       "      <th>2</th>\n",
       "      <td>383991</td>\n",
       "      <td>0.1635</td>\n",
       "      <td>0.0001</td>\n",
       "      <td>0.0000</td>\n",
       "      <td>0.3495</td>\n",
       "      <td>0.0001</td>\n",
       "      <td>0.0000</td>\n",
       "      <td>0.0527</td>\n",
       "      <td>0.0001</td>\n",
       "      <td>0.0000</td>\n",
       "    </tr>\n",
       "    <tr>\n",
       "      <th>3</th>\n",
       "      <td>102315</td>\n",
       "      <td>0.1576</td>\n",
       "      <td>0.0001</td>\n",
       "      <td>0.0000</td>\n",
       "      <td>0.3495</td>\n",
       "      <td>0.0002</td>\n",
       "      <td>0.0000</td>\n",
       "      <td>0.0576</td>\n",
       "      <td>0.0001</td>\n",
       "      <td>0.0000</td>\n",
       "    </tr>\n",
       "    <tr>\n",
       "      <th>4</th>\n",
       "      <td>225310</td>\n",
       "      <td>0.0000</td>\n",
       "      <td>0.0001</td>\n",
       "      <td>0.0000</td>\n",
       "      <td>0.3495</td>\n",
       "      <td>0.0007</td>\n",
       "      <td>0.0000</td>\n",
       "      <td>0.0131</td>\n",
       "      <td>0.0001</td>\n",
       "      <td>0.0000</td>\n",
       "    </tr>\n",
       "  </tbody>\n",
       "</table>\n",
       "</div>"
      ],
      "text/plain": [
       "   user_id  pred_0  pred_1  pred_2  pred_3  pred_4  pred_5  pred_6  pred_7  \\\n",
       "0   332994  0.0000  0.0001  0.0000  0.3495  0.0001  0.0000  0.0000  0.0001   \n",
       "1  2186887  0.1648  0.0001  0.0000  0.3495  0.0046  0.0000  0.1085  0.0002   \n",
       "2   383991  0.1635  0.0001  0.0000  0.3495  0.0001  0.0000  0.0527  0.0001   \n",
       "3   102315  0.1576  0.0001  0.0000  0.3495  0.0002  0.0000  0.0576  0.0001   \n",
       "4   225310  0.0000  0.0001  0.0000  0.3495  0.0007  0.0000  0.0131  0.0001   \n",
       "\n",
       "   prediction_pay_price  \n",
       "0                0.0000  \n",
       "1                0.0000  \n",
       "2                0.0000  \n",
       "3                0.0000  \n",
       "4                0.0000  "
      ]
     },
     "execution_count": 7,
     "metadata": {},
     "output_type": "execute_result"
    }
   ],
   "source": [
    "train_list = []\n",
    "for i in range(train_part_num):\n",
    "    cur_id = i + 1\n",
    "    train_list.append(pd.read_csv('%strain=pred-1-col=9-target-%s.csv' % (path_train, cur_id), dtype=dtype_train))\n",
    "train_list[0].head()"
   ]
  },
  {
   "cell_type": "markdown",
   "metadata": {},
   "source": [
    "## 5折交叉验证"
   ]
  },
  {
   "cell_type": "code",
   "execution_count": 8,
   "metadata": {},
   "outputs": [
    {
     "name": "stdout",
     "output_type": "stream",
     "text": [
      "val_id=4\n",
      "cur_id=0\n",
      "cur_id=1\n",
      "cur_id=2\n",
      "cur_id=3\n",
      "df_train.shape=(1830405, 10)  df_val.shape=(457602, 10)\n"
     ]
    }
   ],
   "source": [
    "# 根据校验集编号 0，1,2,3,4 ，获取训练集和校验集\n",
    "df_train, df_val = get_train_val(4)\n",
    "\n",
    "# 从原始数据中分离输入特征x和输出y\n",
    "train_y = df_train[target].values\n",
    "train_X = df_train.drop([target, user_id], axis = 1)\n",
    "val_y = df_val[target].values\n",
    "val_X = df_val.drop([target, user_id], axis = 1)"
   ]
  },
  {
   "cell_type": "code",
   "execution_count": 9,
   "metadata": {
    "collapsed": true
   },
   "outputs": [],
   "source": [
    "# 数据标准化：分别初始化对特征和目标值的标准化器 \n",
    "ss_X = StandardScaler()\n",
    "ss_y = StandardScaler()\n",
    "\n",
    "# 分别对训练和测试数据的特征以及目标值进行标准化处理\n",
    "train_X_ss = ss_X.fit_transform(train_X)\n",
    "val_X_ss = ss_X.transform(val_X)\n",
    "\n",
    "if Y_Standard:\n",
    "    train_y_ss = ss_y.fit_transform(train_y.reshape(-1, 1))\n",
    "    val_y_ss = ss_y.transform(val_y.reshape(-1, 1))\n",
    "\n",
    "# 需要转换为一维数组 \n",
    "train_y_ss_1d = train_y_ss.reshape(train_y_ss.shape[0])\n",
    "val_y_ss_1d = val_y_ss.reshape(val_y_ss.shape[0])"
   ]
  },
  {
   "cell_type": "code",
   "execution_count": 10,
   "metadata": {
    "collapsed": true
   },
   "outputs": [],
   "source": [
    "def inverse_StandardScaler(predict):\n",
    "    ''' 标准化数据还原  '''\n",
    "    if Y_Standard:\n",
    "        predict = ss_y.inverse_transform(predict)\n",
    "        print('predict = ', predict)\n",
    "    return predict\n",
    "\n",
    "def generate_summit(predict):\n",
    "    ''' 输出预测后的数据 '''\n",
    "    testPredict = test.copy()\n",
    "    testPredict[target] = predict\n",
    "    testPredict = testPredict[[user_id, target]]\n",
    "#     应该过滤掉负数\n",
    "    testPredict[target] = testPredict[target].apply(lambda x: x if x > 0 else 0)\n",
    "    return testPredict\n",
    "\n",
    "def generate_val_predict(predict):\n",
    "    ''' 生成校验集预测后的数据 '''\n",
    "    testPredict = df_val.copy()\n",
    "    testPredict[target] = predict\n",
    "    testPredict = testPredict[[user_id, target]]\n",
    "#     应该过滤掉负数\n",
    "    testPredict[target] = testPredict[target].apply(lambda x: x if x > 0 else 0)\n",
    "    return testPredict"
   ]
  },
  {
   "cell_type": "markdown",
   "metadata": {},
   "source": [
    "## 模型训练\n",
    "### 1.正则化的线性回归（L1正则 --> Lasso）"
   ]
  },
  {
   "cell_type": "code",
   "execution_count": 11,
   "metadata": {},
   "outputs": [
    {
     "name": "stderr",
     "output_type": "stream",
     "text": [
      "d:\\ProgramData\\Anaconda3\\lib\\site-packages\\sklearn\\linear_model\\coordinate_descent.py:491: ConvergenceWarning: Objective did not converge. You might want to increase the number of iterations. Fitting data with very small alpha may cause precision problems.\n",
      "  ConvergenceWarning)\n"
     ]
    },
    {
     "name": "stdout",
     "output_type": "stream",
     "text": [
      "best_alpha= 0.01\n",
      "Wall time: 30.2 s\n"
     ]
    }
   ],
   "source": [
    "%%time\n",
    "# alphas = [0.1, 10, 100, 1000, 10000]\n",
    "alphas = [0.001,0.01,0.1]\n",
    "\n",
    "lasso = LassoCV(alphas=alphas)\n",
    "lasso.fit(train_X_ss, train_y_ss_1d)\n",
    "print ('best_alpha=', lasso.alpha_)"
   ]
  },
  {
   "cell_type": "code",
   "execution_count": 12,
   "metadata": {},
   "outputs": [
    {
     "name": "stdout",
     "output_type": "stream",
     "text": [
      "best alpha is: 0.01\n"
     ]
    },
    {
     "data": {
      "image/png": "[encoded data removed]",
      "text/plain": [
       "<matplotlib.figure.Figure at 0x123be3c8>"
      ]
     },
     "metadata": {},
     "output_type": "display_data"
    }
   ],
   "source": [
    "## 3.1 Lasso 模型评价\n",
    "mses = np.mean(lasso.mse_path_, axis=1)\n",
    "\n",
    "#plt.plot(np.log10(alphas), mses)\n",
    "plt.plot(np.log10(lasso.alphas_), mses)\n",
    "# plt.show()  #绘制在一张图上，显示异常，暂时分开 \n",
    "\n",
    "plt.plot(np.log10(lasso.alpha_)*np.ones(3), [0.1, 0.5, 0.9])\n",
    "plt.xlabel('log(alpha)')\n",
    "plt.ylabel('mse')\n",
    "# plt.show() \n",
    "print ('best alpha is:', lasso.alpha_)\n",
    "# best alpha is: 10.5"
   ]
  },
  {
   "cell_type": "code",
   "execution_count": 13,
   "metadata": {},
   "outputs": [
    {
     "name": "stdout",
     "output_type": "stream",
     "text": [
      "The score: Train=0.5527422257275408  Val=0.4433311826261124\n",
      "The RMSE: Train=0.6687734684827882  Val=0.6564895541349325\n"
     ]
    }
   ],
   "source": [
    "# 模型评估\n",
    "lassoScoreTrain = lasso.score(train_X_ss, train_y_ss)\n",
    "lassoScoreVal = lasso.score(val_X_ss, val_y_ss)\n",
    "print('The score: Train=%s  Val=%s'% (lassoScoreTrain, lassoScoreVal)) \n",
    "\n",
    "lasso_predict_train = lasso.predict(train_X_ss)\n",
    "rmseTrain = mean_squared_error(train_y_ss, lasso_predict_train) ** 0.5\n",
    "lasso_predict_val = lasso.predict(val_X_ss)\n",
    "rmseVal = mean_squared_error(val_y_ss, lasso_predict_val) ** 0.5\n",
    "print('The RMSE: Train=%s  Val=%s' % (rmseTrain, rmseVal))\n",
    "\n",
    "# The score: Train=0.6026498641616385  Val=0.8354317552131078\n",
    "# The RMSE: Train=0.6303571494306712  Val=0.5921995943739873"
   ]
  },
  {
   "cell_type": "markdown",
   "metadata": {},
   "source": [
    "### 保存校验集测试结果"
   ]
  },
  {
   "cell_type": "code",
   "execution_count": 14,
   "metadata": {},
   "outputs": [
    {
     "name": "stdout",
     "output_type": "stream",
     "text": [
      "lasso_predict_val=  [-0.02334918 -0.02385629 -0.02334918 ... -0.01392015 -0.02336521\n",
      " -0.0234022 ]\n",
      "predict =  [-0.2885168  -0.33442581 -0.2885168  ...  0.56510002 -0.28996789\n",
      " -0.2933163 ]\n"
     ]
    },
    {
     "data": {
      "text/html": [
       "<div>\n",
       "<style>\n",
       "    .dataframe thead tr:only-child th {\n",
       "        text-align: right;\n",
       "    }\n",
       "\n",
       "    .dataframe thead th {\n",
       "        text-align: left;\n",
       "    }\n",
       "\n",
       "    .dataframe tbody tr th {\n",
       "        vertical-align: top;\n",
       "    }\n",
       "</style>\n",
       "<table border=\"1\" class=\"dataframe\">\n",
       "  <thead>\n",
       "    <tr style=\"text-align: right;\">\n",
       "      <th></th>\n",
       "      <th>user_id</th>\n",
       "      <th>prediction_pay_price</th>\n",
       "    </tr>\n",
       "  </thead>\n",
       "  <tbody>\n",
       "    <tr>\n",
       "      <th>0</th>\n",
       "      <td>1987367</td>\n",
       "      <td>0.0000</td>\n",
       "    </tr>\n",
       "    <tr>\n",
       "      <th>1</th>\n",
       "      <td>2292622</td>\n",
       "      <td>0.0000</td>\n",
       "    </tr>\n",
       "    <tr>\n",
       "      <th>2</th>\n",
       "      <td>466954</td>\n",
       "      <td>0.0000</td>\n",
       "    </tr>\n",
       "    <tr>\n",
       "      <th>3</th>\n",
       "      <td>1008130</td>\n",
       "      <td>0.0000</td>\n",
       "    </tr>\n",
       "    <tr>\n",
       "      <th>4</th>\n",
       "      <td>9759</td>\n",
       "      <td>0.0000</td>\n",
       "    </tr>\n",
       "  </tbody>\n",
       "</table>\n",
       "</div>"
      ],
      "text/plain": [
       "   user_id  prediction_pay_price\n",
       "0  1987367                0.0000\n",
       "1  2292622                0.0000\n",
       "2   466954                0.0000\n",
       "3  1008130                0.0000\n",
       "4     9759                0.0000"
      ]
     },
     "execution_count": 14,
     "metadata": {},
     "output_type": "execute_result"
    }
   ],
   "source": [
    "print('lasso_predict_val= ', lasso_predict_val)\n",
    "# 标准化数据还原 \n",
    "predict_val = inverse_StandardScaler(lasso_predict_val)\n",
    "valPredict = generate_val_predict(predict_val)\n",
    "#输出预测后的数据\n",
    "valPredict.to_csv(val_name %(val_path, base, 'lasso'), index=False)\n",
    "valPredict.head()"
   ]
  },
  {
   "cell_type": "markdown",
   "metadata": {},
   "source": [
    "## 加载测试数据"
   ]
  },
  {
   "cell_type": "code",
   "execution_count": 15,
   "metadata": {
    "scrolled": true
   },
   "outputs": [
    {
     "data": {
      "text/html": [
       "<div>\n",
       "<style>\n",
       "    .dataframe thead tr:only-child th {\n",
       "        text-align: right;\n",
       "    }\n",
       "\n",
       "    .dataframe thead th {\n",
       "        text-align: left;\n",
       "    }\n",
       "\n",
       "    .dataframe tbody tr th {\n",
       "        vertical-align: top;\n",
       "    }\n",
       "</style>\n",
       "<table border=\"1\" class=\"dataframe\">\n",
       "  <thead>\n",
       "    <tr style=\"text-align: right;\">\n",
       "      <th></th>\n",
       "      <th>user_id</th>\n",
       "      <th>pred_0</th>\n",
       "      <th>pred_1</th>\n",
       "      <th>pred_2</th>\n",
       "      <th>pred_3</th>\n",
       "      <th>pred_4</th>\n",
       "      <th>pred_5</th>\n",
       "      <th>pred_6</th>\n",
       "      <th>pred_7</th>\n",
       "    </tr>\n",
       "  </thead>\n",
       "  <tbody>\n",
       "    <tr>\n",
       "      <th>0</th>\n",
       "      <td>14933</td>\n",
       "      <td>0.0842</td>\n",
       "      <td>0.0002</td>\n",
       "      <td>0.0079</td>\n",
       "      <td>0.4069</td>\n",
       "      <td>0.0001</td>\n",
       "      <td>0.0102</td>\n",
       "      <td>1.6502</td>\n",
       "      <td>0.0002</td>\n",
       "    </tr>\n",
       "    <tr>\n",
       "      <th>1</th>\n",
       "      <td>14934</td>\n",
       "      <td>0.0592</td>\n",
       "      <td>0.0001</td>\n",
       "      <td>0.0000</td>\n",
       "      <td>0.4069</td>\n",
       "      <td>0.0000</td>\n",
       "      <td>0.0000</td>\n",
       "      <td>0.6719</td>\n",
       "      <td>0.0001</td>\n",
       "    </tr>\n",
       "    <tr>\n",
       "      <th>2</th>\n",
       "      <td>14935</td>\n",
       "      <td>0.3927</td>\n",
       "      <td>0.0001</td>\n",
       "      <td>0.0000</td>\n",
       "      <td>0.4069</td>\n",
       "      <td>0.0000</td>\n",
       "      <td>0.0000</td>\n",
       "      <td>0.9312</td>\n",
       "      <td>0.0001</td>\n",
       "    </tr>\n",
       "    <tr>\n",
       "      <th>3</th>\n",
       "      <td>14936</td>\n",
       "      <td>1.5131</td>\n",
       "      <td>0.0063</td>\n",
       "      <td>0.2355</td>\n",
       "      <td>0.4069</td>\n",
       "      <td>0.0000</td>\n",
       "      <td>0.2351</td>\n",
       "      <td>1.3646</td>\n",
       "      <td>0.0001</td>\n",
       "    </tr>\n",
       "    <tr>\n",
       "      <th>4</th>\n",
       "      <td>14937</td>\n",
       "      <td>0.0000</td>\n",
       "      <td>0.0001</td>\n",
       "      <td>0.0000</td>\n",
       "      <td>0.4069</td>\n",
       "      <td>0.0000</td>\n",
       "      <td>0.0000</td>\n",
       "      <td>0.5996</td>\n",
       "      <td>0.0001</td>\n",
       "    </tr>\n",
       "  </tbody>\n",
       "</table>\n",
       "</div>"
      ],
      "text/plain": [
       "   user_id  pred_0  pred_1  pred_2  pred_3  pred_4  pred_5  pred_6  pred_7\n",
       "0    14933  0.0842  0.0002  0.0079  0.4069  0.0001  0.0102  1.6502  0.0002\n",
       "1    14934  0.0592  0.0001  0.0000  0.4069  0.0000  0.0000  0.6719  0.0001\n",
       "2    14935  0.3927  0.0001  0.0000  0.4069  0.0000  0.0000  0.9312  0.0001\n",
       "3    14936  1.5131  0.0063  0.2355  0.4069  0.0000  0.2351  1.3646  0.0001\n",
       "4    14937  0.0000  0.0001  0.0000  0.4069  0.0000  0.0000  0.5996  0.0001"
      ]
     },
     "execution_count": 15,
     "metadata": {},
     "output_type": "execute_result"
    }
   ],
   "source": [
    "test = pd.read_csv(path_test + 'test=pred-1-col=9.csv', dtype=dtype_test)\n",
    "test_X = test.drop([user_id], axis = 1)\n",
    "test_X_ss = ss_X.transform(test_X)\n",
    "test.head()"
   ]
  },
  {
   "cell_type": "code",
   "execution_count": 16,
   "metadata": {},
   "outputs": [
    {
     "name": "stdout",
     "output_type": "stream",
     "text": [
      "lasso_y_predict_test =  [-0.02342441 -0.02349682 -0.02432829 ... -0.02383239 -0.02408796\n",
      " -0.02454619]\n",
      "predict =  [-0.29532704 -0.30188254 -0.37715624 ... -0.33226201 -0.35539935\n",
      " -0.39688259]\n"
     ]
    }
   ],
   "source": [
    "#对测试数据进行预测\n",
    "lasso_y_predict_test = lasso.predict(test_X_ss)\n",
    "print('lasso_y_predict_test = ', lasso_y_predict_test)\n",
    "\n",
    "# 标准化数据还原 \n",
    "lasso_y_predict_test = inverse_StandardScaler(lasso_y_predict_test)\n",
    "# lasso_y_predict_test =  [0.4556051 0.4556051 0.4556051 ... 0.4556051 0.4556051 0.4556051]"
   ]
  },
  {
   "cell_type": "code",
   "execution_count": 17,
   "metadata": {},
   "outputs": [
    {
     "data": {
      "text/html": [
       "<div>\n",
       "<style>\n",
       "    .dataframe thead tr:only-child th {\n",
       "        text-align: right;\n",
       "    }\n",
       "\n",
       "    .dataframe thead th {\n",
       "        text-align: left;\n",
       "    }\n",
       "\n",
       "    .dataframe tbody tr th {\n",
       "        vertical-align: top;\n",
       "    }\n",
       "</style>\n",
       "<table border=\"1\" class=\"dataframe\">\n",
       "  <thead>\n",
       "    <tr style=\"text-align: right;\">\n",
       "      <th></th>\n",
       "      <th>user_id</th>\n",
       "      <th>prediction_pay_price</th>\n",
       "    </tr>\n",
       "  </thead>\n",
       "  <tbody>\n",
       "    <tr>\n",
       "      <th>0</th>\n",
       "      <td>14933</td>\n",
       "      <td>0.0000</td>\n",
       "    </tr>\n",
       "    <tr>\n",
       "      <th>1</th>\n",
       "      <td>14934</td>\n",
       "      <td>0.0000</td>\n",
       "    </tr>\n",
       "    <tr>\n",
       "      <th>2</th>\n",
       "      <td>14935</td>\n",
       "      <td>0.0000</td>\n",
       "    </tr>\n",
       "    <tr>\n",
       "      <th>3</th>\n",
       "      <td>14936</td>\n",
       "      <td>0.0000</td>\n",
       "    </tr>\n",
       "    <tr>\n",
       "      <th>4</th>\n",
       "      <td>14937</td>\n",
       "      <td>0.0000</td>\n",
       "    </tr>\n",
       "  </tbody>\n",
       "</table>\n",
       "</div>"
      ],
      "text/plain": [
       "   user_id  prediction_pay_price\n",
       "0    14933                0.0000\n",
       "1    14934                0.0000\n",
       "2    14935                0.0000\n",
       "3    14936                0.0000\n",
       "4    14937                0.0000"
      ]
     },
     "execution_count": 17,
     "metadata": {},
     "output_type": "execute_result"
    }
   ],
   "source": [
    "testPredict = generate_summit(lasso_y_predict_test)\n",
    "#输出预测后的数据\n",
    "testPredict.to_csv(out_name %(summit_path, base, 'lasso'), index=False)\n",
    "testPredict.head()"
   ]
  },
  {
   "cell_type": "markdown",
   "metadata": {},
   "source": [
    "## 2 正则化的线性回归（L2正则 --> 岭回归）"
   ]
  },
  {
   "cell_type": "code",
   "execution_count": 18,
   "metadata": {},
   "outputs": [
    {
     "name": "stdout",
     "output_type": "stream",
     "text": [
      "best alpha is: 20000.0\n",
      "Wall time: 3.19 s\n"
     ]
    }
   ],
   "source": [
    "%%time\n",
    "#正则项的参数\n",
    "# alphas = [0.1, 1, 10, 100, 10000]\n",
    "alphas = [0.1, 7000,9000,10000,11000,13000, 20000, 100000]\n",
    "ridge = RidgeCV(alphas=alphas, store_cv_values=True)\n",
    "ridge.fit(train_X_ss, train_y_ss_1d)\n",
    "print('best alpha is:', ridge.alpha_)"
   ]
  },
  {
   "cell_type": "code",
   "execution_count": 19,
   "metadata": {},
   "outputs": [
    {
     "name": "stdout",
     "output_type": "stream",
     "text": [
      "best alpha is: 20000.0\n"
     ]
    },
    {
     "data": {
      "image/png": "[encoded data removed]",
      "text/plain": [
       "<matplotlib.figure.Figure at 0x14833668>"
      ]
     },
     "metadata": {},
     "output_type": "display_data"
    }
   ],
   "source": [
    "### 2.1 岭回归模型评价\n",
    "mse_mean = np.mean(ridge.cv_values_, axis=0)\n",
    "\n",
    "#正则项参数取对数， mse_mean.reshape() 干什么的？拉平\n",
    "plt.plot(np.log10(alphas), mse_mean.reshape(len(alphas), 1))\n",
    "# 在最佳参数位置绘制竖线：注意第二个参数值要和 Y 坐标轴匹配\n",
    "plt.plot(np.log10(ridge.alpha_)*np.ones(3), [.1, .5, 1.1])\n",
    "# plt.show() #绘制在一张图上，显示异常，暂时分开 \n",
    "\n",
    "plt.xlabel('log(alpha)')\n",
    "plt.ylabel('mse')\n",
    "print('best alpha is:', ridge.alpha_)"
   ]
  },
  {
   "cell_type": "code",
   "execution_count": 20,
   "metadata": {},
   "outputs": [
    {
     "name": "stdout",
     "output_type": "stream",
     "text": [
      "The score: Train=0.5577511067779233  Val=0.44013286572283833\n",
      "The RMSE: Train=0.6650180968245065  Val=0.6583727693664453\n"
     ]
    }
   ],
   "source": [
    "# 模型评估\n",
    "ridgeScoreTrain = ridge.score(train_X_ss, train_y_ss_1d)\n",
    "ridgeScoreVal = ridge.score(val_X_ss, val_y_ss_1d)\n",
    "print('The score: Train=%s  Val=%s'% (ridgeScoreTrain, ridgeScoreVal)) \n",
    "\n",
    "ridge_predict_train = ridge.predict(train_X_ss)\n",
    "rmseTrain = mean_squared_error(train_y_ss_1d, ridge_predict_train) ** 0.5\n",
    "ridge_predict_val = ridge.predict(val_X_ss)\n",
    "rmseVal = mean_squared_error(val_y_ss_1d, ridge_predict_val) ** 0.5\n",
    "print('The RMSE: Train=%s  Val=%s' % (rmseTrain, rmseVal))\n",
    "\n",
    "# The score: Train=0.6886471998505836  Val=0.5049070896778365\n",
    "# The RMSE: Train=0.5579899841294994  Val=0.8149389859862378"
   ]
  },
  {
   "cell_type": "markdown",
   "metadata": {},
   "source": [
    "### 保存校验集测试结果"
   ]
  },
  {
   "cell_type": "code",
   "execution_count": 21,
   "metadata": {},
   "outputs": [
    {
     "name": "stdout",
     "output_type": "stream",
     "text": [
      "ridge_predict_val=  [-0.02060937 -0.02335947 -0.02237336 ... -0.01187386 -0.02241684\n",
      " -0.0224852 ]\n",
      "predict =  [-0.0404802  -0.28944815 -0.20017549 ...  0.7503521  -0.20411168\n",
      " -0.21029972]\n"
     ]
    },
    {
     "data": {
      "text/html": [
       "<div>\n",
       "<style>\n",
       "    .dataframe thead tr:only-child th {\n",
       "        text-align: right;\n",
       "    }\n",
       "\n",
       "    .dataframe thead th {\n",
       "        text-align: left;\n",
       "    }\n",
       "\n",
       "    .dataframe tbody tr th {\n",
       "        vertical-align: top;\n",
       "    }\n",
       "</style>\n",
       "<table border=\"1\" class=\"dataframe\">\n",
       "  <thead>\n",
       "    <tr style=\"text-align: right;\">\n",
       "      <th></th>\n",
       "      <th>user_id</th>\n",
       "      <th>prediction_pay_price</th>\n",
       "    </tr>\n",
       "  </thead>\n",
       "  <tbody>\n",
       "    <tr>\n",
       "      <th>0</th>\n",
       "      <td>1987367</td>\n",
       "      <td>0.0000</td>\n",
       "    </tr>\n",
       "    <tr>\n",
       "      <th>1</th>\n",
       "      <td>2292622</td>\n",
       "      <td>0.0000</td>\n",
       "    </tr>\n",
       "    <tr>\n",
       "      <th>2</th>\n",
       "      <td>466954</td>\n",
       "      <td>0.0000</td>\n",
       "    </tr>\n",
       "    <tr>\n",
       "      <th>3</th>\n",
       "      <td>1008130</td>\n",
       "      <td>0.0000</td>\n",
       "    </tr>\n",
       "    <tr>\n",
       "      <th>4</th>\n",
       "      <td>9759</td>\n",
       "      <td>0.0000</td>\n",
       "    </tr>\n",
       "  </tbody>\n",
       "</table>\n",
       "</div>"
      ],
      "text/plain": [
       "   user_id  prediction_pay_price\n",
       "0  1987367                0.0000\n",
       "1  2292622                0.0000\n",
       "2   466954                0.0000\n",
       "3  1008130                0.0000\n",
       "4     9759                0.0000"
      ]
     },
     "execution_count": 21,
     "metadata": {},
     "output_type": "execute_result"
    }
   ],
   "source": [
    "print('ridge_predict_val= ', ridge_predict_val)\n",
    "# 标准化数据还原 \n",
    "predict_val = inverse_StandardScaler(ridge_predict_val)\n",
    "valPredict = generate_val_predict(predict_val)\n",
    "#输出预测后的数据\n",
    "valPredict.to_csv(val_name %(val_path, base, 'RidgeCV'), index=False)\n",
    "valPredict.head()"
   ]
  },
  {
   "cell_type": "code",
   "execution_count": 22,
   "metadata": {
    "scrolled": true
   },
   "outputs": [
    {
     "name": "stdout",
     "output_type": "stream",
     "text": [
      "ridge_y_predict_test =  [-0.02231382 -0.02253933 -0.02406533 ... -0.0221977  -0.02374308\n",
      " -0.02458729]\n",
      "predict =  [-0.1947846  -0.21520041 -0.35335043 ... -0.18427235 -0.32417682\n",
      " -0.40060384]\n"
     ]
    }
   ],
   "source": [
    "#对测试数据进行预测\n",
    "ridge_y_predict_test = ridge.predict(test_X_ss)\n",
    "print('ridge_y_predict_test = ', ridge_y_predict_test)\n",
    "\n",
    "# 标准化数据还原 \n",
    "ridge_y_predict_test = inverse_StandardScaler(ridge_y_predict_test)"
   ]
  },
  {
   "cell_type": "code",
   "execution_count": 23,
   "metadata": {},
   "outputs": [
    {
     "data": {
      "text/html": [
       "<div>\n",
       "<style>\n",
       "    .dataframe thead tr:only-child th {\n",
       "        text-align: right;\n",
       "    }\n",
       "\n",
       "    .dataframe thead th {\n",
       "        text-align: left;\n",
       "    }\n",
       "\n",
       "    .dataframe tbody tr th {\n",
       "        vertical-align: top;\n",
       "    }\n",
       "</style>\n",
       "<table border=\"1\" class=\"dataframe\">\n",
       "  <thead>\n",
       "    <tr style=\"text-align: right;\">\n",
       "      <th></th>\n",
       "      <th>user_id</th>\n",
       "      <th>prediction_pay_price</th>\n",
       "    </tr>\n",
       "  </thead>\n",
       "  <tbody>\n",
       "    <tr>\n",
       "      <th>0</th>\n",
       "      <td>14933</td>\n",
       "      <td>0.0000</td>\n",
       "    </tr>\n",
       "    <tr>\n",
       "      <th>1</th>\n",
       "      <td>14934</td>\n",
       "      <td>0.0000</td>\n",
       "    </tr>\n",
       "    <tr>\n",
       "      <th>2</th>\n",
       "      <td>14935</td>\n",
       "      <td>0.0000</td>\n",
       "    </tr>\n",
       "    <tr>\n",
       "      <th>3</th>\n",
       "      <td>14936</td>\n",
       "      <td>0.0000</td>\n",
       "    </tr>\n",
       "    <tr>\n",
       "      <th>4</th>\n",
       "      <td>14937</td>\n",
       "      <td>0.0000</td>\n",
       "    </tr>\n",
       "  </tbody>\n",
       "</table>\n",
       "</div>"
      ],
      "text/plain": [
       "   user_id  prediction_pay_price\n",
       "0    14933                0.0000\n",
       "1    14934                0.0000\n",
       "2    14935                0.0000\n",
       "3    14936                0.0000\n",
       "4    14937                0.0000"
      ]
     },
     "execution_count": 23,
     "metadata": {},
     "output_type": "execute_result"
    }
   ],
   "source": [
    "# ridge_y_predict_test = move_up(ridge_y_predict_test)\n",
    "#输出预测后的数据\n",
    "testPredict = generate_summit(ridge_y_predict_test)\n",
    "#输出预测后的数据\n",
    "testPredict.to_csv(out_name %(summit_path, base, 'RidgeCV'), index=False)\n",
    "testPredict.head()"
   ]
  },
  {
   "cell_type": "markdown",
   "metadata": {},
   "source": [
    "### 3. 正则化的线性回归 ElasticNetCV "
   ]
  },
  {
   "cell_type": "code",
   "execution_count": 24,
   "metadata": {},
   "outputs": [
    {
     "name": "stdout",
     "output_type": "stream",
     "text": [
      "best alpha is:0.006051722270061024  l1_ratio_:0.99\n",
      "Wall time: 43.6 s\n"
     ]
    },
    {
     "name": "stderr",
     "output_type": "stream",
     "text": [
      "d:\\ProgramData\\Anaconda3\\lib\\site-packages\\sklearn\\linear_model\\coordinate_descent.py:491: ConvergenceWarning: Objective did not converge. You might want to increase the number of iterations. Fitting data with very small alpha may cause precision problems.\n",
      "  ConvergenceWarning)\n"
     ]
    }
   ],
   "source": [
    "%%time\n",
    "# l1_ratio = [.1, .5, .7, .9, .95, .99, 1]\n",
    "l1_ratio = [.99, 1]\n",
    "\n",
    "model = ElasticNetCV(l1_ratio=l1_ratio, eps=0.001) #效果最好\n",
    "# model = ElasticNetCV(l1_ratio=l1_ratio, eps=0.005)\n",
    "# model = ElasticNetCV(l1_ratio=l1_ratio, eps=0.0005)\n",
    "model.fit(train_X_ss, train_y_ss_1d)\n",
    "print ('best alpha is:%s  l1_ratio_:%s' % (model.alpha_, model.l1_ratio_))\n",
    "# best alpha is:0.023491824547378765  l1_ratio_:1.0\n",
    "# Wall time: 1min 17s"
   ]
  },
  {
   "cell_type": "code",
   "execution_count": 25,
   "metadata": {},
   "outputs": [
    {
     "name": "stdout",
     "output_type": "stream",
     "text": [
      "best alpha is:0.006051722270061024  l1_ratio_:0.99\n"
     ]
    },
    {
     "data": {
      "image/png": "[encoded data removed]",
      "text/plain": [
       "<matplotlib.figure.Figure at 0x148339e8>"
      ]
     },
     "metadata": {},
     "output_type": "display_data"
    }
   ],
   "source": [
    "## 3.1 Lasso 模型评价\n",
    "mses = np.mean(model.mse_path_, axis=1)\n",
    "plt.plot(np.log10(model.alphas_), mses)\n",
    "\n",
    "plt.plot(np.log10(model.alpha_)*np.ones(3), [0.1, 0.5, .9])\n",
    "plt.xlabel('log(alpha)')\n",
    "plt.ylabel('mse')\n",
    "\n",
    "print ('best alpha is:%s  l1_ratio_:%s' % (model.alpha_, model.l1_ratio_))\n",
    "# best alpha is:0.023491824547378765  l1_ratio_:1.0"
   ]
  },
  {
   "cell_type": "code",
   "execution_count": 26,
   "metadata": {},
   "outputs": [
    {
     "name": "stdout",
     "output_type": "stream",
     "text": [
      "The score of model: Train=0.556282975794316  Val=0.4434203589002847\n",
      "The RMSE: Train=0.6661210105315478  Val=0.6564369684363666\n"
     ]
    }
   ],
   "source": [
    "# 模型评估\n",
    "scoreTrain = model.score(train_X_ss, train_y_ss_1d)\n",
    "scoreVal = model.score(val_X_ss, val_y_ss_1d)\n",
    "print('The score of model: Train=%s  Val=%s'% (scoreTrain, scoreVal)) \n",
    "\n",
    "predict_train = model.predict(train_X_ss)\n",
    "rmseTrain = mean_squared_error(train_y_ss_1d, predict_train) ** 0.5\n",
    "predict_val = model.predict(val_X_ss)\n",
    "rmseVal = mean_squared_error(val_y_ss_1d, predict_val) ** 0.5\n",
    "print('The RMSE: Train=%s  Val=%s' % (rmseTrain, rmseVal))\n",
    "\n",
    "# The score of model: Train=0.5770046284899812  Val=0.6397112081154743\n",
    "# The RMSE: Train=0.6503808356107215  Val=0.7399599188801825"
   ]
  },
  {
   "cell_type": "markdown",
   "metadata": {},
   "source": [
    "### 保存校验集测试结果"
   ]
  },
  {
   "cell_type": "code",
   "execution_count": 27,
   "metadata": {},
   "outputs": [
    {
     "name": "stdout",
     "output_type": "stream",
     "text": [
      "predict_val=  [-0.02272998 -0.02362611 -0.02272998 ... -0.01211634 -0.02275831\n",
      " -0.02282367]\n",
      "predict =  [-0.23246029 -0.31358713 -0.23246029 ...  0.72840017 -0.23502453\n",
      " -0.2409416 ]\n"
     ]
    },
    {
     "data": {
      "text/html": [
       "<div>\n",
       "<style>\n",
       "    .dataframe thead tr:only-child th {\n",
       "        text-align: right;\n",
       "    }\n",
       "\n",
       "    .dataframe thead th {\n",
       "        text-align: left;\n",
       "    }\n",
       "\n",
       "    .dataframe tbody tr th {\n",
       "        vertical-align: top;\n",
       "    }\n",
       "</style>\n",
       "<table border=\"1\" class=\"dataframe\">\n",
       "  <thead>\n",
       "    <tr style=\"text-align: right;\">\n",
       "      <th></th>\n",
       "      <th>user_id</th>\n",
       "      <th>prediction_pay_price</th>\n",
       "    </tr>\n",
       "  </thead>\n",
       "  <tbody>\n",
       "    <tr>\n",
       "      <th>0</th>\n",
       "      <td>1987367</td>\n",
       "      <td>0.0000</td>\n",
       "    </tr>\n",
       "    <tr>\n",
       "      <th>1</th>\n",
       "      <td>2292622</td>\n",
       "      <td>0.0000</td>\n",
       "    </tr>\n",
       "    <tr>\n",
       "      <th>2</th>\n",
       "      <td>466954</td>\n",
       "      <td>0.0000</td>\n",
       "    </tr>\n",
       "    <tr>\n",
       "      <th>3</th>\n",
       "      <td>1008130</td>\n",
       "      <td>0.0000</td>\n",
       "    </tr>\n",
       "    <tr>\n",
       "      <th>4</th>\n",
       "      <td>9759</td>\n",
       "      <td>0.0000</td>\n",
       "    </tr>\n",
       "  </tbody>\n",
       "</table>\n",
       "</div>"
      ],
      "text/plain": [
       "   user_id  prediction_pay_price\n",
       "0  1987367                0.0000\n",
       "1  2292622                0.0000\n",
       "2   466954                0.0000\n",
       "3  1008130                0.0000\n",
       "4     9759                0.0000"
      ]
     },
     "execution_count": 27,
     "metadata": {},
     "output_type": "execute_result"
    }
   ],
   "source": [
    "print('predict_val= ', predict_val)\n",
    "# 标准化数据还原 \n",
    "predict_val = inverse_StandardScaler(predict_val)\n",
    "valPredict = generate_val_predict(predict_val)\n",
    "#输出预测后的数据\n",
    "valPredict.to_csv(val_name %(val_path, base, 'ElasticNetCV'), index=False)\n",
    "valPredict.head()"
   ]
  },
  {
   "cell_type": "code",
   "execution_count": 28,
   "metadata": {},
   "outputs": [
    {
     "name": "stdout",
     "output_type": "stream",
     "text": [
      "predict_test =  [-0.02295771 -0.02299087 -0.02446019 ... -0.02358387 -0.0240355\n",
      " -0.02484524]\n",
      "predict =  [-0.2530771  -0.25607919 -0.38909701 ... -0.30976342 -0.35064994\n",
      " -0.42395589]\n"
     ]
    }
   ],
   "source": [
    "#对测试数据进行预测\n",
    "predict_test = model.predict(test_X_ss)\n",
    "print('predict_test = ', predict_test)\n",
    "\n",
    "# 标准化数据还原 \n",
    "predict_test_true = inverse_StandardScaler(predict_test)"
   ]
  },
  {
   "cell_type": "code",
   "execution_count": 29,
   "metadata": {},
   "outputs": [
    {
     "data": {
      "text/html": [
       "<div>\n",
       "<style>\n",
       "    .dataframe thead tr:only-child th {\n",
       "        text-align: right;\n",
       "    }\n",
       "\n",
       "    .dataframe thead th {\n",
       "        text-align: left;\n",
       "    }\n",
       "\n",
       "    .dataframe tbody tr th {\n",
       "        vertical-align: top;\n",
       "    }\n",
       "</style>\n",
       "<table border=\"1\" class=\"dataframe\">\n",
       "  <thead>\n",
       "    <tr style=\"text-align: right;\">\n",
       "      <th></th>\n",
       "      <th>user_id</th>\n",
       "      <th>prediction_pay_price</th>\n",
       "    </tr>\n",
       "  </thead>\n",
       "  <tbody>\n",
       "    <tr>\n",
       "      <th>0</th>\n",
       "      <td>14933</td>\n",
       "      <td>0.0000</td>\n",
       "    </tr>\n",
       "    <tr>\n",
       "      <th>1</th>\n",
       "      <td>14934</td>\n",
       "      <td>0.0000</td>\n",
       "    </tr>\n",
       "    <tr>\n",
       "      <th>2</th>\n",
       "      <td>14935</td>\n",
       "      <td>0.0000</td>\n",
       "    </tr>\n",
       "    <tr>\n",
       "      <th>3</th>\n",
       "      <td>14936</td>\n",
       "      <td>0.0000</td>\n",
       "    </tr>\n",
       "    <tr>\n",
       "      <th>4</th>\n",
       "      <td>14937</td>\n",
       "      <td>0.0000</td>\n",
       "    </tr>\n",
       "  </tbody>\n",
       "</table>\n",
       "</div>"
      ],
      "text/plain": [
       "   user_id  prediction_pay_price\n",
       "0    14933                0.0000\n",
       "1    14934                0.0000\n",
       "2    14935                0.0000\n",
       "3    14936                0.0000\n",
       "4    14937                0.0000"
      ]
     },
     "execution_count": 29,
     "metadata": {},
     "output_type": "execute_result"
    }
   ],
   "source": [
    "testPredict = generate_summit(predict_test_true)\n",
    "#输出预测后的数据\n",
    "testPredict.to_csv(out_name %(summit_path, base, 'ElasticNetCV'), index=False)\n",
    "testPredict.head()"
   ]
  },
  {
   "cell_type": "code",
   "execution_count": null,
   "metadata": {
    "collapsed": true
   },
   "outputs": [],
   "source": []
  }
 ],
 "metadata": {
  "kernelspec": {
   "display_name": "Python 3",
   "language": "python",
   "name": "python3"
  },
  "language_info": {
   "codemirror_mode": {
    "name": "ipython",
    "version": 3
   },
   "file_extension": ".py",
   "mimetype": "text/x-python",
   "name": "python",
   "nbconvert_exporter": "python",
   "pygments_lexer": "ipython3",
   "version": "3.6.3"
  }
 },
 "nbformat": 4,
 "nbformat_minor": 2
}
