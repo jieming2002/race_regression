{
 "cells": [
  {
   "cell_type": "markdown",
   "metadata": {},
   "source": [
    "## stacking 集成算法"
   ]
  },
  {
   "cell_type": "code",
   "execution_count": 2,
   "metadata": {
    "collapsed": true
   },
   "outputs": [],
   "source": [
    "# 导入必要的工具包\n",
    "import numpy as np #用于数值计算\n",
    "import pandas as pd #用于数据表处理，数据文件读写\n",
    "from sklearn.preprocessing import StandardScaler\n",
    "from sklearn.model_selection import train_test_split\n",
    "from sklearn.metrics import mean_squared_error\n",
    "\n",
    "from sklearn.linear_model import LassoCV\n",
    "from sklearn.linear_model import RidgeCV\n",
    "from sklearn.linear_model import ElasticNetCV\n",
    "\n",
    "import matplotlib.pyplot as plt #用于绘图：分析结果的可视化。\n",
    "import seaborn as sns #用于绘图：分析结果的可视化。封装更好。\n",
    "from IPython.display import display\n",
    "\n",
    "#应该是设置浮点数的形式格式，小数点后三位\n",
    "pd.set_option('display.float_format', lambda x: '%.4f' % x)\n",
    "\n",
    "#这一行是干嘛的？ 设置 matplotlib 让绘制的图形出现在 Notebook 里而不是新窗口\n",
    "%matplotlib inline"
   ]
  },
  {
   "cell_type": "code",
   "execution_count": 8,
   "metadata": {
    "collapsed": true
   },
   "outputs": [],
   "source": [
    "Y_Standard = True\n",
    "# 生成的结果文件名称\n",
    "out_name = '%ssummit=0.1-encoder=16-%s.csv'\n",
    "path_train = '../data/new/train=all/'\n",
    "path_test = '../data/new/test/'\n",
    "summit_path = '../data/summit/'\n",
    "train_part_num = 5 #训练集拆分个数"
   ]
  },
  {
   "cell_type": "code",
   "execution_count": 13,
   "metadata": {},
   "outputs": [
    {
     "ename": "TypeError",
     "evalue": "not all arguments converted during string formatting",
     "output_type": "error",
     "traceback": [
      "\u001b[1;31m---------------------------------------------------------------------------\u001b[0m",
      "\u001b[1;31mTypeError\u001b[0m                                 Traceback (most recent call last)",
      "\u001b[1;32m<ipython-input-13-3d51e0af723c>\u001b[0m in \u001b[0;36m<module>\u001b[1;34m()\u001b[0m\n\u001b[0;32m     11\u001b[0m         \u001b[0mdf_train\u001b[0m \u001b[1;33m=\u001b[0m \u001b[0mpd\u001b[0m\u001b[1;33m.\u001b[0m\u001b[0mconcat\u001b[0m\u001b[1;33m(\u001b[0m\u001b[1;33m[\u001b[0m\u001b[0mdf_train\u001b[0m\u001b[1;33m,\u001b[0m \u001b[0mpd\u001b[0m\u001b[1;33m.\u001b[0m\u001b[0mread_csv\u001b[0m\u001b[1;33m(\u001b[0m\u001b[1;34m'%strain=fe-%s.csv'\u001b[0m \u001b[1;33m%\u001b[0m \u001b[1;33m(\u001b[0m\u001b[0mpath_train\u001b[0m\u001b[1;33m,\u001b[0m \u001b[0mcur_id\u001b[0m\u001b[1;33m)\u001b[0m\u001b[1;33m)\u001b[0m\u001b[1;33m]\u001b[0m\u001b[1;33m)\u001b[0m\u001b[1;33m\u001b[0m\u001b[0m\n\u001b[0;32m     12\u001b[0m \u001b[1;33m\u001b[0m\u001b[0m\n\u001b[1;32m---> 13\u001b[1;33m \u001b[0mprint\u001b[0m\u001b[1;33m(\u001b[0m\u001b[1;34m'df_train.shape=%s'\u001b[0m\u001b[1;33m%\u001b[0m \u001b[0mdf_train\u001b[0m\u001b[1;33m.\u001b[0m\u001b[0mshape\u001b[0m\u001b[1;33m)\u001b[0m\u001b[1;33m\u001b[0m\u001b[0m\n\u001b[0m\u001b[0;32m     14\u001b[0m \u001b[0mprint\u001b[0m\u001b[1;33m(\u001b[0m\u001b[1;34m'df_val.shape=%s'\u001b[0m\u001b[1;33m%\u001b[0m \u001b[0mdf_val\u001b[0m\u001b[1;33m.\u001b[0m\u001b[0mshape\u001b[0m\u001b[1;33m)\u001b[0m\u001b[1;33m\u001b[0m\u001b[0m\n",
      "\u001b[1;31mTypeError\u001b[0m: not all arguments converted during string formatting"
     ]
    }
   ],
   "source": [
    "# 读取数据\n",
    "val_id = 1 #当前校验集编号\n",
    "init_id = (val_id % 5) + 1\n",
    "df_train = pd.read_csv('%strain=fe-%s.csv' % (path_train, init_id))\n",
    "\n",
    "for i in range(train_part_num):\n",
    "    cur_id = i + 1\n",
    "    if cur_id == val_id:\n",
    "        df_val = pd.read_csv('%strain=fe-%s.csv' % (path_train, val_id))\n",
    "    elif not cur_id == init_id:\n",
    "        df_train = pd.concat([df_train, pd.read_csv('%strain=fe-%s.csv' % (path_train, cur_id))])\n",
    "\n",
    "print('df_train.shape=%s  df_val.shape=%s'% (df_train.shape, df_val.shape))"
   ]
  },
  {
   "cell_type": "code",
   "execution_count": 15,
   "metadata": {},
   "outputs": [
    {
     "name": "stdout",
     "output_type": "stream",
     "text": [
      "df_train.shape=(1830404, 109)  df_val.shape=(457602, 109)\n"
     ]
    }
   ],
   "source": []
  },
  {
   "cell_type": "code",
   "execution_count": 4,
   "metadata": {
    "scrolled": true
   },
   "outputs": [
    {
     "data": {
      "text/html": [
       "<div>\n",
       "<style>\n",
       "    .dataframe thead tr:only-child th {\n",
       "        text-align: right;\n",
       "    }\n",
       "\n",
       "    .dataframe thead th {\n",
       "        text-align: left;\n",
       "    }\n",
       "\n",
       "    .dataframe tbody tr th {\n",
       "        vertical-align: top;\n",
       "    }\n",
       "</style>\n",
       "<table border=\"1\" class=\"dataframe\">\n",
       "  <thead>\n",
       "    <tr style=\"text-align: right;\">\n",
       "      <th></th>\n",
       "      <th>user_id</th>\n",
       "      <th>0</th>\n",
       "      <th>1</th>\n",
       "      <th>2</th>\n",
       "      <th>3</th>\n",
       "      <th>4</th>\n",
       "      <th>5</th>\n",
       "      <th>6</th>\n",
       "      <th>7</th>\n",
       "      <th>8</th>\n",
       "      <th>9</th>\n",
       "      <th>10</th>\n",
       "      <th>11</th>\n",
       "      <th>12</th>\n",
       "      <th>13</th>\n",
       "      <th>14</th>\n",
       "      <th>15</th>\n",
       "    </tr>\n",
       "  </thead>\n",
       "  <tbody>\n",
       "    <tr>\n",
       "      <th>0</th>\n",
       "      <td>14933</td>\n",
       "      <td>0.9992</td>\n",
       "      <td>0.9952</td>\n",
       "      <td>0.9816</td>\n",
       "      <td>0.0184</td>\n",
       "      <td>0.2460</td>\n",
       "      <td>0.9982</td>\n",
       "      <td>0.9020</td>\n",
       "      <td>0.9876</td>\n",
       "      <td>0.9503</td>\n",
       "      <td>0.0293</td>\n",
       "      <td>0.0005</td>\n",
       "      <td>0.9991</td>\n",
       "      <td>0.0286</td>\n",
       "      <td>0.6675</td>\n",
       "      <td>1.0000</td>\n",
       "      <td>0.9188</td>\n",
       "    </tr>\n",
       "    <tr>\n",
       "      <th>1</th>\n",
       "      <td>14934</td>\n",
       "      <td>0.9966</td>\n",
       "      <td>0.9983</td>\n",
       "      <td>0.0388</td>\n",
       "      <td>0.9942</td>\n",
       "      <td>0.8734</td>\n",
       "      <td>0.9871</td>\n",
       "      <td>0.9989</td>\n",
       "      <td>0.9942</td>\n",
       "      <td>0.9849</td>\n",
       "      <td>0.0081</td>\n",
       "      <td>0.6787</td>\n",
       "      <td>0.8942</td>\n",
       "      <td>0.0038</td>\n",
       "      <td>0.0209</td>\n",
       "      <td>0.9998</td>\n",
       "      <td>0.9930</td>\n",
       "    </tr>\n",
       "    <tr>\n",
       "      <th>2</th>\n",
       "      <td>14935</td>\n",
       "      <td>0.9985</td>\n",
       "      <td>0.9994</td>\n",
       "      <td>0.0254</td>\n",
       "      <td>0.9820</td>\n",
       "      <td>0.8951</td>\n",
       "      <td>0.9873</td>\n",
       "      <td>0.9970</td>\n",
       "      <td>0.9928</td>\n",
       "      <td>0.9768</td>\n",
       "      <td>0.0089</td>\n",
       "      <td>0.5385</td>\n",
       "      <td>0.9404</td>\n",
       "      <td>0.0096</td>\n",
       "      <td>0.0275</td>\n",
       "      <td>0.9999</td>\n",
       "      <td>0.9810</td>\n",
       "    </tr>\n",
       "    <tr>\n",
       "      <th>3</th>\n",
       "      <td>14936</td>\n",
       "      <td>0.9989</td>\n",
       "      <td>0.9961</td>\n",
       "      <td>0.0531</td>\n",
       "      <td>0.9955</td>\n",
       "      <td>0.8362</td>\n",
       "      <td>0.9843</td>\n",
       "      <td>0.9985</td>\n",
       "      <td>0.9918</td>\n",
       "      <td>0.9864</td>\n",
       "      <td>0.0064</td>\n",
       "      <td>0.6846</td>\n",
       "      <td>0.7807</td>\n",
       "      <td>0.0026</td>\n",
       "      <td>0.0358</td>\n",
       "      <td>0.9999</td>\n",
       "      <td>0.9903</td>\n",
       "    </tr>\n",
       "    <tr>\n",
       "      <th>4</th>\n",
       "      <td>14937</td>\n",
       "      <td>0.9972</td>\n",
       "      <td>0.9989</td>\n",
       "      <td>0.0384</td>\n",
       "      <td>0.9820</td>\n",
       "      <td>0.9284</td>\n",
       "      <td>0.9858</td>\n",
       "      <td>0.9979</td>\n",
       "      <td>0.9950</td>\n",
       "      <td>0.9750</td>\n",
       "      <td>0.0053</td>\n",
       "      <td>0.6409</td>\n",
       "      <td>0.9358</td>\n",
       "      <td>0.0074</td>\n",
       "      <td>0.0178</td>\n",
       "      <td>0.9999</td>\n",
       "      <td>0.9833</td>\n",
       "    </tr>\n",
       "  </tbody>\n",
       "</table>\n",
       "</div>"
      ],
      "text/plain": [
       "   user_id      0      1      2      3      4      5      6      7      8  \\\n",
       "0    14933 0.9992 0.9952 0.9816 0.0184 0.2460 0.9982 0.9020 0.9876 0.9503   \n",
       "1    14934 0.9966 0.9983 0.0388 0.9942 0.8734 0.9871 0.9989 0.9942 0.9849   \n",
       "2    14935 0.9985 0.9994 0.0254 0.9820 0.8951 0.9873 0.9970 0.9928 0.9768   \n",
       "3    14936 0.9989 0.9961 0.0531 0.9955 0.8362 0.9843 0.9985 0.9918 0.9864   \n",
       "4    14937 0.9972 0.9989 0.0384 0.9820 0.9284 0.9858 0.9979 0.9950 0.9750   \n",
       "\n",
       "       9     10     11     12     13     14     15  \n",
       "0 0.0293 0.0005 0.9991 0.0286 0.6675 1.0000 0.9188  \n",
       "1 0.0081 0.6787 0.8942 0.0038 0.0209 0.9998 0.9930  \n",
       "2 0.0089 0.5385 0.9404 0.0096 0.0275 0.9999 0.9810  \n",
       "3 0.0064 0.6846 0.7807 0.0026 0.0358 0.9999 0.9903  \n",
       "4 0.0053 0.6409 0.9358 0.0074 0.0178 0.9999 0.9833  "
      ]
     },
     "execution_count": 4,
     "metadata": {},
     "output_type": "execute_result"
    }
   ],
   "source": [
    "test = pd.read_csv(path_test + 'tap_fun_test-fe.csv')\n",
    "test.head()"
   ]
  },
  {
   "cell_type": "code",
   "execution_count": 5,
   "metadata": {
    "collapsed": true
   },
   "outputs": [],
   "source": [
    "# 从原始数据中分离输入特征x和输出y\n",
    "target = 'prediction_pay_price'\n",
    "id = 'user_id'\n",
    "train_y = train[target].values\n",
    "train_X = train.drop([target, id], axis = 1)\n",
    "\n",
    "# test_id = test[id]\n",
    "test_X = test.drop([id], axis = 1)"
   ]
  },
  {
   "cell_type": "code",
   "execution_count": 6,
   "metadata": {},
   "outputs": [
    {
     "name": "stdout",
     "output_type": "stream",
     "text": [
      "train.shape=(228800, 18) X_train_part.shape=(205920, 16) X_test_part.shape=(22880, 16)\n"
     ]
    }
   ],
   "source": [
    "X_train_part, X_val_part, y_train_part, y_val_part = train_test_split(train_X, train_y, random_state=33, test_size=0.1)\n",
    "print('train.shape=%s X_train_part.shape=%s X_test_part.shape=%s'\n",
    "      %(train.shape, X_train_part.shape, X_val_part.shape))"
   ]
  },
  {
   "cell_type": "markdown",
   "metadata": {},
   "source": [
    "## 数据标准化"
   ]
  },
  {
   "cell_type": "code",
   "execution_count": 12,
   "metadata": {
    "collapsed": true
   },
   "outputs": [],
   "source": [
    "# 分别初始化对特征和目标值的标准化器\n",
    "ss_X = StandardScaler()\n",
    "ss_y = StandardScaler()\n",
    "\n",
    "# 分别对训练和测试数据的特征以及目标值进行标准化处理\n",
    "X_train_part = ss_X.fit_transform(X_train_part)\n",
    "X_val_part= ss_X.transform(X_val_part)\n",
    "test_X = ss_X.transform(test_X)\n",
    "\n",
    "if Y_Standard:\n",
    "    y_train_part = ss_y.fit_transform(y_train_part.reshape(-1, 1))\n",
    "    y_val_part = ss_y.transform(y_val_part.reshape(-1, 1))\n",
    "\n",
    "# 需要转换为一维数组 \n",
    "y_train_part_1d = y_train_part.reshape(y_train_part.shape[0])\n",
    "y_val_part_1d = y_val_part.reshape(y_val_part.shape[0])"
   ]
  },
  {
   "cell_type": "code",
   "execution_count": 8,
   "metadata": {
    "collapsed": true
   },
   "outputs": [],
   "source": [
    "# 标准化数据还原 \n",
    "def inverse_StandardScaler(predict):\n",
    "    if Y_Standard:\n",
    "        predict = ss_y.inverse_transform(predict)\n",
    "        print('predict = ', predict)\n",
    "    return predict\n",
    "\n",
    "#输出预测后的数据\n",
    "def generate_summit(predict):\n",
    "    testPredict = test.copy()\n",
    "    testPredict[target] = predict\n",
    "    testPredict = testPredict[[id,target]]\n",
    "    testPredict[target] = testPredict[target].apply(lambda x: x if x > 0 else 0)\n",
    "    return testPredict\n",
    "\n",
    "# def move_up(predict):\n",
    "#     # 预测值里面的最小值\n",
    "#     pred_min = np.min(predict)\n",
    "#     if pred_min < 0:\n",
    "#     #     如果是负数，则整体上移，效果不好 \n",
    "#         predict = predict - pred_min\n",
    "#     print('pred_min=%s'%pred_min)\n",
    "#     return predict"
   ]
  },
  {
   "cell_type": "markdown",
   "metadata": {},
   "source": [
    "## 模型训练\n",
    "### 1.正则化的线性回归（L1正则 --> Lasso）"
   ]
  },
  {
   "cell_type": "code",
   "execution_count": 32,
   "metadata": {},
   "outputs": [
    {
     "name": "stdout",
     "output_type": "stream",
     "text": [
      "Wall time: 584 ms\n"
     ]
    }
   ],
   "source": [
    "%%time\n",
    "#正则项系数\n",
    "# alphas = [0.1, 10, 100, 1000, 10000, 10000]\n",
    "alphas = [0.00000001, 0.00001, 0.0004, 0.0005,0.00051,0.00052,0.00053,0.00054,0.00055,0.0006, 0.001, 1]\n",
    "\n",
    "# Lasso 模型实例\n",
    "lasso = LassoCV(alphas=alphas)\n",
    "#进行模型训练\n",
    "lasso.fit(X_train_part, y_train_part_1d)"
   ]
  },
  {
   "cell_type": "code",
   "execution_count": 33,
   "metadata": {},
   "outputs": [
    {
     "name": "stdout",
     "output_type": "stream",
     "text": [
      "best alpha is: 0.0005\n"
     ]
    },
    {
     "data": {
      "image/png": "[encoded data removed]",
      "text/plain": [
       "<matplotlib.figure.Figure at 0x16d6e0f0>"
      ]
     },
     "metadata": {},
     "output_type": "display_data"
    }
   ],
   "source": [
    "## 3.1 Lasso 模型评价\n",
    "mses = np.mean(lasso.mse_path_, axis=1)\n",
    "\n",
    "#plt.plot(np.log10(alphas), mses)\n",
    "plt.plot(np.log10(lasso.alphas_), mses)\n",
    "# plt.show()  #绘制在一张图上，显示异常，暂时分开 \n",
    "\n",
    "plt.plot(np.log10(lasso.alpha_)*np.ones(3), [0.7, 0.9, 1.1])\n",
    "plt.xlabel('log(alpha)')\n",
    "plt.ylabel('mse')\n",
    "# plt.show() \n",
    "print ('best alpha is:', lasso.alpha_)\n",
    "# best alpha is: 10.5"
   ]
  },
  {
   "cell_type": "code",
   "execution_count": 34,
   "metadata": {},
   "outputs": [
    {
     "name": "stdout",
     "output_type": "stream",
     "text": [
      "The score: Train=0.029444136814204658  Val=0.018811488029750523\n",
      "The RMSE: Train=0.985167936539652  Val=1.4460100599107082\n"
     ]
    }
   ],
   "source": [
    "# 模型评估\n",
    "lassoScoreTrain = lasso.score(X_train_part, y_train_part)\n",
    "lassoScoreVal = lasso.score(X_val_part, y_val_part)\n",
    "print('The score: Train=%s  Val=%s'% (lassoScoreTrain, lassoScoreVal)) \n",
    "\n",
    "lasso_predict_train = lasso.predict(X_train_part)\n",
    "rmseTrain = mean_squared_error(y_train_part, lasso_predict_train) ** 0.5\n",
    "lasso_predict_val = lasso.predict(X_val_part)\n",
    "rmseVal = mean_squared_error(y_val_part, lasso_predict_val) ** 0.5\n",
    "print('The RMSE: Train=%s  Val=%s' % (rmseTrain, rmseVal))\n",
    "\n",
    "# The score: Train=0.6026498641616385  Val=0.8354317552131078\n",
    "# The RMSE: Train=0.6303571494306712  Val=0.5921995943739873"
   ]
  },
  {
   "cell_type": "code",
   "execution_count": 35,
   "metadata": {},
   "outputs": [
    {
     "name": "stdout",
     "output_type": "stream",
     "text": [
      "lasso_y_predict_test =  [ 0.00665733  0.00493644  0.00183505 ... -0.03143557 -0.00196485\n",
      " -0.00211317]\n",
      "predict =  [ 1.98895125  1.87989976  1.68336596 ... -0.42497637  1.4425684\n",
      "  1.43316945]\n"
     ]
    }
   ],
   "source": [
    "#对测试数据进行预测\n",
    "lasso_y_predict_test = lasso.predict(test_X)\n",
    "print('lasso_y_predict_test = ', lasso_y_predict_test)\n",
    "\n",
    "# 标准化数据还原 \n",
    "lasso_y_predict_test = inverse_StandardScaler(lasso_y_predict_test)\n",
    "# lasso_y_predict_test =  [0.4556051 0.4556051 0.4556051 ... 0.4556051 0.4556051 0.4556051]"
   ]
  },
  {
   "cell_type": "code",
   "execution_count": 36,
   "metadata": {},
   "outputs": [
    {
     "data": {
      "text/html": [
       "<div>\n",
       "<style>\n",
       "    .dataframe thead tr:only-child th {\n",
       "        text-align: right;\n",
       "    }\n",
       "\n",
       "    .dataframe thead th {\n",
       "        text-align: left;\n",
       "    }\n",
       "\n",
       "    .dataframe tbody tr th {\n",
       "        vertical-align: top;\n",
       "    }\n",
       "</style>\n",
       "<table border=\"1\" class=\"dataframe\">\n",
       "  <thead>\n",
       "    <tr style=\"text-align: right;\">\n",
       "      <th></th>\n",
       "      <th>user_id</th>\n",
       "      <th>prediction_pay_price</th>\n",
       "    </tr>\n",
       "  </thead>\n",
       "  <tbody>\n",
       "    <tr>\n",
       "      <th>0</th>\n",
       "      <td>14933</td>\n",
       "      <td>1.9890</td>\n",
       "    </tr>\n",
       "    <tr>\n",
       "      <th>1</th>\n",
       "      <td>14934</td>\n",
       "      <td>1.8799</td>\n",
       "    </tr>\n",
       "    <tr>\n",
       "      <th>2</th>\n",
       "      <td>14935</td>\n",
       "      <td>1.6834</td>\n",
       "    </tr>\n",
       "    <tr>\n",
       "      <th>3</th>\n",
       "      <td>14936</td>\n",
       "      <td>1.8447</td>\n",
       "    </tr>\n",
       "    <tr>\n",
       "      <th>4</th>\n",
       "      <td>14937</td>\n",
       "      <td>2.2409</td>\n",
       "    </tr>\n",
       "  </tbody>\n",
       "</table>\n",
       "</div>"
      ],
      "text/plain": [
       "   user_id  prediction_pay_price\n",
       "0    14933                1.9890\n",
       "1    14934                1.8799\n",
       "2    14935                1.6834\n",
       "3    14936                1.8447\n",
       "4    14937                2.2409"
      ]
     },
     "execution_count": 36,
     "metadata": {},
     "output_type": "execute_result"
    }
   ],
   "source": [
    "testPredict = generate_summit(lasso_y_predict_test)\n",
    "#输出预测后的数据\n",
    "testPredict.to_csv(out_name %(summit_path, 'lasso'), index=False)\n",
    "testPredict.head()"
   ]
  },
  {
   "cell_type": "markdown",
   "metadata": {},
   "source": [
    "## 2 正则化的线性回归（L2正则 --> 岭回归）"
   ]
  },
  {
   "cell_type": "code",
   "execution_count": 49,
   "metadata": {},
   "outputs": [
    {
     "name": "stdout",
     "output_type": "stream",
     "text": [
      "Wall time: 709 ms\n"
     ]
    }
   ],
   "source": [
    "%%time\n",
    "#正则项的参数\n",
    "# alphas = [0.01, 0.1, 1, 10, 100, 10000]\n",
    "alphas = [0.1, 100,1200,1290,1300,1310,1400, 10000, 100000]\n",
    "\n",
    "#创建岭回归模块实例\n",
    "ridge = RidgeCV(alphas=alphas, store_cv_values=True)\n",
    "#进行模型训练\n",
    "ridge.fit(X_train_part, y_train_part)"
   ]
  },
  {
   "cell_type": "code",
   "execution_count": 50,
   "metadata": {},
   "outputs": [
    {
     "name": "stdout",
     "output_type": "stream",
     "text": [
      "best alpha is: 1310.0\n"
     ]
    },
    {
     "data": {
      "image/png": "[encoded data removed]",
      "text/plain": [
       "<matplotlib.figure.Figure at 0x16a1f080>"
      ]
     },
     "metadata": {},
     "output_type": "display_data"
    }
   ],
   "source": [
    "### 2.1 岭回归模型评价\n",
    "mse_mean = np.mean(ridge.cv_values_, axis=0)\n",
    "\n",
    "#正则项参数取对数， mse_mean.reshape() 干什么的？拉平\n",
    "plt.plot(np.log10(alphas), mse_mean.reshape(len(alphas), 1))\n",
    "# 在最佳参数位置绘制竖线：注意第二个参数值要和 Y 坐标轴匹配\n",
    "plt.plot(np.log10(ridge.alpha_)*np.ones(3), [.8, .9, 1.1])\n",
    "# plt.show() #绘制在一张图上，显示异常，暂时分开 \n",
    "\n",
    "plt.xlabel('log(alpha)')\n",
    "plt.ylabel('mse')\n",
    "\n",
    "print('best alpha is:', ridge.alpha_)"
   ]
  },
  {
   "cell_type": "code",
   "execution_count": 51,
   "metadata": {},
   "outputs": [
    {
     "name": "stdout",
     "output_type": "stream",
     "text": [
      "The score: Train=0.029458404637585978  Val=0.018836919984246192\n",
      "The RMSE: Train=0.9851606951976993  Val=1.4459913198317655\n"
     ]
    }
   ],
   "source": [
    "# 模型评估\n",
    "ridgeScoreTrain = ridge.score(X_train_part, y_train_part)\n",
    "ridgeScoreVal = ridge.score(X_val_part, y_val_part)\n",
    "print('The score: Train=%s  Val=%s'% (ridgeScoreTrain, ridgeScoreVal)) \n",
    "\n",
    "ridge_predict_train = ridge.predict(X_train_part)\n",
    "rmseTrain = mean_squared_error(y_train_part, ridge_predict_train) ** 0.5\n",
    "ridge_predict_val = ridge.predict(X_val_part)\n",
    "rmseVal = mean_squared_error(y_val_part, ridge_predict_val) ** 0.5\n",
    "print('The RMSE: Train=%s  Val=%s' % (rmseTrain, rmseVal))\n",
    "\n",
    "#The score: Train=0.5949662293458398  Val=0.7221624627853553\n",
    "# The RMSE: Train=0.6364226352465477  Val=0.7694679714355298"
   ]
  },
  {
   "cell_type": "code",
   "execution_count": 52,
   "metadata": {
    "scrolled": true
   },
   "outputs": [
    {
     "name": "stdout",
     "output_type": "stream",
     "text": [
      "ridge_y_predict_test =  [[ 0.00739914]\n",
      " [ 0.00648584]\n",
      " [ 0.00177439]\n",
      " ...\n",
      " [-0.04709092]\n",
      " [-0.00033277]\n",
      " [-0.00055999]]\n",
      "predict =  [[ 2.03595939]\n",
      " [ 1.97808435]\n",
      " [ 1.679522  ]\n",
      " ...\n",
      " [-1.4170482 ]\n",
      " [ 1.54599228]\n",
      " [ 1.53159362]]\n"
     ]
    }
   ],
   "source": [
    "#对测试数据进行预测\n",
    "ridge_y_predict_test = ridge.predict(test_X)\n",
    "print('ridge_y_predict_test = ', ridge_y_predict_test)\n",
    "\n",
    "# 标准化数据还原 \n",
    "ridge_y_predict_test = inverse_StandardScaler(ridge_y_predict_test)"
   ]
  },
  {
   "cell_type": "code",
   "execution_count": 53,
   "metadata": {},
   "outputs": [
    {
     "data": {
      "text/html": [
       "<div>\n",
       "<style>\n",
       "    .dataframe thead tr:only-child th {\n",
       "        text-align: right;\n",
       "    }\n",
       "\n",
       "    .dataframe thead th {\n",
       "        text-align: left;\n",
       "    }\n",
       "\n",
       "    .dataframe tbody tr th {\n",
       "        vertical-align: top;\n",
       "    }\n",
       "</style>\n",
       "<table border=\"1\" class=\"dataframe\">\n",
       "  <thead>\n",
       "    <tr style=\"text-align: right;\">\n",
       "      <th></th>\n",
       "      <th>user_id</th>\n",
       "      <th>prediction_pay_price</th>\n",
       "    </tr>\n",
       "  </thead>\n",
       "  <tbody>\n",
       "    <tr>\n",
       "      <th>0</th>\n",
       "      <td>14933</td>\n",
       "      <td>2.0360</td>\n",
       "    </tr>\n",
       "    <tr>\n",
       "      <th>1</th>\n",
       "      <td>14934</td>\n",
       "      <td>1.9781</td>\n",
       "    </tr>\n",
       "    <tr>\n",
       "      <th>2</th>\n",
       "      <td>14935</td>\n",
       "      <td>1.6795</td>\n",
       "    </tr>\n",
       "    <tr>\n",
       "      <th>3</th>\n",
       "      <td>14936</td>\n",
       "      <td>2.0127</td>\n",
       "    </tr>\n",
       "    <tr>\n",
       "      <th>4</th>\n",
       "      <td>14937</td>\n",
       "      <td>2.2729</td>\n",
       "    </tr>\n",
       "  </tbody>\n",
       "</table>\n",
       "</div>"
      ],
      "text/plain": [
       "   user_id  prediction_pay_price\n",
       "0    14933                2.0360\n",
       "1    14934                1.9781\n",
       "2    14935                1.6795\n",
       "3    14936                2.0127\n",
       "4    14937                2.2729"
      ]
     },
     "execution_count": 53,
     "metadata": {},
     "output_type": "execute_result"
    }
   ],
   "source": [
    "# ridge_y_predict_test = move_up(ridge_y_predict_test)\n",
    "#输出预测后的数据\n",
    "testPredict = generate_summit(ridge_y_predict_test)\n",
    "#输出预测后的数据\n",
    "testPredict.to_csv(out_name %(summit_path, 'RidgeCV'), index=False)\n",
    "testPredict.head()"
   ]
  },
  {
   "cell_type": "markdown",
   "metadata": {},
   "source": [
    "### 3. 正则化的线性回归 ElasticNetCV "
   ]
  },
  {
   "cell_type": "code",
   "execution_count": 63,
   "metadata": {},
   "outputs": [
    {
     "name": "stderr",
     "output_type": "stream",
     "text": [
      "d:\\ProgramData\\Anaconda3\\lib\\site-packages\\sklearn\\linear_model\\coordinate_descent.py:491: ConvergenceWarning: Objective did not converge. You might want to increase the number of iterations. Fitting data with very small alpha may cause precision problems.\n",
      "  ConvergenceWarning)\n"
     ]
    },
    {
     "name": "stdout",
     "output_type": "stream",
     "text": [
      "Wall time: 14.7 s\n"
     ]
    }
   ],
   "source": [
    "%%time\n",
    "# l1_ratio = [.1, .2, .3, .4, .5, .6, .7, .8, .9]\n",
    "l1_ratio = [.1, .5, .7, .9, .95, .99, 1]\n",
    "# Lasso 模型实例\n",
    "elastic_net = ElasticNetCV(l1_ratio=l1_ratio, eps=0.001, n_jobs=-1)\n",
    "\n",
    "#进行模型训练\n",
    "y_train_part_1d = y_train_part.reshape(y_train_part.shape[0])\n",
    "elastic_net.fit(X_train_part, y_train_part_1d)"
   ]
  },
  {
   "cell_type": "code",
   "execution_count": 65,
   "metadata": {},
   "outputs": [
    {
     "name": "stdout",
     "output_type": "stream",
     "text": [
      "best alpha is:0.06755166083756958  l1_ratio_:1.0\n"
     ]
    },
    {
     "data": {
      "image/png": "[encoded data removed]",
      "text/plain": [
       "<matplotlib.figure.Figure at 0x12da5550>"
      ]
     },
     "metadata": {},
     "output_type": "display_data"
    }
   ],
   "source": [
    "## 3.1 Lasso 模型评价\n",
    "mses = np.mean(elastic_net.mse_path_, axis=1)\n",
    "\n",
    "#plt.plot(np.log10(alphas), mses)\n",
    "plt.plot(np.log10(elastic_net.alphas_), mses)\n",
    "# plt.show()  #绘制在一张图上，显示异常，暂时分开 \n",
    "\n",
    "plt.plot(np.log10(elastic_net.alpha_)*np.ones(3), [0.1, 0.5, .9])\n",
    "plt.xlabel('log(alpha)')\n",
    "plt.ylabel('mse')\n",
    "# plt.show() \n",
    "\n",
    "print ('best alpha is:%s  l1_ratio_:%s' % (elastic_net.alpha_, elastic_net.l1_ratio_))\n",
    "# best alpha is:1.853019181787895  l1_ratio_:0.1"
   ]
  },
  {
   "cell_type": "code",
   "execution_count": 66,
   "metadata": {},
   "outputs": [
    {
     "name": "stdout",
     "output_type": "stream",
     "text": [
      "The score of ElasticNet: Train=0.6252723535546627  Val=0.7812344063379026\n",
      "The RMSE: Train=0.6121500195583901  Val=0.682785982774603\n"
     ]
    }
   ],
   "source": [
    "# 模型评估\n",
    "elastic_netScoreTrain = elastic_net.score(X_train_part, y_train_part)\n",
    "elastic_netScoreVal = elastic_net.score(X_val_part, y_val_part)\n",
    "print('The score of ElasticNet: Train=%s  Val=%s'% (elastic_netScoreTrain, elastic_netScoreVal)) \n",
    "\n",
    "elastic_net_predict_train = elastic_net.predict(X_train_part)\n",
    "rmseTrain = mean_squared_error(y_train_part, elastic_net_predict_train) ** 0.5\n",
    "elastic_net_predict_val = elastic_net.predict(X_val_part)\n",
    "rmseVal = mean_squared_error(y_val_part, elastic_net_predict_val) ** 0.5\n",
    "print('The RMSE: Train=%s  Val=%s' % (rmseTrain, rmseVal))\n",
    "\n",
    "# The score of ElasticNet: Train=0.5933701157431497  Val=0.6918598273465699\n",
    "# The RMSE: Train=40.40916662890711  Val=51.351069750253906"
   ]
  },
  {
   "cell_type": "code",
   "execution_count": 67,
   "metadata": {},
   "outputs": [
    {
     "name": "stdout",
     "output_type": "stream",
     "text": [
      "elastic_net_predict_test =  [-0.02091785 -0.0221065  -0.0221065  ... -0.02134954 -0.0221065\n",
      " -0.0221065 ]\n",
      "predict =  [0.24152607 0.16620206 0.16620206 ... 0.21417011 0.16620206 0.16620206]\n"
     ]
    }
   ],
   "source": [
    "#对测试数据进行预测\n",
    "elastic_net_predict_test = elastic_net.predict(test_X)\n",
    "print('elastic_net_predict_test = ', elastic_net_predict_test)\n",
    "\n",
    "# 标准化数据还原 \n",
    "elastic_net_predict_test = inverse_StandardScaler(elastic_net_predict_test)"
   ]
  },
  {
   "cell_type": "code",
   "execution_count": 68,
   "metadata": {},
   "outputs": [
    {
     "data": {
      "text/html": [
       "<div>\n",
       "<style>\n",
       "    .dataframe thead tr:only-child th {\n",
       "        text-align: right;\n",
       "    }\n",
       "\n",
       "    .dataframe thead th {\n",
       "        text-align: left;\n",
       "    }\n",
       "\n",
       "    .dataframe tbody tr th {\n",
       "        vertical-align: top;\n",
       "    }\n",
       "</style>\n",
       "<table border=\"1\" class=\"dataframe\">\n",
       "  <thead>\n",
       "    <tr style=\"text-align: right;\">\n",
       "      <th></th>\n",
       "      <th>user_id</th>\n",
       "      <th>prediction_pay_price</th>\n",
       "    </tr>\n",
       "  </thead>\n",
       "  <tbody>\n",
       "    <tr>\n",
       "      <th>0</th>\n",
       "      <td>14933</td>\n",
       "      <td>0.2415</td>\n",
       "    </tr>\n",
       "    <tr>\n",
       "      <th>1</th>\n",
       "      <td>14934</td>\n",
       "      <td>0.1662</td>\n",
       "    </tr>\n",
       "    <tr>\n",
       "      <th>2</th>\n",
       "      <td>14935</td>\n",
       "      <td>0.1662</td>\n",
       "    </tr>\n",
       "    <tr>\n",
       "      <th>3</th>\n",
       "      <td>14936</td>\n",
       "      <td>0.1662</td>\n",
       "    </tr>\n",
       "    <tr>\n",
       "      <th>4</th>\n",
       "      <td>14937</td>\n",
       "      <td>0.1662</td>\n",
       "    </tr>\n",
       "  </tbody>\n",
       "</table>\n",
       "</div>"
      ],
      "text/plain": [
       "   user_id  prediction_pay_price\n",
       "0    14933                0.2415\n",
       "1    14934                0.1662\n",
       "2    14935                0.1662\n",
       "3    14936                0.1662\n",
       "4    14937                0.1662"
      ]
     },
     "execution_count": 68,
     "metadata": {},
     "output_type": "execute_result"
    }
   ],
   "source": [
    "testPredict = generate_summit(elastic_net_predict_test)\n",
    "#输出预测后的数据\n",
    "testPredict.to_csv(out_name %(summit_path, 'ElasticNetCV'), index=False)\n",
    "testPredict.head()"
   ]
  },
  {
   "cell_type": "code",
   "execution_count": null,
   "metadata": {
    "collapsed": true
   },
   "outputs": [],
   "source": []
  }
 ],
 "metadata": {
  "kernelspec": {
   "display_name": "Python 3",
   "language": "python",
   "name": "python3"
  },
  "language_info": {
   "codemirror_mode": {
    "name": "ipython",
    "version": 3
   },
   "file_extension": ".py",
   "mimetype": "text/x-python",
   "name": "python",
   "nbconvert_exporter": "python",
   "pygments_lexer": "ipython3",
   "version": "3.6.3"
  }
 },
 "nbformat": 4,
 "nbformat_minor": 2
}
