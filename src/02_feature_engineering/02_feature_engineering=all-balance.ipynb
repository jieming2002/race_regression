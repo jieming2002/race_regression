{
 "cells": [
  {
   "cell_type": "markdown",
   "metadata": {},
   "source": [
    "# 特征工程全部数据-平衡\n",
    "付费数据+等量免费数据"
   ]
  },
  {
   "cell_type": "code",
   "execution_count": 1,
   "metadata": {
    "collapsed": true
   },
   "outputs": [],
   "source": [
    "from sklearn.model_selection import train_test_split\n",
    "import pandas as pd\n",
    "import numpy as np\n",
    "\n",
    "import matplotlib.pyplot as plt\n",
    "import seaborn as sns\n",
    "%matplotlib inline"
   ]
  },
  {
   "cell_type": "code",
   "execution_count": 2,
   "metadata": {
    "collapsed": true
   },
   "outputs": [],
   "source": [
    "path_raw = '../../data/new/train=all/'\n",
    "path_train = '../../data/new/train=all-balance/'\n",
    "path_test = '../../data/new/test/'\n",
    "time_col = 'register_time'\n",
    "\n",
    "target = 'prediction_pay_price'\n",
    "user_id = 'user_id'"
   ]
  },
  {
   "cell_type": "markdown",
   "metadata": {},
   "source": [
    "## 指定读取数据类型，节省内存"
   ]
  },
  {
   "cell_type": "code",
   "execution_count": 3,
   "metadata": {
    "collapsed": true
   },
   "outputs": [],
   "source": [
    "col_int32 = ['user_id', 'register_time', 'wood_add_value', 'wood_reduce_value',\n",
    "       'stone_add_value', 'stone_reduce_value', 'ivory_add_value',\n",
    "       'ivory_reduce_value', 'meat_add_value', 'meat_reduce_value',\n",
    "       'magic_add_value', 'magic_reduce_value', 'infantry_add_value',\n",
    "       'infantry_reduce_value', 'cavalry_add_value', 'cavalry_reduce_value',\n",
    "       'shaman_add_value', 'shaman_reduce_value', 'wound_infantry_add_value',\n",
    "       'wound_infantry_reduce_value', 'wound_cavalry_add_value',\n",
    "       'wound_cavalry_reduce_value', 'wound_shaman_add_value',\n",
    "       'wound_shaman_reduce_value', 'general_acceleration_add_value',\n",
    "       'general_acceleration_reduce_value', 'building_acceleration_add_value',\n",
    "       'building_acceleration_reduce_value', 'reaserch_acceleration_add_value',\n",
    "       'reaserch_acceleration_reduce_value', 'training_acceleration_add_value',\n",
    "       'training_acceleration_reduce_value', 'treatment_acceleraion_add_value',\n",
    "       'treatment_acceleration_reduce_value', 'bd_training_hut_level',\n",
    "       'bd_healing_lodge_level', 'bd_stronghold_level',\n",
    "       'bd_outpost_portal_level', 'bd_barrack_level',\n",
    "       'bd_healing_spring_level', 'bd_dolmen_level', 'bd_guest_cavern_level',\n",
    "       'bd_warehouse_level', 'bd_watchtower_level', 'bd_magic_coin_tree_level',\n",
    "       'bd_hall_of_war_level', 'bd_market_level', 'bd_hero_gacha_level',\n",
    "       'bd_hero_strengthen_level', 'bd_hero_pve_level', 'sr_scout_level', \n",
    "       'sr_training_speed_level', 'sr_infantry_tier_2_level',\n",
    "       'sr_cavalry_tier_2_level', 'sr_shaman_tier_2_level',\n",
    "       'sr_infantry_atk_level', 'sr_cavalry_atk_level', 'sr_shaman_atk_level',\n",
    "       'sr_infantry_tier_3_level', 'sr_cavalry_tier_3_level',\n",
    "       'sr_shaman_tier_3_level', 'sr_troop_defense_level',\n",
    "       'sr_infantry_def_level', 'sr_cavalry_def_level', 'sr_shaman_def_level',\n",
    "       'sr_infantry_hp_level', 'sr_cavalry_hp_level', 'sr_shaman_hp_level',\n",
    "       'sr_infantry_tier_4_level', 'sr_cavalry_tier_4_level',\n",
    "       'sr_shaman_tier_4_level', 'sr_troop_attack_level',\n",
    "       'sr_construction_speed_level', 'sr_hide_storage_level',\n",
    "       'sr_troop_consumption_level', 'sr_rss_a_prod_levell',\n",
    "       'sr_rss_b_prod_level', 'sr_rss_c_prod_level', 'sr_rss_d_prod_level',\n",
    "       'sr_rss_a_gather_level', 'sr_rss_b_gather_level',\n",
    "       'sr_rss_c_gather_level', 'sr_rss_d_gather_level', 'sr_troop_load_level',\n",
    "       'sr_rss_e_gather_level', 'sr_rss_e_prod_level',\n",
    "       'sr_outpost_durability_level', 'sr_outpost_tier_2_level',\n",
    "       'sr_healing_space_level', 'sr_gathering_hunter_buff_level',\n",
    "       'sr_healing_speed_level', 'sr_outpost_tier_3_level',\n",
    "       'sr_alliance_march_speed_level', 'sr_pvp_march_speed_level',\n",
    "       'sr_gathering_march_speed_level', 'sr_outpost_tier_4_level',\n",
    "       'sr_guest_troop_capacity_level', 'sr_march_size_level',\n",
    "       'sr_rss_help_bonus_level', 'pvp_battle_count', 'pvp_lanch_count',\n",
    "       'pvp_win_count', 'pve_battle_count', 'pve_lanch_count', 'pve_win_count',\n",
    "       'pay_count']\n",
    "col_float32 = ['avg_online_minutes', 'pay_price']"
   ]
  },
  {
   "cell_type": "code",
   "execution_count": 4,
   "metadata": {
    "collapsed": true
   },
   "outputs": [],
   "source": [
    "# 指定读取数据类型，节省内存\n",
    "dtype_test = {}\n",
    "for col in col_int32:\n",
    "    dtype_test[col] = np.int32\n",
    "for col in col_float32:\n",
    "    dtype_test[col] = np.float32\n",
    "# dtype_test"
   ]
  },
  {
   "cell_type": "code",
   "execution_count": 5,
   "metadata": {
    "collapsed": true
   },
   "outputs": [],
   "source": [
    "dtype_train = dtype_test.copy()\n",
    "dtype_train[target] = np.float32\n",
    "# dtype_train"
   ]
  },
  {
   "cell_type": "code",
   "execution_count": 6,
   "metadata": {},
   "outputs": [
    {
     "data": {
      "text/html": [
       "<div>\n",
       "<style>\n",
       "    .dataframe thead tr:only-child th {\n",
       "        text-align: right;\n",
       "    }\n",
       "\n",
       "    .dataframe thead th {\n",
       "        text-align: left;\n",
       "    }\n",
       "\n",
       "    .dataframe tbody tr th {\n",
       "        vertical-align: top;\n",
       "    }\n",
       "</style>\n",
       "<table border=\"1\" class=\"dataframe\">\n",
       "  <thead>\n",
       "    <tr style=\"text-align: right;\">\n",
       "      <th></th>\n",
       "      <th>user_id</th>\n",
       "      <th>register_time</th>\n",
       "      <th>wood_add_value</th>\n",
       "      <th>wood_reduce_value</th>\n",
       "      <th>stone_add_value</th>\n",
       "      <th>stone_reduce_value</th>\n",
       "      <th>ivory_add_value</th>\n",
       "      <th>ivory_reduce_value</th>\n",
       "      <th>meat_add_value</th>\n",
       "      <th>meat_reduce_value</th>\n",
       "      <th>...</th>\n",
       "      <th>pvp_battle_count</th>\n",
       "      <th>pvp_lanch_count</th>\n",
       "      <th>pvp_win_count</th>\n",
       "      <th>pve_battle_count</th>\n",
       "      <th>pve_lanch_count</th>\n",
       "      <th>pve_win_count</th>\n",
       "      <th>avg_online_minutes</th>\n",
       "      <th>pay_price</th>\n",
       "      <th>pay_count</th>\n",
       "      <th>prediction_pay_price</th>\n",
       "    </tr>\n",
       "  </thead>\n",
       "  <tbody>\n",
       "    <tr>\n",
       "      <th>0</th>\n",
       "      <td>1</td>\n",
       "      <td>128</td>\n",
       "      <td>20125</td>\n",
       "      <td>3700</td>\n",
       "      <td>0</td>\n",
       "      <td>0</td>\n",
       "      <td>0</td>\n",
       "      <td>0</td>\n",
       "      <td>16375</td>\n",
       "      <td>2000</td>\n",
       "      <td>...</td>\n",
       "      <td>0</td>\n",
       "      <td>0</td>\n",
       "      <td>0</td>\n",
       "      <td>0</td>\n",
       "      <td>0</td>\n",
       "      <td>0</td>\n",
       "      <td>0.333333</td>\n",
       "      <td>0.0</td>\n",
       "      <td>0</td>\n",
       "      <td>0.0</td>\n",
       "    </tr>\n",
       "    <tr>\n",
       "      <th>1</th>\n",
       "      <td>1593</td>\n",
       "      <td>136</td>\n",
       "      <td>0</td>\n",
       "      <td>0</td>\n",
       "      <td>0</td>\n",
       "      <td>0</td>\n",
       "      <td>0</td>\n",
       "      <td>0</td>\n",
       "      <td>0</td>\n",
       "      <td>0</td>\n",
       "      <td>...</td>\n",
       "      <td>0</td>\n",
       "      <td>0</td>\n",
       "      <td>0</td>\n",
       "      <td>0</td>\n",
       "      <td>0</td>\n",
       "      <td>0</td>\n",
       "      <td>0.333333</td>\n",
       "      <td>0.0</td>\n",
       "      <td>0</td>\n",
       "      <td>0.0</td>\n",
       "    </tr>\n",
       "    <tr>\n",
       "      <th>2</th>\n",
       "      <td>1594</td>\n",
       "      <td>136</td>\n",
       "      <td>0</td>\n",
       "      <td>0</td>\n",
       "      <td>0</td>\n",
       "      <td>0</td>\n",
       "      <td>0</td>\n",
       "      <td>0</td>\n",
       "      <td>0</td>\n",
       "      <td>0</td>\n",
       "      <td>...</td>\n",
       "      <td>0</td>\n",
       "      <td>0</td>\n",
       "      <td>0</td>\n",
       "      <td>0</td>\n",
       "      <td>0</td>\n",
       "      <td>0</td>\n",
       "      <td>1.166667</td>\n",
       "      <td>0.0</td>\n",
       "      <td>0</td>\n",
       "      <td>0.0</td>\n",
       "    </tr>\n",
       "    <tr>\n",
       "      <th>3</th>\n",
       "      <td>1595</td>\n",
       "      <td>136</td>\n",
       "      <td>0</td>\n",
       "      <td>0</td>\n",
       "      <td>0</td>\n",
       "      <td>0</td>\n",
       "      <td>0</td>\n",
       "      <td>0</td>\n",
       "      <td>0</td>\n",
       "      <td>0</td>\n",
       "      <td>...</td>\n",
       "      <td>0</td>\n",
       "      <td>0</td>\n",
       "      <td>0</td>\n",
       "      <td>0</td>\n",
       "      <td>0</td>\n",
       "      <td>0</td>\n",
       "      <td>3.166667</td>\n",
       "      <td>0.0</td>\n",
       "      <td>0</td>\n",
       "      <td>0.0</td>\n",
       "    </tr>\n",
       "    <tr>\n",
       "      <th>4</th>\n",
       "      <td>1596</td>\n",
       "      <td>136</td>\n",
       "      <td>0</td>\n",
       "      <td>0</td>\n",
       "      <td>0</td>\n",
       "      <td>0</td>\n",
       "      <td>0</td>\n",
       "      <td>0</td>\n",
       "      <td>0</td>\n",
       "      <td>0</td>\n",
       "      <td>...</td>\n",
       "      <td>0</td>\n",
       "      <td>0</td>\n",
       "      <td>0</td>\n",
       "      <td>0</td>\n",
       "      <td>0</td>\n",
       "      <td>0</td>\n",
       "      <td>2.333333</td>\n",
       "      <td>0.0</td>\n",
       "      <td>0</td>\n",
       "      <td>0.0</td>\n",
       "    </tr>\n",
       "  </tbody>\n",
       "</table>\n",
       "<p>5 rows × 109 columns</p>\n",
       "</div>"
      ],
      "text/plain": [
       "   user_id  register_time  wood_add_value  wood_reduce_value  stone_add_value  \\\n",
       "0        1            128           20125               3700                0   \n",
       "1     1593            136               0                  0                0   \n",
       "2     1594            136               0                  0                0   \n",
       "3     1595            136               0                  0                0   \n",
       "4     1596            136               0                  0                0   \n",
       "\n",
       "   stone_reduce_value  ivory_add_value  ivory_reduce_value  meat_add_value  \\\n",
       "0                   0                0                   0           16375   \n",
       "1                   0                0                   0               0   \n",
       "2                   0                0                   0               0   \n",
       "3                   0                0                   0               0   \n",
       "4                   0                0                   0               0   \n",
       "\n",
       "   meat_reduce_value          ...           pvp_battle_count  pvp_lanch_count  \\\n",
       "0               2000          ...                          0                0   \n",
       "1                  0          ...                          0                0   \n",
       "2                  0          ...                          0                0   \n",
       "3                  0          ...                          0                0   \n",
       "4                  0          ...                          0                0   \n",
       "\n",
       "   pvp_win_count  pve_battle_count  pve_lanch_count  pve_win_count  \\\n",
       "0              0                 0                0              0   \n",
       "1              0                 0                0              0   \n",
       "2              0                 0                0              0   \n",
       "3              0                 0                0              0   \n",
       "4              0                 0                0              0   \n",
       "\n",
       "   avg_online_minutes  pay_price  pay_count  prediction_pay_price  \n",
       "0            0.333333        0.0          0                   0.0  \n",
       "1            0.333333        0.0          0                   0.0  \n",
       "2            1.166667        0.0          0                   0.0  \n",
       "3            3.166667        0.0          0                   0.0  \n",
       "4            2.333333        0.0          0                   0.0  \n",
       "\n",
       "[5 rows x 109 columns]"
      ]
     },
     "execution_count": 6,
     "metadata": {},
     "output_type": "execute_result"
    }
   ],
   "source": [
    "train = pd.read_csv(path_raw + 'train=fe.csv', dtype=dtype_train)\n",
    "train.head()"
   ]
  },
  {
   "cell_type": "code",
   "execution_count": 7,
   "metadata": {},
   "outputs": [
    {
     "name": "stdout",
     "output_type": "stream",
     "text": [
      "<class 'pandas.core.frame.DataFrame'>\n",
      "RangeIndex: 2288007 entries, 0 to 2288006\n",
      "Columns: 109 entries, user_id to prediction_pay_price\n",
      "dtypes: float32(3), int32(106)\n",
      "memory usage: 951.4 MB\n"
     ]
    }
   ],
   "source": [
    "train.info()"
   ]
  },
  {
   "cell_type": "markdown",
   "metadata": {},
   "source": [
    "## 去掉不付费的记录，只保留付费记录"
   ]
  },
  {
   "cell_type": "code",
   "execution_count": 8,
   "metadata": {
    "collapsed": true
   },
   "outputs": [],
   "source": [
    "def get_only_pay(df, pay_col):\n",
    "    ''' 只保留付费记录 pay_col 付费字段'''\n",
    "    df_pay = df.loc[df[pay_col] > 0]\n",
    "    df_nopay = df.loc[df[pay_col] == 0]\n",
    "    return df_pay, df_nopay"
   ]
  },
  {
   "cell_type": "code",
   "execution_count": 9,
   "metadata": {},
   "outputs": [
    {
     "name": "stdout",
     "output_type": "stream",
     "text": [
      "(2288007, 109)\n",
      "(41439, 109)\n"
     ]
    }
   ],
   "source": [
    "# 按 7 天付费记录拆分 \n",
    "train_pay, _ = get_only_pay(train, 'pay_price')\n",
    "print(train.shape)\n",
    "print(train_pay.shape)"
   ]
  },
  {
   "cell_type": "code",
   "execution_count": 10,
   "metadata": {},
   "outputs": [
    {
     "name": "stdout",
     "output_type": "stream",
     "text": [
      "(2288007, 109)\n",
      "(45988, 109)\n",
      "(2242019, 109)\n",
      "2288007\n"
     ]
    }
   ],
   "source": [
    "# # 按 45 天付费记录拆分 \n",
    "train_pay, train_nopay = get_only_pay(train, target)\n",
    "print(train.shape)\n",
    "print(train_pay.shape)\n",
    "print(train_nopay.shape)\n",
    "print(train_nopay.shape[0]+train_pay.shape[0])\n",
    "# 45 天付费的玩家数量 > 7 天付费的"
   ]
  },
  {
   "cell_type": "code",
   "execution_count": 11,
   "metadata": {},
   "outputs": [
    {
     "name": "stdout",
     "output_type": "stream",
     "text": [
      "<class 'pandas.core.frame.DataFrame'>\n",
      "Int64Index: 2242019 entries, 0 to 2288006\n",
      "Columns: 109 entries, user_id to prediction_pay_price\n",
      "dtypes: float32(3), int32(106)\n",
      "memory usage: 949.3 MB\n"
     ]
    }
   ],
   "source": [
    "# 只保留付费记录\n",
    "train_pay.to_csv(path_train + 'train-pay.csv', index=False)\n",
    "# 不付费的记录 \n",
    "train_nopay.to_csv(path_train + 'train-nopay.csv', index=False)\n",
    "train_nopay.info()"
   ]
  },
  {
   "cell_type": "markdown",
   "metadata": {},
   "source": [
    "## 不付费记录拆分为 50 份，合并付费记录"
   ]
  },
  {
   "cell_type": "code",
   "execution_count": 11,
   "metadata": {
    "collapsed": true,
    "scrolled": true
   },
   "outputs": [],
   "source": [
    "def make_balance(df, start, end):\n",
    "    for i in range(start, end, -1):\n",
    "        print(i)\n",
    "        test_size = 1 / i\n",
    "    #     print(test_size)\n",
    "        df, part1 = train_test_split(df, random_state=44, test_size=test_size)\n",
    "        part1 = pd.concat([part1, train_pay])\n",
    "        part1.to_csv(path_train + 'train=balance-%s.csv' % i, index=False)\n",
    "        print('train_nopay.shape=%s df.shape=%s part1.shape=%s'\n",
    "          %(df.shape, df.shape, part1.shape))\n",
    "        if i == 2:\n",
    "            df = pd.concat([df, train_pay])\n",
    "            df.to_csv(path_train + 'train=balance-%s.csv' % 1, index=False)\n",
    "    return df"
   ]
  },
  {
   "cell_type": "code",
   "execution_count": 13,
   "metadata": {
    "scrolled": true
   },
   "outputs": [
    {
     "name": "stdout",
     "output_type": "stream",
     "text": [
      "15\n",
      "train_nopay.shape=(627760, 109) df.shape=(627760, 109) part1.shape=(90828, 109)\n",
      "14\n",
      "train_nopay.shape=(582920, 109) df.shape=(582920, 109) part1.shape=(90828, 109)\n",
      "13\n",
      "train_nopay.shape=(538080, 109) df.shape=(538080, 109) part1.shape=(90828, 109)\n",
      "12\n",
      "train_nopay.shape=(493240, 109) df.shape=(493240, 109) part1.shape=(90828, 109)\n",
      "11\n",
      "train_nopay.shape=(448400, 109) df.shape=(448400, 109) part1.shape=(90828, 109)\n",
      "10\n",
      "train_nopay.shape=(403560, 109) df.shape=(403560, 109) part1.shape=(90828, 109)\n",
      "9\n",
      "train_nopay.shape=(358720, 109) df.shape=(358720, 109) part1.shape=(90828, 109)\n",
      "8\n",
      "train_nopay.shape=(313880, 109) df.shape=(313880, 109) part1.shape=(90828, 109)\n",
      "7\n",
      "train_nopay.shape=(269040, 109) df.shape=(269040, 109) part1.shape=(90828, 109)\n",
      "6\n",
      "train_nopay.shape=(224200, 109) df.shape=(224200, 109) part1.shape=(90828, 109)\n",
      "5\n",
      "train_nopay.shape=(179360, 109) df.shape=(179360, 109) part1.shape=(90828, 109)\n",
      "4\n",
      "train_nopay.shape=(134520, 109) df.shape=(134520, 109) part1.shape=(90828, 109)\n",
      "3\n",
      "train_nopay.shape=(89680, 109) df.shape=(89680, 109) part1.shape=(90828, 109)\n",
      "2\n",
      "train_nopay.shape=(44840, 109) df.shape=(44840, 109) part1.shape=(90828, 109)\n"
     ]
    }
   ],
   "source": [
    "# train_pay = pd.read_csv(path_train + 'train-pay.csv', dtype=dtype_train)\n",
    "# train_nopay = pd.read_csv(path_train + 'train-nopay.csv', dtype=dtype_train)\n",
    "# part2345 = pd.read_csv(path_train + 'train=balance-%s.csv' % 'mid15', dtype=dtype_train)\n",
    "\n",
    "# part2345 = make_balance(train_nopay, 50, 49)\n",
    "# part2345 = make_balance(part2345, 49, 43)\n",
    "# part2345.to_csv(path_train + 'train=balance-%s.csv' % 'mid43', index=False)\n",
    "# part2345 = make_balance(part2345, 43, 35)\n",
    "# part2345 = make_balance(part2345, 35, 31)\n",
    "# part2345 = make_balance(part2345, 31, 25)\n",
    "# part2345 = make_balance(part2345, 25, 21)\n",
    "# part2345 = make_balance(part2345, 21, 15)\n",
    "# part2345.to_csv(path_train + 'train=balance-%s.csv' % 'mid15', index=False)\n",
    "part2345 = make_balance(part2345, 15, 1)\n",
    "\n",
    "# 40\n",
    "# train_nopay.shape=(2242019, 109) part2345.shape=(1838450, 109) part1.shape=(90829, 109)"
   ]
  },
  {
   "cell_type": "markdown",
   "metadata": {},
   "source": [
    "## 拆分为 5 份，随机抽样"
   ]
  },
  {
   "cell_type": "code",
   "execution_count": 6,
   "metadata": {},
   "outputs": [
    {
     "data": {
      "text/html": [
       "<div>\n",
       "<style>\n",
       "    .dataframe thead tr:only-child th {\n",
       "        text-align: right;\n",
       "    }\n",
       "\n",
       "    .dataframe thead th {\n",
       "        text-align: left;\n",
       "    }\n",
       "\n",
       "    .dataframe tbody tr th {\n",
       "        vertical-align: top;\n",
       "    }\n",
       "</style>\n",
       "<table border=\"1\" class=\"dataframe\">\n",
       "  <thead>\n",
       "    <tr style=\"text-align: right;\">\n",
       "      <th></th>\n",
       "      <th>user_id</th>\n",
       "      <th>register_time</th>\n",
       "      <th>wood_add_value</th>\n",
       "      <th>wood_reduce_value</th>\n",
       "      <th>stone_add_value</th>\n",
       "      <th>stone_reduce_value</th>\n",
       "      <th>ivory_add_value</th>\n",
       "      <th>ivory_reduce_value</th>\n",
       "      <th>meat_add_value</th>\n",
       "      <th>meat_reduce_value</th>\n",
       "      <th>...</th>\n",
       "      <th>pvp_battle_count</th>\n",
       "      <th>pvp_lanch_count</th>\n",
       "      <th>pvp_win_count</th>\n",
       "      <th>pve_battle_count</th>\n",
       "      <th>pve_lanch_count</th>\n",
       "      <th>pve_win_count</th>\n",
       "      <th>avg_online_minutes</th>\n",
       "      <th>pay_price</th>\n",
       "      <th>pay_count</th>\n",
       "      <th>prediction_pay_price</th>\n",
       "    </tr>\n",
       "  </thead>\n",
       "  <tbody>\n",
       "    <tr>\n",
       "      <th>0</th>\n",
       "      <td>1617</td>\n",
       "      <td>136</td>\n",
       "      <td>30000</td>\n",
       "      <td>97200</td>\n",
       "      <td>20000</td>\n",
       "      <td>0</td>\n",
       "      <td>0</td>\n",
       "      <td>0</td>\n",
       "      <td>160500</td>\n",
       "      <td>80392</td>\n",
       "      <td>...</td>\n",
       "      <td>0</td>\n",
       "      <td>0</td>\n",
       "      <td>0</td>\n",
       "      <td>0</td>\n",
       "      <td>0</td>\n",
       "      <td>0</td>\n",
       "      <td>44.666668</td>\n",
       "      <td>0.99</td>\n",
       "      <td>1</td>\n",
       "      <td>0.99</td>\n",
       "    </tr>\n",
       "    <tr>\n",
       "      <th>1</th>\n",
       "      <td>1632</td>\n",
       "      <td>136</td>\n",
       "      <td>1111744</td>\n",
       "      <td>1137687</td>\n",
       "      <td>491331</td>\n",
       "      <td>790208</td>\n",
       "      <td>77000</td>\n",
       "      <td>0</td>\n",
       "      <td>1457249</td>\n",
       "      <td>708483</td>\n",
       "      <td>...</td>\n",
       "      <td>1</td>\n",
       "      <td>1</td>\n",
       "      <td>1</td>\n",
       "      <td>6</td>\n",
       "      <td>6</td>\n",
       "      <td>6</td>\n",
       "      <td>199.333328</td>\n",
       "      <td>2.97</td>\n",
       "      <td>3</td>\n",
       "      <td>4.96</td>\n",
       "    </tr>\n",
       "    <tr>\n",
       "      <th>2</th>\n",
       "      <td>1639</td>\n",
       "      <td>136</td>\n",
       "      <td>249050</td>\n",
       "      <td>173248</td>\n",
       "      <td>70841</td>\n",
       "      <td>117012</td>\n",
       "      <td>55000</td>\n",
       "      <td>0</td>\n",
       "      <td>206366</td>\n",
       "      <td>82205</td>\n",
       "      <td>...</td>\n",
       "      <td>0</td>\n",
       "      <td>0</td>\n",
       "      <td>0</td>\n",
       "      <td>0</td>\n",
       "      <td>0</td>\n",
       "      <td>0</td>\n",
       "      <td>109.333336</td>\n",
       "      <td>12.97</td>\n",
       "      <td>3</td>\n",
       "      <td>12.97</td>\n",
       "    </tr>\n",
       "    <tr>\n",
       "      <th>3</th>\n",
       "      <td>1678</td>\n",
       "      <td>136</td>\n",
       "      <td>0</td>\n",
       "      <td>0</td>\n",
       "      <td>0</td>\n",
       "      <td>0</td>\n",
       "      <td>0</td>\n",
       "      <td>0</td>\n",
       "      <td>0</td>\n",
       "      <td>0</td>\n",
       "      <td>...</td>\n",
       "      <td>0</td>\n",
       "      <td>0</td>\n",
       "      <td>0</td>\n",
       "      <td>0</td>\n",
       "      <td>0</td>\n",
       "      <td>0</td>\n",
       "      <td>127.833336</td>\n",
       "      <td>0.99</td>\n",
       "      <td>1</td>\n",
       "      <td>0.99</td>\n",
       "    </tr>\n",
       "    <tr>\n",
       "      <th>4</th>\n",
       "      <td>1711</td>\n",
       "      <td>136</td>\n",
       "      <td>0</td>\n",
       "      <td>0</td>\n",
       "      <td>0</td>\n",
       "      <td>0</td>\n",
       "      <td>0</td>\n",
       "      <td>0</td>\n",
       "      <td>0</td>\n",
       "      <td>0</td>\n",
       "      <td>...</td>\n",
       "      <td>0</td>\n",
       "      <td>0</td>\n",
       "      <td>0</td>\n",
       "      <td>0</td>\n",
       "      <td>0</td>\n",
       "      <td>0</td>\n",
       "      <td>203.166672</td>\n",
       "      <td>0.99</td>\n",
       "      <td>1</td>\n",
       "      <td>0.99</td>\n",
       "    </tr>\n",
       "  </tbody>\n",
       "</table>\n",
       "<p>5 rows × 109 columns</p>\n",
       "</div>"
      ],
      "text/plain": [
       "   user_id  register_time  wood_add_value  wood_reduce_value  stone_add_value  \\\n",
       "0     1617            136           30000              97200            20000   \n",
       "1     1632            136         1111744            1137687           491331   \n",
       "2     1639            136          249050             173248            70841   \n",
       "3     1678            136               0                  0                0   \n",
       "4     1711            136               0                  0                0   \n",
       "\n",
       "   stone_reduce_value  ivory_add_value  ivory_reduce_value  meat_add_value  \\\n",
       "0                   0                0                   0          160500   \n",
       "1              790208            77000                   0         1457249   \n",
       "2              117012            55000                   0          206366   \n",
       "3                   0                0                   0               0   \n",
       "4                   0                0                   0               0   \n",
       "\n",
       "   meat_reduce_value          ...           pvp_battle_count  pvp_lanch_count  \\\n",
       "0              80392          ...                          0                0   \n",
       "1             708483          ...                          1                1   \n",
       "2              82205          ...                          0                0   \n",
       "3                  0          ...                          0                0   \n",
       "4                  0          ...                          0                0   \n",
       "\n",
       "   pvp_win_count  pve_battle_count  pve_lanch_count  pve_win_count  \\\n",
       "0              0                 0                0              0   \n",
       "1              1                 6                6              6   \n",
       "2              0                 0                0              0   \n",
       "3              0                 0                0              0   \n",
       "4              0                 0                0              0   \n",
       "\n",
       "   avg_online_minutes  pay_price  pay_count  prediction_pay_price  \n",
       "0           44.666668       0.99          1                  0.99  \n",
       "1          199.333328       2.97          3                  4.96  \n",
       "2          109.333336      12.97          3                 12.97  \n",
       "3          127.833336       0.99          1                  0.99  \n",
       "4          203.166672       0.99          1                  0.99  \n",
       "\n",
       "[5 rows x 109 columns]"
      ]
     },
     "execution_count": 6,
     "metadata": {},
     "output_type": "execute_result"
    }
   ],
   "source": [
    "train_pay = pd.read_csv(path_train + 'train-pay.csv', dtype=dtype_train)\n",
    "train_pay.head()"
   ]
  },
  {
   "cell_type": "code",
   "execution_count": 7,
   "metadata": {},
   "outputs": [
    {
     "name": "stdout",
     "output_type": "stream",
     "text": [
      "train_pay.shape=(45988, 109) train_part2345.shape=(36790, 109) train_part1.shape=(9198, 109)\n",
      "<class 'pandas.core.frame.DataFrame'>\n",
      "Int64Index: 9198 entries, 8468 to 11559\n",
      "Columns: 109 entries, user_id to prediction_pay_price\n",
      "dtypes: float32(3), int32(106)\n",
      "memory usage: 3.9 MB\n"
     ]
    }
   ],
   "source": [
    "# 先取出 0.2 剩余的 0.8 再平分为 0.4 再平分为 0.2 \n",
    "train_part2345, train_part1 = train_test_split(train_pay, random_state=33, test_size=0.2)\n",
    "print('train_pay.shape=%s train_part2345.shape=%s train_part1.shape=%s'\n",
    "      %(train_pay.shape, train_part2345.shape, train_part1.shape))\n",
    "train_part1.to_csv(path_train + 'train=pay-1.csv', index=False)\n",
    "train_part1.info()"
   ]
  },
  {
   "cell_type": "code",
   "execution_count": 8,
   "metadata": {},
   "outputs": [
    {
     "name": "stdout",
     "output_type": "stream",
     "text": [
      "train_part2345.shape=(36790, 109) train_part23.shape=(18395, 109) train_part45.shape=(18395, 109)\n",
      "train_part23.shape=(18395, 109) train_part2.shape=(9197, 109) train_part3.shape=(9198, 109)\n",
      "train_part45.shape=(18395, 109) train_part4.shape=(9197, 109) train_part5.shape=(9198, 109)\n"
     ]
    }
   ],
   "source": [
    "train_part23, train_part45 = train_test_split(train_part2345, random_state=33, test_size=0.5)\n",
    "print('train_part2345.shape=%s train_part23.shape=%s train_part45.shape=%s'\n",
    "      %(train_part2345.shape, train_part23.shape, train_part45.shape))\n",
    "\n",
    "train_part2, train_part3 = train_test_split(train_part23, random_state=33, test_size=0.5)\n",
    "print('train_part23.shape=%s train_part2.shape=%s train_part3.shape=%s'\n",
    "      %(train_part23.shape, train_part2.shape, train_part3.shape))\n",
    "train_part2.to_csv(path_train + 'train=pay-2.csv', index=False)\n",
    "train_part3.to_csv(path_train + 'train=pay-3.csv', index=False)\n",
    "\n",
    "train_part4, train_part5 = train_test_split(train_part45, random_state=33, test_size=0.5)\n",
    "print('train_part45.shape=%s train_part4.shape=%s train_part5.shape=%s'\n",
    "      %(train_part45.shape, train_part4.shape, train_part5.shape))\n",
    "train_part4.to_csv(path_train + 'train=pay-4.csv', index=False)\n",
    "# train_part4.to_csv(path_train + 'train=fe-5.csv', index=False) # 第一次这里搞错了，导致 45 相同 \n",
    "train_part5.to_csv(path_train + 'train=pay-5.csv', index=False)"
   ]
  },
  {
   "cell_type": "code",
   "execution_count": null,
   "metadata": {
    "collapsed": true
   },
   "outputs": [],
   "source": []
  }
 ],
 "metadata": {
  "kernelspec": {
   "display_name": "Python 3",
   "language": "python",
   "name": "python3"
  },
  "language_info": {
   "codemirror_mode": {
    "name": "ipython",
    "version": 3
   },
   "file_extension": ".py",
   "mimetype": "text/x-python",
   "name": "python",
   "nbconvert_exporter": "python",
   "pygments_lexer": "ipython3",
   "version": "3.6.3"
  }
 },
 "nbformat": 4,
 "nbformat_minor": 2
}
