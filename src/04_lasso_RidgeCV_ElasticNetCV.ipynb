{
 "cells": [
  {
   "cell_type": "markdown",
   "metadata": {},
   "source": [
    "## 线性回归 _lasso_RidgeCV_ElasticNetCV"
   ]
  },
  {
   "cell_type": "code",
   "execution_count": 1,
   "metadata": {
    "collapsed": true
   },
   "outputs": [],
   "source": [
    "# 导入必要的工具包\n",
    "import numpy as np #用于数值计算\n",
    "import pandas as pd #用于数据表处理，数据文件读写\n",
    "from sklearn.preprocessing import StandardScaler\n",
    "from sklearn.model_selection import train_test_split\n",
    "from sklearn.metrics import mean_squared_error\n",
    "\n",
    "from sklearn.linear_model import LassoCV\n",
    "from sklearn.linear_model import RidgeCV\n",
    "from sklearn.linear_model import ElasticNetCV\n",
    "\n",
    "import matplotlib.pyplot as plt #用于绘图：分析结果的可视化。\n",
    "import seaborn as sns #用于绘图：分析结果的可视化。封装更好。\n",
    "from IPython.display import display\n",
    "\n",
    "#应该是设置浮点数的形式格式，小数点后三位\n",
    "pd.set_option('display.float_format', lambda x: '%.4f' % x)\n",
    "\n",
    "#这一行是干嘛的？ 设置 matplotlib 让绘制的图形出现在 Notebook 里而不是新窗口\n",
    "%matplotlib inline"
   ]
  },
  {
   "cell_type": "code",
   "execution_count": 2,
   "metadata": {
    "collapsed": true
   },
   "outputs": [],
   "source": [
    "Y_Standard = True\n",
    "# 生成的结果文件名称\n",
    "out_name = '%ssummit=0.1-fe-avg_online_dynamic-all-%s.csv'\n",
    "\n",
    "path  = '../data/new/'\n",
    "path_train = '../data/new/train=0.1/'\n",
    "path_test = '../data/new/test/'\n",
    "summit_path = '../data/summit/'"
   ]
  },
  {
   "cell_type": "code",
   "execution_count": 3,
   "metadata": {},
   "outputs": [
    {
     "data": {
      "text/html": [
       "<div>\n",
       "<style>\n",
       "    .dataframe thead tr:only-child th {\n",
       "        text-align: right;\n",
       "    }\n",
       "\n",
       "    .dataframe thead th {\n",
       "        text-align: left;\n",
       "    }\n",
       "\n",
       "    .dataframe tbody tr th {\n",
       "        vertical-align: top;\n",
       "    }\n",
       "</style>\n",
       "<table border=\"1\" class=\"dataframe\">\n",
       "  <thead>\n",
       "    <tr style=\"text-align: right;\">\n",
       "      <th></th>\n",
       "      <th>user_id</th>\n",
       "      <th>wood_add_value</th>\n",
       "      <th>wood_reduce_value</th>\n",
       "      <th>stone_add_value</th>\n",
       "      <th>stone_reduce_value</th>\n",
       "      <th>ivory_add_value</th>\n",
       "      <th>ivory_reduce_value</th>\n",
       "      <th>meat_add_value</th>\n",
       "      <th>meat_reduce_value</th>\n",
       "      <th>magic_add_value</th>\n",
       "      <th>...</th>\n",
       "      <th>sr_rss_help_bonus_level</th>\n",
       "      <th>pvp_battle_count</th>\n",
       "      <th>pvp_lanch_count</th>\n",
       "      <th>pvp_win_count</th>\n",
       "      <th>pve_battle_count</th>\n",
       "      <th>pve_lanch_count</th>\n",
       "      <th>pve_win_count</th>\n",
       "      <th>pay_price</th>\n",
       "      <th>pay_count</th>\n",
       "      <th>prediction_pay_price</th>\n",
       "    </tr>\n",
       "  </thead>\n",
       "  <tbody>\n",
       "    <tr>\n",
       "      <th>0</th>\n",
       "      <td>2320186</td>\n",
       "      <td>0.0000</td>\n",
       "      <td>0.0000</td>\n",
       "      <td>0.0000</td>\n",
       "      <td>0.0000</td>\n",
       "      <td>0.0000</td>\n",
       "      <td>0.0000</td>\n",
       "      <td>0.0000</td>\n",
       "      <td>0.0000</td>\n",
       "      <td>0.0000</td>\n",
       "      <td>...</td>\n",
       "      <td>0.0000</td>\n",
       "      <td>0.0000</td>\n",
       "      <td>0.0000</td>\n",
       "      <td>0.0000</td>\n",
       "      <td>0.0000</td>\n",
       "      <td>0.0000</td>\n",
       "      <td>0.0000</td>\n",
       "      <td>0.0000</td>\n",
       "      <td>0.0000</td>\n",
       "      <td>0.0000</td>\n",
       "    </tr>\n",
       "    <tr>\n",
       "      <th>1</th>\n",
       "      <td>2959017</td>\n",
       "      <td>40872.3120</td>\n",
       "      <td>24707.9980</td>\n",
       "      <td>0.0000</td>\n",
       "      <td>0.0000</td>\n",
       "      <td>1894.7366</td>\n",
       "      <td>0.0000</td>\n",
       "      <td>48151.5740</td>\n",
       "      <td>15355.5770</td>\n",
       "      <td>0.0000</td>\n",
       "      <td>...</td>\n",
       "      <td>0.0000</td>\n",
       "      <td>0.0000</td>\n",
       "      <td>0.0000</td>\n",
       "      <td>0.0000</td>\n",
       "      <td>0.6315</td>\n",
       "      <td>0.6315</td>\n",
       "      <td>0.6315</td>\n",
       "      <td>0.0000</td>\n",
       "      <td>0.0000</td>\n",
       "      <td>0.0000</td>\n",
       "    </tr>\n",
       "    <tr>\n",
       "      <th>2</th>\n",
       "      <td>242613</td>\n",
       "      <td>31814.6210</td>\n",
       "      <td>19675.1230</td>\n",
       "      <td>0.0000</td>\n",
       "      <td>0.0000</td>\n",
       "      <td>0.0000</td>\n",
       "      <td>0.0000</td>\n",
       "      <td>8303.9990</td>\n",
       "      <td>11099.9990</td>\n",
       "      <td>0.0000</td>\n",
       "      <td>...</td>\n",
       "      <td>0.0000</td>\n",
       "      <td>0.0000</td>\n",
       "      <td>0.0000</td>\n",
       "      <td>0.0000</td>\n",
       "      <td>0.0000</td>\n",
       "      <td>0.0000</td>\n",
       "      <td>0.0000</td>\n",
       "      <td>0.0000</td>\n",
       "      <td>0.0000</td>\n",
       "      <td>0.0000</td>\n",
       "    </tr>\n",
       "    <tr>\n",
       "      <th>3</th>\n",
       "      <td>1416097</td>\n",
       "      <td>0.0000</td>\n",
       "      <td>0.0000</td>\n",
       "      <td>0.0000</td>\n",
       "      <td>0.0000</td>\n",
       "      <td>0.0000</td>\n",
       "      <td>0.0000</td>\n",
       "      <td>0.0000</td>\n",
       "      <td>0.0000</td>\n",
       "      <td>0.0000</td>\n",
       "      <td>...</td>\n",
       "      <td>0.0000</td>\n",
       "      <td>0.0000</td>\n",
       "      <td>0.0000</td>\n",
       "      <td>0.0000</td>\n",
       "      <td>0.0000</td>\n",
       "      <td>0.0000</td>\n",
       "      <td>0.0000</td>\n",
       "      <td>0.0000</td>\n",
       "      <td>0.0000</td>\n",
       "      <td>0.0000</td>\n",
       "    </tr>\n",
       "    <tr>\n",
       "      <th>4</th>\n",
       "      <td>680469</td>\n",
       "      <td>28625.0000</td>\n",
       "      <td>7200.0000</td>\n",
       "      <td>0.0000</td>\n",
       "      <td>0.0000</td>\n",
       "      <td>0.0000</td>\n",
       "      <td>0.0000</td>\n",
       "      <td>33625.0000</td>\n",
       "      <td>3930.0000</td>\n",
       "      <td>0.0000</td>\n",
       "      <td>...</td>\n",
       "      <td>0.0000</td>\n",
       "      <td>0.0000</td>\n",
       "      <td>0.0000</td>\n",
       "      <td>0.0000</td>\n",
       "      <td>0.0000</td>\n",
       "      <td>0.0000</td>\n",
       "      <td>0.0000</td>\n",
       "      <td>0.0000</td>\n",
       "      <td>0.0000</td>\n",
       "      <td>0.0000</td>\n",
       "    </tr>\n",
       "  </tbody>\n",
       "</table>\n",
       "<p>5 rows × 107 columns</p>\n",
       "</div>"
      ],
      "text/plain": [
       "   user_id  wood_add_value  wood_reduce_value  stone_add_value  \\\n",
       "0  2320186          0.0000             0.0000           0.0000   \n",
       "1  2959017      40872.3120         24707.9980           0.0000   \n",
       "2   242613      31814.6210         19675.1230           0.0000   \n",
       "3  1416097          0.0000             0.0000           0.0000   \n",
       "4   680469      28625.0000          7200.0000           0.0000   \n",
       "\n",
       "   stone_reduce_value  ivory_add_value  ivory_reduce_value  meat_add_value  \\\n",
       "0              0.0000           0.0000              0.0000          0.0000   \n",
       "1              0.0000        1894.7366              0.0000      48151.5740   \n",
       "2              0.0000           0.0000              0.0000       8303.9990   \n",
       "3              0.0000           0.0000              0.0000          0.0000   \n",
       "4              0.0000           0.0000              0.0000      33625.0000   \n",
       "\n",
       "   meat_reduce_value  magic_add_value          ...           \\\n",
       "0             0.0000           0.0000          ...            \n",
       "1         15355.5770           0.0000          ...            \n",
       "2         11099.9990           0.0000          ...            \n",
       "3             0.0000           0.0000          ...            \n",
       "4          3930.0000           0.0000          ...            \n",
       "\n",
       "   sr_rss_help_bonus_level  pvp_battle_count  pvp_lanch_count  pvp_win_count  \\\n",
       "0                   0.0000            0.0000           0.0000         0.0000   \n",
       "1                   0.0000            0.0000           0.0000         0.0000   \n",
       "2                   0.0000            0.0000           0.0000         0.0000   \n",
       "3                   0.0000            0.0000           0.0000         0.0000   \n",
       "4                   0.0000            0.0000           0.0000         0.0000   \n",
       "\n",
       "   pve_battle_count  pve_lanch_count  pve_win_count  pay_price  pay_count  \\\n",
       "0            0.0000           0.0000         0.0000     0.0000     0.0000   \n",
       "1            0.6315           0.6315         0.6315     0.0000     0.0000   \n",
       "2            0.0000           0.0000         0.0000     0.0000     0.0000   \n",
       "3            0.0000           0.0000         0.0000     0.0000     0.0000   \n",
       "4            0.0000           0.0000         0.0000     0.0000     0.0000   \n",
       "\n",
       "   prediction_pay_price  \n",
       "0                0.0000  \n",
       "1                0.0000  \n",
       "2                0.0000  \n",
       "3                0.0000  \n",
       "4                0.0000  \n",
       "\n",
       "[5 rows x 107 columns]"
      ]
     },
     "execution_count": 3,
     "metadata": {},
     "output_type": "execute_result"
    }
   ],
   "source": [
    "#读取训练数据: \n",
    "train = pd.read_csv(path_train + 'train=0.1-fe-avg_online_dynamic-all.csv')\n",
    "train.head()"
   ]
  },
  {
   "cell_type": "code",
   "execution_count": 4,
   "metadata": {
    "scrolled": true
   },
   "outputs": [
    {
     "data": {
      "text/html": [
       "<div>\n",
       "<style>\n",
       "    .dataframe thead tr:only-child th {\n",
       "        text-align: right;\n",
       "    }\n",
       "\n",
       "    .dataframe thead th {\n",
       "        text-align: left;\n",
       "    }\n",
       "\n",
       "    .dataframe tbody tr th {\n",
       "        vertical-align: top;\n",
       "    }\n",
       "</style>\n",
       "<table border=\"1\" class=\"dataframe\">\n",
       "  <thead>\n",
       "    <tr style=\"text-align: right;\">\n",
       "      <th></th>\n",
       "      <th>user_id</th>\n",
       "      <th>wood_add_value</th>\n",
       "      <th>wood_reduce_value</th>\n",
       "      <th>stone_add_value</th>\n",
       "      <th>stone_reduce_value</th>\n",
       "      <th>ivory_add_value</th>\n",
       "      <th>ivory_reduce_value</th>\n",
       "      <th>meat_add_value</th>\n",
       "      <th>meat_reduce_value</th>\n",
       "      <th>magic_add_value</th>\n",
       "      <th>...</th>\n",
       "      <th>sr_march_size_level</th>\n",
       "      <th>sr_rss_help_bonus_level</th>\n",
       "      <th>pvp_battle_count</th>\n",
       "      <th>pvp_lanch_count</th>\n",
       "      <th>pvp_win_count</th>\n",
       "      <th>pve_battle_count</th>\n",
       "      <th>pve_lanch_count</th>\n",
       "      <th>pve_win_count</th>\n",
       "      <th>pay_price</th>\n",
       "      <th>pay_count</th>\n",
       "    </tr>\n",
       "  </thead>\n",
       "  <tbody>\n",
       "    <tr>\n",
       "      <th>0</th>\n",
       "      <td>14933</td>\n",
       "      <td>20801.8750</td>\n",
       "      <td>17295.2500</td>\n",
       "      <td>0.0000</td>\n",
       "      <td>0.0000</td>\n",
       "      <td>0.0000</td>\n",
       "      <td>0.0000</td>\n",
       "      <td>32315.2500</td>\n",
       "      <td>11267.7500</td>\n",
       "      <td>0.0000</td>\n",
       "      <td>...</td>\n",
       "      <td>0.0000</td>\n",
       "      <td>0.0000</td>\n",
       "      <td>0.0000</td>\n",
       "      <td>0.0000</td>\n",
       "      <td>0.0000</td>\n",
       "      <td>0.1250</td>\n",
       "      <td>0.1250</td>\n",
       "      <td>0.1250</td>\n",
       "      <td>0.0000</td>\n",
       "      <td>0.0000</td>\n",
       "    </tr>\n",
       "    <tr>\n",
       "      <th>1</th>\n",
       "      <td>14934</td>\n",
       "      <td>10000.0000</td>\n",
       "      <td>600.0000</td>\n",
       "      <td>0.0000</td>\n",
       "      <td>0.0000</td>\n",
       "      <td>0.0000</td>\n",
       "      <td>0.0000</td>\n",
       "      <td>10000.0000</td>\n",
       "      <td>400.0000</td>\n",
       "      <td>0.0000</td>\n",
       "      <td>...</td>\n",
       "      <td>0.0000</td>\n",
       "      <td>0.0000</td>\n",
       "      <td>0.0000</td>\n",
       "      <td>0.0000</td>\n",
       "      <td>0.0000</td>\n",
       "      <td>0.0000</td>\n",
       "      <td>0.0000</td>\n",
       "      <td>0.0000</td>\n",
       "      <td>0.0000</td>\n",
       "      <td>0.0000</td>\n",
       "    </tr>\n",
       "    <tr>\n",
       "      <th>2</th>\n",
       "      <td>14935</td>\n",
       "      <td>588.2352</td>\n",
       "      <td>217.6470</td>\n",
       "      <td>0.0000</td>\n",
       "      <td>0.0000</td>\n",
       "      <td>0.0000</td>\n",
       "      <td>0.0000</td>\n",
       "      <td>588.2352</td>\n",
       "      <td>117.6470</td>\n",
       "      <td>0.0000</td>\n",
       "      <td>...</td>\n",
       "      <td>0.0000</td>\n",
       "      <td>0.0000</td>\n",
       "      <td>0.0000</td>\n",
       "      <td>0.0000</td>\n",
       "      <td>0.0000</td>\n",
       "      <td>0.0000</td>\n",
       "      <td>0.0000</td>\n",
       "      <td>0.0000</td>\n",
       "      <td>0.0000</td>\n",
       "      <td>0.0000</td>\n",
       "    </tr>\n",
       "    <tr>\n",
       "      <th>3</th>\n",
       "      <td>14936</td>\n",
       "      <td>125999.9800</td>\n",
       "      <td>0.0000</td>\n",
       "      <td>119999.9800</td>\n",
       "      <td>0.0000</td>\n",
       "      <td>119999.9800</td>\n",
       "      <td>0.0000</td>\n",
       "      <td>-214748.3600</td>\n",
       "      <td>0.0000</td>\n",
       "      <td>35999.9920</td>\n",
       "      <td>...</td>\n",
       "      <td>0.0000</td>\n",
       "      <td>0.0000</td>\n",
       "      <td>0.0000</td>\n",
       "      <td>0.0000</td>\n",
       "      <td>0.0000</td>\n",
       "      <td>0.0000</td>\n",
       "      <td>0.0000</td>\n",
       "      <td>0.0000</td>\n",
       "      <td>0.0000</td>\n",
       "      <td>0.0000</td>\n",
       "    </tr>\n",
       "    <tr>\n",
       "      <th>4</th>\n",
       "      <td>14937</td>\n",
       "      <td>11500.0000</td>\n",
       "      <td>3700.0000</td>\n",
       "      <td>0.0000</td>\n",
       "      <td>0.0000</td>\n",
       "      <td>0.0000</td>\n",
       "      <td>0.0000</td>\n",
       "      <td>11000.0000</td>\n",
       "      <td>2000.0000</td>\n",
       "      <td>0.0000</td>\n",
       "      <td>...</td>\n",
       "      <td>0.0000</td>\n",
       "      <td>0.0000</td>\n",
       "      <td>0.0000</td>\n",
       "      <td>0.0000</td>\n",
       "      <td>0.0000</td>\n",
       "      <td>0.0000</td>\n",
       "      <td>0.0000</td>\n",
       "      <td>0.0000</td>\n",
       "      <td>0.0000</td>\n",
       "      <td>0.0000</td>\n",
       "    </tr>\n",
       "  </tbody>\n",
       "</table>\n",
       "<p>5 rows × 106 columns</p>\n",
       "</div>"
      ],
      "text/plain": [
       "   user_id  wood_add_value  wood_reduce_value  stone_add_value  \\\n",
       "0    14933      20801.8750         17295.2500           0.0000   \n",
       "1    14934      10000.0000           600.0000           0.0000   \n",
       "2    14935        588.2352           217.6470           0.0000   \n",
       "3    14936     125999.9800             0.0000      119999.9800   \n",
       "4    14937      11500.0000          3700.0000           0.0000   \n",
       "\n",
       "   stone_reduce_value  ivory_add_value  ivory_reduce_value  meat_add_value  \\\n",
       "0              0.0000           0.0000              0.0000      32315.2500   \n",
       "1              0.0000           0.0000              0.0000      10000.0000   \n",
       "2              0.0000           0.0000              0.0000        588.2352   \n",
       "3              0.0000      119999.9800              0.0000    -214748.3600   \n",
       "4              0.0000           0.0000              0.0000      11000.0000   \n",
       "\n",
       "   meat_reduce_value  magic_add_value    ...      sr_march_size_level  \\\n",
       "0         11267.7500           0.0000    ...                   0.0000   \n",
       "1           400.0000           0.0000    ...                   0.0000   \n",
       "2           117.6470           0.0000    ...                   0.0000   \n",
       "3             0.0000       35999.9920    ...                   0.0000   \n",
       "4          2000.0000           0.0000    ...                   0.0000   \n",
       "\n",
       "   sr_rss_help_bonus_level  pvp_battle_count  pvp_lanch_count  pvp_win_count  \\\n",
       "0                   0.0000            0.0000           0.0000         0.0000   \n",
       "1                   0.0000            0.0000           0.0000         0.0000   \n",
       "2                   0.0000            0.0000           0.0000         0.0000   \n",
       "3                   0.0000            0.0000           0.0000         0.0000   \n",
       "4                   0.0000            0.0000           0.0000         0.0000   \n",
       "\n",
       "   pve_battle_count  pve_lanch_count  pve_win_count  pay_price  pay_count  \n",
       "0            0.1250           0.1250         0.1250     0.0000     0.0000  \n",
       "1            0.0000           0.0000         0.0000     0.0000     0.0000  \n",
       "2            0.0000           0.0000         0.0000     0.0000     0.0000  \n",
       "3            0.0000           0.0000         0.0000     0.0000     0.0000  \n",
       "4            0.0000           0.0000         0.0000     0.0000     0.0000  \n",
       "\n",
       "[5 rows x 106 columns]"
      ]
     },
     "execution_count": 4,
     "metadata": {},
     "output_type": "execute_result"
    }
   ],
   "source": [
    "test = pd.read_csv(path_test + 'tap_fun_test-fe-avg_online_dynamic-all.csv')\n",
    "test.head()"
   ]
  },
  {
   "cell_type": "code",
   "execution_count": 5,
   "metadata": {
    "collapsed": true
   },
   "outputs": [],
   "source": [
    "# 从原始数据中分离输入特征x和输出y\n",
    "target = 'prediction_pay_price'\n",
    "id = 'user_id'\n",
    "train_y = train[target].values\n",
    "train_X = train.drop([target, id], axis = 1)\n",
    "\n",
    "# test_id = test[id]\n",
    "test_X = test.drop([id], axis = 1)"
   ]
  },
  {
   "cell_type": "code",
   "execution_count": 6,
   "metadata": {},
   "outputs": [
    {
     "name": "stdout",
     "output_type": "stream",
     "text": [
      "train.shape=(228800, 107) X_train_part.shape=(205920, 105) X_test_part.shape=(22880, 105)\n"
     ]
    }
   ],
   "source": [
    "X_train_part, X_val_part, y_train_part, y_val_part = train_test_split(train_X, train_y, random_state=33, test_size=0.1)\n",
    "print('train.shape=%s X_train_part.shape=%s X_test_part.shape=%s'\n",
    "      %(train.shape, X_train_part.shape, X_val_part.shape))"
   ]
  },
  {
   "cell_type": "markdown",
   "metadata": {},
   "source": [
    "## 数据标准化"
   ]
  },
  {
   "cell_type": "code",
   "execution_count": 7,
   "metadata": {
    "collapsed": true
   },
   "outputs": [],
   "source": [
    "# 分别初始化对特征和目标值的标准化器\n",
    "ss_X = StandardScaler()\n",
    "ss_y = StandardScaler()\n",
    "\n",
    "# 分别对训练和测试数据的特征以及目标值进行标准化处理\n",
    "X_train_part = ss_X.fit_transform(X_train_part)\n",
    "X_val_part= ss_X.transform(X_val_part)\n",
    "test_X = ss_X.transform(test_X)\n",
    "\n",
    "if Y_Standard:\n",
    "    y_train_part = ss_y.fit_transform(y_train_part.reshape(-1, 1))\n",
    "    y_val_part = ss_y.transform(y_val_part.reshape(-1, 1))"
   ]
  },
  {
   "cell_type": "code",
   "execution_count": 8,
   "metadata": {
    "collapsed": true
   },
   "outputs": [],
   "source": [
    "# 标准化数据还原 \n",
    "def inverse_StandardScaler(predict):\n",
    "    if Y_Standard:\n",
    "        predict = ss_y.inverse_transform(predict)\n",
    "        print('predict = ', predict)\n",
    "    return predict\n",
    "\n",
    "#输出预测后的数据\n",
    "def generate_summit(predict):\n",
    "    testPredict = test.copy()\n",
    "    testPredict[target] = predict\n",
    "    testPredict = testPredict[[id,target]]\n",
    "    testPredict[target] = testPredict[target].apply(lambda x: x if x > 0 else 0)\n",
    "    return testPredict\n",
    "\n",
    "# def move_up(predict):\n",
    "#     # 预测值里面的最小值\n",
    "#     pred_min = np.min(predict)\n",
    "#     if pred_min < 0:\n",
    "#     #     如果是负数，则整体上移，效果不好 \n",
    "#         predict = predict - pred_min\n",
    "#     print('pred_min=%s'%pred_min)\n",
    "#     return predict"
   ]
  },
  {
   "cell_type": "markdown",
   "metadata": {},
   "source": [
    "## 模型训练\n",
    "### 1.正则化的线性回归（L1正则 --> Lasso）"
   ]
  },
  {
   "cell_type": "code",
   "execution_count": 11,
   "metadata": {},
   "outputs": [
    {
     "name": "stderr",
     "output_type": "stream",
     "text": [
      "d:\\ProgramData\\Anaconda3\\lib\\site-packages\\sklearn\\linear_model\\coordinate_descent.py:1094: DataConversionWarning: A column-vector y was passed when a 1d array was expected. Please change the shape of y to (n_samples, ), for example using ravel().\n",
      "  y = column_or_1d(y, warn=True)\n"
     ]
    },
    {
     "name": "stdout",
     "output_type": "stream",
     "text": [
      "Wall time: 2.24 s\n"
     ]
    }
   ],
   "source": [
    "%%time\n",
    "#正则项系数\n",
    "# alphas = [0.1, 10, 100, 1000, 10000, 10000]\n",
    "alphas = [0.001, 0.01, 0.05, 0.09, 0.1, 0.11, 0.15, 0.2, 0.5, 1]\n",
    "\n",
    "# Lasso 模型实例\n",
    "lasso = LassoCV(alphas=alphas)\n",
    "#进行模型训练\n",
    "lasso.fit(X_train_part, y_train_part)"
   ]
  },
  {
   "cell_type": "code",
   "execution_count": 12,
   "metadata": {},
   "outputs": [
    {
     "name": "stdout",
     "output_type": "stream",
     "text": [
      "best alpha is: 0.09\n"
     ]
    },
    {
     "data": {
      "image/png": "[encoded data removed]",
      "text/plain": [
       "<matplotlib.figure.Figure at 0x12a116a0>"
      ]
     },
     "metadata": {},
     "output_type": "display_data"
    }
   ],
   "source": [
    "## 3.1 Lasso 模型评价\n",
    "mses = np.mean(lasso.mse_path_, axis=1)\n",
    "\n",
    "#plt.plot(np.log10(alphas), mses)\n",
    "plt.plot(np.log10(lasso.alphas_), mses)\n",
    "# plt.show()  #绘制在一张图上，显示异常，暂时分开 \n",
    "\n",
    "plt.plot(np.log10(lasso.alpha_)*np.ones(3), [0.1, 0.5, 0.9])\n",
    "plt.xlabel('log(alpha)')\n",
    "plt.ylabel('mse')\n",
    "# plt.show() \n",
    "print ('best alpha is:', lasso.alpha_)\n",
    "# best alpha is: 10.5"
   ]
  },
  {
   "cell_type": "code",
   "execution_count": 13,
   "metadata": {},
   "outputs": [
    {
     "name": "stdout",
     "output_type": "stream",
     "text": [
      "The score: Train=0.606405841622895  Val=0.836606841244437\n",
      "The RMSE: Train=0.6273708300336454  Val=0.590081530359951\n"
     ]
    }
   ],
   "source": [
    "# 模型评估\n",
    "lassoScoreTrain = lasso.score(X_train_part, y_train_part)\n",
    "lassoScoreVal = lasso.score(X_val_part, y_val_part)\n",
    "print('The score: Train=%s  Val=%s'% (lassoScoreTrain, lassoScoreVal)) \n",
    "\n",
    "lasso_predict_train = lasso.predict(X_train_part)\n",
    "rmseTrain = mean_squared_error(y_train_part, lasso_predict_train) ** 0.5\n",
    "lasso_predict_val = lasso.predict(X_val_part)\n",
    "rmseVal = mean_squared_error(y_val_part, lasso_predict_val) ** 0.5\n",
    "print('The RMSE: Train=%s  Val=%s' % (rmseTrain, rmseVal))\n",
    "\n",
    "# The score: Train=0.6026498641616385  Val=0.8354317552131078\n",
    "# The RMSE: Train=0.6303571494306712  Val=0.5921995943739873"
   ]
  },
  {
   "cell_type": "code",
   "execution_count": 14,
   "metadata": {},
   "outputs": [
    {
     "name": "stdout",
     "output_type": "stream",
     "text": [
      "lasso_y_predict_test =  [-0.0189192 -0.0189192 -0.0189192 ... -0.0189192 -0.0189192 -0.0189192]\n",
      "predict =  [0.36817988 0.36817988 0.36817988 ... 0.36817988 0.36817988 0.36817988]\n"
     ]
    }
   ],
   "source": [
    "#对测试数据进行预测\n",
    "lasso_y_predict_test = lasso.predict(test_X)\n",
    "print('lasso_y_predict_test = ', lasso_y_predict_test)\n",
    "\n",
    "# 标准化数据还原 \n",
    "lasso_y_predict_test = inverse_StandardScaler(lasso_y_predict_test)\n",
    "# lasso_y_predict_test =  [0.4556051 0.4556051 0.4556051 ... 0.4556051 0.4556051 0.4556051]"
   ]
  },
  {
   "cell_type": "code",
   "execution_count": 15,
   "metadata": {},
   "outputs": [
    {
     "data": {
      "text/html": [
       "<div>\n",
       "<style>\n",
       "    .dataframe thead tr:only-child th {\n",
       "        text-align: right;\n",
       "    }\n",
       "\n",
       "    .dataframe thead th {\n",
       "        text-align: left;\n",
       "    }\n",
       "\n",
       "    .dataframe tbody tr th {\n",
       "        vertical-align: top;\n",
       "    }\n",
       "</style>\n",
       "<table border=\"1\" class=\"dataframe\">\n",
       "  <thead>\n",
       "    <tr style=\"text-align: right;\">\n",
       "      <th></th>\n",
       "      <th>user_id</th>\n",
       "      <th>prediction_pay_price</th>\n",
       "    </tr>\n",
       "  </thead>\n",
       "  <tbody>\n",
       "    <tr>\n",
       "      <th>0</th>\n",
       "      <td>14933</td>\n",
       "      <td>0.3682</td>\n",
       "    </tr>\n",
       "    <tr>\n",
       "      <th>1</th>\n",
       "      <td>14934</td>\n",
       "      <td>0.3682</td>\n",
       "    </tr>\n",
       "    <tr>\n",
       "      <th>2</th>\n",
       "      <td>14935</td>\n",
       "      <td>0.3682</td>\n",
       "    </tr>\n",
       "    <tr>\n",
       "      <th>3</th>\n",
       "      <td>14936</td>\n",
       "      <td>0.3682</td>\n",
       "    </tr>\n",
       "    <tr>\n",
       "      <th>4</th>\n",
       "      <td>14937</td>\n",
       "      <td>0.3682</td>\n",
       "    </tr>\n",
       "  </tbody>\n",
       "</table>\n",
       "</div>"
      ],
      "text/plain": [
       "   user_id  prediction_pay_price\n",
       "0    14933                0.3682\n",
       "1    14934                0.3682\n",
       "2    14935                0.3682\n",
       "3    14936                0.3682\n",
       "4    14937                0.3682"
      ]
     },
     "execution_count": 15,
     "metadata": {},
     "output_type": "execute_result"
    }
   ],
   "source": [
    "testPredict = generate_summit(lasso_y_predict_test)\n",
    "#输出预测后的数据\n",
    "testPredict.to_csv(out_name %(summit_path, 'lasso'), index=False)\n",
    "testPredict.head()"
   ]
  },
  {
   "cell_type": "markdown",
   "metadata": {},
   "source": [
    "## 2 正则化的线性回归（L2正则 --> 岭回归）"
   ]
  },
  {
   "cell_type": "code",
   "execution_count": 45,
   "metadata": {},
   "outputs": [
    {
     "name": "stdout",
     "output_type": "stream",
     "text": [
      "Wall time: 4.82 s\n"
     ]
    }
   ],
   "source": [
    "%%time\n",
    "#正则项的参数\n",
    "# alphas = [0.01, 0.1, 1, 10, 100, 10000]\n",
    "alphas = [0.1, 10000, 440000, 445000,450000,455000, 460000, 500000, 1000000, 10000000]\n",
    "\n",
    "#创建岭回归模块实例\n",
    "ridge = RidgeCV(alphas=alphas, store_cv_values=True)\n",
    "#进行模型训练\n",
    "ridge.fit(X_train_part, y_train_part)"
   ]
  },
  {
   "cell_type": "code",
   "execution_count": 46,
   "metadata": {},
   "outputs": [
    {
     "name": "stdout",
     "output_type": "stream",
     "text": [
      "best alpha is: 450000.0\n"
     ]
    },
    {
     "data": {
      "image/png": "[encoded data removed]",
      "text/plain": [
       "<matplotlib.figure.Figure at 0x1395ee80>"
      ]
     },
     "metadata": {},
     "output_type": "display_data"
    }
   ],
   "source": [
    "### 2.1 岭回归模型评价\n",
    "mse_mean = np.mean(ridge.cv_values_, axis=0)\n",
    "\n",
    "#正则项参数取对数， mse_mean.reshape() 干什么的？拉平\n",
    "plt.plot(np.log10(alphas), mse_mean.reshape(len(alphas), 1))\n",
    "# 在最佳参数位置绘制竖线：注意第二个参数值要和 Y 坐标轴匹配\n",
    "plt.plot(np.log10(reg.alpha_)*np.ones(3), [.2, .7, .9])\n",
    "# plt.show() #绘制在一张图上，显示异常，暂时分开 \n",
    "\n",
    "plt.xlabel('log(alpha)')\n",
    "plt.ylabel('mse')\n",
    "\n",
    "print('best alpha is:', reg.alpha_)"
   ]
  },
  {
   "cell_type": "code",
   "execution_count": 47,
   "metadata": {},
   "outputs": [
    {
     "name": "stdout",
     "output_type": "stream",
     "text": [
      "The score: Train=0.5949662293458398  Val=0.7221624627853553\n",
      "The RMSE: Train=0.6364226352465477  Val=0.7694679714355298\n"
     ]
    }
   ],
   "source": [
    "# 模型评估\n",
    "ridgeScoreTrain = ridge.score(X_train_part, y_train_part)\n",
    "ridgeScoreVal = ridge.score(X_val_part, y_val_part)\n",
    "print('The score: Train=%s  Val=%s'% (ridgeScoreTrain, ridgeScoreVal)) \n",
    "\n",
    "ridge_predict_train = ridge.predict(X_train_part)\n",
    "rmseTrain = mean_squared_error(y_train_part, ridge_predict_train) ** 0.5\n",
    "ridge_predict_val = ridge.predict(X_val_part)\n",
    "rmseVal = mean_squared_error(y_val_part, ridge_predict_val) ** 0.5\n",
    "print('The RMSE: Train=%s  Val=%s' % (rmseTrain, rmseVal))\n",
    "\n",
    "#The score: Train=0.5949662293458398  Val=0.7221624627853553\n",
    "# The RMSE: Train=0.6364226352465477  Val=0.7694679714355298"
   ]
  },
  {
   "cell_type": "code",
   "execution_count": 48,
   "metadata": {
    "scrolled": true
   },
   "outputs": [
    {
     "name": "stdout",
     "output_type": "stream",
     "text": [
      "ridge_y_predict_test =  [[-0.02574998]\n",
      " [-0.02916905]\n",
      " [-0.02968864]\n",
      " ...\n",
      " [-0.04554132]\n",
      " [-0.02793688]\n",
      " [-0.02774284]]\n",
      "predict =  [[-0.06468358]\n",
      " [-0.28134823]\n",
      " [-0.31427403]\n",
      " ...\n",
      " [-1.31885044]\n",
      " [-0.20326628]\n",
      " [-0.19096989]]\n"
     ]
    }
   ],
   "source": [
    "#对测试数据进行预测\n",
    "ridge_y_predict_test = ridge.predict(test_X)\n",
    "print('ridge_y_predict_test = ', ridge_y_predict_test)\n",
    "\n",
    "# 标准化数据还原 \n",
    "ridge_y_predict_test = inverse_StandardScaler(ridge_y_predict_test)"
   ]
  },
  {
   "cell_type": "code",
   "execution_count": 56,
   "metadata": {},
   "outputs": [
    {
     "name": "stdout",
     "output_type": "stream",
     "text": [
      "pred_min=0.0\n"
     ]
    },
    {
     "data": {
      "text/html": [
       "<div>\n",
       "<style>\n",
       "    .dataframe thead tr:only-child th {\n",
       "        text-align: right;\n",
       "    }\n",
       "\n",
       "    .dataframe thead th {\n",
       "        text-align: left;\n",
       "    }\n",
       "\n",
       "    .dataframe tbody tr th {\n",
       "        vertical-align: top;\n",
       "    }\n",
       "</style>\n",
       "<table border=\"1\" class=\"dataframe\">\n",
       "  <thead>\n",
       "    <tr style=\"text-align: right;\">\n",
       "      <th></th>\n",
       "      <th>user_id</th>\n",
       "      <th>prediction_pay_price</th>\n",
       "    </tr>\n",
       "  </thead>\n",
       "  <tbody>\n",
       "    <tr>\n",
       "      <th>0</th>\n",
       "      <td>14933</td>\n",
       "      <td>84.3206</td>\n",
       "    </tr>\n",
       "    <tr>\n",
       "      <th>1</th>\n",
       "      <td>14934</td>\n",
       "      <td>84.1040</td>\n",
       "    </tr>\n",
       "    <tr>\n",
       "      <th>2</th>\n",
       "      <td>14935</td>\n",
       "      <td>84.0710</td>\n",
       "    </tr>\n",
       "    <tr>\n",
       "      <th>3</th>\n",
       "      <td>14936</td>\n",
       "      <td>85.1522</td>\n",
       "    </tr>\n",
       "    <tr>\n",
       "      <th>4</th>\n",
       "      <td>14937</td>\n",
       "      <td>84.0346</td>\n",
       "    </tr>\n",
       "  </tbody>\n",
       "</table>\n",
       "</div>"
      ],
      "text/plain": [
       "   user_id  prediction_pay_price\n",
       "0    14933               84.3206\n",
       "1    14934               84.1040\n",
       "2    14935               84.0710\n",
       "3    14936               85.1522\n",
       "4    14937               84.0346"
      ]
     },
     "execution_count": 56,
     "metadata": {},
     "output_type": "execute_result"
    }
   ],
   "source": [
    "# ridge_y_predict_test = move_up(ridge_y_predict_test)\n",
    "#输出预测后的数据\n",
    "testPredict = generate_summit(ridge_y_predict_test)\n",
    "#输出预测后的数据\n",
    "testPredict.to_csv(out_name %(summit_path, 'RidgeCV'), index=False)\n",
    "testPredict.head()"
   ]
  },
  {
   "cell_type": "markdown",
   "metadata": {},
   "source": [
    "### 3. 正则化的线性回归 ElasticNetCV "
   ]
  },
  {
   "cell_type": "code",
   "execution_count": 63,
   "metadata": {},
   "outputs": [
    {
     "name": "stderr",
     "output_type": "stream",
     "text": [
      "d:\\ProgramData\\Anaconda3\\lib\\site-packages\\sklearn\\linear_model\\coordinate_descent.py:491: ConvergenceWarning: Objective did not converge. You might want to increase the number of iterations. Fitting data with very small alpha may cause precision problems.\n",
      "  ConvergenceWarning)\n"
     ]
    },
    {
     "name": "stdout",
     "output_type": "stream",
     "text": [
      "Wall time: 14.7 s\n"
     ]
    }
   ],
   "source": [
    "%%time\n",
    "# l1_ratio = [.1, .2, .3, .4, .5, .6, .7, .8, .9]\n",
    "l1_ratio = [.1, .5, .7, .9, .95, .99, 1]\n",
    "# Lasso 模型实例\n",
    "elastic_net = ElasticNetCV(l1_ratio=l1_ratio, eps=0.001, n_jobs=-1)\n",
    "\n",
    "#进行模型训练\n",
    "y_train_part_1d = y_train_part.reshape(y_train_part.shape[0])\n",
    "elastic_net.fit(X_train_part, y_train_part_1d)"
   ]
  },
  {
   "cell_type": "code",
   "execution_count": 65,
   "metadata": {},
   "outputs": [
    {
     "name": "stdout",
     "output_type": "stream",
     "text": [
      "best alpha is:0.06755166083756958  l1_ratio_:1.0\n"
     ]
    },
    {
     "data": {
      "image/png": "[encoded data removed]",
      "text/plain": [
       "<matplotlib.figure.Figure at 0x12da5550>"
      ]
     },
     "metadata": {},
     "output_type": "display_data"
    }
   ],
   "source": [
    "## 3.1 Lasso 模型评价\n",
    "mses = np.mean(elastic_net.mse_path_, axis=1)\n",
    "\n",
    "#plt.plot(np.log10(alphas), mses)\n",
    "plt.plot(np.log10(elastic_net.alphas_), mses)\n",
    "# plt.show()  #绘制在一张图上，显示异常，暂时分开 \n",
    "\n",
    "plt.plot(np.log10(elastic_net.alpha_)*np.ones(3), [0.1, 0.5, .9])\n",
    "plt.xlabel('log(alpha)')\n",
    "plt.ylabel('mse')\n",
    "# plt.show() \n",
    "\n",
    "print ('best alpha is:%s  l1_ratio_:%s' % (elastic_net.alpha_, elastic_net.l1_ratio_))\n",
    "# best alpha is:1.853019181787895  l1_ratio_:0.1"
   ]
  },
  {
   "cell_type": "code",
   "execution_count": 66,
   "metadata": {},
   "outputs": [
    {
     "name": "stdout",
     "output_type": "stream",
     "text": [
      "The score of ElasticNet: Train=0.6252723535546627  Val=0.7812344063379026\n",
      "The RMSE: Train=0.6121500195583901  Val=0.682785982774603\n"
     ]
    }
   ],
   "source": [
    "# 模型评估\n",
    "elastic_netScoreTrain = elastic_net.score(X_train_part, y_train_part)\n",
    "elastic_netScoreVal = elastic_net.score(X_val_part, y_val_part)\n",
    "print('The score of ElasticNet: Train=%s  Val=%s'% (elastic_netScoreTrain, elastic_netScoreVal)) \n",
    "\n",
    "elastic_net_predict_train = elastic_net.predict(X_train_part)\n",
    "rmseTrain = mean_squared_error(y_train_part, elastic_net_predict_train) ** 0.5\n",
    "elastic_net_predict_val = elastic_net.predict(X_val_part)\n",
    "rmseVal = mean_squared_error(y_val_part, elastic_net_predict_val) ** 0.5\n",
    "print('The RMSE: Train=%s  Val=%s' % (rmseTrain, rmseVal))\n",
    "\n",
    "# The score of ElasticNet: Train=0.5933701157431497  Val=0.6918598273465699\n",
    "# The RMSE: Train=40.40916662890711  Val=51.351069750253906"
   ]
  },
  {
   "cell_type": "code",
   "execution_count": 67,
   "metadata": {},
   "outputs": [
    {
     "name": "stdout",
     "output_type": "stream",
     "text": [
      "elastic_net_predict_test =  [-0.02091785 -0.0221065  -0.0221065  ... -0.02134954 -0.0221065\n",
      " -0.0221065 ]\n",
      "predict =  [0.24152607 0.16620206 0.16620206 ... 0.21417011 0.16620206 0.16620206]\n"
     ]
    }
   ],
   "source": [
    "#对测试数据进行预测\n",
    "elastic_net_predict_test = elastic_net.predict(test_X)\n",
    "print('elastic_net_predict_test = ', elastic_net_predict_test)\n",
    "\n",
    "# 标准化数据还原 \n",
    "elastic_net_predict_test = inverse_StandardScaler(elastic_net_predict_test)"
   ]
  },
  {
   "cell_type": "code",
   "execution_count": 68,
   "metadata": {},
   "outputs": [
    {
     "data": {
      "text/html": [
       "<div>\n",
       "<style>\n",
       "    .dataframe thead tr:only-child th {\n",
       "        text-align: right;\n",
       "    }\n",
       "\n",
       "    .dataframe thead th {\n",
       "        text-align: left;\n",
       "    }\n",
       "\n",
       "    .dataframe tbody tr th {\n",
       "        vertical-align: top;\n",
       "    }\n",
       "</style>\n",
       "<table border=\"1\" class=\"dataframe\">\n",
       "  <thead>\n",
       "    <tr style=\"text-align: right;\">\n",
       "      <th></th>\n",
       "      <th>user_id</th>\n",
       "      <th>prediction_pay_price</th>\n",
       "    </tr>\n",
       "  </thead>\n",
       "  <tbody>\n",
       "    <tr>\n",
       "      <th>0</th>\n",
       "      <td>14933</td>\n",
       "      <td>0.2415</td>\n",
       "    </tr>\n",
       "    <tr>\n",
       "      <th>1</th>\n",
       "      <td>14934</td>\n",
       "      <td>0.1662</td>\n",
       "    </tr>\n",
       "    <tr>\n",
       "      <th>2</th>\n",
       "      <td>14935</td>\n",
       "      <td>0.1662</td>\n",
       "    </tr>\n",
       "    <tr>\n",
       "      <th>3</th>\n",
       "      <td>14936</td>\n",
       "      <td>0.1662</td>\n",
       "    </tr>\n",
       "    <tr>\n",
       "      <th>4</th>\n",
       "      <td>14937</td>\n",
       "      <td>0.1662</td>\n",
       "    </tr>\n",
       "  </tbody>\n",
       "</table>\n",
       "</div>"
      ],
      "text/plain": [
       "   user_id  prediction_pay_price\n",
       "0    14933                0.2415\n",
       "1    14934                0.1662\n",
       "2    14935                0.1662\n",
       "3    14936                0.1662\n",
       "4    14937                0.1662"
      ]
     },
     "execution_count": 68,
     "metadata": {},
     "output_type": "execute_result"
    }
   ],
   "source": [
    "testPredict = generate_summit(elastic_net_predict_test)\n",
    "#输出预测后的数据\n",
    "testPredict.to_csv(out_name %(summit_path, 'ElasticNetCV'), index=False)\n",
    "testPredict.head()"
   ]
  },
  {
   "cell_type": "code",
   "execution_count": null,
   "metadata": {
    "collapsed": true
   },
   "outputs": [],
   "source": []
  }
 ],
 "metadata": {
  "kernelspec": {
   "display_name": "Python 3",
   "language": "python",
   "name": "python3"
  },
  "language_info": {
   "codemirror_mode": {
    "name": "ipython",
    "version": 3
   },
   "file_extension": ".py",
   "mimetype": "text/x-python",
   "name": "python",
   "nbconvert_exporter": "python",
   "pygments_lexer": "ipython3",
   "version": "3.6.3"
  }
 },
 "nbformat": 4,
 "nbformat_minor": 2
}
