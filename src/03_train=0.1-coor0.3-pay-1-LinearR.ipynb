{
 "cells": [
  {
   "cell_type": "markdown",
   "metadata": {},
   "source": [
    "# 先用最小的数据集训练，看看效果。再逐渐扩大，比较效果。\n",
    "train=0.1.csv ：训练集的1/10，样本数= 228800\n",
    "## 线性回归"
   ]
  },
  {
   "cell_type": "code",
   "execution_count": 14,
   "metadata": {
    "collapsed": true
   },
   "outputs": [],
   "source": [
    "# 导入必要的工具包\n",
    "import numpy as np #用于数值计算\n",
    "import pandas as pd #用于数据表处理，数据文件读写\n",
    "from sklearn.preprocessing import StandardScaler\n",
    "\n",
    "import matplotlib.pyplot as plt #用于绘图：分析结果的可视化。\n",
    "import seaborn as sns #用于绘图：分析结果的可视化。封装更好。\n",
    "from IPython.display import display\n",
    "\n",
    "#应该是设置浮点数的形式格式，小数点后三位\n",
    "pd.set_option('display.float_format', lambda x: '%.4f' % x)\n",
    "\n",
    "#这一行是干嘛的？ 设置 matplotlib 让绘制的图形出现在 Notebook 里而不是新窗口\n",
    "%matplotlib inline"
   ]
  },
  {
   "cell_type": "code",
   "execution_count": 15,
   "metadata": {},
   "outputs": [
    {
     "data": {
      "text/html": [
       "<div>\n",
       "<style>\n",
       "    .dataframe thead tr:only-child th {\n",
       "        text-align: right;\n",
       "    }\n",
       "\n",
       "    .dataframe thead th {\n",
       "        text-align: left;\n",
       "    }\n",
       "\n",
       "    .dataframe tbody tr th {\n",
       "        vertical-align: top;\n",
       "    }\n",
       "</style>\n",
       "<table border=\"1\" class=\"dataframe\">\n",
       "  <thead>\n",
       "    <tr style=\"text-align: right;\">\n",
       "      <th></th>\n",
       "      <th>user_id</th>\n",
       "      <th>sr_infantry_atk_level</th>\n",
       "      <th>magic_add_value</th>\n",
       "      <th>cavalry_add_value</th>\n",
       "      <th>sr_rss_e_gather_level</th>\n",
       "      <th>sr_cavalry_atk_level</th>\n",
       "      <th>sr_march_size_level</th>\n",
       "      <th>sr_outpost_tier_4_level</th>\n",
       "      <th>sr_guest_troop_capacity_level</th>\n",
       "      <th>sr_shaman_atk_level</th>\n",
       "      <th>...</th>\n",
       "      <th>wood_reduce_value</th>\n",
       "      <th>general_acceleration_add_value</th>\n",
       "      <th>wood_add_value</th>\n",
       "      <th>stone_add_value</th>\n",
       "      <th>general_acceleration_reduce_value</th>\n",
       "      <th>ivory_reduce_value</th>\n",
       "      <th>ivory_add_value</th>\n",
       "      <th>stone_reduce_value</th>\n",
       "      <th>pay_price</th>\n",
       "      <th>prediction_pay_price</th>\n",
       "    </tr>\n",
       "  </thead>\n",
       "  <tbody>\n",
       "    <tr>\n",
       "      <th>0</th>\n",
       "      <td>878466</td>\n",
       "      <td>1</td>\n",
       "      <td>970840.0000</td>\n",
       "      <td>420</td>\n",
       "      <td>0</td>\n",
       "      <td>0</td>\n",
       "      <td>0</td>\n",
       "      <td>0</td>\n",
       "      <td>0</td>\n",
       "      <td>0</td>\n",
       "      <td>...</td>\n",
       "      <td>4235090.0000</td>\n",
       "      <td>659</td>\n",
       "      <td>4788674.0000</td>\n",
       "      <td>3014688.0000</td>\n",
       "      <td>478</td>\n",
       "      <td>0.0000</td>\n",
       "      <td>1045000.0000</td>\n",
       "      <td>2102260.0000</td>\n",
       "      <td>2.9800</td>\n",
       "      <td>2.9800</td>\n",
       "    </tr>\n",
       "    <tr>\n",
       "      <th>1</th>\n",
       "      <td>2078768</td>\n",
       "      <td>0</td>\n",
       "      <td>1547887.0000</td>\n",
       "      <td>1265</td>\n",
       "      <td>0</td>\n",
       "      <td>0</td>\n",
       "      <td>0</td>\n",
       "      <td>0</td>\n",
       "      <td>0</td>\n",
       "      <td>1</td>\n",
       "      <td>...</td>\n",
       "      <td>6394213.0000</td>\n",
       "      <td>4248</td>\n",
       "      <td>9964534.0000</td>\n",
       "      <td>4504160.0000</td>\n",
       "      <td>730</td>\n",
       "      <td>0.0000</td>\n",
       "      <td>1702932.0000</td>\n",
       "      <td>2281412.0000</td>\n",
       "      <td>1.9800</td>\n",
       "      <td>1.9800</td>\n",
       "    </tr>\n",
       "    <tr>\n",
       "      <th>2</th>\n",
       "      <td>66889</td>\n",
       "      <td>0</td>\n",
       "      <td>30301.0000</td>\n",
       "      <td>0</td>\n",
       "      <td>0</td>\n",
       "      <td>0</td>\n",
       "      <td>0</td>\n",
       "      <td>0</td>\n",
       "      <td>0</td>\n",
       "      <td>0</td>\n",
       "      <td>...</td>\n",
       "      <td>545664.0000</td>\n",
       "      <td>932</td>\n",
       "      <td>1853155.0000</td>\n",
       "      <td>1020000.0000</td>\n",
       "      <td>13</td>\n",
       "      <td>0.0000</td>\n",
       "      <td>503000.0000</td>\n",
       "      <td>0.0000</td>\n",
       "      <td>0.9900</td>\n",
       "      <td>0.9900</td>\n",
       "    </tr>\n",
       "    <tr>\n",
       "      <th>3</th>\n",
       "      <td>3169202</td>\n",
       "      <td>1</td>\n",
       "      <td>3576488.0000</td>\n",
       "      <td>4345</td>\n",
       "      <td>0</td>\n",
       "      <td>1</td>\n",
       "      <td>0</td>\n",
       "      <td>0</td>\n",
       "      <td>0</td>\n",
       "      <td>1</td>\n",
       "      <td>...</td>\n",
       "      <td>12919086.0000</td>\n",
       "      <td>6110</td>\n",
       "      <td>14578830.0000</td>\n",
       "      <td>6907604.0000</td>\n",
       "      <td>6110</td>\n",
       "      <td>1565976.0000</td>\n",
       "      <td>3787258.0000</td>\n",
       "      <td>5026825.0000</td>\n",
       "      <td>0.9900</td>\n",
       "      <td>0.9900</td>\n",
       "    </tr>\n",
       "    <tr>\n",
       "      <th>4</th>\n",
       "      <td>878159</td>\n",
       "      <td>0</td>\n",
       "      <td>41091.0000</td>\n",
       "      <td>0</td>\n",
       "      <td>0</td>\n",
       "      <td>0</td>\n",
       "      <td>0</td>\n",
       "      <td>0</td>\n",
       "      <td>0</td>\n",
       "      <td>0</td>\n",
       "      <td>...</td>\n",
       "      <td>1431281.0000</td>\n",
       "      <td>56</td>\n",
       "      <td>2462137.0000</td>\n",
       "      <td>1000000.0000</td>\n",
       "      <td>56</td>\n",
       "      <td>0.0000</td>\n",
       "      <td>506000.0000</td>\n",
       "      <td>0.0000</td>\n",
       "      <td>0.9900</td>\n",
       "      <td>0.9900</td>\n",
       "    </tr>\n",
       "  </tbody>\n",
       "</table>\n",
       "<p>5 rows × 49 columns</p>\n",
       "</div>"
      ],
      "text/plain": [
       "   user_id  sr_infantry_atk_level  magic_add_value  cavalry_add_value  \\\n",
       "0   878466                      1      970840.0000                420   \n",
       "1  2078768                      0     1547887.0000               1265   \n",
       "2    66889                      0       30301.0000                  0   \n",
       "3  3169202                      1     3576488.0000               4345   \n",
       "4   878159                      0       41091.0000                  0   \n",
       "\n",
       "   sr_rss_e_gather_level  sr_cavalry_atk_level  sr_march_size_level  \\\n",
       "0                      0                     0                    0   \n",
       "1                      0                     0                    0   \n",
       "2                      0                     0                    0   \n",
       "3                      0                     1                    0   \n",
       "4                      0                     0                    0   \n",
       "\n",
       "   sr_outpost_tier_4_level  sr_guest_troop_capacity_level  \\\n",
       "0                        0                              0   \n",
       "1                        0                              0   \n",
       "2                        0                              0   \n",
       "3                        0                              0   \n",
       "4                        0                              0   \n",
       "\n",
       "   sr_shaman_atk_level          ...           wood_reduce_value  \\\n",
       "0                    0          ...                4235090.0000   \n",
       "1                    1          ...                6394213.0000   \n",
       "2                    0          ...                 545664.0000   \n",
       "3                    1          ...               12919086.0000   \n",
       "4                    0          ...                1431281.0000   \n",
       "\n",
       "   general_acceleration_add_value  wood_add_value  stone_add_value  \\\n",
       "0                             659    4788674.0000     3014688.0000   \n",
       "1                            4248    9964534.0000     4504160.0000   \n",
       "2                             932    1853155.0000     1020000.0000   \n",
       "3                            6110   14578830.0000     6907604.0000   \n",
       "4                              56    2462137.0000     1000000.0000   \n",
       "\n",
       "   general_acceleration_reduce_value  ivory_reduce_value  ivory_add_value  \\\n",
       "0                                478              0.0000     1045000.0000   \n",
       "1                                730              0.0000     1702932.0000   \n",
       "2                                 13              0.0000      503000.0000   \n",
       "3                               6110        1565976.0000     3787258.0000   \n",
       "4                                 56              0.0000      506000.0000   \n",
       "\n",
       "   stone_reduce_value  pay_price  prediction_pay_price  \n",
       "0        2102260.0000     2.9800                2.9800  \n",
       "1        2281412.0000     1.9800                1.9800  \n",
       "2              0.0000     0.9900                0.9900  \n",
       "3        5026825.0000     0.9900                0.9900  \n",
       "4              0.0000     0.9900                0.9900  \n",
       "\n",
       "[5 rows x 49 columns]"
      ]
     },
     "execution_count": 15,
     "metadata": {},
     "output_type": "execute_result"
    }
   ],
   "source": [
    "Y_Standard = False\n",
    "# 生成的结果文件编号\n",
    "out_id = '_1'\n",
    "\n",
    "#读取训练数据: \n",
    "dpath = '../data/new/'\n",
    "summit_path = '../data/summit/'\n",
    "train = pd.read_csv(dpath + 'train=0.1-fe-coor0.3-pay.csv')\n",
    "train.head()"
   ]
  },
  {
   "cell_type": "code",
   "execution_count": 16,
   "metadata": {
    "scrolled": true
   },
   "outputs": [
    {
     "data": {
      "text/html": [
       "<div>\n",
       "<style>\n",
       "    .dataframe thead tr:only-child th {\n",
       "        text-align: right;\n",
       "    }\n",
       "\n",
       "    .dataframe thead th {\n",
       "        text-align: left;\n",
       "    }\n",
       "\n",
       "    .dataframe tbody tr th {\n",
       "        vertical-align: top;\n",
       "    }\n",
       "</style>\n",
       "<table border=\"1\" class=\"dataframe\">\n",
       "  <thead>\n",
       "    <tr style=\"text-align: right;\">\n",
       "      <th></th>\n",
       "      <th>user_id</th>\n",
       "      <th>sr_infantry_atk_level</th>\n",
       "      <th>magic_add_value</th>\n",
       "      <th>cavalry_add_value</th>\n",
       "      <th>sr_rss_e_gather_level</th>\n",
       "      <th>sr_cavalry_atk_level</th>\n",
       "      <th>sr_march_size_level</th>\n",
       "      <th>sr_outpost_tier_4_level</th>\n",
       "      <th>sr_guest_troop_capacity_level</th>\n",
       "      <th>sr_shaman_atk_level</th>\n",
       "      <th>...</th>\n",
       "      <th>training_acceleration_reduce_value</th>\n",
       "      <th>wood_reduce_value</th>\n",
       "      <th>general_acceleration_add_value</th>\n",
       "      <th>wood_add_value</th>\n",
       "      <th>stone_add_value</th>\n",
       "      <th>general_acceleration_reduce_value</th>\n",
       "      <th>ivory_reduce_value</th>\n",
       "      <th>ivory_add_value</th>\n",
       "      <th>stone_reduce_value</th>\n",
       "      <th>pay_price</th>\n",
       "    </tr>\n",
       "  </thead>\n",
       "  <tbody>\n",
       "    <tr>\n",
       "      <th>0</th>\n",
       "      <td>14933</td>\n",
       "      <td>0</td>\n",
       "      <td>0</td>\n",
       "      <td>0</td>\n",
       "      <td>0</td>\n",
       "      <td>0</td>\n",
       "      <td>0</td>\n",
       "      <td>0</td>\n",
       "      <td>0</td>\n",
       "      <td>0</td>\n",
       "      <td>...</td>\n",
       "      <td>0</td>\n",
       "      <td>138362.0000</td>\n",
       "      <td>3</td>\n",
       "      <td>166415.0000</td>\n",
       "      <td>0</td>\n",
       "      <td>0</td>\n",
       "      <td>0</td>\n",
       "      <td>0</td>\n",
       "      <td>0</td>\n",
       "      <td>0.0000</td>\n",
       "    </tr>\n",
       "    <tr>\n",
       "      <th>1</th>\n",
       "      <td>14934</td>\n",
       "      <td>0</td>\n",
       "      <td>0</td>\n",
       "      <td>0</td>\n",
       "      <td>0</td>\n",
       "      <td>0</td>\n",
       "      <td>0</td>\n",
       "      <td>0</td>\n",
       "      <td>0</td>\n",
       "      <td>0</td>\n",
       "      <td>...</td>\n",
       "      <td>0</td>\n",
       "      <td>600.0000</td>\n",
       "      <td>0</td>\n",
       "      <td>10000.0000</td>\n",
       "      <td>0</td>\n",
       "      <td>0</td>\n",
       "      <td>0</td>\n",
       "      <td>0</td>\n",
       "      <td>0</td>\n",
       "      <td>0.0000</td>\n",
       "    </tr>\n",
       "    <tr>\n",
       "      <th>2</th>\n",
       "      <td>14935</td>\n",
       "      <td>0</td>\n",
       "      <td>0</td>\n",
       "      <td>0</td>\n",
       "      <td>0</td>\n",
       "      <td>0</td>\n",
       "      <td>0</td>\n",
       "      <td>0</td>\n",
       "      <td>0</td>\n",
       "      <td>0</td>\n",
       "      <td>...</td>\n",
       "      <td>0</td>\n",
       "      <td>3700.0000</td>\n",
       "      <td>0</td>\n",
       "      <td>10000.0000</td>\n",
       "      <td>0</td>\n",
       "      <td>0</td>\n",
       "      <td>0</td>\n",
       "      <td>0</td>\n",
       "      <td>0</td>\n",
       "      <td>0.0000</td>\n",
       "    </tr>\n",
       "    <tr>\n",
       "      <th>3</th>\n",
       "      <td>14936</td>\n",
       "      <td>0</td>\n",
       "      <td>60000</td>\n",
       "      <td>0</td>\n",
       "      <td>0</td>\n",
       "      <td>0</td>\n",
       "      <td>0</td>\n",
       "      <td>0</td>\n",
       "      <td>0</td>\n",
       "      <td>0</td>\n",
       "      <td>...</td>\n",
       "      <td>0</td>\n",
       "      <td>0.0000</td>\n",
       "      <td>660</td>\n",
       "      <td>210000.0000</td>\n",
       "      <td>200000</td>\n",
       "      <td>0</td>\n",
       "      <td>0</td>\n",
       "      <td>200000</td>\n",
       "      <td>0</td>\n",
       "      <td>0.0000</td>\n",
       "    </tr>\n",
       "    <tr>\n",
       "      <th>4</th>\n",
       "      <td>14937</td>\n",
       "      <td>0</td>\n",
       "      <td>0</td>\n",
       "      <td>0</td>\n",
       "      <td>0</td>\n",
       "      <td>0</td>\n",
       "      <td>0</td>\n",
       "      <td>0</td>\n",
       "      <td>0</td>\n",
       "      <td>0</td>\n",
       "      <td>...</td>\n",
       "      <td>0</td>\n",
       "      <td>3700.0000</td>\n",
       "      <td>0</td>\n",
       "      <td>11500.0000</td>\n",
       "      <td>0</td>\n",
       "      <td>0</td>\n",
       "      <td>0</td>\n",
       "      <td>0</td>\n",
       "      <td>0</td>\n",
       "      <td>0.0000</td>\n",
       "    </tr>\n",
       "  </tbody>\n",
       "</table>\n",
       "<p>5 rows × 48 columns</p>\n",
       "</div>"
      ],
      "text/plain": [
       "   user_id  sr_infantry_atk_level  magic_add_value  cavalry_add_value  \\\n",
       "0    14933                      0                0                  0   \n",
       "1    14934                      0                0                  0   \n",
       "2    14935                      0                0                  0   \n",
       "3    14936                      0            60000                  0   \n",
       "4    14937                      0                0                  0   \n",
       "\n",
       "   sr_rss_e_gather_level  sr_cavalry_atk_level  sr_march_size_level  \\\n",
       "0                      0                     0                    0   \n",
       "1                      0                     0                    0   \n",
       "2                      0                     0                    0   \n",
       "3                      0                     0                    0   \n",
       "4                      0                     0                    0   \n",
       "\n",
       "   sr_outpost_tier_4_level  sr_guest_troop_capacity_level  \\\n",
       "0                        0                              0   \n",
       "1                        0                              0   \n",
       "2                        0                              0   \n",
       "3                        0                              0   \n",
       "4                        0                              0   \n",
       "\n",
       "   sr_shaman_atk_level    ...      training_acceleration_reduce_value  \\\n",
       "0                    0    ...                                       0   \n",
       "1                    0    ...                                       0   \n",
       "2                    0    ...                                       0   \n",
       "3                    0    ...                                       0   \n",
       "4                    0    ...                                       0   \n",
       "\n",
       "   wood_reduce_value  general_acceleration_add_value  wood_add_value  \\\n",
       "0        138362.0000                               3     166415.0000   \n",
       "1           600.0000                               0      10000.0000   \n",
       "2          3700.0000                               0      10000.0000   \n",
       "3             0.0000                             660     210000.0000   \n",
       "4          3700.0000                               0      11500.0000   \n",
       "\n",
       "   stone_add_value  general_acceleration_reduce_value  ivory_reduce_value  \\\n",
       "0                0                                  0                   0   \n",
       "1                0                                  0                   0   \n",
       "2                0                                  0                   0   \n",
       "3           200000                                  0                   0   \n",
       "4                0                                  0                   0   \n",
       "\n",
       "   ivory_add_value  stone_reduce_value  pay_price  \n",
       "0                0                   0     0.0000  \n",
       "1                0                   0     0.0000  \n",
       "2                0                   0     0.0000  \n",
       "3           200000                   0     0.0000  \n",
       "4                0                   0     0.0000  \n",
       "\n",
       "[5 rows x 48 columns]"
      ]
     },
     "execution_count": 16,
     "metadata": {},
     "output_type": "execute_result"
    }
   ],
   "source": [
    "test = pd.read_csv(dpath + 'tap_fun_test-fe-coor0.3.csv')\n",
    "test.head()"
   ]
  },
  {
   "cell_type": "code",
   "execution_count": 17,
   "metadata": {
    "collapsed": true
   },
   "outputs": [],
   "source": [
    "# 从原始数据中分离输入特征x和输出y\n",
    "target = 'prediction_pay_price'\n",
    "id = 'user_id'\n",
    "train_y = train[target].values\n",
    "train_X = train.drop([target, id], axis = 1)\n",
    "\n",
    "# test_id = test[id]\n",
    "test_X = test.drop([id], axis = 1)"
   ]
  },
  {
   "cell_type": "markdown",
   "metadata": {},
   "source": [
    "## 数据标准化"
   ]
  },
  {
   "cell_type": "code",
   "execution_count": 18,
   "metadata": {
    "collapsed": true
   },
   "outputs": [],
   "source": [
    "# 分别初始化对特征和目标值的标准化器\n",
    "ss_X = StandardScaler()\n",
    "ss_y = StandardScaler()\n",
    "\n",
    "# 分别对训练和测试数据的特征以及目标值进行标准化处理\n",
    "train_X = ss_X.fit_transform(train_X)\n",
    "test_X = ss_X.transform(test_X)\n",
    "\n",
    "# 无论是否标准化 train_y 得到的预测结果相同\n",
    "if Y_Standard:\n",
    "    train_y = ss_y.fit_transform(train_y.reshape(-1, 1))"
   ]
  },
  {
   "cell_type": "code",
   "execution_count": 19,
   "metadata": {
    "collapsed": true
   },
   "outputs": [],
   "source": [
    "# 标准化数据还原 \n",
    "def inverse_StandardScaler(predict):\n",
    "    if Y_Standard:\n",
    "        predict = ss_y.inverse_transform(predict)\n",
    "        print('predict = ', predict)\n",
    "    return predict"
   ]
  },
  {
   "cell_type": "markdown",
   "metadata": {},
   "source": [
    "## 模型训练\n",
    "### 1. 尝试缺省参数的线性回归：最小二乘"
   ]
  },
  {
   "cell_type": "code",
   "execution_count": 20,
   "metadata": {
    "scrolled": true
   },
   "outputs": [
    {
     "data": {
      "text/plain": [
       "array([ 10.93602871,  65.70778859, -13.9718324 , ...,  20.45705175,\n",
       "        47.37858823,  39.54225215])"
      ]
     },
     "execution_count": 20,
     "metadata": {},
     "output_type": "execute_result"
    }
   ],
   "source": [
    "from sklearn.linear_model import LinearRegression\n",
    "\n",
    "# 使用默认配置初始化：各个参数的含义还不明白\n",
    "lr = LinearRegression()\n",
    "\n",
    "# 训练模型参数\n",
    "lr.fit(train_X, train_y)\n",
    "\n",
    "# 预测，下面计算 score 会自动调用 predict\n",
    "# lr_y_predict = lr.predict(test_X)\n",
    "lr_y_predict_train = lr.predict(train_X)\n",
    "lr_y_predict_train"
   ]
  },
  {
   "cell_type": "code",
   "execution_count": 21,
   "metadata": {},
   "outputs": [
    {
     "name": "stdout",
     "output_type": "stream",
     "text": [
      "The value of default measurement of LinearRegression on train is 0.765645302023\n"
     ]
    }
   ],
   "source": [
    "#训练集\n",
    "lrScoreTrain = lr.score(train_X, train_y)\n",
    "print('The value of default measurement of LinearRegression on train is', lrScoreTrain) \n",
    "# The value of default measurement of LinearRegression on train is 0.765645302023"
   ]
  },
  {
   "cell_type": "code",
   "execution_count": 22,
   "metadata": {},
   "outputs": [
    {
     "data": {
      "text/plain": [
       "<matplotlib.legend.Legend at 0x1d58054a630>"
      ]
     },
     "execution_count": 22,
     "metadata": {},
     "output_type": "execute_result"
    },
    {
     "data": {
      "image/png": "[encoded data removed]",
      "text/plain": [
       "<matplotlib.figure.Figure at 0x1d580503a90>"
      ]
     },
     "metadata": {},
     "output_type": "display_data"
    }
   ],
   "source": [
    "#在训练集上观察预测残差的分布，看是否符合模型假设：噪声为0均值的高斯噪声\n",
    "f, ax = plt.subplots(figsize=(7, 5)) \n",
    "f.tight_layout() \n",
    "ax.hist(train_y - lr_y_predict_train, bins=50, label='Residuals Linear', color='b', alpha=.5); \n",
    "ax.set_title(\"Histogram of Residuals\") \n",
    "ax.legend(loc='best') "
   ]
  },
  {
   "cell_type": "code",
   "execution_count": 23,
   "metadata": {},
   "outputs": [
    {
     "data": {
      "image/png": "[encoded data removed]",
      "text/plain": [
       "<matplotlib.figure.Figure at 0x1d580521940>"
      ]
     },
     "metadata": {},
     "output_type": "display_data"
    }
   ],
   "source": [
    "#观察预测值与真值的散点图\n",
    "plt.figure(figsize=(8, 6))\n",
    "plt.scatter(train_y, lr_y_predict_train)\n",
    "plt.plot([-3, 3], [-3, 3], '--k')   #数据已经标准化，3倍标准差即可\n",
    "plt.axis('tight')\n",
    "plt.xlabel('True price')\n",
    "plt.ylabel('Predicted price')\n",
    "plt.tight_layout()"
   ]
  },
  {
   "cell_type": "markdown",
   "metadata": {},
   "source": [
    "## 1.2 LinearRegression 模型应用"
   ]
  },
  {
   "cell_type": "code",
   "execution_count": 24,
   "metadata": {},
   "outputs": [
    {
     "name": "stdout",
     "output_type": "stream",
     "text": [
      "lr_y_predict_test =  [-21.75282012 -21.55933804 -21.61631388 ..., -19.33395744 -21.75226651\n",
      " -21.75226651]\n"
     ]
    }
   ],
   "source": [
    "#对测试数据进行预测\n",
    "lr_y_predict_test = lr.predict(test_X)\n",
    "print('lr_y_predict_test = ', lr_y_predict_test)\n",
    "\n",
    "# 标准化数据还原 \n",
    "lr_y_predict_test = inverse_StandardScaler(lr_y_predict_test)"
   ]
  },
  {
   "cell_type": "code",
   "execution_count": 25,
   "metadata": {
    "scrolled": false
   },
   "outputs": [
    {
     "data": {
      "text/html": [
       "<div>\n",
       "<style>\n",
       "    .dataframe thead tr:only-child th {\n",
       "        text-align: right;\n",
       "    }\n",
       "\n",
       "    .dataframe thead th {\n",
       "        text-align: left;\n",
       "    }\n",
       "\n",
       "    .dataframe tbody tr th {\n",
       "        vertical-align: top;\n",
       "    }\n",
       "</style>\n",
       "<table border=\"1\" class=\"dataframe\">\n",
       "  <thead>\n",
       "    <tr style=\"text-align: right;\">\n",
       "      <th></th>\n",
       "      <th>user_id</th>\n",
       "      <th>prediction_pay_price</th>\n",
       "    </tr>\n",
       "  </thead>\n",
       "  <tbody>\n",
       "    <tr>\n",
       "      <th>0</th>\n",
       "      <td>14933</td>\n",
       "      <td>0.0000</td>\n",
       "    </tr>\n",
       "    <tr>\n",
       "      <th>1</th>\n",
       "      <td>14934</td>\n",
       "      <td>0.0000</td>\n",
       "    </tr>\n",
       "    <tr>\n",
       "      <th>2</th>\n",
       "      <td>14935</td>\n",
       "      <td>0.0000</td>\n",
       "    </tr>\n",
       "    <tr>\n",
       "      <th>3</th>\n",
       "      <td>14936</td>\n",
       "      <td>0.0000</td>\n",
       "    </tr>\n",
       "    <tr>\n",
       "      <th>4</th>\n",
       "      <td>14937</td>\n",
       "      <td>0.0000</td>\n",
       "    </tr>\n",
       "  </tbody>\n",
       "</table>\n",
       "</div>"
      ],
      "text/plain": [
       "   user_id  prediction_pay_price\n",
       "0    14933                0.0000\n",
       "1    14934                0.0000\n",
       "2    14935                0.0000\n",
       "3    14936                0.0000\n",
       "4    14937                0.0000"
      ]
     },
     "execution_count": 25,
     "metadata": {},
     "output_type": "execute_result"
    }
   ],
   "source": [
    "#输出预测后的数据\n",
    "def generate_summit(predict):\n",
    "    testPredict = test.copy()\n",
    "    testPredict[target] = predict\n",
    "    testPredict = testPredict[[id,target]]\n",
    "    testPredict[target] = testPredict[target].apply(lambda x: x if x > 0 else 0)\n",
    "    return testPredict\n",
    "\n",
    "#输出预测后的数据\n",
    "testPredict = generate_summit(lr_y_predict_test)\n",
    "testPredict.head()"
   ]
  },
  {
   "cell_type": "code",
   "execution_count": 26,
   "metadata": {},
   "outputs": [
    {
     "data": {
      "text/plain": [
       "(828934, 2)"
      ]
     },
     "execution_count": 26,
     "metadata": {},
     "output_type": "execute_result"
    }
   ],
   "source": [
    "#输出预测后的数据\n",
    "testPredict.to_csv(summit_path + 'summit0.1-coor0.3-pay-Linear'+out_id+'.csv', index=False)\n",
    "testPredict.shape"
   ]
  },
  {
   "cell_type": "markdown",
   "metadata": {},
   "source": [
    "## 1.3 线性模型，随机梯度下降优化模型参数"
   ]
  },
  {
   "cell_type": "code",
   "execution_count": 27,
   "metadata": {},
   "outputs": [
    {
     "name": "stdout",
     "output_type": "stream",
     "text": [
      "The value of default measurement of SGDRegressor on train is -7.57144451316e+16\n",
      "sgdrScoreTrain - lrScoreTrain =  -7.57144451316e+16\n"
     ]
    }
   ],
   "source": [
    "# 随机梯度下降一般在大数据集上应用 \n",
    "from sklearn.linear_model import SGDRegressor\n",
    "\n",
    "# 使用默认配置初始化线\n",
    "sgdr = SGDRegressor(max_iter=1000)\n",
    "\n",
    "# 训练：参数估计\n",
    "sgdr.fit(train_X, train_y)\n",
    "\n",
    "# 使用 SGDRegressor 模型自带的评估模块，并输出评估结果\n",
    "#训练集\n",
    "sgdrScoreTrain = sgdr.score(train_X, train_y)\n",
    "print('The value of default measurement of SGDRegressor on train is', sgdrScoreTrain)\n",
    "print('sgdrScoreTrain - lrScoreTrain = ', sgdrScoreTrain - lrScoreTrain)\n",
    "# The value of default measurement of SGDRegressor on train is -1.13835004638e+21\n",
    "# sgdrScoreTrain - lrScoreTrain =  -1.13835004638e+21"
   ]
  },
  {
   "cell_type": "markdown",
   "metadata": {},
   "source": [
    "## 2 正则化的线性回归（L2正则 --> 岭回归）"
   ]
  },
  {
   "cell_type": "code",
   "execution_count": 28,
   "metadata": {},
   "outputs": [
    {
     "data": {
      "text/plain": [
       "RidgeCV(alphas=[0.1, 1000, 10000, 11000, 11100, 11110, 11200, 12000, 100000, 1000000],\n",
       "    cv=None, fit_intercept=True, gcv_mode=None, normalize=False,\n",
       "    scoring=None, store_cv_values=True)"
      ]
     },
     "execution_count": 28,
     "metadata": {},
     "output_type": "execute_result"
    }
   ],
   "source": [
    "#岭回归／L2正则\n",
    "from sklearn.linear_model import RidgeCV\n",
    "\n",
    "#正则项的参数\n",
    "# alphas = [0.01, 0.1, 1, 10, 100]\n",
    "alphas = [0.1, 1000, 10000, 11000, 11100, 11110, 11200, 12000, 100000, 1000000]\n",
    "\n",
    "#创建岭回归模块实例\n",
    "reg = RidgeCV(alphas=alphas, store_cv_values=True)\n",
    "\n",
    "#进行模型训练\n",
    "reg.fit(train_X, train_y)"
   ]
  },
  {
   "cell_type": "code",
   "execution_count": 29,
   "metadata": {},
   "outputs": [
    {
     "name": "stdout",
     "output_type": "stream",
     "text": [
      "best alpha is: 11100.0\n"
     ]
    },
    {
     "data": {
      "image/png": "[encoded data removed]",
      "text/plain": [
       "<matplotlib.figure.Figure at 0x1d58071a1d0>"
      ]
     },
     "metadata": {},
     "output_type": "display_data"
    }
   ],
   "source": [
    "### 2.1 岭回归模型评价\n",
    "mse_mean = np.mean(reg.cv_values_, axis=0)\n",
    "\n",
    "#正则项参数取对数， mse_mean.reshape() 干什么的？拉平\n",
    "plt.plot(np.log10(alphas), mse_mean.reshape(len(alphas), 1))\n",
    "# 在最佳参数位置绘制竖线：注意第二个参数值要和 Y 坐标轴匹配\n",
    "plt.plot(np.log10(reg.alpha_)*np.ones(3), [0.33, 0.55, 0.99])\n",
    "# plt.show() #绘制在一张图上，显示异常，暂时分开 \n",
    "\n",
    "plt.xlabel('log(alpha)')\n",
    "plt.ylabel('mse')\n",
    "\n",
    "print('best alpha is:', reg.alpha_)"
   ]
  },
  {
   "cell_type": "code",
   "execution_count": 30,
   "metadata": {},
   "outputs": [
    {
     "name": "stdout",
     "output_type": "stream",
     "text": [
      "The value of default measurement of RidgeRegression on train is 0.633948526875\n",
      "ridgeScoreTrain - lrScoreTrain =  -0.131696775147\n"
     ]
    }
   ],
   "source": [
    "## 2.2 岭回归 模型与 LinearRegression 的比较\n",
    "# 使用 RidgeCV 模型自带的评估模块（r2_score），并输出评估结果\n",
    "#训练集\n",
    "ridgeScoreTrain = reg.score(train_X, train_y)\n",
    "print('The value of default measurement of RidgeRegression on train is', ridgeScoreTrain) \n",
    "print('ridgeScoreTrain - lrScoreTrain = ', ridgeScoreTrain - lrScoreTrain)\n",
    "# The value of default measurement of RidgeRegression on train is 0.633948526875\n",
    "# ridgeScoreTrain - lrScoreTrain =  -0.131696775147"
   ]
  },
  {
   "cell_type": "code",
   "execution_count": 31,
   "metadata": {},
   "outputs": [
    {
     "name": "stdout",
     "output_type": "stream",
     "text": [
      "ridge_y_predict_test =  [-18.88942401 -19.80936475 -19.80744419 ..., -19.45165126 -19.81638735\n",
      " -19.81638735]\n"
     ]
    }
   ],
   "source": [
    "#对测试数据进行预测\n",
    "ridge_y_predict_test = reg.predict(test_X)\n",
    "print('ridge_y_predict_test = ', ridge_y_predict_test)\n",
    "\n",
    "# 标准化数据还原 \n",
    "ridge_y_predict_test = inverse_StandardScaler(ridge_y_predict_test)"
   ]
  },
  {
   "cell_type": "code",
   "execution_count": 32,
   "metadata": {},
   "outputs": [
    {
     "data": {
      "text/html": [
       "<div>\n",
       "<style>\n",
       "    .dataframe thead tr:only-child th {\n",
       "        text-align: right;\n",
       "    }\n",
       "\n",
       "    .dataframe thead th {\n",
       "        text-align: left;\n",
       "    }\n",
       "\n",
       "    .dataframe tbody tr th {\n",
       "        vertical-align: top;\n",
       "    }\n",
       "</style>\n",
       "<table border=\"1\" class=\"dataframe\">\n",
       "  <thead>\n",
       "    <tr style=\"text-align: right;\">\n",
       "      <th></th>\n",
       "      <th>user_id</th>\n",
       "      <th>prediction_pay_price</th>\n",
       "    </tr>\n",
       "  </thead>\n",
       "  <tbody>\n",
       "    <tr>\n",
       "      <th>0</th>\n",
       "      <td>14933</td>\n",
       "      <td>0.0000</td>\n",
       "    </tr>\n",
       "    <tr>\n",
       "      <th>1</th>\n",
       "      <td>14934</td>\n",
       "      <td>0.0000</td>\n",
       "    </tr>\n",
       "    <tr>\n",
       "      <th>2</th>\n",
       "      <td>14935</td>\n",
       "      <td>0.0000</td>\n",
       "    </tr>\n",
       "    <tr>\n",
       "      <th>3</th>\n",
       "      <td>14936</td>\n",
       "      <td>0.0000</td>\n",
       "    </tr>\n",
       "    <tr>\n",
       "      <th>4</th>\n",
       "      <td>14937</td>\n",
       "      <td>0.0000</td>\n",
       "    </tr>\n",
       "  </tbody>\n",
       "</table>\n",
       "</div>"
      ],
      "text/plain": [
       "   user_id  prediction_pay_price\n",
       "0    14933                0.0000\n",
       "1    14934                0.0000\n",
       "2    14935                0.0000\n",
       "3    14936                0.0000\n",
       "4    14937                0.0000"
      ]
     },
     "execution_count": 32,
     "metadata": {},
     "output_type": "execute_result"
    }
   ],
   "source": [
    "#输出预测后的数据\n",
    "testPredict = generate_summit(ridge_y_predict_test)\n",
    "testPredict.head()"
   ]
  },
  {
   "cell_type": "code",
   "execution_count": 33,
   "metadata": {},
   "outputs": [
    {
     "data": {
      "text/plain": [
       "(828934, 2)"
      ]
     },
     "execution_count": 33,
     "metadata": {},
     "output_type": "execute_result"
    }
   ],
   "source": [
    "#输出预测后的数据\n",
    "testPredict.to_csv(summit_path + 'summit0.1-coor0.3-pay-ridge'+out_id+'.csv', index=False)\n",
    "testPredict.shape"
   ]
  },
  {
   "cell_type": "markdown",
   "metadata": {},
   "source": [
    "## 3 正则化的线性回归（L1正则 --> Lasso）"
   ]
  },
  {
   "cell_type": "code",
   "execution_count": 34,
   "metadata": {},
   "outputs": [
    {
     "name": "stderr",
     "output_type": "stream",
     "text": [
      "D:\\Applications\\Anaconda\\envs\\python3\\lib\\site-packages\\sklearn\\linear_model\\coordinate_descent.py:491: ConvergenceWarning: Objective did not converge. You might want to increase the number of iterations. Fitting data with very small alpha may cause precision problems.\n",
      "  ConvergenceWarning)\n",
      "D:\\Applications\\Anaconda\\envs\\python3\\lib\\site-packages\\sklearn\\linear_model\\coordinate_descent.py:491: ConvergenceWarning: Objective did not converge. You might want to increase the number of iterations. Fitting data with very small alpha may cause precision problems.\n",
      "  ConvergenceWarning)\n"
     ]
    },
    {
     "data": {
      "text/plain": [
       "LassoCV(alphas=[0.01, 0.1, 0.16, 0.17, 0.171, 0.172, 0.173, 0.174, 0.175, 0.176, 0.18, 0.2, 0.5, 1],\n",
       "    copy_X=True, cv=None, eps=0.001, fit_intercept=True, max_iter=1000,\n",
       "    n_alphas=100, n_jobs=1, normalize=False, positive=False,\n",
       "    precompute='auto', random_state=None, selection='cyclic', tol=0.0001,\n",
       "    verbose=False)"
      ]
     },
     "execution_count": 34,
     "metadata": {},
     "output_type": "execute_result"
    }
   ],
   "source": [
    "# Lasso／L1正则\n",
    "from sklearn.linear_model import LassoCV\n",
    "\n",
    "#正则项系数\n",
    "# alphas = [0.1, 1, 10, 100, 1000, 10000, 10000]\n",
    "alphas = [0.01, 0.1, 0.16, 0.17, 0.171, 0.172, 0.173, 0.174, 0.175, 0.176, 0.18, 0.2, 0.5, 1]\n",
    "\n",
    "# Lasso 模型实例\n",
    "lasso = LassoCV(alphas=alphas)\n",
    "\n",
    "#进行模型训练\n",
    "lasso.fit(train_X, train_y)"
   ]
  },
  {
   "cell_type": "code",
   "execution_count": 35,
   "metadata": {},
   "outputs": [
    {
     "name": "stdout",
     "output_type": "stream",
     "text": [
      "best alpha is: 1.0\n"
     ]
    },
    {
     "data": {
      "image/png": "[encoded data removed]",
      "text/plain": [
       "<matplotlib.figure.Figure at 0x1d5807b8208>"
      ]
     },
     "metadata": {},
     "output_type": "display_data"
    }
   ],
   "source": [
    "## 3.1 Lasso 模型评价\n",
    "mses = np.mean(lasso.mse_path_, axis=1)\n",
    "\n",
    "#plt.plot(np.log10(alphas), mses)\n",
    "plt.plot(np.log10(lasso.alphas_), mses)\n",
    "# plt.show()  #绘制在一张图上，显示异常，暂时分开 \n",
    "\n",
    "plt.plot(np.log10(lasso.alpha_)*np.ones(3), [0.4, 0.7, 1.0])\n",
    "plt.xlabel('log(alpha)')\n",
    "plt.ylabel('mse')\n",
    "# plt.show() \n",
    "\n",
    "print ('best alpha is:', lasso.alpha_)"
   ]
  },
  {
   "cell_type": "code",
   "execution_count": 36,
   "metadata": {},
   "outputs": [
    {
     "name": "stdout",
     "output_type": "stream",
     "text": [
      "The value of default measurement of Lasso on train is 0.758717023075\n",
      "lassoScoreTrain - lrScoreTrain =  -0.00692827894786\n"
     ]
    }
   ],
   "source": [
    "## 3.2 Lasso 模型与 LinearRegression 的比较\n",
    "# 使用 Lasso 模型自带的评估模块（r2_score），并输出评估结果\n",
    "#训练集\n",
    "lassoScoreTrain = lasso.score(train_X, train_y)\n",
    "print('The value of default measurement of Lasso on train is', lassoScoreTrain) \n",
    "print('lassoScoreTrain - lrScoreTrain = ', lassoScoreTrain - lrScoreTrain)\n",
    "# The value of default measurement of Lasso on train is 0.630665434638\n",
    "# lassoScoreTrain - lrScoreTrain =  -0.134979867385"
   ]
  },
  {
   "cell_type": "code",
   "execution_count": 37,
   "metadata": {},
   "outputs": [
    {
     "name": "stdout",
     "output_type": "stream",
     "text": [
      "lasso_y_predict_test =  [-17.1949632  -17.40854397 -17.43509977 ..., -16.74953539 -17.48950495\n",
      " -17.48950495]\n"
     ]
    }
   ],
   "source": [
    "#对测试数据进行预测\n",
    "lasso_y_predict_test = lasso.predict(test_X)\n",
    "print('lasso_y_predict_test = ', lasso_y_predict_test)\n",
    "\n",
    "# 标准化数据还原 \n",
    "lasso_y_predict_test = inverse_StandardScaler(lasso_y_predict_test)"
   ]
  },
  {
   "cell_type": "code",
   "execution_count": 38,
   "metadata": {},
   "outputs": [
    {
     "data": {
      "text/html": [
       "<div>\n",
       "<style>\n",
       "    .dataframe thead tr:only-child th {\n",
       "        text-align: right;\n",
       "    }\n",
       "\n",
       "    .dataframe thead th {\n",
       "        text-align: left;\n",
       "    }\n",
       "\n",
       "    .dataframe tbody tr th {\n",
       "        vertical-align: top;\n",
       "    }\n",
       "</style>\n",
       "<table border=\"1\" class=\"dataframe\">\n",
       "  <thead>\n",
       "    <tr style=\"text-align: right;\">\n",
       "      <th></th>\n",
       "      <th>user_id</th>\n",
       "      <th>prediction_pay_price</th>\n",
       "    </tr>\n",
       "  </thead>\n",
       "  <tbody>\n",
       "    <tr>\n",
       "      <th>0</th>\n",
       "      <td>14933</td>\n",
       "      <td>0.0000</td>\n",
       "    </tr>\n",
       "    <tr>\n",
       "      <th>1</th>\n",
       "      <td>14934</td>\n",
       "      <td>0.0000</td>\n",
       "    </tr>\n",
       "    <tr>\n",
       "      <th>2</th>\n",
       "      <td>14935</td>\n",
       "      <td>0.0000</td>\n",
       "    </tr>\n",
       "    <tr>\n",
       "      <th>3</th>\n",
       "      <td>14936</td>\n",
       "      <td>0.0000</td>\n",
       "    </tr>\n",
       "    <tr>\n",
       "      <th>4</th>\n",
       "      <td>14937</td>\n",
       "      <td>0.0000</td>\n",
       "    </tr>\n",
       "  </tbody>\n",
       "</table>\n",
       "</div>"
      ],
      "text/plain": [
       "   user_id  prediction_pay_price\n",
       "0    14933                0.0000\n",
       "1    14934                0.0000\n",
       "2    14935                0.0000\n",
       "3    14936                0.0000\n",
       "4    14937                0.0000"
      ]
     },
     "execution_count": 38,
     "metadata": {},
     "output_type": "execute_result"
    }
   ],
   "source": [
    "testPredict = generate_summit(lasso_y_predict_test)\n",
    "testPredict.head()"
   ]
  },
  {
   "cell_type": "code",
   "execution_count": 39,
   "metadata": {},
   "outputs": [
    {
     "data": {
      "text/plain": [
       "(828934, 2)"
      ]
     },
     "execution_count": 39,
     "metadata": {},
     "output_type": "execute_result"
    }
   ],
   "source": [
    "#输出预测后的数据\n",
    "testPredict.to_csv(summit_path + 'summit0.1-coor0.3-pay-lasso'+out_id+'.csv', index=False)\n",
    "testPredict.shape"
   ]
  }
 ],
 "metadata": {
  "kernelspec": {
   "display_name": "Python 3",
   "language": "python",
   "name": "python3"
  },
  "language_info": {
   "codemirror_mode": {
    "name": "ipython",
    "version": 3
   },
   "file_extension": ".py",
   "mimetype": "text/x-python",
   "name": "python",
   "nbconvert_exporter": "python",
   "pygments_lexer": "ipython3",
   "version": "3.6.3"
  }
 },
 "nbformat": 4,
 "nbformat_minor": 2
}
