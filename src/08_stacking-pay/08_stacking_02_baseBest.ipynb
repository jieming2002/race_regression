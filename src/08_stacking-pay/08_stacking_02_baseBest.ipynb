{
 "cells": [
  {
   "cell_type": "markdown",
   "metadata": {},
   "source": [
    "## stacking 集成算法-只有付费记录：最佳模型\n",
    "基础学习器抽取特征，次级学习器融合。5折。\n",
    "- 4 ExtraTreesRegressor\n",
    "- 5 Gradient Boosting Regressor\n",
    "- 6 RandomForestRegressor\n",
    "- 7 BaggingRegressor"
   ]
  },
  {
   "cell_type": "code",
   "execution_count": 1,
   "metadata": {
    "collapsed": true
   },
   "outputs": [],
   "source": [
    "# 导入必要的工具包\n",
    "import numpy as np #用于数值计算\n",
    "import pandas as pd #用于数据表处理，数据文件读写\n",
    "from sklearn.preprocessing import StandardScaler\n",
    "from sklearn.metrics import mean_squared_error\n",
    "\n",
    "from sklearn import ensemble\n",
    "\n",
    "import matplotlib.pyplot as plt #用于绘图：分析结果的可视化。\n",
    "#应该是设置浮点数的形式格式，小数点后三位\n",
    "pd.set_option('display.float_format', lambda x: '%.4f' % x)\n",
    "#这一行是干嘛的？ 设置 matplotlib 让绘制的图形出现在 Notebook 里而不是新窗口\n",
    "%matplotlib inline"
   ]
  },
  {
   "cell_type": "code",
   "execution_count": 2,
   "metadata": {
    "collapsed": true
   },
   "outputs": [],
   "source": [
    "def get_train_val(val_id):\n",
    "    '''获取训练集和校验集 \n",
    "    val_id = 0,1,2 #当前校验集编号 '''\n",
    "    print('val_id=%s'% (val_id))\n",
    "    df_val = train_list[val_id]\n",
    "    train_tmp = []\n",
    "\n",
    "    for i in range(1, train_part_num):\n",
    "        cur_id = (val_id + i) % 5\n",
    "        print('cur_id=%s'% (cur_id))\n",
    "        train_tmp.append(train_list[cur_id])\n",
    "    \n",
    "#     只生成一次，节省内存 \n",
    "    df_train = pd.concat(train_tmp)\n",
    "    print('df_train.shape=%s  df_val.shape=%s'% (df_train.shape, df_val.shape))\n",
    "    return df_train, df_val"
   ]
  },
  {
   "cell_type": "code",
   "execution_count": 3,
   "metadata": {
    "collapsed": true
   },
   "outputs": [],
   "source": [
    "Y_Standard = True\n",
    "path_train = '../../data/new/train=all-balance/'\n",
    "path_test = '../../data/new/test/'\n",
    "\n",
    "val_path = '../../data/val/payBase/' #保存校验集测试结果\n",
    "val_name = '%sval=stacking-%s-%s.csv'\n",
    "summit_path = '../../data/summit/payBase/' #保存提交文件，测试集测试结果 \n",
    "out_name = '%ssummit=stacking-%s-%s.csv' # 生成的结果文件名称\n",
    "base = 'payBase' #学习器级别 \n",
    "\n",
    "train_part_num = 5 #训练集拆分个数\n",
    "target = 'prediction_pay_price'\n",
    "user_id = 'user_id'"
   ]
  },
  {
   "cell_type": "markdown",
   "metadata": {},
   "source": [
    "## 指定读取数据类型，节省内存"
   ]
  },
  {
   "cell_type": "code",
   "execution_count": 4,
   "metadata": {
    "collapsed": true
   },
   "outputs": [],
   "source": [
    "col_int32 = ['user_id', 'register_time', 'wood_add_value', 'wood_reduce_value',\n",
    "       'stone_add_value', 'stone_reduce_value', 'ivory_add_value',\n",
    "       'ivory_reduce_value', 'meat_add_value', 'meat_reduce_value',\n",
    "       'magic_add_value', 'magic_reduce_value', 'infantry_add_value',\n",
    "       'infantry_reduce_value', 'cavalry_add_value', 'cavalry_reduce_value',\n",
    "       'shaman_add_value', 'shaman_reduce_value', 'wound_infantry_add_value',\n",
    "       'wound_infantry_reduce_value', 'wound_cavalry_add_value',\n",
    "       'wound_cavalry_reduce_value', 'wound_shaman_add_value',\n",
    "       'wound_shaman_reduce_value', 'general_acceleration_add_value',\n",
    "       'general_acceleration_reduce_value', 'building_acceleration_add_value',\n",
    "       'building_acceleration_reduce_value', 'reaserch_acceleration_add_value',\n",
    "       'reaserch_acceleration_reduce_value', 'training_acceleration_add_value',\n",
    "       'training_acceleration_reduce_value', 'treatment_acceleraion_add_value',\n",
    "       'treatment_acceleration_reduce_value', 'bd_training_hut_level',\n",
    "       'bd_healing_lodge_level', 'bd_stronghold_level',\n",
    "       'bd_outpost_portal_level', 'bd_barrack_level',\n",
    "       'bd_healing_spring_level', 'bd_dolmen_level', 'bd_guest_cavern_level',\n",
    "       'bd_warehouse_level', 'bd_watchtower_level', 'bd_magic_coin_tree_level',\n",
    "       'bd_hall_of_war_level', 'bd_market_level', 'bd_hero_gacha_level',\n",
    "       'bd_hero_strengthen_level', 'bd_hero_pve_level', 'sr_scout_level', \n",
    "       'sr_training_speed_level', 'sr_infantry_tier_2_level',\n",
    "       'sr_cavalry_tier_2_level', 'sr_shaman_tier_2_level',\n",
    "       'sr_infantry_atk_level', 'sr_cavalry_atk_level', 'sr_shaman_atk_level',\n",
    "       'sr_infantry_tier_3_level', 'sr_cavalry_tier_3_level',\n",
    "       'sr_shaman_tier_3_level', 'sr_troop_defense_level',\n",
    "       'sr_infantry_def_level', 'sr_cavalry_def_level', 'sr_shaman_def_level',\n",
    "       'sr_infantry_hp_level', 'sr_cavalry_hp_level', 'sr_shaman_hp_level',\n",
    "       'sr_infantry_tier_4_level', 'sr_cavalry_tier_4_level',\n",
    "       'sr_shaman_tier_4_level', 'sr_troop_attack_level',\n",
    "       'sr_construction_speed_level', 'sr_hide_storage_level',\n",
    "       'sr_troop_consumption_level', 'sr_rss_a_prod_levell',\n",
    "       'sr_rss_b_prod_level', 'sr_rss_c_prod_level', 'sr_rss_d_prod_level',\n",
    "       'sr_rss_a_gather_level', 'sr_rss_b_gather_level',\n",
    "       'sr_rss_c_gather_level', 'sr_rss_d_gather_level', 'sr_troop_load_level',\n",
    "       'sr_rss_e_gather_level', 'sr_rss_e_prod_level',\n",
    "       'sr_outpost_durability_level', 'sr_outpost_tier_2_level',\n",
    "       'sr_healing_space_level', 'sr_gathering_hunter_buff_level',\n",
    "       'sr_healing_speed_level', 'sr_outpost_tier_3_level',\n",
    "       'sr_alliance_march_speed_level', 'sr_pvp_march_speed_level',\n",
    "       'sr_gathering_march_speed_level', 'sr_outpost_tier_4_level',\n",
    "       'sr_guest_troop_capacity_level', 'sr_march_size_level',\n",
    "       'sr_rss_help_bonus_level', 'pvp_battle_count', 'pvp_lanch_count',\n",
    "       'pvp_win_count', 'pve_battle_count', 'pve_lanch_count', 'pve_win_count',\n",
    "       'pay_count']\n",
    "col_float32 = ['avg_online_minutes', 'pay_price']"
   ]
  },
  {
   "cell_type": "code",
   "execution_count": 5,
   "metadata": {
    "collapsed": true
   },
   "outputs": [],
   "source": [
    "# 指定读取数据类型，节省内存\n",
    "dtype_test = {}\n",
    "for col in col_int32:\n",
    "    dtype_test[col] = np.int32\n",
    "for col in col_float32:\n",
    "    dtype_test[col] = np.float32\n",
    "# dtype_test"
   ]
  },
  {
   "cell_type": "code",
   "execution_count": 6,
   "metadata": {
    "collapsed": true
   },
   "outputs": [],
   "source": [
    "dtype_train = dtype_test.copy()\n",
    "dtype_train[target] = np.float32\n",
    "# dtype_train"
   ]
  },
  {
   "cell_type": "markdown",
   "metadata": {},
   "source": [
    "## 读取数据，一次读取多次使用，不同组合 "
   ]
  },
  {
   "cell_type": "code",
   "execution_count": 7,
   "metadata": {},
   "outputs": [
    {
     "data": {
      "text/html": [
       "<div>\n",
       "<style>\n",
       "    .dataframe thead tr:only-child th {\n",
       "        text-align: right;\n",
       "    }\n",
       "\n",
       "    .dataframe thead th {\n",
       "        text-align: left;\n",
       "    }\n",
       "\n",
       "    .dataframe tbody tr th {\n",
       "        vertical-align: top;\n",
       "    }\n",
       "</style>\n",
       "<table border=\"1\" class=\"dataframe\">\n",
       "  <thead>\n",
       "    <tr style=\"text-align: right;\">\n",
       "      <th></th>\n",
       "      <th>user_id</th>\n",
       "      <th>register_time</th>\n",
       "      <th>wood_add_value</th>\n",
       "      <th>wood_reduce_value</th>\n",
       "      <th>stone_add_value</th>\n",
       "      <th>stone_reduce_value</th>\n",
       "      <th>ivory_add_value</th>\n",
       "      <th>ivory_reduce_value</th>\n",
       "      <th>meat_add_value</th>\n",
       "      <th>meat_reduce_value</th>\n",
       "      <th>...</th>\n",
       "      <th>pvp_battle_count</th>\n",
       "      <th>pvp_lanch_count</th>\n",
       "      <th>pvp_win_count</th>\n",
       "      <th>pve_battle_count</th>\n",
       "      <th>pve_lanch_count</th>\n",
       "      <th>pve_win_count</th>\n",
       "      <th>avg_online_minutes</th>\n",
       "      <th>pay_price</th>\n",
       "      <th>pay_count</th>\n",
       "      <th>prediction_pay_price</th>\n",
       "    </tr>\n",
       "  </thead>\n",
       "  <tbody>\n",
       "    <tr>\n",
       "      <th>0</th>\n",
       "      <td>563914</td>\n",
       "      <td>112</td>\n",
       "      <td>1007159</td>\n",
       "      <td>985765</td>\n",
       "      <td>88000</td>\n",
       "      <td>40000</td>\n",
       "      <td>3000</td>\n",
       "      <td>0</td>\n",
       "      <td>1290490</td>\n",
       "      <td>1006267</td>\n",
       "      <td>...</td>\n",
       "      <td>7</td>\n",
       "      <td>4</td>\n",
       "      <td>5</td>\n",
       "      <td>7</td>\n",
       "      <td>7</td>\n",
       "      <td>4</td>\n",
       "      <td>20.3333</td>\n",
       "      <td>1.9900</td>\n",
       "      <td>1</td>\n",
       "      <td>1.9900</td>\n",
       "    </tr>\n",
       "    <tr>\n",
       "      <th>1</th>\n",
       "      <td>1837494</td>\n",
       "      <td>106</td>\n",
       "      <td>50141850</td>\n",
       "      <td>50032020</td>\n",
       "      <td>42832440</td>\n",
       "      <td>42426724</td>\n",
       "      <td>23950932</td>\n",
       "      <td>19820632</td>\n",
       "      <td>46290384</td>\n",
       "      <td>37001236</td>\n",
       "      <td>...</td>\n",
       "      <td>1</td>\n",
       "      <td>0</td>\n",
       "      <td>0</td>\n",
       "      <td>21</td>\n",
       "      <td>21</td>\n",
       "      <td>19</td>\n",
       "      <td>105.1667</td>\n",
       "      <td>346.7900</td>\n",
       "      <td>21</td>\n",
       "      <td>346.7900</td>\n",
       "    </tr>\n",
       "    <tr>\n",
       "      <th>2</th>\n",
       "      <td>1775165</td>\n",
       "      <td>125</td>\n",
       "      <td>26860392</td>\n",
       "      <td>26935700</td>\n",
       "      <td>17661758</td>\n",
       "      <td>17542478</td>\n",
       "      <td>7595453</td>\n",
       "      <td>2596600</td>\n",
       "      <td>34394904</td>\n",
       "      <td>26972670</td>\n",
       "      <td>...</td>\n",
       "      <td>527</td>\n",
       "      <td>476</td>\n",
       "      <td>504</td>\n",
       "      <td>233</td>\n",
       "      <td>230</td>\n",
       "      <td>216</td>\n",
       "      <td>845.1667</td>\n",
       "      <td>7.9600</td>\n",
       "      <td>4</td>\n",
       "      <td>16.9100</td>\n",
       "    </tr>\n",
       "    <tr>\n",
       "      <th>3</th>\n",
       "      <td>3038897</td>\n",
       "      <td>118</td>\n",
       "      <td>1385557</td>\n",
       "      <td>354561</td>\n",
       "      <td>1200000</td>\n",
       "      <td>0</td>\n",
       "      <td>700000</td>\n",
       "      <td>0</td>\n",
       "      <td>2960605</td>\n",
       "      <td>280514</td>\n",
       "      <td>...</td>\n",
       "      <td>7</td>\n",
       "      <td>0</td>\n",
       "      <td>1</td>\n",
       "      <td>0</td>\n",
       "      <td>0</td>\n",
       "      <td>0</td>\n",
       "      <td>2.3333</td>\n",
       "      <td>0.9900</td>\n",
       "      <td>1</td>\n",
       "      <td>0.9900</td>\n",
       "    </tr>\n",
       "    <tr>\n",
       "      <th>4</th>\n",
       "      <td>285815</td>\n",
       "      <td>119</td>\n",
       "      <td>7800157</td>\n",
       "      <td>7032101</td>\n",
       "      <td>3436232</td>\n",
       "      <td>1893276</td>\n",
       "      <td>1478472</td>\n",
       "      <td>0</td>\n",
       "      <td>11743239</td>\n",
       "      <td>5703664</td>\n",
       "      <td>...</td>\n",
       "      <td>20</td>\n",
       "      <td>1</td>\n",
       "      <td>2</td>\n",
       "      <td>148</td>\n",
       "      <td>148</td>\n",
       "      <td>145</td>\n",
       "      <td>233.5000</td>\n",
       "      <td>1.9800</td>\n",
       "      <td>2</td>\n",
       "      <td>3.9700</td>\n",
       "    </tr>\n",
       "  </tbody>\n",
       "</table>\n",
       "<p>5 rows × 109 columns</p>\n",
       "</div>"
      ],
      "text/plain": [
       "   user_id  register_time  wood_add_value  wood_reduce_value  stone_add_value  \\\n",
       "0   563914            112         1007159             985765            88000   \n",
       "1  1837494            106        50141850           50032020         42832440   \n",
       "2  1775165            125        26860392           26935700         17661758   \n",
       "3  3038897            118         1385557             354561          1200000   \n",
       "4   285815            119         7800157            7032101          3436232   \n",
       "\n",
       "   stone_reduce_value  ivory_add_value  ivory_reduce_value  meat_add_value  \\\n",
       "0               40000             3000                   0         1290490   \n",
       "1            42426724         23950932            19820632        46290384   \n",
       "2            17542478          7595453             2596600        34394904   \n",
       "3                   0           700000                   0         2960605   \n",
       "4             1893276          1478472                   0        11743239   \n",
       "\n",
       "   meat_reduce_value          ...           pvp_battle_count  pvp_lanch_count  \\\n",
       "0            1006267          ...                          7                4   \n",
       "1           37001236          ...                          1                0   \n",
       "2           26972670          ...                        527              476   \n",
       "3             280514          ...                          7                0   \n",
       "4            5703664          ...                         20                1   \n",
       "\n",
       "   pvp_win_count  pve_battle_count  pve_lanch_count  pve_win_count  \\\n",
       "0              5                 7                7              4   \n",
       "1              0                21               21             19   \n",
       "2            504               233              230            216   \n",
       "3              1                 0                0              0   \n",
       "4              2               148              148            145   \n",
       "\n",
       "   avg_online_minutes  pay_price  pay_count  prediction_pay_price  \n",
       "0             20.3333     1.9900          1                1.9900  \n",
       "1            105.1667   346.7900         21              346.7900  \n",
       "2            845.1667     7.9600          4               16.9100  \n",
       "3              2.3333     0.9900          1                0.9900  \n",
       "4            233.5000     1.9800          2                3.9700  \n",
       "\n",
       "[5 rows x 109 columns]"
      ]
     },
     "execution_count": 7,
     "metadata": {},
     "output_type": "execute_result"
    }
   ],
   "source": [
    "train_list = []\n",
    "for i in range(train_part_num):\n",
    "    cur_id = i + 1\n",
    "    train_list.append(pd.read_csv('%strain=pay-%s.csv' % (path_train, cur_id), dtype=dtype_train))\n",
    "train_list[0].head()"
   ]
  },
  {
   "cell_type": "markdown",
   "metadata": {},
   "source": [
    "## 5折交叉验证"
   ]
  },
  {
   "cell_type": "code",
   "execution_count": 8,
   "metadata": {},
   "outputs": [
    {
     "name": "stdout",
     "output_type": "stream",
     "text": [
      "val_id=0\n",
      "cur_id=1\n",
      "cur_id=2\n",
      "cur_id=3\n",
      "cur_id=4\n",
      "df_train.shape=(36790, 109)  df_val.shape=(9198, 109)\n"
     ]
    }
   ],
   "source": [
    "# 根据校验集编号 0，1,2,3,4 ，获取训练集和校验集\n",
    "df_train, df_val = get_train_val(0)\n",
    "\n",
    "# 从原始数据中分离输入特征x和输出y\n",
    "train_y = df_train[target].values\n",
    "train_X = df_train.drop([target, user_id], axis = 1)\n",
    "val_y = df_val[target].values\n",
    "val_X = df_val.drop([target, user_id], axis = 1)"
   ]
  },
  {
   "cell_type": "code",
   "execution_count": 9,
   "metadata": {
    "collapsed": true
   },
   "outputs": [],
   "source": [
    "# 数据标准化：分别初始化对特征和目标值的标准化器 \n",
    "ss_X = StandardScaler()\n",
    "ss_y = StandardScaler()\n",
    "\n",
    "# 分别对训练和测试数据的特征以及目标值进行标准化处理\n",
    "train_X_ss = ss_X.fit_transform(train_X)\n",
    "val_X_ss = ss_X.transform(val_X)\n",
    "\n",
    "if Y_Standard:\n",
    "    train_y_ss = ss_y.fit_transform(train_y.reshape(-1, 1))\n",
    "    val_y_ss = ss_y.transform(val_y.reshape(-1, 1))\n",
    "\n",
    "# 需要转换为一维数组 \n",
    "train_y_ss_1d = train_y_ss.reshape(train_y_ss.shape[0])\n",
    "val_y_ss_1d = val_y_ss.reshape(val_y_ss.shape[0])"
   ]
  },
  {
   "cell_type": "code",
   "execution_count": 10,
   "metadata": {
    "collapsed": true
   },
   "outputs": [],
   "source": [
    "def inverse_StandardScaler(predict):\n",
    "    ''' 标准化数据还原  '''\n",
    "    if Y_Standard:\n",
    "        predict = ss_y.inverse_transform(predict)\n",
    "        print('predict = ', predict)\n",
    "    return predict\n",
    "\n",
    "def generate_summit(predict):\n",
    "    ''' 输出预测后的数据 '''\n",
    "    testPredict = test.copy()\n",
    "    testPredict[target] = predict\n",
    "    testPredict = testPredict[[user_id, target]]\n",
    "#     应该过滤掉负数\n",
    "    testPredict[target] = testPredict[target].apply(lambda x: x if x > 0 else 0)\n",
    "    return testPredict\n",
    "\n",
    "def generate_val_predict(predict):\n",
    "    ''' 生成校验集预测后的数据 '''\n",
    "    testPredict = df_val.copy()\n",
    "    testPredict[target] = predict\n",
    "    testPredict = testPredict[[user_id, target]]\n",
    "#     应该过滤掉负数\n",
    "    testPredict[target] = testPredict[target].apply(lambda x: x if x > 0 else 0)\n",
    "    return testPredict"
   ]
  },
  {
   "cell_type": "markdown",
   "metadata": {},
   "source": [
    "## 模型训练\n",
    "###  4. ExtraTreesRegressor"
   ]
  },
  {
   "cell_type": "code",
   "execution_count": 40,
   "metadata": {},
   "outputs": [
    {
     "name": "stdout",
     "output_type": "stream",
     "text": [
      "Wall time: 5.2 s\n"
     ]
    }
   ],
   "source": [
    "%%time\n",
    "model = ensemble.ExtraTreesRegressor(n_estimators=35, min_samples_split=80, min_samples_leaf=8, n_jobs=-1)\n",
    "model.fit(train_X_ss, train_y_ss_1d)\n",
    "# Wall time: 4min 6s"
   ]
  },
  {
   "cell_type": "code",
   "execution_count": 41,
   "metadata": {},
   "outputs": [
    {
     "name": "stdout",
     "output_type": "stream",
     "text": [
      "The score: Train=0.5550744293751871  Val=0.4110179967425165\n",
      "The RMSE: Train=0.6670273954810705  Val=0.9484005528839826\n"
     ]
    }
   ],
   "source": [
    "# 模型评估\n",
    "scoreTrain = model.score(train_X_ss, train_y_ss)\n",
    "scoreVal = model.score(val_X_ss, val_y_ss)\n",
    "print('The score: Train=%s  Val=%s'% (scoreTrain, scoreVal)) \n",
    "\n",
    "predict_train = model.predict(train_X_ss)\n",
    "rmseTrain = mean_squared_error(train_y_ss, predict_train) ** 0.5\n",
    "predict_val = model.predict(val_X_ss)\n",
    "rmseVal = mean_squared_error(val_y_ss, predict_val) ** 0.5\n",
    "print('The RMSE: Train=%s  Val=%s' % (rmseTrain, rmseVal))\n",
    "\n",
    "# n_estimators=10, min_samples_split=80, min_samples_leaf=8 \n",
    "# n_estimators=12, min_samples_split=80, min_samples_leaf=8\n",
    "# n_estimators=14, min_samples_split=80, min_samples_leaf=8\n",
    "# n_estimators=16, min_samples_split=80, min_samples_leaf=8 \n",
    "# n_estimators=20, min_samples_split=80, min_samples_leaf=8\n",
    "# n_estimators=30, min_samples_split=80, min_samples_leaf=8\n",
    "# n_estimators=35, min_samples_split=80, min_samples_leaf=8\n",
    "# The score: Train=0.5658510934333981  Val=0.4319487714342609\n",
    "# The RMSE: Train=0.6588997622417258  Val=0.6433956917430198"
   ]
  },
  {
   "cell_type": "markdown",
   "metadata": {},
   "source": [
    "### 保存校验集测试结果"
   ]
  },
  {
   "cell_type": "code",
   "execution_count": 13,
   "metadata": {},
   "outputs": [
    {
     "name": "stdout",
     "output_type": "stream",
     "text": [
      "predict_val=  [-0.14429595  1.45171794 -0.05482073 ... -0.12758295 -0.07613492\n",
      " -0.12850887]\n",
      "predict =  [  2.50654976 940.14620149  55.07220288 ...  12.32524614  42.55036256\n",
      "  11.78127502]\n"
     ]
    },
    {
     "data": {
      "text/html": [
       "<div>\n",
       "<style>\n",
       "    .dataframe thead tr:only-child th {\n",
       "        text-align: right;\n",
       "    }\n",
       "\n",
       "    .dataframe thead th {\n",
       "        text-align: left;\n",
       "    }\n",
       "\n",
       "    .dataframe tbody tr th {\n",
       "        vertical-align: top;\n",
       "    }\n",
       "</style>\n",
       "<table border=\"1\" class=\"dataframe\">\n",
       "  <thead>\n",
       "    <tr style=\"text-align: right;\">\n",
       "      <th></th>\n",
       "      <th>user_id</th>\n",
       "      <th>prediction_pay_price</th>\n",
       "    </tr>\n",
       "  </thead>\n",
       "  <tbody>\n",
       "    <tr>\n",
       "      <th>0</th>\n",
       "      <td>563914</td>\n",
       "      <td>2.5065</td>\n",
       "    </tr>\n",
       "    <tr>\n",
       "      <th>1</th>\n",
       "      <td>1837494</td>\n",
       "      <td>940.1462</td>\n",
       "    </tr>\n",
       "    <tr>\n",
       "      <th>2</th>\n",
       "      <td>1775165</td>\n",
       "      <td>55.0722</td>\n",
       "    </tr>\n",
       "    <tr>\n",
       "      <th>3</th>\n",
       "      <td>3038897</td>\n",
       "      <td>1.1520</td>\n",
       "    </tr>\n",
       "    <tr>\n",
       "      <th>4</th>\n",
       "      <td>285815</td>\n",
       "      <td>11.6003</td>\n",
       "    </tr>\n",
       "  </tbody>\n",
       "</table>\n",
       "</div>"
      ],
      "text/plain": [
       "   user_id  prediction_pay_price\n",
       "0   563914                2.5065\n",
       "1  1837494              940.1462\n",
       "2  1775165               55.0722\n",
       "3  3038897                1.1520\n",
       "4   285815               11.6003"
      ]
     },
     "execution_count": 13,
     "metadata": {},
     "output_type": "execute_result"
    }
   ],
   "source": [
    "print('predict_val= ', predict_val)\n",
    "# 标准化数据还原 \n",
    "predict_val = inverse_StandardScaler(predict_val)\n",
    "valPredict = generate_val_predict(predict_val)\n",
    "#输出预测后的数据\n",
    "valPredict.to_csv(val_name %(val_path, base, 'ExtraTreesRegressor'), index=False)\n",
    "valPredict.head()"
   ]
  },
  {
   "cell_type": "markdown",
   "metadata": {},
   "source": [
    "## 加载测试数据"
   ]
  },
  {
   "cell_type": "code",
   "execution_count": 14,
   "metadata": {
    "scrolled": true
   },
   "outputs": [
    {
     "data": {
      "text/html": [
       "<div>\n",
       "<style>\n",
       "    .dataframe thead tr:only-child th {\n",
       "        text-align: right;\n",
       "    }\n",
       "\n",
       "    .dataframe thead th {\n",
       "        text-align: left;\n",
       "    }\n",
       "\n",
       "    .dataframe tbody tr th {\n",
       "        vertical-align: top;\n",
       "    }\n",
       "</style>\n",
       "<table border=\"1\" class=\"dataframe\">\n",
       "  <thead>\n",
       "    <tr style=\"text-align: right;\">\n",
       "      <th></th>\n",
       "      <th>user_id</th>\n",
       "      <th>register_time</th>\n",
       "      <th>wood_add_value</th>\n",
       "      <th>wood_reduce_value</th>\n",
       "      <th>stone_add_value</th>\n",
       "      <th>stone_reduce_value</th>\n",
       "      <th>ivory_add_value</th>\n",
       "      <th>ivory_reduce_value</th>\n",
       "      <th>meat_add_value</th>\n",
       "      <th>meat_reduce_value</th>\n",
       "      <th>...</th>\n",
       "      <th>sr_rss_help_bonus_level</th>\n",
       "      <th>pvp_battle_count</th>\n",
       "      <th>pvp_lanch_count</th>\n",
       "      <th>pvp_win_count</th>\n",
       "      <th>pve_battle_count</th>\n",
       "      <th>pve_lanch_count</th>\n",
       "      <th>pve_win_count</th>\n",
       "      <th>avg_online_minutes</th>\n",
       "      <th>pay_price</th>\n",
       "      <th>pay_count</th>\n",
       "    </tr>\n",
       "  </thead>\n",
       "  <tbody>\n",
       "    <tr>\n",
       "      <th>0</th>\n",
       "      <td>14933</td>\n",
       "      <td>94</td>\n",
       "      <td>166415</td>\n",
       "      <td>138362</td>\n",
       "      <td>0</td>\n",
       "      <td>0</td>\n",
       "      <td>0</td>\n",
       "      <td>0</td>\n",
       "      <td>258522</td>\n",
       "      <td>90142</td>\n",
       "      <td>...</td>\n",
       "      <td>0</td>\n",
       "      <td>0</td>\n",
       "      <td>0</td>\n",
       "      <td>0</td>\n",
       "      <td>1</td>\n",
       "      <td>1</td>\n",
       "      <td>1</td>\n",
       "      <td>8.0000</td>\n",
       "      <td>0.0000</td>\n",
       "      <td>0</td>\n",
       "    </tr>\n",
       "    <tr>\n",
       "      <th>1</th>\n",
       "      <td>14934</td>\n",
       "      <td>94</td>\n",
       "      <td>10000</td>\n",
       "      <td>600</td>\n",
       "      <td>0</td>\n",
       "      <td>0</td>\n",
       "      <td>0</td>\n",
       "      <td>0</td>\n",
       "      <td>10000</td>\n",
       "      <td>400</td>\n",
       "      <td>...</td>\n",
       "      <td>0</td>\n",
       "      <td>0</td>\n",
       "      <td>0</td>\n",
       "      <td>0</td>\n",
       "      <td>0</td>\n",
       "      <td>0</td>\n",
       "      <td>0</td>\n",
       "      <td>0.1667</td>\n",
       "      <td>0.0000</td>\n",
       "      <td>0</td>\n",
       "    </tr>\n",
       "    <tr>\n",
       "      <th>2</th>\n",
       "      <td>14935</td>\n",
       "      <td>94</td>\n",
       "      <td>10000</td>\n",
       "      <td>3700</td>\n",
       "      <td>0</td>\n",
       "      <td>0</td>\n",
       "      <td>0</td>\n",
       "      <td>0</td>\n",
       "      <td>10000</td>\n",
       "      <td>2000</td>\n",
       "      <td>...</td>\n",
       "      <td>0</td>\n",
       "      <td>0</td>\n",
       "      <td>0</td>\n",
       "      <td>0</td>\n",
       "      <td>0</td>\n",
       "      <td>0</td>\n",
       "      <td>0</td>\n",
       "      <td>17.0000</td>\n",
       "      <td>0.0000</td>\n",
       "      <td>0</td>\n",
       "    </tr>\n",
       "    <tr>\n",
       "      <th>3</th>\n",
       "      <td>14936</td>\n",
       "      <td>94</td>\n",
       "      <td>210000</td>\n",
       "      <td>0</td>\n",
       "      <td>200000</td>\n",
       "      <td>0</td>\n",
       "      <td>200000</td>\n",
       "      <td>0</td>\n",
       "      <td>610000</td>\n",
       "      <td>0</td>\n",
       "      <td>...</td>\n",
       "      <td>0</td>\n",
       "      <td>0</td>\n",
       "      <td>0</td>\n",
       "      <td>0</td>\n",
       "      <td>0</td>\n",
       "      <td>0</td>\n",
       "      <td>0</td>\n",
       "      <td>1.6667</td>\n",
       "      <td>0.0000</td>\n",
       "      <td>0</td>\n",
       "    </tr>\n",
       "    <tr>\n",
       "      <th>4</th>\n",
       "      <td>14937</td>\n",
       "      <td>94</td>\n",
       "      <td>11500</td>\n",
       "      <td>3700</td>\n",
       "      <td>0</td>\n",
       "      <td>0</td>\n",
       "      <td>0</td>\n",
       "      <td>0</td>\n",
       "      <td>11000</td>\n",
       "      <td>2000</td>\n",
       "      <td>...</td>\n",
       "      <td>0</td>\n",
       "      <td>0</td>\n",
       "      <td>0</td>\n",
       "      <td>0</td>\n",
       "      <td>0</td>\n",
       "      <td>0</td>\n",
       "      <td>0</td>\n",
       "      <td>0.3333</td>\n",
       "      <td>0.0000</td>\n",
       "      <td>0</td>\n",
       "    </tr>\n",
       "  </tbody>\n",
       "</table>\n",
       "<p>5 rows × 108 columns</p>\n",
       "</div>"
      ],
      "text/plain": [
       "   user_id  register_time  wood_add_value  wood_reduce_value  stone_add_value  \\\n",
       "0    14933             94          166415             138362                0   \n",
       "1    14934             94           10000                600                0   \n",
       "2    14935             94           10000               3700                0   \n",
       "3    14936             94          210000                  0           200000   \n",
       "4    14937             94           11500               3700                0   \n",
       "\n",
       "   stone_reduce_value  ivory_add_value  ivory_reduce_value  meat_add_value  \\\n",
       "0                   0                0                   0          258522   \n",
       "1                   0                0                   0           10000   \n",
       "2                   0                0                   0           10000   \n",
       "3                   0           200000                   0          610000   \n",
       "4                   0                0                   0           11000   \n",
       "\n",
       "   meat_reduce_value    ...      sr_rss_help_bonus_level  pvp_battle_count  \\\n",
       "0              90142    ...                            0                 0   \n",
       "1                400    ...                            0                 0   \n",
       "2               2000    ...                            0                 0   \n",
       "3                  0    ...                            0                 0   \n",
       "4               2000    ...                            0                 0   \n",
       "\n",
       "   pvp_lanch_count  pvp_win_count  pve_battle_count  pve_lanch_count  \\\n",
       "0                0              0                 1                1   \n",
       "1                0              0                 0                0   \n",
       "2                0              0                 0                0   \n",
       "3                0              0                 0                0   \n",
       "4                0              0                 0                0   \n",
       "\n",
       "   pve_win_count  avg_online_minutes  pay_price  pay_count  \n",
       "0              1              8.0000     0.0000          0  \n",
       "1              0              0.1667     0.0000          0  \n",
       "2              0             17.0000     0.0000          0  \n",
       "3              0              1.6667     0.0000          0  \n",
       "4              0              0.3333     0.0000          0  \n",
       "\n",
       "[5 rows x 108 columns]"
      ]
     },
     "execution_count": 14,
     "metadata": {},
     "output_type": "execute_result"
    }
   ],
   "source": [
    "test = pd.read_csv(path_test + 'tap_fun_test-fe.csv', dtype=dtype_test)\n",
    "test_X = test.drop([user_id], axis = 1)\n",
    "test_X_ss = ss_X.transform(test_X)\n",
    "test.head()"
   ]
  },
  {
   "cell_type": "code",
   "execution_count": 15,
   "metadata": {},
   "outputs": [
    {
     "name": "stdout",
     "output_type": "stream",
     "text": [
      "model_y_predict_test =  [-0.08940467 -0.08464412 -0.06431621 ... -0.09359765 -0.05925197\n",
      " -0.05914361]\n",
      "predict =  [34.75454194 37.55131051 49.49372031 ... 32.29121363 52.46890304\n",
      " 52.53256428]\n"
     ]
    }
   ],
   "source": [
    "#对测试数据进行预测\n",
    "model_y_predict_test = model.predict(test_X_ss)\n",
    "print('model_y_predict_test = ', model_y_predict_test)\n",
    "\n",
    "# 标准化数据还原 \n",
    "y_predict_test = inverse_StandardScaler(model_y_predict_test)\n",
    "# lasso_y_predict_test =  [0.4556051 0.4556051 0.4556051 ... 0.4556051 0.4556051 0.4556051]"
   ]
  },
  {
   "cell_type": "code",
   "execution_count": 16,
   "metadata": {},
   "outputs": [
    {
     "data": {
      "text/html": [
       "<div>\n",
       "<style>\n",
       "    .dataframe thead tr:only-child th {\n",
       "        text-align: right;\n",
       "    }\n",
       "\n",
       "    .dataframe thead th {\n",
       "        text-align: left;\n",
       "    }\n",
       "\n",
       "    .dataframe tbody tr th {\n",
       "        vertical-align: top;\n",
       "    }\n",
       "</style>\n",
       "<table border=\"1\" class=\"dataframe\">\n",
       "  <thead>\n",
       "    <tr style=\"text-align: right;\">\n",
       "      <th></th>\n",
       "      <th>user_id</th>\n",
       "      <th>prediction_pay_price</th>\n",
       "    </tr>\n",
       "  </thead>\n",
       "  <tbody>\n",
       "    <tr>\n",
       "      <th>0</th>\n",
       "      <td>14933</td>\n",
       "      <td>34.7545</td>\n",
       "    </tr>\n",
       "    <tr>\n",
       "      <th>1</th>\n",
       "      <td>14934</td>\n",
       "      <td>37.5513</td>\n",
       "    </tr>\n",
       "    <tr>\n",
       "      <th>2</th>\n",
       "      <td>14935</td>\n",
       "      <td>49.4937</td>\n",
       "    </tr>\n",
       "    <tr>\n",
       "      <th>3</th>\n",
       "      <td>14936</td>\n",
       "      <td>29.1128</td>\n",
       "    </tr>\n",
       "    <tr>\n",
       "      <th>4</th>\n",
       "      <td>14937</td>\n",
       "      <td>40.8236</td>\n",
       "    </tr>\n",
       "  </tbody>\n",
       "</table>\n",
       "</div>"
      ],
      "text/plain": [
       "   user_id  prediction_pay_price\n",
       "0    14933               34.7545\n",
       "1    14934               37.5513\n",
       "2    14935               49.4937\n",
       "3    14936               29.1128\n",
       "4    14937               40.8236"
      ]
     },
     "execution_count": 16,
     "metadata": {},
     "output_type": "execute_result"
    }
   ],
   "source": [
    "testPredict = generate_summit(y_predict_test)\n",
    "#输出预测后的数据\n",
    "testPredict.to_csv(out_name %(summit_path, base, 'ExtraTreesRegressor'), index=False)\n",
    "testPredict.head()"
   ]
  },
  {
   "cell_type": "markdown",
   "metadata": {},
   "source": [
    "## 5 GradientBoostingRegressor"
   ]
  },
  {
   "cell_type": "code",
   "execution_count": 17,
   "metadata": {},
   "outputs": [
    {
     "name": "stdout",
     "output_type": "stream",
     "text": [
      "Wall time: 1.83 s\n"
     ]
    }
   ],
   "source": [
    "%%time\n",
    "model = ensemble.GradientBoostingRegressor(learning_rate=0.25, n_estimators=14, min_samples_split=80, min_samples_leaf=8, alpha=0.99)\n",
    "model.fit(train_X_ss, train_y_ss_1d)\n",
    "# Wall time: 3min 2s "
   ]
  },
  {
   "cell_type": "code",
   "execution_count": 18,
   "metadata": {},
   "outputs": [
    {
     "name": "stdout",
     "output_type": "stream",
     "text": [
      "The score: Train=0.6520117252506124  Val=0.5294990584477097\n",
      "The RMSE: Train=0.5899052938749633  Val=0.8476587209129436\n"
     ]
    }
   ],
   "source": [
    "# 模型评估\n",
    "scoreTrain = model.score(train_X_ss, train_y_ss_1d)\n",
    "scoreVal = model.score(val_X_ss, val_y_ss_1d)\n",
    "print('The score: Train=%s  Val=%s'% (scoreTrain, scoreVal)) \n",
    "\n",
    "model_predict_train = model.predict(train_X_ss)\n",
    "rmseTrain = mean_squared_error(train_y_ss_1d, model_predict_train) ** 0.5\n",
    "model_predict_val = model.predict(val_X_ss)\n",
    "rmseVal = mean_squared_error(val_y_ss_1d, model_predict_val) ** 0.5\n",
    "print('The RMSE: Train=%s  Val=%s' % (rmseTrain, rmseVal))\n",
    "\n",
    "# learning_rate=0.1, n_estimators=50, min_samples_split=50, min_samples_leaf=10, alpha=0.8\n",
    "# learning_rate=0.2, n_estimators=30, min_samples_split=50, min_samples_leaf=10, alpha=0.8\n",
    "# learning_rate=0.2, n_estimators=20, min_samples_split=50, min_samples_leaf=10, alpha=0.8\n",
    "# learning_rate=0.2, n_estimators=20, min_samples_split=50, min_samples_leaf=10, alpha=0.99\n",
    "# learning_rate=0.25, n_estimators=16, min_samples_split=64, min_samples_leaf=8, alpha=0.99\n",
    "# learning_rate=0.25, n_estimators=12, min_samples_split=64, min_samples_leaf=8, alpha=0.99\n",
    "# learning_rate=0.25, n_estimators=12, min_samples_split=80, min_samples_leaf=8, alpha=0.99\n",
    "# learning_rate=0.25, n_estimators=13, min_samples_split=80, min_samples_leaf=8, alpha=0.99\n",
    "# learning_rate=0.25, n_estimators=14, min_samples_split=80, min_samples_leaf=8, alpha=0.99\n",
    "# The score: Train=0.7474515268358191  Val=0.45818076230225474\n",
    "# The RMSE: Train=0.5025420292903933  Val=0.8525285883738782"
   ]
  },
  {
   "cell_type": "markdown",
   "metadata": {},
   "source": [
    "### 保存校验集测试结果"
   ]
  },
  {
   "cell_type": "code",
   "execution_count": 19,
   "metadata": {},
   "outputs": [
    {
     "name": "stdout",
     "output_type": "stream",
     "text": [
      "model_predict_val=  [-0.10758627  1.14500888 -0.03316175 ... -0.10758627 -0.10758627\n",
      " -0.10758627]\n",
      "predict =  [ 24.07306153 759.95818495  67.79660644 ...  24.07306153  24.07306153\n",
      "  24.07306153]\n"
     ]
    },
    {
     "data": {
      "text/html": [
       "<div>\n",
       "<style>\n",
       "    .dataframe thead tr:only-child th {\n",
       "        text-align: right;\n",
       "    }\n",
       "\n",
       "    .dataframe thead th {\n",
       "        text-align: left;\n",
       "    }\n",
       "\n",
       "    .dataframe tbody tr th {\n",
       "        vertical-align: top;\n",
       "    }\n",
       "</style>\n",
       "<table border=\"1\" class=\"dataframe\">\n",
       "  <thead>\n",
       "    <tr style=\"text-align: right;\">\n",
       "      <th></th>\n",
       "      <th>user_id</th>\n",
       "      <th>prediction_pay_price</th>\n",
       "    </tr>\n",
       "  </thead>\n",
       "  <tbody>\n",
       "    <tr>\n",
       "      <th>0</th>\n",
       "      <td>563914</td>\n",
       "      <td>24.0731</td>\n",
       "    </tr>\n",
       "    <tr>\n",
       "      <th>1</th>\n",
       "      <td>1837494</td>\n",
       "      <td>759.9582</td>\n",
       "    </tr>\n",
       "    <tr>\n",
       "      <th>2</th>\n",
       "      <td>1775165</td>\n",
       "      <td>67.7966</td>\n",
       "    </tr>\n",
       "    <tr>\n",
       "      <th>3</th>\n",
       "      <td>3038897</td>\n",
       "      <td>24.0731</td>\n",
       "    </tr>\n",
       "    <tr>\n",
       "      <th>4</th>\n",
       "      <td>285815</td>\n",
       "      <td>24.0731</td>\n",
       "    </tr>\n",
       "  </tbody>\n",
       "</table>\n",
       "</div>"
      ],
      "text/plain": [
       "   user_id  prediction_pay_price\n",
       "0   563914               24.0731\n",
       "1  1837494              759.9582\n",
       "2  1775165               67.7966\n",
       "3  3038897               24.0731\n",
       "4   285815               24.0731"
      ]
     },
     "execution_count": 19,
     "metadata": {},
     "output_type": "execute_result"
    }
   ],
   "source": [
    "print('model_predict_val= ', model_predict_val)\n",
    "# 标准化数据还原 \n",
    "predict_val = inverse_StandardScaler(model_predict_val)\n",
    "valPredict = generate_val_predict(predict_val)\n",
    "#输出预测后的数据\n",
    "valPredict.to_csv(val_name %(val_path, base, 'GradientBoostingRegressor'), index=False)\n",
    "valPredict.head()"
   ]
  },
  {
   "cell_type": "code",
   "execution_count": 20,
   "metadata": {
    "scrolled": true
   },
   "outputs": [
    {
     "name": "stdout",
     "output_type": "stream",
     "text": [
      "model_y_predict_test =  [-0.10758627 -0.10758627 -0.10758627 ... -0.10758627 -0.10758627\n",
      " -0.10758627]\n",
      "predict =  [24.07306153 24.07306153 24.07306153 ... 24.07306153 24.07306153\n",
      " 24.07306153]\n"
     ]
    }
   ],
   "source": [
    "#对测试数据进行预测\n",
    "model_y_predict_test = model.predict(test_X_ss)\n",
    "print('model_y_predict_test = ', model_y_predict_test)\n",
    "\n",
    "# 标准化数据还原 \n",
    "y_predict_test = inverse_StandardScaler(model_y_predict_test)"
   ]
  },
  {
   "cell_type": "code",
   "execution_count": 21,
   "metadata": {},
   "outputs": [
    {
     "data": {
      "text/html": [
       "<div>\n",
       "<style>\n",
       "    .dataframe thead tr:only-child th {\n",
       "        text-align: right;\n",
       "    }\n",
       "\n",
       "    .dataframe thead th {\n",
       "        text-align: left;\n",
       "    }\n",
       "\n",
       "    .dataframe tbody tr th {\n",
       "        vertical-align: top;\n",
       "    }\n",
       "</style>\n",
       "<table border=\"1\" class=\"dataframe\">\n",
       "  <thead>\n",
       "    <tr style=\"text-align: right;\">\n",
       "      <th></th>\n",
       "      <th>user_id</th>\n",
       "      <th>prediction_pay_price</th>\n",
       "    </tr>\n",
       "  </thead>\n",
       "  <tbody>\n",
       "    <tr>\n",
       "      <th>0</th>\n",
       "      <td>14933</td>\n",
       "      <td>24.0731</td>\n",
       "    </tr>\n",
       "    <tr>\n",
       "      <th>1</th>\n",
       "      <td>14934</td>\n",
       "      <td>24.0731</td>\n",
       "    </tr>\n",
       "    <tr>\n",
       "      <th>2</th>\n",
       "      <td>14935</td>\n",
       "      <td>24.0731</td>\n",
       "    </tr>\n",
       "    <tr>\n",
       "      <th>3</th>\n",
       "      <td>14936</td>\n",
       "      <td>24.0731</td>\n",
       "    </tr>\n",
       "    <tr>\n",
       "      <th>4</th>\n",
       "      <td>14937</td>\n",
       "      <td>24.0731</td>\n",
       "    </tr>\n",
       "  </tbody>\n",
       "</table>\n",
       "</div>"
      ],
      "text/plain": [
       "   user_id  prediction_pay_price\n",
       "0    14933               24.0731\n",
       "1    14934               24.0731\n",
       "2    14935               24.0731\n",
       "3    14936               24.0731\n",
       "4    14937               24.0731"
      ]
     },
     "execution_count": 21,
     "metadata": {},
     "output_type": "execute_result"
    }
   ],
   "source": [
    "# ridge_y_predict_test = move_up(ridge_y_predict_test)\n",
    "#输出预测后的数据\n",
    "testPredict = generate_summit(y_predict_test)\n",
    "#输出预测后的数据\n",
    "testPredict.to_csv(out_name %(summit_path, base, 'GradientBoostingRegressor'), index=False)\n",
    "testPredict.head()"
   ]
  },
  {
   "cell_type": "markdown",
   "metadata": {},
   "source": [
    "## 6 RandomForestRegressor"
   ]
  },
  {
   "cell_type": "code",
   "execution_count": 22,
   "metadata": {},
   "outputs": [
    {
     "name": "stdout",
     "output_type": "stream",
     "text": [
      "Wall time: 6.97 s\n"
     ]
    }
   ],
   "source": [
    "%%time\n",
    "model = ensemble.RandomForestRegressor(n_estimators=16, min_samples_split=80, min_samples_leaf=8, n_jobs=-1)\n",
    "model.fit(train_X_ss, train_y_ss_1d)\n",
    "# Wall time: 10min 2s "
   ]
  },
  {
   "cell_type": "code",
   "execution_count": 23,
   "metadata": {},
   "outputs": [
    {
     "name": "stdout",
     "output_type": "stream",
     "text": [
      "The score: Train=0.583956589556768  Val=0.49581719925796\n",
      "The RMSE: Train=0.6450142538876716  Val=0.8774750957561084\n"
     ]
    }
   ],
   "source": [
    "# 模型评估\n",
    "scoreTrain = model.score(train_X_ss, train_y_ss_1d)\n",
    "scoreVal = model.score(val_X_ss, val_y_ss_1d)\n",
    "print('The score: Train=%s  Val=%s'% (scoreTrain, scoreVal)) \n",
    "\n",
    "model_predict_train = model.predict(train_X_ss)\n",
    "rmseTrain = mean_squared_error(train_y_ss_1d, model_predict_train) ** 0.5\n",
    "model_predict_val = model.predict(val_X_ss)\n",
    "rmseVal = mean_squared_error(val_y_ss_1d, model_predict_val) ** 0.5\n",
    "print('The RMSE: Train=%s  Val=%s' % (rmseTrain, rmseVal))\n",
    "\n",
    "# n_estimators=14, min_samples_split=80, min_samples_leaf=8, min_impurity_decrease=0.1\n",
    "# n_estimators=20, min_samples_split=80, min_samples_leaf=8, min_impurity_decrease=0.1\n",
    "# n_estimators=20, min_samples_split=80, min_samples_leaf=8, min_impurity_decrease=0.0\n",
    "# n_estimators=20, min_samples_split=100, min_samples_leaf=8\n",
    "# n_estimators=16, min_samples_split=100, min_samples_leaf=8\n",
    "# The score: Train=0.6193906706679225  Val=0.4333588747424302\n",
    "# The RMSE: Train=0.6169354557150862  Val=0.8718379844283086 \n",
    "# n_estimators=16, min_samples_split=80, min_samples_leaf=8\n",
    "# The score: Train=0.6393206199636329  Val=0.35457588882649244\n",
    "# The RMSE: Train=0.6005657993266247  Val=0.517339714712821"
   ]
  },
  {
   "cell_type": "markdown",
   "metadata": {},
   "source": [
    "### 保存校验集测试结果"
   ]
  },
  {
   "cell_type": "code",
   "execution_count": 24,
   "metadata": {},
   "outputs": [
    {
     "name": "stdout",
     "output_type": "stream",
     "text": [
      "model_predict_val=  [-0.1445315   1.69831279  0.32877925 ... -0.12928703 -0.0603818\n",
      " -0.1399901 ]\n",
      "predict =  [   2.36816721 1085.0178158   280.43274633 ...   11.32411764   51.80514071\n",
      "    5.03618722]\n"
     ]
    },
    {
     "data": {
      "text/html": [
       "<div>\n",
       "<style>\n",
       "    .dataframe thead tr:only-child th {\n",
       "        text-align: right;\n",
       "    }\n",
       "\n",
       "    .dataframe thead th {\n",
       "        text-align: left;\n",
       "    }\n",
       "\n",
       "    .dataframe tbody tr th {\n",
       "        vertical-align: top;\n",
       "    }\n",
       "</style>\n",
       "<table border=\"1\" class=\"dataframe\">\n",
       "  <thead>\n",
       "    <tr style=\"text-align: right;\">\n",
       "      <th></th>\n",
       "      <th>user_id</th>\n",
       "      <th>prediction_pay_price</th>\n",
       "    </tr>\n",
       "  </thead>\n",
       "  <tbody>\n",
       "    <tr>\n",
       "      <th>0</th>\n",
       "      <td>563914</td>\n",
       "      <td>2.3682</td>\n",
       "    </tr>\n",
       "    <tr>\n",
       "      <th>1</th>\n",
       "      <td>1837494</td>\n",
       "      <td>1085.0178</td>\n",
       "    </tr>\n",
       "    <tr>\n",
       "      <th>2</th>\n",
       "      <td>1775165</td>\n",
       "      <td>280.4327</td>\n",
       "    </tr>\n",
       "    <tr>\n",
       "      <th>3</th>\n",
       "      <td>3038897</td>\n",
       "      <td>2.2484</td>\n",
       "    </tr>\n",
       "    <tr>\n",
       "      <th>4</th>\n",
       "      <td>285815</td>\n",
       "      <td>6.0593</td>\n",
       "    </tr>\n",
       "  </tbody>\n",
       "</table>\n",
       "</div>"
      ],
      "text/plain": [
       "   user_id  prediction_pay_price\n",
       "0   563914                2.3682\n",
       "1  1837494             1085.0178\n",
       "2  1775165              280.4327\n",
       "3  3038897                2.2484\n",
       "4   285815                6.0593"
      ]
     },
     "execution_count": 24,
     "metadata": {},
     "output_type": "execute_result"
    }
   ],
   "source": [
    "print('model_predict_val= ', model_predict_val)\n",
    "# 标准化数据还原 \n",
    "predict_val = inverse_StandardScaler(model_predict_val)\n",
    "valPredict = generate_val_predict(predict_val)\n",
    "#输出预测后的数据\n",
    "valPredict.to_csv(val_name %(val_path, base, 'RandomForestRegressor'), index=False)\n",
    "valPredict.head()"
   ]
  },
  {
   "cell_type": "code",
   "execution_count": 25,
   "metadata": {
    "scrolled": true
   },
   "outputs": [
    {
     "name": "stdout",
     "output_type": "stream",
     "text": [
      "model_y_predict_test =  [-0.08238434 -0.07292834 -0.06258769 ... -0.02516248 -0.0492921\n",
      " -0.05108797]\n",
      "predict =  [38.87890181 44.43419366 50.50920791 ... 72.49608479 58.32020776\n",
      " 57.2651576 ]\n"
     ]
    }
   ],
   "source": [
    "#对测试数据进行预测\n",
    "model_y_predict_test = model.predict(test_X_ss)\n",
    "print('model_y_predict_test = ', model_y_predict_test)\n",
    "\n",
    "# 标准化数据还原 \n",
    "y_predict_test = inverse_StandardScaler(model_y_predict_test)"
   ]
  },
  {
   "cell_type": "code",
   "execution_count": 26,
   "metadata": {
    "scrolled": true
   },
   "outputs": [
    {
     "data": {
      "text/html": [
       "<div>\n",
       "<style>\n",
       "    .dataframe thead tr:only-child th {\n",
       "        text-align: right;\n",
       "    }\n",
       "\n",
       "    .dataframe thead th {\n",
       "        text-align: left;\n",
       "    }\n",
       "\n",
       "    .dataframe tbody tr th {\n",
       "        vertical-align: top;\n",
       "    }\n",
       "</style>\n",
       "<table border=\"1\" class=\"dataframe\">\n",
       "  <thead>\n",
       "    <tr style=\"text-align: right;\">\n",
       "      <th></th>\n",
       "      <th>user_id</th>\n",
       "      <th>prediction_pay_price</th>\n",
       "    </tr>\n",
       "  </thead>\n",
       "  <tbody>\n",
       "    <tr>\n",
       "      <th>0</th>\n",
       "      <td>14933</td>\n",
       "      <td>38.8789</td>\n",
       "    </tr>\n",
       "    <tr>\n",
       "      <th>1</th>\n",
       "      <td>14934</td>\n",
       "      <td>44.4342</td>\n",
       "    </tr>\n",
       "    <tr>\n",
       "      <th>2</th>\n",
       "      <td>14935</td>\n",
       "      <td>50.5092</td>\n",
       "    </tr>\n",
       "    <tr>\n",
       "      <th>3</th>\n",
       "      <td>14936</td>\n",
       "      <td>39.3197</td>\n",
       "    </tr>\n",
       "    <tr>\n",
       "      <th>4</th>\n",
       "      <td>14937</td>\n",
       "      <td>53.4540</td>\n",
       "    </tr>\n",
       "  </tbody>\n",
       "</table>\n",
       "</div>"
      ],
      "text/plain": [
       "   user_id  prediction_pay_price\n",
       "0    14933               38.8789\n",
       "1    14934               44.4342\n",
       "2    14935               50.5092\n",
       "3    14936               39.3197\n",
       "4    14937               53.4540"
      ]
     },
     "execution_count": 26,
     "metadata": {},
     "output_type": "execute_result"
    }
   ],
   "source": [
    "# ridge_y_predict_test = move_up(ridge_y_predict_test)\n",
    "#输出预测后的数据\n",
    "testPredict = generate_summit(y_predict_test)\n",
    "#输出预测后的数据\n",
    "testPredict.to_csv(out_name %(summit_path, base, 'RandomForestRegressor'), index=False)\n",
    "testPredict.head()"
   ]
  },
  {
   "cell_type": "markdown",
   "metadata": {},
   "source": [
    "## 7 BaggingRegressor"
   ]
  },
  {
   "cell_type": "code",
   "execution_count": 27,
   "metadata": {},
   "outputs": [
    {
     "name": "stdout",
     "output_type": "stream",
     "text": [
      "Wall time: 24.3 s\n"
     ]
    }
   ],
   "source": [
    "%%time\n",
    "model = ensemble.BaggingRegressor(n_jobs=2, n_estimators=20)\n",
    "model.fit(train_X_ss, train_y_ss_1d)\n",
    "# Wall time: 9min 2s "
   ]
  },
  {
   "cell_type": "code",
   "execution_count": 28,
   "metadata": {},
   "outputs": [
    {
     "name": "stdout",
     "output_type": "stream",
     "text": [
      "The score: Train=0.9084004210793603  Val=0.5113913103519558\n",
      "The RMSE: Train=0.30265421509921697  Val=0.8638162690790285\n",
      "Wall time: 4.5 s\n"
     ]
    }
   ],
   "source": [
    "%%time\n",
    "# 模型评估\n",
    "scoreTrain = model.score(train_X_ss, train_y_ss_1d)\n",
    "scoreVal = model.score(val_X_ss, val_y_ss_1d)\n",
    "print('The score: Train=%s  Val=%s'% (scoreTrain, scoreVal)) \n",
    "\n",
    "model_predict_train = model.predict(train_X_ss)\n",
    "rmseTrain = mean_squared_error(train_y_ss_1d, model_predict_train) ** 0.5\n",
    "model_predict_val = model.predict(val_X_ss)\n",
    "rmseVal = mean_squared_error(val_y_ss_1d, model_predict_val) ** 0.5\n",
    "print('The RMSE: Train=%s  Val=%s' % (rmseTrain, rmseVal))\n",
    "\n",
    "# n_estimators=10 \n",
    "# n_estimators=15 \n",
    "# he score: Train=0.944126770370558  Val=0.35667035830687766\n",
    "# The RMSE: Train=0.2363752321974746  Val=0.5473401373069637\n",
    "# n_estimators=20 \n"
   ]
  },
  {
   "cell_type": "markdown",
   "metadata": {},
   "source": [
    "### 保存校验集测试结果"
   ]
  },
  {
   "cell_type": "code",
   "execution_count": 29,
   "metadata": {},
   "outputs": [
    {
     "name": "stdout",
     "output_type": "stream",
     "text": [
      "model_predict_val=  [-0.14500466  2.11534174  0.15957826 ... -0.12965373 -0.01657653\n",
      " -0.13261034]\n",
      "predict =  [   2.09019103 1330.0174898   181.02912418 ...   11.10868509   77.54022964\n",
      "    9.37170776]\n"
     ]
    },
    {
     "data": {
      "text/html": [
       "<div>\n",
       "<style>\n",
       "    .dataframe thead tr:only-child th {\n",
       "        text-align: right;\n",
       "    }\n",
       "\n",
       "    .dataframe thead th {\n",
       "        text-align: left;\n",
       "    }\n",
       "\n",
       "    .dataframe tbody tr th {\n",
       "        vertical-align: top;\n",
       "    }\n",
       "</style>\n",
       "<table border=\"1\" class=\"dataframe\">\n",
       "  <thead>\n",
       "    <tr style=\"text-align: right;\">\n",
       "      <th></th>\n",
       "      <th>user_id</th>\n",
       "      <th>prediction_pay_price</th>\n",
       "    </tr>\n",
       "  </thead>\n",
       "  <tbody>\n",
       "    <tr>\n",
       "      <th>0</th>\n",
       "      <td>563914</td>\n",
       "      <td>2.0902</td>\n",
       "    </tr>\n",
       "    <tr>\n",
       "      <th>1</th>\n",
       "      <td>1837494</td>\n",
       "      <td>1330.0175</td>\n",
       "    </tr>\n",
       "    <tr>\n",
       "      <th>2</th>\n",
       "      <td>1775165</td>\n",
       "      <td>181.0291</td>\n",
       "    </tr>\n",
       "    <tr>\n",
       "      <th>3</th>\n",
       "      <td>3038897</td>\n",
       "      <td>2.7386</td>\n",
       "    </tr>\n",
       "    <tr>\n",
       "      <th>4</th>\n",
       "      <td>285815</td>\n",
       "      <td>13.0659</td>\n",
       "    </tr>\n",
       "  </tbody>\n",
       "</table>\n",
       "</div>"
      ],
      "text/plain": [
       "   user_id  prediction_pay_price\n",
       "0   563914                2.0902\n",
       "1  1837494             1330.0175\n",
       "2  1775165              181.0291\n",
       "3  3038897                2.7386\n",
       "4   285815               13.0659"
      ]
     },
     "execution_count": 29,
     "metadata": {},
     "output_type": "execute_result"
    }
   ],
   "source": [
    "print('model_predict_val= ', model_predict_val)\n",
    "# 标准化数据还原 \n",
    "predict_val = inverse_StandardScaler(model_predict_val)\n",
    "valPredict = generate_val_predict(predict_val)\n",
    "#输出预测后的数据\n",
    "valPredict.to_csv(val_name %(val_path, base, 'BaggingRegressor'), index=False)\n",
    "valPredict.head()"
   ]
  },
  {
   "cell_type": "code",
   "execution_count": 30,
   "metadata": {
    "scrolled": true
   },
   "outputs": [
    {
     "name": "stdout",
     "output_type": "stream",
     "text": [
      "model_y_predict_test =  [-0.13710695 -0.13593721  0.04477152 ... -0.07671938 -0.09576869\n",
      " -0.1072685 ]\n",
      "predict =  [  6.73000233   7.41721569 113.58149923 ...  42.20699965  31.01575206\n",
      "  24.2597502 ]\n"
     ]
    }
   ],
   "source": [
    "#对测试数据进行预测\n",
    "model_y_predict_test = model.predict(test_X_ss)\n",
    "print('model_y_predict_test = ', model_y_predict_test)\n",
    "\n",
    "# 标准化数据还原 \n",
    "y_predict_test = inverse_StandardScaler(model_y_predict_test)"
   ]
  },
  {
   "cell_type": "code",
   "execution_count": 31,
   "metadata": {
    "scrolled": true
   },
   "outputs": [
    {
     "data": {
      "text/html": [
       "<div>\n",
       "<style>\n",
       "    .dataframe thead tr:only-child th {\n",
       "        text-align: right;\n",
       "    }\n",
       "\n",
       "    .dataframe thead th {\n",
       "        text-align: left;\n",
       "    }\n",
       "\n",
       "    .dataframe tbody tr th {\n",
       "        vertical-align: top;\n",
       "    }\n",
       "</style>\n",
       "<table border=\"1\" class=\"dataframe\">\n",
       "  <thead>\n",
       "    <tr style=\"text-align: right;\">\n",
       "      <th></th>\n",
       "      <th>user_id</th>\n",
       "      <th>prediction_pay_price</th>\n",
       "    </tr>\n",
       "  </thead>\n",
       "  <tbody>\n",
       "    <tr>\n",
       "      <th>0</th>\n",
       "      <td>14933</td>\n",
       "      <td>6.7300</td>\n",
       "    </tr>\n",
       "    <tr>\n",
       "      <th>1</th>\n",
       "      <td>14934</td>\n",
       "      <td>7.4172</td>\n",
       "    </tr>\n",
       "    <tr>\n",
       "      <th>2</th>\n",
       "      <td>14935</td>\n",
       "      <td>113.5815</td>\n",
       "    </tr>\n",
       "    <tr>\n",
       "      <th>3</th>\n",
       "      <td>14936</td>\n",
       "      <td>23.5250</td>\n",
       "    </tr>\n",
       "    <tr>\n",
       "      <th>4</th>\n",
       "      <td>14937</td>\n",
       "      <td>122.9885</td>\n",
       "    </tr>\n",
       "  </tbody>\n",
       "</table>\n",
       "</div>"
      ],
      "text/plain": [
       "   user_id  prediction_pay_price\n",
       "0    14933                6.7300\n",
       "1    14934                7.4172\n",
       "2    14935              113.5815\n",
       "3    14936               23.5250\n",
       "4    14937              122.9885"
      ]
     },
     "execution_count": 31,
     "metadata": {},
     "output_type": "execute_result"
    }
   ],
   "source": [
    "# ridge_y_predict_test = move_up(ridge_y_predict_test)\n",
    "#输出预测后的数据\n",
    "testPredict = generate_summit(y_predict_test)\n",
    "#输出预测后的数据\n",
    "testPredict.to_csv(out_name %(summit_path, base, 'BaggingRegressor'), index=False)\n",
    "testPredict.head()"
   ]
  },
  {
   "cell_type": "markdown",
   "metadata": {},
   "source": [
    "## 7-1 BaggingRegressor的代码最佳示例\n",
    "https://www.helplib.com/Python-Module-Examples/article_66154"
   ]
  },
  {
   "cell_type": "code",
   "execution_count": null,
   "metadata": {
    "collapsed": true
   },
   "outputs": [],
   "source": []
  }
 ],
 "metadata": {
  "kernelspec": {
   "display_name": "Python 3",
   "language": "python",
   "name": "python3"
  },
  "language_info": {
   "codemirror_mode": {
    "name": "ipython",
    "version": 3
   },
   "file_extension": ".py",
   "mimetype": "text/x-python",
   "name": "python",
   "nbconvert_exporter": "python",
   "pygments_lexer": "ipython3",
   "version": "3.6.3"
  }
 },
 "nbformat": 4,
 "nbformat_minor": 2
}
