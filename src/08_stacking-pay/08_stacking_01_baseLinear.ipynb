{
 "cells": [
  {
   "cell_type": "markdown",
   "metadata": {},
   "source": [
    "## stacking 集成算法-只有付费记录：线性模型\n",
    "基础学习器抽取特征，次级学习器融合。5折。\n",
    "- 1.Lasso回归\n",
    "- 2.岭回归\n",
    "- 3.ElasticNetCV"
   ]
  },
  {
   "cell_type": "code",
   "execution_count": 1,
   "metadata": {
    "collapsed": true
   },
   "outputs": [],
   "source": [
    "# 导入必要的工具包\n",
    "import numpy as np #用于数值计算\n",
    "import pandas as pd #用于数据表处理，数据文件读写\n",
    "from sklearn.preprocessing import StandardScaler\n",
    "from sklearn.metrics import mean_squared_error\n",
    "\n",
    "from sklearn.linear_model import LassoCV\n",
    "from sklearn.linear_model import RidgeCV\n",
    "from sklearn.linear_model import ElasticNetCV\n",
    "\n",
    "import matplotlib.pyplot as plt #用于绘图：分析结果的可视化。\n",
    "from IPython.display import display\n",
    "\n",
    "#应该是设置浮点数的形式格式，小数点后三位\n",
    "pd.set_option('display.float_format', lambda x: '%.4f' % x)\n",
    "\n",
    "#这一行是干嘛的？ 设置 matplotlib 让绘制的图形出现在 Notebook 里而不是新窗口\n",
    "%matplotlib inline"
   ]
  },
  {
   "cell_type": "code",
   "execution_count": 2,
   "metadata": {
    "collapsed": true
   },
   "outputs": [],
   "source": [
    "def get_train_val(val_id):\n",
    "    '''获取训练集和校验集 \n",
    "    val_id = 0,1,2 #当前校验集编号 '''\n",
    "    print('val_id=%s'% (val_id))\n",
    "    df_val = train_list[val_id]\n",
    "    train_tmp = []\n",
    "\n",
    "    for i in range(1, train_part_num):\n",
    "        cur_id = (val_id + i) % 5\n",
    "        print('cur_id=%s'% (cur_id))\n",
    "        train_tmp.append(train_list[cur_id])\n",
    "    \n",
    "#     只生成一次，节省内存 \n",
    "    df_train = pd.concat(train_tmp)\n",
    "    print('df_train.shape=%s  df_val.shape=%s'% (df_train.shape, df_val.shape))\n",
    "    return df_train, df_val"
   ]
  },
  {
   "cell_type": "code",
   "execution_count": 3,
   "metadata": {
    "collapsed": true
   },
   "outputs": [],
   "source": [
    "Y_Standard = True\n",
    "path_train = '../../data/new/train=all-balance/'\n",
    "path_test = '../../data/new/test/'\n",
    "\n",
    "val_path = '../../data/val/payBase/' #保存校验集测试结果\n",
    "val_name = '%sval=stacking-%s-%s.csv'\n",
    "summit_path = '../../data/summit/payBase/' #保存提交文件，测试集测试结果 \n",
    "out_name = '%ssummit=stacking-%s-%s.csv' # 生成的结果文件名称\n",
    "base = 'payBase' #学习器级别 : 付费记录，基础学习器\n",
    "\n",
    "train_part_num = 5 #训练集拆分个数\n",
    "target = 'prediction_pay_price'\n",
    "user_id = 'user_id'"
   ]
  },
  {
   "cell_type": "markdown",
   "metadata": {},
   "source": [
    "## 指定读取数据类型，节省内存"
   ]
  },
  {
   "cell_type": "code",
   "execution_count": 4,
   "metadata": {
    "collapsed": true
   },
   "outputs": [],
   "source": [
    "col_int32 = ['user_id', 'register_time', 'wood_add_value', 'wood_reduce_value',\n",
    "       'stone_add_value', 'stone_reduce_value', 'ivory_add_value',\n",
    "       'ivory_reduce_value', 'meat_add_value', 'meat_reduce_value',\n",
    "       'magic_add_value', 'magic_reduce_value', 'infantry_add_value',\n",
    "       'infantry_reduce_value', 'cavalry_add_value', 'cavalry_reduce_value',\n",
    "       'shaman_add_value', 'shaman_reduce_value', 'wound_infantry_add_value',\n",
    "       'wound_infantry_reduce_value', 'wound_cavalry_add_value',\n",
    "       'wound_cavalry_reduce_value', 'wound_shaman_add_value',\n",
    "       'wound_shaman_reduce_value', 'general_acceleration_add_value',\n",
    "       'general_acceleration_reduce_value', 'building_acceleration_add_value',\n",
    "       'building_acceleration_reduce_value', 'reaserch_acceleration_add_value',\n",
    "       'reaserch_acceleration_reduce_value', 'training_acceleration_add_value',\n",
    "       'training_acceleration_reduce_value', 'treatment_acceleraion_add_value',\n",
    "       'treatment_acceleration_reduce_value', 'bd_training_hut_level',\n",
    "       'bd_healing_lodge_level', 'bd_stronghold_level',\n",
    "       'bd_outpost_portal_level', 'bd_barrack_level',\n",
    "       'bd_healing_spring_level', 'bd_dolmen_level', 'bd_guest_cavern_level',\n",
    "       'bd_warehouse_level', 'bd_watchtower_level', 'bd_magic_coin_tree_level',\n",
    "       'bd_hall_of_war_level', 'bd_market_level', 'bd_hero_gacha_level',\n",
    "       'bd_hero_strengthen_level', 'bd_hero_pve_level', 'sr_scout_level', \n",
    "       'sr_training_speed_level', 'sr_infantry_tier_2_level',\n",
    "       'sr_cavalry_tier_2_level', 'sr_shaman_tier_2_level',\n",
    "       'sr_infantry_atk_level', 'sr_cavalry_atk_level', 'sr_shaman_atk_level',\n",
    "       'sr_infantry_tier_3_level', 'sr_cavalry_tier_3_level',\n",
    "       'sr_shaman_tier_3_level', 'sr_troop_defense_level',\n",
    "       'sr_infantry_def_level', 'sr_cavalry_def_level', 'sr_shaman_def_level',\n",
    "       'sr_infantry_hp_level', 'sr_cavalry_hp_level', 'sr_shaman_hp_level',\n",
    "       'sr_infantry_tier_4_level', 'sr_cavalry_tier_4_level',\n",
    "       'sr_shaman_tier_4_level', 'sr_troop_attack_level',\n",
    "       'sr_construction_speed_level', 'sr_hide_storage_level',\n",
    "       'sr_troop_consumption_level', 'sr_rss_a_prod_levell',\n",
    "       'sr_rss_b_prod_level', 'sr_rss_c_prod_level', 'sr_rss_d_prod_level',\n",
    "       'sr_rss_a_gather_level', 'sr_rss_b_gather_level',\n",
    "       'sr_rss_c_gather_level', 'sr_rss_d_gather_level', 'sr_troop_load_level',\n",
    "       'sr_rss_e_gather_level', 'sr_rss_e_prod_level',\n",
    "       'sr_outpost_durability_level', 'sr_outpost_tier_2_level',\n",
    "       'sr_healing_space_level', 'sr_gathering_hunter_buff_level',\n",
    "       'sr_healing_speed_level', 'sr_outpost_tier_3_level',\n",
    "       'sr_alliance_march_speed_level', 'sr_pvp_march_speed_level',\n",
    "       'sr_gathering_march_speed_level', 'sr_outpost_tier_4_level',\n",
    "       'sr_guest_troop_capacity_level', 'sr_march_size_level',\n",
    "       'sr_rss_help_bonus_level', 'pvp_battle_count', 'pvp_lanch_count',\n",
    "       'pvp_win_count', 'pve_battle_count', 'pve_lanch_count', 'pve_win_count',\n",
    "       'pay_count']\n",
    "col_float32 = ['avg_online_minutes', 'pay_price']"
   ]
  },
  {
   "cell_type": "code",
   "execution_count": 5,
   "metadata": {
    "collapsed": true
   },
   "outputs": [],
   "source": [
    "# 指定读取数据类型，节省内存\n",
    "dtype_test = {}\n",
    "for col in col_int32:\n",
    "    dtype_test[col] = np.int32\n",
    "for col in col_float32:\n",
    "    dtype_test[col] = np.float32\n",
    "# dtype_test"
   ]
  },
  {
   "cell_type": "code",
   "execution_count": 6,
   "metadata": {
    "collapsed": true
   },
   "outputs": [],
   "source": [
    "dtype_train = dtype_test.copy()\n",
    "dtype_train[target] = np.float32\n",
    "# dtype_train"
   ]
  },
  {
   "cell_type": "markdown",
   "metadata": {},
   "source": [
    "## 读取数据，一次读取多次使用，不同组合 "
   ]
  },
  {
   "cell_type": "code",
   "execution_count": 7,
   "metadata": {},
   "outputs": [
    {
     "data": {
      "text/html": [
       "<div>\n",
       "<style>\n",
       "    .dataframe thead tr:only-child th {\n",
       "        text-align: right;\n",
       "    }\n",
       "\n",
       "    .dataframe thead th {\n",
       "        text-align: left;\n",
       "    }\n",
       "\n",
       "    .dataframe tbody tr th {\n",
       "        vertical-align: top;\n",
       "    }\n",
       "</style>\n",
       "<table border=\"1\" class=\"dataframe\">\n",
       "  <thead>\n",
       "    <tr style=\"text-align: right;\">\n",
       "      <th></th>\n",
       "      <th>user_id</th>\n",
       "      <th>register_time</th>\n",
       "      <th>wood_add_value</th>\n",
       "      <th>wood_reduce_value</th>\n",
       "      <th>stone_add_value</th>\n",
       "      <th>stone_reduce_value</th>\n",
       "      <th>ivory_add_value</th>\n",
       "      <th>ivory_reduce_value</th>\n",
       "      <th>meat_add_value</th>\n",
       "      <th>meat_reduce_value</th>\n",
       "      <th>...</th>\n",
       "      <th>pvp_battle_count</th>\n",
       "      <th>pvp_lanch_count</th>\n",
       "      <th>pvp_win_count</th>\n",
       "      <th>pve_battle_count</th>\n",
       "      <th>pve_lanch_count</th>\n",
       "      <th>pve_win_count</th>\n",
       "      <th>avg_online_minutes</th>\n",
       "      <th>pay_price</th>\n",
       "      <th>pay_count</th>\n",
       "      <th>prediction_pay_price</th>\n",
       "    </tr>\n",
       "  </thead>\n",
       "  <tbody>\n",
       "    <tr>\n",
       "      <th>0</th>\n",
       "      <td>563914</td>\n",
       "      <td>112</td>\n",
       "      <td>1007159</td>\n",
       "      <td>985765</td>\n",
       "      <td>88000</td>\n",
       "      <td>40000</td>\n",
       "      <td>3000</td>\n",
       "      <td>0</td>\n",
       "      <td>1290490</td>\n",
       "      <td>1006267</td>\n",
       "      <td>...</td>\n",
       "      <td>7</td>\n",
       "      <td>4</td>\n",
       "      <td>5</td>\n",
       "      <td>7</td>\n",
       "      <td>7</td>\n",
       "      <td>4</td>\n",
       "      <td>20.3333</td>\n",
       "      <td>1.9900</td>\n",
       "      <td>1</td>\n",
       "      <td>1.9900</td>\n",
       "    </tr>\n",
       "    <tr>\n",
       "      <th>1</th>\n",
       "      <td>1837494</td>\n",
       "      <td>106</td>\n",
       "      <td>50141850</td>\n",
       "      <td>50032020</td>\n",
       "      <td>42832440</td>\n",
       "      <td>42426724</td>\n",
       "      <td>23950932</td>\n",
       "      <td>19820632</td>\n",
       "      <td>46290384</td>\n",
       "      <td>37001236</td>\n",
       "      <td>...</td>\n",
       "      <td>1</td>\n",
       "      <td>0</td>\n",
       "      <td>0</td>\n",
       "      <td>21</td>\n",
       "      <td>21</td>\n",
       "      <td>19</td>\n",
       "      <td>105.1667</td>\n",
       "      <td>346.7900</td>\n",
       "      <td>21</td>\n",
       "      <td>346.7900</td>\n",
       "    </tr>\n",
       "    <tr>\n",
       "      <th>2</th>\n",
       "      <td>1775165</td>\n",
       "      <td>125</td>\n",
       "      <td>26860392</td>\n",
       "      <td>26935700</td>\n",
       "      <td>17661758</td>\n",
       "      <td>17542478</td>\n",
       "      <td>7595453</td>\n",
       "      <td>2596600</td>\n",
       "      <td>34394904</td>\n",
       "      <td>26972670</td>\n",
       "      <td>...</td>\n",
       "      <td>527</td>\n",
       "      <td>476</td>\n",
       "      <td>504</td>\n",
       "      <td>233</td>\n",
       "      <td>230</td>\n",
       "      <td>216</td>\n",
       "      <td>845.1667</td>\n",
       "      <td>7.9600</td>\n",
       "      <td>4</td>\n",
       "      <td>16.9100</td>\n",
       "    </tr>\n",
       "    <tr>\n",
       "      <th>3</th>\n",
       "      <td>3038897</td>\n",
       "      <td>118</td>\n",
       "      <td>1385557</td>\n",
       "      <td>354561</td>\n",
       "      <td>1200000</td>\n",
       "      <td>0</td>\n",
       "      <td>700000</td>\n",
       "      <td>0</td>\n",
       "      <td>2960605</td>\n",
       "      <td>280514</td>\n",
       "      <td>...</td>\n",
       "      <td>7</td>\n",
       "      <td>0</td>\n",
       "      <td>1</td>\n",
       "      <td>0</td>\n",
       "      <td>0</td>\n",
       "      <td>0</td>\n",
       "      <td>2.3333</td>\n",
       "      <td>0.9900</td>\n",
       "      <td>1</td>\n",
       "      <td>0.9900</td>\n",
       "    </tr>\n",
       "    <tr>\n",
       "      <th>4</th>\n",
       "      <td>285815</td>\n",
       "      <td>119</td>\n",
       "      <td>7800157</td>\n",
       "      <td>7032101</td>\n",
       "      <td>3436232</td>\n",
       "      <td>1893276</td>\n",
       "      <td>1478472</td>\n",
       "      <td>0</td>\n",
       "      <td>11743239</td>\n",
       "      <td>5703664</td>\n",
       "      <td>...</td>\n",
       "      <td>20</td>\n",
       "      <td>1</td>\n",
       "      <td>2</td>\n",
       "      <td>148</td>\n",
       "      <td>148</td>\n",
       "      <td>145</td>\n",
       "      <td>233.5000</td>\n",
       "      <td>1.9800</td>\n",
       "      <td>2</td>\n",
       "      <td>3.9700</td>\n",
       "    </tr>\n",
       "  </tbody>\n",
       "</table>\n",
       "<p>5 rows × 109 columns</p>\n",
       "</div>"
      ],
      "text/plain": [
       "   user_id  register_time  wood_add_value  wood_reduce_value  stone_add_value  \\\n",
       "0   563914            112         1007159             985765            88000   \n",
       "1  1837494            106        50141850           50032020         42832440   \n",
       "2  1775165            125        26860392           26935700         17661758   \n",
       "3  3038897            118         1385557             354561          1200000   \n",
       "4   285815            119         7800157            7032101          3436232   \n",
       "\n",
       "   stone_reduce_value  ivory_add_value  ivory_reduce_value  meat_add_value  \\\n",
       "0               40000             3000                   0         1290490   \n",
       "1            42426724         23950932            19820632        46290384   \n",
       "2            17542478          7595453             2596600        34394904   \n",
       "3                   0           700000                   0         2960605   \n",
       "4             1893276          1478472                   0        11743239   \n",
       "\n",
       "   meat_reduce_value          ...           pvp_battle_count  pvp_lanch_count  \\\n",
       "0            1006267          ...                          7                4   \n",
       "1           37001236          ...                          1                0   \n",
       "2           26972670          ...                        527              476   \n",
       "3             280514          ...                          7                0   \n",
       "4            5703664          ...                         20                1   \n",
       "\n",
       "   pvp_win_count  pve_battle_count  pve_lanch_count  pve_win_count  \\\n",
       "0              5                 7                7              4   \n",
       "1              0                21               21             19   \n",
       "2            504               233              230            216   \n",
       "3              1                 0                0              0   \n",
       "4              2               148              148            145   \n",
       "\n",
       "   avg_online_minutes  pay_price  pay_count  prediction_pay_price  \n",
       "0             20.3333     1.9900          1                1.9900  \n",
       "1            105.1667   346.7900         21              346.7900  \n",
       "2            845.1667     7.9600          4               16.9100  \n",
       "3              2.3333     0.9900          1                0.9900  \n",
       "4            233.5000     1.9800          2                3.9700  \n",
       "\n",
       "[5 rows x 109 columns]"
      ]
     },
     "execution_count": 7,
     "metadata": {},
     "output_type": "execute_result"
    }
   ],
   "source": [
    "train_list = []\n",
    "for i in range(train_part_num):\n",
    "    cur_id = i + 1\n",
    "    train_list.append(pd.read_csv('%strain=pay-%s.csv' % (path_train, cur_id), dtype=dtype_train))\n",
    "train_list[0].head()"
   ]
  },
  {
   "cell_type": "markdown",
   "metadata": {},
   "source": [
    "## 5折交叉验证"
   ]
  },
  {
   "cell_type": "code",
   "execution_count": 8,
   "metadata": {},
   "outputs": [
    {
     "name": "stdout",
     "output_type": "stream",
     "text": [
      "val_id=2\n",
      "cur_id=3\n",
      "cur_id=4\n",
      "cur_id=0\n",
      "cur_id=1\n",
      "df_train.shape=(36790, 109)  df_val.shape=(9198, 109)\n"
     ]
    }
   ],
   "source": [
    "# 根据校验集编号 0，1,2,3,4 ，获取训练集和校验集\n",
    "df_train, df_val = get_train_val(2)\n",
    "\n",
    "# 从原始数据中分离输入特征x和输出y\n",
    "train_y = df_train[target].values\n",
    "train_X = df_train.drop([target, user_id], axis = 1)\n",
    "val_y = df_val[target].values\n",
    "val_X = df_val.drop([target, user_id], axis = 1)"
   ]
  },
  {
   "cell_type": "code",
   "execution_count": 9,
   "metadata": {
    "collapsed": true
   },
   "outputs": [],
   "source": [
    "# 数据标准化：分别初始化对特征和目标值的标准化器 \n",
    "ss_X = StandardScaler()\n",
    "ss_y = StandardScaler()\n",
    "\n",
    "# 分别对训练和测试数据的特征以及目标值进行标准化处理\n",
    "train_X_ss = ss_X.fit_transform(train_X)\n",
    "val_X_ss = ss_X.transform(val_X)\n",
    "\n",
    "if Y_Standard:\n",
    "    train_y_ss = ss_y.fit_transform(train_y.reshape(-1, 1))\n",
    "    val_y_ss = ss_y.transform(val_y.reshape(-1, 1))\n",
    "\n",
    "# 需要转换为一维数组 \n",
    "train_y_ss_1d = train_y_ss.reshape(train_y_ss.shape[0])\n",
    "val_y_ss_1d = val_y_ss.reshape(val_y_ss.shape[0])"
   ]
  },
  {
   "cell_type": "code",
   "execution_count": 10,
   "metadata": {
    "collapsed": true
   },
   "outputs": [],
   "source": [
    "def inverse_StandardScaler(predict):\n",
    "    ''' 标准化数据还原  '''\n",
    "    if Y_Standard:\n",
    "        predict = ss_y.inverse_transform(predict)\n",
    "        print('predict = ', predict)\n",
    "    return predict\n",
    "\n",
    "def generate_summit(predict):\n",
    "    ''' 输出预测后的数据 '''\n",
    "    testPredict = test.copy()\n",
    "    testPredict[target] = predict\n",
    "    testPredict = testPredict[[user_id, target]]\n",
    "#     应该过滤掉负数\n",
    "    testPredict[target] = testPredict[target].apply(lambda x: x if x > 0 else 0)\n",
    "    return testPredict\n",
    "\n",
    "def generate_val_predict(predict):\n",
    "    ''' 生成校验集预测后的数据 '''\n",
    "    testPredict = df_val.copy()\n",
    "    testPredict[target] = predict\n",
    "    testPredict = testPredict[[user_id, target]]\n",
    "#     应该过滤掉负数\n",
    "    testPredict[target] = testPredict[target].apply(lambda x: x if x > 0 else 0)\n",
    "    return testPredict"
   ]
  },
  {
   "cell_type": "markdown",
   "metadata": {},
   "source": [
    "## 模型训练\n",
    "### 1.正则化的线性回归（L1正则 --> Lasso）"
   ]
  },
  {
   "cell_type": "code",
   "execution_count": 11,
   "metadata": {},
   "outputs": [
    {
     "name": "stdout",
     "output_type": "stream",
     "text": [
      "best_alpha= 0.03\n",
      "Wall time: 508 ms\n"
     ]
    }
   ],
   "source": [
    "%%time\n",
    "# alphas = [0.1, 10, 100, 1000, 10000]\n",
    "alphas = [0.01, 0.02, 0.03, 0.04, 0.05]\n",
    "\n",
    "lasso = LassoCV(alphas=alphas)\n",
    "lasso.fit(train_X_ss, train_y_ss_1d)\n",
    "print ('best_alpha=', lasso.alpha_)"
   ]
  },
  {
   "cell_type": "code",
   "execution_count": 12,
   "metadata": {},
   "outputs": [
    {
     "name": "stdout",
     "output_type": "stream",
     "text": [
      "best alpha is: 0.03\n"
     ]
    },
    {
     "data": {
      "image/png": "[encoded data removed]",
      "text/plain": [
       "<matplotlib.figure.Figure at 0x123b6588>"
      ]
     },
     "metadata": {},
     "output_type": "display_data"
    }
   ],
   "source": [
    "## 3.1 Lasso 模型评价\n",
    "mses = np.mean(lasso.mse_path_, axis=1)\n",
    "\n",
    "#plt.plot(np.log10(alphas), mses)\n",
    "plt.plot(np.log10(lasso.alphas_), mses)\n",
    "# plt.show()  #绘制在一张图上，显示异常，暂时分开 \n",
    "\n",
    "plt.plot(np.log10(lasso.alpha_)*np.ones(3), [0.1, 0.5, 0.9])\n",
    "plt.xlabel('log(alpha)')\n",
    "plt.ylabel('mse')\n",
    "# plt.show() \n",
    "print ('best alpha is:', lasso.alpha_)\n",
    "# best alpha is: 10.5"
   ]
  },
  {
   "cell_type": "code",
   "execution_count": 13,
   "metadata": {},
   "outputs": [
    {
     "name": "stdout",
     "output_type": "stream",
     "text": [
      "The score: Train=0.5582304195437819  Val=0.48342231314309325\n",
      "The RMSE: Train=0.6646574484534975  Val=0.6393728260544682\n"
     ]
    }
   ],
   "source": [
    "# 模型评估\n",
    "lassoScoreTrain = lasso.score(train_X_ss, train_y_ss)\n",
    "lassoScoreVal = lasso.score(val_X_ss, val_y_ss)\n",
    "print('The score: Train=%s  Val=%s'% (lassoScoreTrain, lassoScoreVal)) \n",
    "\n",
    "lasso_predict_train = lasso.predict(train_X_ss)\n",
    "rmseTrain = mean_squared_error(train_y_ss, lasso_predict_train) ** 0.5\n",
    "lasso_predict_val = lasso.predict(val_X_ss)\n",
    "rmseVal = mean_squared_error(val_y_ss, lasso_predict_val) ** 0.5\n",
    "print('The RMSE: Train=%s  Val=%s' % (rmseTrain, rmseVal))\n",
    "\n",
    "# The score: Train=0.6026498641616385  Val=0.8354317552131078\n",
    "# The RMSE: Train=0.6303571494306712  Val=0.5921995943739873"
   ]
  },
  {
   "cell_type": "markdown",
   "metadata": {},
   "source": [
    "### 保存校验集测试结果"
   ]
  },
  {
   "cell_type": "code",
   "execution_count": 14,
   "metadata": {},
   "outputs": [
    {
     "name": "stdout",
     "output_type": "stream",
     "text": [
      "lasso_predict_val=  [-0.12760575 -0.08131725 -0.1332463  ... -0.12746661 -0.11057853\n",
      " -0.07659961]\n",
      "predict =  [ 8.48540453 37.69351493  4.92621181 ...  8.57320233 19.22960629\n",
      " 40.67035362]\n"
     ]
    },
    {
     "data": {
      "text/html": [
       "<div>\n",
       "<style>\n",
       "    .dataframe thead tr:only-child th {\n",
       "        text-align: right;\n",
       "    }\n",
       "\n",
       "    .dataframe thead th {\n",
       "        text-align: left;\n",
       "    }\n",
       "\n",
       "    .dataframe tbody tr th {\n",
       "        vertical-align: top;\n",
       "    }\n",
       "</style>\n",
       "<table border=\"1\" class=\"dataframe\">\n",
       "  <thead>\n",
       "    <tr style=\"text-align: right;\">\n",
       "      <th></th>\n",
       "      <th>user_id</th>\n",
       "      <th>prediction_pay_price</th>\n",
       "    </tr>\n",
       "  </thead>\n",
       "  <tbody>\n",
       "    <tr>\n",
       "      <th>0</th>\n",
       "      <td>2922139</td>\n",
       "      <td>8.4854</td>\n",
       "    </tr>\n",
       "    <tr>\n",
       "      <th>1</th>\n",
       "      <td>300666</td>\n",
       "      <td>37.6935</td>\n",
       "    </tr>\n",
       "    <tr>\n",
       "      <th>2</th>\n",
       "      <td>2186429</td>\n",
       "      <td>4.9262</td>\n",
       "    </tr>\n",
       "    <tr>\n",
       "      <th>3</th>\n",
       "      <td>829992</td>\n",
       "      <td>16.9084</td>\n",
       "    </tr>\n",
       "    <tr>\n",
       "      <th>4</th>\n",
       "      <td>2324861</td>\n",
       "      <td>21.6097</td>\n",
       "    </tr>\n",
       "  </tbody>\n",
       "</table>\n",
       "</div>"
      ],
      "text/plain": [
       "   user_id  prediction_pay_price\n",
       "0  2922139                8.4854\n",
       "1   300666               37.6935\n",
       "2  2186429                4.9262\n",
       "3   829992               16.9084\n",
       "4  2324861               21.6097"
      ]
     },
     "execution_count": 14,
     "metadata": {},
     "output_type": "execute_result"
    }
   ],
   "source": [
    "print('lasso_predict_val= ', lasso_predict_val)\n",
    "# 标准化数据还原 \n",
    "predict_val = inverse_StandardScaler(lasso_predict_val)\n",
    "valPredict = generate_val_predict(predict_val)\n",
    "#输出预测后的数据\n",
    "valPredict.to_csv(val_name %(val_path, base, 'lasso'), index=False)\n",
    "valPredict.head()"
   ]
  },
  {
   "cell_type": "markdown",
   "metadata": {},
   "source": [
    "## 加载测试数据"
   ]
  },
  {
   "cell_type": "code",
   "execution_count": 15,
   "metadata": {
    "scrolled": true
   },
   "outputs": [
    {
     "data": {
      "text/html": [
       "<div>\n",
       "<style>\n",
       "    .dataframe thead tr:only-child th {\n",
       "        text-align: right;\n",
       "    }\n",
       "\n",
       "    .dataframe thead th {\n",
       "        text-align: left;\n",
       "    }\n",
       "\n",
       "    .dataframe tbody tr th {\n",
       "        vertical-align: top;\n",
       "    }\n",
       "</style>\n",
       "<table border=\"1\" class=\"dataframe\">\n",
       "  <thead>\n",
       "    <tr style=\"text-align: right;\">\n",
       "      <th></th>\n",
       "      <th>user_id</th>\n",
       "      <th>register_time</th>\n",
       "      <th>wood_add_value</th>\n",
       "      <th>wood_reduce_value</th>\n",
       "      <th>stone_add_value</th>\n",
       "      <th>stone_reduce_value</th>\n",
       "      <th>ivory_add_value</th>\n",
       "      <th>ivory_reduce_value</th>\n",
       "      <th>meat_add_value</th>\n",
       "      <th>meat_reduce_value</th>\n",
       "      <th>...</th>\n",
       "      <th>sr_rss_help_bonus_level</th>\n",
       "      <th>pvp_battle_count</th>\n",
       "      <th>pvp_lanch_count</th>\n",
       "      <th>pvp_win_count</th>\n",
       "      <th>pve_battle_count</th>\n",
       "      <th>pve_lanch_count</th>\n",
       "      <th>pve_win_count</th>\n",
       "      <th>avg_online_minutes</th>\n",
       "      <th>pay_price</th>\n",
       "      <th>pay_count</th>\n",
       "    </tr>\n",
       "  </thead>\n",
       "  <tbody>\n",
       "    <tr>\n",
       "      <th>0</th>\n",
       "      <td>14933</td>\n",
       "      <td>94</td>\n",
       "      <td>166415</td>\n",
       "      <td>138362</td>\n",
       "      <td>0</td>\n",
       "      <td>0</td>\n",
       "      <td>0</td>\n",
       "      <td>0</td>\n",
       "      <td>258522</td>\n",
       "      <td>90142</td>\n",
       "      <td>...</td>\n",
       "      <td>0</td>\n",
       "      <td>0</td>\n",
       "      <td>0</td>\n",
       "      <td>0</td>\n",
       "      <td>1</td>\n",
       "      <td>1</td>\n",
       "      <td>1</td>\n",
       "      <td>8.0000</td>\n",
       "      <td>0.0000</td>\n",
       "      <td>0</td>\n",
       "    </tr>\n",
       "    <tr>\n",
       "      <th>1</th>\n",
       "      <td>14934</td>\n",
       "      <td>94</td>\n",
       "      <td>10000</td>\n",
       "      <td>600</td>\n",
       "      <td>0</td>\n",
       "      <td>0</td>\n",
       "      <td>0</td>\n",
       "      <td>0</td>\n",
       "      <td>10000</td>\n",
       "      <td>400</td>\n",
       "      <td>...</td>\n",
       "      <td>0</td>\n",
       "      <td>0</td>\n",
       "      <td>0</td>\n",
       "      <td>0</td>\n",
       "      <td>0</td>\n",
       "      <td>0</td>\n",
       "      <td>0</td>\n",
       "      <td>0.1667</td>\n",
       "      <td>0.0000</td>\n",
       "      <td>0</td>\n",
       "    </tr>\n",
       "    <tr>\n",
       "      <th>2</th>\n",
       "      <td>14935</td>\n",
       "      <td>94</td>\n",
       "      <td>10000</td>\n",
       "      <td>3700</td>\n",
       "      <td>0</td>\n",
       "      <td>0</td>\n",
       "      <td>0</td>\n",
       "      <td>0</td>\n",
       "      <td>10000</td>\n",
       "      <td>2000</td>\n",
       "      <td>...</td>\n",
       "      <td>0</td>\n",
       "      <td>0</td>\n",
       "      <td>0</td>\n",
       "      <td>0</td>\n",
       "      <td>0</td>\n",
       "      <td>0</td>\n",
       "      <td>0</td>\n",
       "      <td>17.0000</td>\n",
       "      <td>0.0000</td>\n",
       "      <td>0</td>\n",
       "    </tr>\n",
       "    <tr>\n",
       "      <th>3</th>\n",
       "      <td>14936</td>\n",
       "      <td>94</td>\n",
       "      <td>210000</td>\n",
       "      <td>0</td>\n",
       "      <td>200000</td>\n",
       "      <td>0</td>\n",
       "      <td>200000</td>\n",
       "      <td>0</td>\n",
       "      <td>610000</td>\n",
       "      <td>0</td>\n",
       "      <td>...</td>\n",
       "      <td>0</td>\n",
       "      <td>0</td>\n",
       "      <td>0</td>\n",
       "      <td>0</td>\n",
       "      <td>0</td>\n",
       "      <td>0</td>\n",
       "      <td>0</td>\n",
       "      <td>1.6667</td>\n",
       "      <td>0.0000</td>\n",
       "      <td>0</td>\n",
       "    </tr>\n",
       "    <tr>\n",
       "      <th>4</th>\n",
       "      <td>14937</td>\n",
       "      <td>94</td>\n",
       "      <td>11500</td>\n",
       "      <td>3700</td>\n",
       "      <td>0</td>\n",
       "      <td>0</td>\n",
       "      <td>0</td>\n",
       "      <td>0</td>\n",
       "      <td>11000</td>\n",
       "      <td>2000</td>\n",
       "      <td>...</td>\n",
       "      <td>0</td>\n",
       "      <td>0</td>\n",
       "      <td>0</td>\n",
       "      <td>0</td>\n",
       "      <td>0</td>\n",
       "      <td>0</td>\n",
       "      <td>0</td>\n",
       "      <td>0.3333</td>\n",
       "      <td>0.0000</td>\n",
       "      <td>0</td>\n",
       "    </tr>\n",
       "  </tbody>\n",
       "</table>\n",
       "<p>5 rows × 108 columns</p>\n",
       "</div>"
      ],
      "text/plain": [
       "   user_id  register_time  wood_add_value  wood_reduce_value  stone_add_value  \\\n",
       "0    14933             94          166415             138362                0   \n",
       "1    14934             94           10000                600                0   \n",
       "2    14935             94           10000               3700                0   \n",
       "3    14936             94          210000                  0           200000   \n",
       "4    14937             94           11500               3700                0   \n",
       "\n",
       "   stone_reduce_value  ivory_add_value  ivory_reduce_value  meat_add_value  \\\n",
       "0                   0                0                   0          258522   \n",
       "1                   0                0                   0           10000   \n",
       "2                   0                0                   0           10000   \n",
       "3                   0           200000                   0          610000   \n",
       "4                   0                0                   0           11000   \n",
       "\n",
       "   meat_reduce_value    ...      sr_rss_help_bonus_level  pvp_battle_count  \\\n",
       "0              90142    ...                            0                 0   \n",
       "1                400    ...                            0                 0   \n",
       "2               2000    ...                            0                 0   \n",
       "3                  0    ...                            0                 0   \n",
       "4               2000    ...                            0                 0   \n",
       "\n",
       "   pvp_lanch_count  pvp_win_count  pve_battle_count  pve_lanch_count  \\\n",
       "0                0              0                 1                1   \n",
       "1                0              0                 0                0   \n",
       "2                0              0                 0                0   \n",
       "3                0              0                 0                0   \n",
       "4                0              0                 0                0   \n",
       "\n",
       "   pve_win_count  avg_online_minutes  pay_price  pay_count  \n",
       "0              1              8.0000     0.0000          0  \n",
       "1              0              0.1667     0.0000          0  \n",
       "2              0             17.0000     0.0000          0  \n",
       "3              0              1.6667     0.0000          0  \n",
       "4              0              0.3333     0.0000          0  \n",
       "\n",
       "[5 rows x 108 columns]"
      ]
     },
     "execution_count": 15,
     "metadata": {},
     "output_type": "execute_result"
    }
   ],
   "source": [
    "test = pd.read_csv(path_test + 'tap_fun_test-fe.csv', dtype=dtype_test)\n",
    "test_X = test.drop([user_id], axis = 1)\n",
    "test_X_ss = ss_X.transform(test_X)\n",
    "test.head()"
   ]
  },
  {
   "cell_type": "code",
   "execution_count": 16,
   "metadata": {},
   "outputs": [
    {
     "name": "stdout",
     "output_type": "stream",
     "text": [
      "lasso_y_predict_test =  [-0.1367987  -0.1374594  -0.1374594  ... -0.13717596 -0.13747626\n",
      " -0.13747626]\n",
      "predict =  [2.6846437  2.26773601 2.26773601 ... 2.44659145 2.25710307 2.25710307]\n"
     ]
    }
   ],
   "source": [
    "#对测试数据进行预测\n",
    "lasso_y_predict_test = lasso.predict(test_X_ss)\n",
    "print('lasso_y_predict_test = ', lasso_y_predict_test)\n",
    "\n",
    "# 标准化数据还原 \n",
    "lasso_y_predict_test = inverse_StandardScaler(lasso_y_predict_test)\n",
    "# lasso_y_predict_test =  [0.4556051 0.4556051 0.4556051 ... 0.4556051 0.4556051 0.4556051]"
   ]
  },
  {
   "cell_type": "code",
   "execution_count": 17,
   "metadata": {},
   "outputs": [
    {
     "data": {
      "text/html": [
       "<div>\n",
       "<style>\n",
       "    .dataframe thead tr:only-child th {\n",
       "        text-align: right;\n",
       "    }\n",
       "\n",
       "    .dataframe thead th {\n",
       "        text-align: left;\n",
       "    }\n",
       "\n",
       "    .dataframe tbody tr th {\n",
       "        vertical-align: top;\n",
       "    }\n",
       "</style>\n",
       "<table border=\"1\" class=\"dataframe\">\n",
       "  <thead>\n",
       "    <tr style=\"text-align: right;\">\n",
       "      <th></th>\n",
       "      <th>user_id</th>\n",
       "      <th>prediction_pay_price</th>\n",
       "    </tr>\n",
       "  </thead>\n",
       "  <tbody>\n",
       "    <tr>\n",
       "      <th>0</th>\n",
       "      <td>14933</td>\n",
       "      <td>2.6846</td>\n",
       "    </tr>\n",
       "    <tr>\n",
       "      <th>1</th>\n",
       "      <td>14934</td>\n",
       "      <td>2.2677</td>\n",
       "    </tr>\n",
       "    <tr>\n",
       "      <th>2</th>\n",
       "      <td>14935</td>\n",
       "      <td>2.2677</td>\n",
       "    </tr>\n",
       "    <tr>\n",
       "      <th>3</th>\n",
       "      <td>14936</td>\n",
       "      <td>2.8737</td>\n",
       "    </tr>\n",
       "    <tr>\n",
       "      <th>4</th>\n",
       "      <td>14937</td>\n",
       "      <td>2.2688</td>\n",
       "    </tr>\n",
       "  </tbody>\n",
       "</table>\n",
       "</div>"
      ],
      "text/plain": [
       "   user_id  prediction_pay_price\n",
       "0    14933                2.6846\n",
       "1    14934                2.2677\n",
       "2    14935                2.2677\n",
       "3    14936                2.8737\n",
       "4    14937                2.2688"
      ]
     },
     "execution_count": 17,
     "metadata": {},
     "output_type": "execute_result"
    }
   ],
   "source": [
    "testPredict = generate_summit(lasso_y_predict_test)\n",
    "#输出预测后的数据\n",
    "testPredict.to_csv(out_name %(summit_path, base, 'lasso'), index=False)\n",
    "testPredict.head()"
   ]
  },
  {
   "cell_type": "markdown",
   "metadata": {},
   "source": [
    "## 2 正则化的线性回归（L2正则 --> 岭回归）"
   ]
  },
  {
   "cell_type": "code",
   "execution_count": 18,
   "metadata": {},
   "outputs": [
    {
     "name": "stdout",
     "output_type": "stream",
     "text": [
      "best alpha is: 1000.0\n",
      "Wall time: 662 ms\n"
     ]
    }
   ],
   "source": [
    "%%time\n",
    "#正则项的参数\n",
    "# alphas = [0.1, 10, 100, 10000]\n",
    "alphas = [0.1, 1000,5000,7000,9000,10000,11000,100000]\n",
    "ridge = RidgeCV(alphas=alphas, store_cv_values=True)\n",
    "ridge.fit(train_X_ss, train_y_ss_1d)\n",
    "print('best alpha is:', ridge.alpha_)"
   ]
  },
  {
   "cell_type": "code",
   "execution_count": 19,
   "metadata": {},
   "outputs": [
    {
     "name": "stdout",
     "output_type": "stream",
     "text": [
      "best alpha is: 1000.0\n"
     ]
    },
    {
     "data": {
      "image/png": "[encoded data removed]",
      "text/plain": [
       "<matplotlib.figure.Figure at 0x1537a0b8>"
      ]
     },
     "metadata": {},
     "output_type": "display_data"
    }
   ],
   "source": [
    "### 2.1 岭回归模型评价\n",
    "mse_mean = np.mean(ridge.cv_values_, axis=0)\n",
    "\n",
    "#正则项参数取对数， mse_mean.reshape() 干什么的？拉平\n",
    "plt.plot(np.log10(alphas), mse_mean.reshape(len(alphas), 1))\n",
    "# 在最佳参数位置绘制竖线：注意第二个参数值要和 Y 坐标轴匹配\n",
    "plt.plot(np.log10(ridge.alpha_)*np.ones(3), [.1, .5, 1.1])\n",
    "# plt.show() #绘制在一张图上，显示异常，暂时分开 \n",
    "\n",
    "plt.xlabel('log(alpha)')\n",
    "plt.ylabel('mse')\n",
    "print('best alpha is:', ridge.alpha_)"
   ]
  },
  {
   "cell_type": "code",
   "execution_count": 20,
   "metadata": {},
   "outputs": [
    {
     "name": "stdout",
     "output_type": "stream",
     "text": [
      "The score: Train=0.5918621857750179  Val=0.46693490128866116\n",
      "The RMSE: Train=0.638856605090579  Val=0.6494959947595185\n"
     ]
    }
   ],
   "source": [
    "# 模型评估\n",
    "ridgeScoreTrain = ridge.score(train_X_ss, train_y_ss_1d)\n",
    "ridgeScoreVal = ridge.score(val_X_ss, val_y_ss_1d)\n",
    "print('The score: Train=%s  Val=%s'% (ridgeScoreTrain, ridgeScoreVal)) \n",
    "\n",
    "ridge_predict_train = ridge.predict(train_X_ss)\n",
    "rmseTrain = mean_squared_error(train_y_ss_1d, ridge_predict_train) ** 0.5\n",
    "ridge_predict_val = ridge.predict(val_X_ss)\n",
    "rmseVal = mean_squared_error(val_y_ss_1d, ridge_predict_val) ** 0.5\n",
    "print('The RMSE: Train=%s  Val=%s' % (rmseTrain, rmseVal))\n",
    "\n",
    "# The score: Train=0.6886471998505836  Val=0.5049070896778365\n",
    "# The RMSE: Train=0.5579899841294994  Val=0.8149389859862378"
   ]
  },
  {
   "cell_type": "markdown",
   "metadata": {},
   "source": [
    "### 保存校验集测试结果"
   ]
  },
  {
   "cell_type": "code",
   "execution_count": 21,
   "metadata": {},
   "outputs": [
    {
     "name": "stdout",
     "output_type": "stream",
     "text": [
      "ridge_predict_val=  [-0.15949846 -0.1322065  -0.13789116 ... -0.14876283 -0.09742753\n",
      " -0.14121984]\n",
      "predict =  [-11.63894155   5.58232386   1.99530022 ...  -4.86474444  27.52790997\n",
      "  -0.10510644]\n"
     ]
    },
    {
     "data": {
      "text/html": [
       "<div>\n",
       "<style>\n",
       "    .dataframe thead tr:only-child th {\n",
       "        text-align: right;\n",
       "    }\n",
       "\n",
       "    .dataframe thead th {\n",
       "        text-align: left;\n",
       "    }\n",
       "\n",
       "    .dataframe tbody tr th {\n",
       "        vertical-align: top;\n",
       "    }\n",
       "</style>\n",
       "<table border=\"1\" class=\"dataframe\">\n",
       "  <thead>\n",
       "    <tr style=\"text-align: right;\">\n",
       "      <th></th>\n",
       "      <th>user_id</th>\n",
       "      <th>prediction_pay_price</th>\n",
       "    </tr>\n",
       "  </thead>\n",
       "  <tbody>\n",
       "    <tr>\n",
       "      <th>0</th>\n",
       "      <td>2922139</td>\n",
       "      <td>0.0000</td>\n",
       "    </tr>\n",
       "    <tr>\n",
       "      <th>1</th>\n",
       "      <td>300666</td>\n",
       "      <td>5.5823</td>\n",
       "    </tr>\n",
       "    <tr>\n",
       "      <th>2</th>\n",
       "      <td>2186429</td>\n",
       "      <td>1.9953</td>\n",
       "    </tr>\n",
       "    <tr>\n",
       "      <th>3</th>\n",
       "      <td>829992</td>\n",
       "      <td>17.1964</td>\n",
       "    </tr>\n",
       "    <tr>\n",
       "      <th>4</th>\n",
       "      <td>2324861</td>\n",
       "      <td>0.0000</td>\n",
       "    </tr>\n",
       "  </tbody>\n",
       "</table>\n",
       "</div>"
      ],
      "text/plain": [
       "   user_id  prediction_pay_price\n",
       "0  2922139                0.0000\n",
       "1   300666                5.5823\n",
       "2  2186429                1.9953\n",
       "3   829992               17.1964\n",
       "4  2324861                0.0000"
      ]
     },
     "execution_count": 21,
     "metadata": {},
     "output_type": "execute_result"
    }
   ],
   "source": [
    "print('ridge_predict_val= ', ridge_predict_val)\n",
    "# 标准化数据还原 \n",
    "predict_val = inverse_StandardScaler(ridge_predict_val)\n",
    "valPredict = generate_val_predict(predict_val)\n",
    "#输出预测后的数据\n",
    "valPredict.to_csv(val_name %(val_path, base, 'RidgeCV'), index=False)\n",
    "valPredict.head()"
   ]
  },
  {
   "cell_type": "code",
   "execution_count": 22,
   "metadata": {
    "scrolled": true
   },
   "outputs": [
    {
     "name": "stdout",
     "output_type": "stream",
     "text": [
      "ridge_y_predict_test =  [-0.17890436 -0.17043465 -0.17102937 ... -0.14911914 -0.16608981\n",
      " -0.16478459]\n",
      "predict =  [-23.88408987 -18.53969141 -18.91496128 ...  -5.08957517 -15.79809415\n",
      " -14.97449574]\n"
     ]
    }
   ],
   "source": [
    "#对测试数据进行预测\n",
    "ridge_y_predict_test = ridge.predict(test_X_ss)\n",
    "print('ridge_y_predict_test = ', ridge_y_predict_test)\n",
    "\n",
    "# 标准化数据还原 \n",
    "ridge_y_predict_test = inverse_StandardScaler(ridge_y_predict_test)"
   ]
  },
  {
   "cell_type": "code",
   "execution_count": 23,
   "metadata": {},
   "outputs": [
    {
     "data": {
      "text/html": [
       "<div>\n",
       "<style>\n",
       "    .dataframe thead tr:only-child th {\n",
       "        text-align: right;\n",
       "    }\n",
       "\n",
       "    .dataframe thead th {\n",
       "        text-align: left;\n",
       "    }\n",
       "\n",
       "    .dataframe tbody tr th {\n",
       "        vertical-align: top;\n",
       "    }\n",
       "</style>\n",
       "<table border=\"1\" class=\"dataframe\">\n",
       "  <thead>\n",
       "    <tr style=\"text-align: right;\">\n",
       "      <th></th>\n",
       "      <th>user_id</th>\n",
       "      <th>prediction_pay_price</th>\n",
       "    </tr>\n",
       "  </thead>\n",
       "  <tbody>\n",
       "    <tr>\n",
       "      <th>0</th>\n",
       "      <td>14933</td>\n",
       "      <td>0.0000</td>\n",
       "    </tr>\n",
       "    <tr>\n",
       "      <th>1</th>\n",
       "      <td>14934</td>\n",
       "      <td>0.0000</td>\n",
       "    </tr>\n",
       "    <tr>\n",
       "      <th>2</th>\n",
       "      <td>14935</td>\n",
       "      <td>0.0000</td>\n",
       "    </tr>\n",
       "    <tr>\n",
       "      <th>3</th>\n",
       "      <td>14936</td>\n",
       "      <td>0.0000</td>\n",
       "    </tr>\n",
       "    <tr>\n",
       "      <th>4</th>\n",
       "      <td>14937</td>\n",
       "      <td>0.0000</td>\n",
       "    </tr>\n",
       "  </tbody>\n",
       "</table>\n",
       "</div>"
      ],
      "text/plain": [
       "   user_id  prediction_pay_price\n",
       "0    14933                0.0000\n",
       "1    14934                0.0000\n",
       "2    14935                0.0000\n",
       "3    14936                0.0000\n",
       "4    14937                0.0000"
      ]
     },
     "execution_count": 23,
     "metadata": {},
     "output_type": "execute_result"
    }
   ],
   "source": [
    "# ridge_y_predict_test = move_up(ridge_y_predict_test)\n",
    "#输出预测后的数据\n",
    "testPredict = generate_summit(ridge_y_predict_test)\n",
    "#输出预测后的数据\n",
    "testPredict.to_csv(out_name %(summit_path, base, 'RidgeCV'), index=False)\n",
    "testPredict.head()"
   ]
  },
  {
   "cell_type": "markdown",
   "metadata": {},
   "source": [
    "### 3. 正则化的线性回归 ElasticNetCV "
   ]
  },
  {
   "cell_type": "code",
   "execution_count": 24,
   "metadata": {},
   "outputs": [
    {
     "name": "stdout",
     "output_type": "stream",
     "text": [
      "best alpha is:0.034230813157229346  l1_ratio_:1.0\n",
      "Wall time: 2.08 s\n"
     ]
    }
   ],
   "source": [
    "%%time\n",
    "# l1_ratio = [.1, .5, .7, .9, .95, .99, 1]\n",
    "l1_ratio = [.99, 1]\n",
    "\n",
    "model = ElasticNetCV(l1_ratio=l1_ratio, eps=0.001) #效果最好\n",
    "# model = ElasticNetCV(l1_ratio=l1_ratio, eps=0.005)\n",
    "# model = ElasticNetCV(l1_ratio=l1_ratio, eps=0.0005)\n",
    "model.fit(train_X_ss, train_y_ss_1d)\n",
    "print ('best alpha is:%s  l1_ratio_:%s' % (model.alpha_, model.l1_ratio_))\n",
    "# best alpha is:0.023491824547378765  l1_ratio_:1.0\n",
    "# Wall time: 1min 17s"
   ]
  },
  {
   "cell_type": "code",
   "execution_count": 25,
   "metadata": {},
   "outputs": [
    {
     "name": "stdout",
     "output_type": "stream",
     "text": [
      "best alpha is:0.034230813157229346  l1_ratio_:1.0\n"
     ]
    },
    {
     "data": {
      "image/png": "[encoded data removed]",
      "text/plain": [
       "<matplotlib.figure.Figure at 0x157db898>"
      ]
     },
     "metadata": {},
     "output_type": "display_data"
    }
   ],
   "source": [
    "## 3.1 Lasso 模型评价\n",
    "mses = np.mean(model.mse_path_, axis=1)\n",
    "plt.plot(np.log10(model.alphas_), mses)\n",
    "\n",
    "plt.plot(np.log10(model.alpha_)*np.ones(3), [0.1, 0.5, .9])\n",
    "plt.xlabel('log(alpha)')\n",
    "plt.ylabel('mse')\n",
    "\n",
    "print ('best alpha is:%s  l1_ratio_:%s' % (model.alpha_, model.l1_ratio_))\n",
    "# best alpha is:0.023491824547378765  l1_ratio_:1.0"
   ]
  },
  {
   "cell_type": "code",
   "execution_count": 26,
   "metadata": {},
   "outputs": [
    {
     "name": "stdout",
     "output_type": "stream",
     "text": [
      "The score of model: Train=0.5561720870824465  Val=0.4832887092059593\n",
      "The RMSE: Train=0.6662040648194818  Val=0.6394555021034584\n"
     ]
    }
   ],
   "source": [
    "# 模型评估\n",
    "scoreTrain = model.score(train_X_ss, train_y_ss_1d)\n",
    "scoreVal = model.score(val_X_ss, val_y_ss_1d)\n",
    "print('The score of model: Train=%s  Val=%s'% (scoreTrain, scoreVal)) \n",
    "\n",
    "predict_train = model.predict(train_X_ss)\n",
    "rmseTrain = mean_squared_error(train_y_ss_1d, predict_train) ** 0.5\n",
    "predict_val = model.predict(val_X_ss)\n",
    "rmseVal = mean_squared_error(val_y_ss_1d, predict_val) ** 0.5\n",
    "print('The RMSE: Train=%s  Val=%s' % (rmseTrain, rmseVal))\n",
    "\n",
    "# The score of model: Train=0.5770046284899812  Val=0.6397112081154743\n",
    "# The RMSE: Train=0.6503808356107215  Val=0.7399599188801825"
   ]
  },
  {
   "cell_type": "markdown",
   "metadata": {},
   "source": [
    "### 保存校验集测试结果"
   ]
  },
  {
   "cell_type": "code",
   "execution_count": 27,
   "metadata": {},
   "outputs": [
    {
     "name": "stdout",
     "output_type": "stream",
     "text": [
      "predict_val=  [-0.12569921 -0.07998608 -0.13120922 ... -0.12569689 -0.10944689\n",
      " -0.07783093]\n",
      "predict =  [ 9.68843706 38.53349097  6.21160888 ...  9.6899012  19.94367366\n",
      " 39.89338989]\n"
     ]
    },
    {
     "data": {
      "text/html": [
       "<div>\n",
       "<style>\n",
       "    .dataframe thead tr:only-child th {\n",
       "        text-align: right;\n",
       "    }\n",
       "\n",
       "    .dataframe thead th {\n",
       "        text-align: left;\n",
       "    }\n",
       "\n",
       "    .dataframe tbody tr th {\n",
       "        vertical-align: top;\n",
       "    }\n",
       "</style>\n",
       "<table border=\"1\" class=\"dataframe\">\n",
       "  <thead>\n",
       "    <tr style=\"text-align: right;\">\n",
       "      <th></th>\n",
       "      <th>user_id</th>\n",
       "      <th>prediction_pay_price</th>\n",
       "    </tr>\n",
       "  </thead>\n",
       "  <tbody>\n",
       "    <tr>\n",
       "      <th>0</th>\n",
       "      <td>2922139</td>\n",
       "      <td>9.6884</td>\n",
       "    </tr>\n",
       "    <tr>\n",
       "      <th>1</th>\n",
       "      <td>300666</td>\n",
       "      <td>38.5335</td>\n",
       "    </tr>\n",
       "    <tr>\n",
       "      <th>2</th>\n",
       "      <td>2186429</td>\n",
       "      <td>6.2116</td>\n",
       "    </tr>\n",
       "    <tr>\n",
       "      <th>3</th>\n",
       "      <td>829992</td>\n",
       "      <td>17.6264</td>\n",
       "    </tr>\n",
       "    <tr>\n",
       "      <th>4</th>\n",
       "      <td>2324861</td>\n",
       "      <td>22.2024</td>\n",
       "    </tr>\n",
       "  </tbody>\n",
       "</table>\n",
       "</div>"
      ],
      "text/plain": [
       "   user_id  prediction_pay_price\n",
       "0  2922139                9.6884\n",
       "1   300666               38.5335\n",
       "2  2186429                6.2116\n",
       "3   829992               17.6264\n",
       "4  2324861               22.2024"
      ]
     },
     "execution_count": 27,
     "metadata": {},
     "output_type": "execute_result"
    }
   ],
   "source": [
    "print('predict_val= ', predict_val)\n",
    "# 标准化数据还原 \n",
    "predict_val = inverse_StandardScaler(predict_val)\n",
    "valPredict = generate_val_predict(predict_val)\n",
    "#输出预测后的数据\n",
    "valPredict.to_csv(val_name %(val_path, base, 'ElasticNetCV'), index=False)\n",
    "valPredict.head()"
   ]
  },
  {
   "cell_type": "code",
   "execution_count": 28,
   "metadata": {},
   "outputs": [
    {
     "name": "stdout",
     "output_type": "stream",
     "text": [
      "predict_test =  [-0.13472481 -0.13537084 -0.13537084 ... -0.13509857 -0.13538662\n",
      " -0.13538662]\n",
      "predict =  [3.99326876 3.58562461 3.58562461 ... 3.75742501 3.57566662 3.57566662]\n"
     ]
    }
   ],
   "source": [
    "#对测试数据进行预测\n",
    "predict_test = model.predict(test_X_ss)\n",
    "print('predict_test = ', predict_test)\n",
    "\n",
    "# 标准化数据还原 \n",
    "predict_test_true = inverse_StandardScaler(predict_test)"
   ]
  },
  {
   "cell_type": "code",
   "execution_count": 29,
   "metadata": {},
   "outputs": [
    {
     "data": {
      "text/html": [
       "<div>\n",
       "<style>\n",
       "    .dataframe thead tr:only-child th {\n",
       "        text-align: right;\n",
       "    }\n",
       "\n",
       "    .dataframe thead th {\n",
       "        text-align: left;\n",
       "    }\n",
       "\n",
       "    .dataframe tbody tr th {\n",
       "        vertical-align: top;\n",
       "    }\n",
       "</style>\n",
       "<table border=\"1\" class=\"dataframe\">\n",
       "  <thead>\n",
       "    <tr style=\"text-align: right;\">\n",
       "      <th></th>\n",
       "      <th>user_id</th>\n",
       "      <th>prediction_pay_price</th>\n",
       "    </tr>\n",
       "  </thead>\n",
       "  <tbody>\n",
       "    <tr>\n",
       "      <th>0</th>\n",
       "      <td>14933</td>\n",
       "      <td>3.9933</td>\n",
       "    </tr>\n",
       "    <tr>\n",
       "      <th>1</th>\n",
       "      <td>14934</td>\n",
       "      <td>3.5856</td>\n",
       "    </tr>\n",
       "    <tr>\n",
       "      <th>2</th>\n",
       "      <td>14935</td>\n",
       "      <td>3.5856</td>\n",
       "    </tr>\n",
       "    <tr>\n",
       "      <th>3</th>\n",
       "      <td>14936</td>\n",
       "      <td>4.1708</td>\n",
       "    </tr>\n",
       "    <tr>\n",
       "      <th>4</th>\n",
       "      <td>14937</td>\n",
       "      <td>3.5866</td>\n",
       "    </tr>\n",
       "  </tbody>\n",
       "</table>\n",
       "</div>"
      ],
      "text/plain": [
       "   user_id  prediction_pay_price\n",
       "0    14933                3.9933\n",
       "1    14934                3.5856\n",
       "2    14935                3.5856\n",
       "3    14936                4.1708\n",
       "4    14937                3.5866"
      ]
     },
     "execution_count": 29,
     "metadata": {},
     "output_type": "execute_result"
    }
   ],
   "source": [
    "testPredict = generate_summit(predict_test_true)\n",
    "#输出预测后的数据\n",
    "testPredict.to_csv(out_name %(summit_path, base, 'ElasticNetCV'), index=False)\n",
    "testPredict.head()"
   ]
  },
  {
   "cell_type": "code",
   "execution_count": null,
   "metadata": {
    "collapsed": true
   },
   "outputs": [],
   "source": []
  }
 ],
 "metadata": {
  "kernelspec": {
   "display_name": "Python 3",
   "language": "python",
   "name": "python3"
  },
  "language_info": {
   "codemirror_mode": {
    "name": "ipython",
    "version": 3
   },
   "file_extension": ".py",
   "mimetype": "text/x-python",
   "name": "python",
   "nbconvert_exporter": "python",
   "pygments_lexer": "ipython3",
   "version": "3.6.3"
  }
 },
 "nbformat": 4,
 "nbformat_minor": 2
}
